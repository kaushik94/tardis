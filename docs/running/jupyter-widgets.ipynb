{
 "cells": [
  {
   "cell_type": "markdown",
   "metadata": {},
   "source": [
    "# Jupyter Widgets\n",
    "Simpler GUI for running TARDIS - a collection of widgets provided by TARDIS to explore simulation data easily within Jupyter Notebook."
   ]
  },
  {
   "cell_type": "code",
   "execution_count": 1,
   "metadata": {
    "ExecuteTime": {
     "end_time": "2020-06-05T12:30:36.736041Z",
     "start_time": "2020-06-05T12:30:33.607315Z"
    }
   },
   "outputs": [
    {
     "name": "stderr",
     "output_type": "stream",
     "text": [
      "/home/jals/miniconda3/envs/tardis/lib/python3.6/importlib/_bootstrap.py:219: QAWarning: pyne.data is not yet QA compliant.\n",
      "  return f(*args, **kwds)\n"
     ]
    }
   ],
   "source": [
    "# Import the tardis widgets module\n",
    "import tardis.widgets as tw"
   ]
  },
  {
   "cell_type": "markdown",
   "metadata": {},
   "source": [
    "## Shell Info\n",
    "This widget allows you to get fractional abundances of each shell - all the way from elements to ions to levels - by just clicking on the rows you want to explore!\n",
    "\n",
    "There are two ways in which you can generate the widget:"
   ]
  },
  {
   "cell_type": "markdown",
   "metadata": {},
   "source": [
    "### Using Simulation object"
   ]
  },
  {
   "cell_type": "code",
   "execution_count": 2,
   "metadata": {
    "ExecuteTime": {
     "end_time": "2020-06-05T12:32:48.723885Z",
     "start_time": "2020-06-05T12:31:53.047651Z"
    },
    "scrolled": true
   },
   "outputs": [
    {
     "name": "stdout",
     "output_type": "stream",
     "text": [
      "[\u001b[1mtardis.plasma.standard_plasmas\u001b[0m][\u001b[1;37mINFO\u001b[0m   ]  Reading Atomic Data from kurucz_cd23_chianti_H_He.h5 (\u001b[1mstandard_plasmas.py\u001b[0m:74)\n",
      "[\u001b[1mtardis.io.atom_data.util\u001b[0m][\u001b[1;37mINFO\u001b[0m   ]  Atom Data kurucz_cd23_chianti_H_He.h5 not found in local path. Exists in TARDIS Data repo /home/jals/Downloads/tardis-data/kurucz_cd23_chianti_H_He.h5 (\u001b[1mutil.py\u001b[0m:29)\n",
      "[\u001b[1mpy.warnings         \u001b[0m][\u001b[1;33mWARNING\u001b[0m]  /home/jals/miniconda3/envs/tardis/lib/python3.6/site-packages/IPython/core/interactiveshell.py:3331: PerformanceWarning: indexing past lexsort depth may impact performance.\n",
      "  exec(code_obj, self.user_global_ns, self.user_ns)\n",
      " (\u001b[1mwarnings.py\u001b[0m:99)\n",
      "[\u001b[1mtardis.io.atom_data.base\u001b[0m][\u001b[1;37mINFO\u001b[0m   ]  Read Atom Data with UUID=6f7b09e887a311e7a06b246e96350010 and MD5=864f1753714343c41f99cb065710cace. (\u001b[1mbase.py\u001b[0m:184)\n",
      "[\u001b[1mtardis.io.atom_data.base\u001b[0m][\u001b[1;37mINFO\u001b[0m   ]  Non provided atomic data: synpp_refs, photoionization_data (\u001b[1mbase.py\u001b[0m:187)\n",
      "[\u001b[1mtardis.simulation.base\u001b[0m][\u001b[1;37mINFO\u001b[0m   ]  Starting iteration 1/20 (\u001b[1mbase.py\u001b[0m:268)\n",
      "[\u001b[1mtardis.simulation.base\u001b[0m][\u001b[1;37mINFO\u001b[0m   ]  Luminosity emitted = 7.96915e+42 erg / s Luminosity absorbed = 2.63370e+42 erg / s Luminosity requested = 1.05928e+43 erg / s (\u001b[1mbase.py\u001b[0m:359)\n",
      "[\u001b[1mtardis.simulation.base\u001b[0m][\u001b[1;37mINFO\u001b[0m   ]  Plasma stratification:\n",
      "\t             t_rad    next_t_rad         w    next_w\n",
      "\tShell                                               \n",
      "\t0      9926.501965  10171.209103  0.400392  0.500372\n",
      "\t5      9852.611678  10306.111379  0.211205  0.191331\n",
      "\t10     9779.813302  10174.379204  0.142695  0.116864\n",
      "\t15     9708.082813   9910.442275  0.104556  0.085962\n",
      "\n",
      " (\u001b[1mbase.py\u001b[0m:350)\n",
      "[\u001b[1mtardis.simulation.base\u001b[0m][\u001b[1;37mINFO\u001b[0m   ]  t_inner 9933.952 K -- next t_inner 11453.040 K (\u001b[1mbase.py\u001b[0m:352)\n",
      "[\u001b[1mtardis.simulation.base\u001b[0m][\u001b[1;37mINFO\u001b[0m   ]  Starting iteration 2/20 (\u001b[1mbase.py\u001b[0m:268)\n",
      "[\u001b[1mtardis.simulation.base\u001b[0m][\u001b[1;37mINFO\u001b[0m   ]  Luminosity emitted = 1.40398e+43 erg / s Luminosity absorbed = 4.68639e+42 erg / s Luminosity requested = 1.05928e+43 erg / s (\u001b[1mbase.py\u001b[0m:359)\n",
      "[\u001b[1mtardis.simulation.base\u001b[0m][\u001b[1;37mINFO\u001b[0m   ]  Plasma stratification:\n",
      "\t              t_rad    next_t_rad         w    next_w\n",
      "\tShell                                                \n",
      "\t0      10171.209103  11518.516702  0.500372  0.538298\n",
      "\t5      10306.111379  11554.412119  0.191331  0.217946\n",
      "\t10     10174.379204  11373.574056  0.116864  0.132935\n",
      "\t15      9910.442275  11040.788763  0.085962  0.099700\n",
      "\n",
      " (\u001b[1mbase.py\u001b[0m:350)\n",
      "[\u001b[1mtardis.simulation.base\u001b[0m][\u001b[1;37mINFO\u001b[0m   ]  t_inner 11453.040 K -- next t_inner 9948.201 K (\u001b[1mbase.py\u001b[0m:352)\n",
      "[\u001b[1mtardis.simulation.base\u001b[0m][\u001b[1;37mINFO\u001b[0m   ]  Starting iteration 3/20 (\u001b[1mbase.py\u001b[0m:268)\n",
      "[\u001b[1mtardis.simulation.base\u001b[0m][\u001b[1;37mINFO\u001b[0m   ]  Luminosity emitted = 8.16814e+42 erg / s Luminosity absorbed = 2.50161e+42 erg / s Luminosity requested = 1.05928e+43 erg / s (\u001b[1mbase.py\u001b[0m:359)\n",
      "[\u001b[1mtardis.simulation.base\u001b[0m][\u001b[1;37mINFO\u001b[0m   ]  Plasma stratification:\n",
      "\t              t_rad    next_t_rad         w    next_w\n",
      "\tShell                                                \n",
      "\t0      11518.516702  10501.129902  0.538298  0.438591\n",
      "\t5      11554.412119  10869.940791  0.217946  0.160809\n",
      "\t10     11373.574056  10558.269547  0.132935  0.103807\n",
      "\t15     11040.788763  10185.648701  0.099700  0.079165\n",
      "\n",
      " (\u001b[1mbase.py\u001b[0m:350)\n",
      "[\u001b[1mtardis.simulation.base\u001b[0m][\u001b[1;37mINFO\u001b[0m   ]  t_inner 9948.201 K -- next t_inner 11328.896 K (\u001b[1mbase.py\u001b[0m:352)\n",
      "[\u001b[1mtardis.simulation.base\u001b[0m][\u001b[1;37mINFO\u001b[0m   ]  Starting iteration 4/20 (\u001b[1mbase.py\u001b[0m:268)\n",
      "[\u001b[1mtardis.simulation.base\u001b[0m][\u001b[1;37mINFO\u001b[0m   ]  Luminosity emitted = 1.34487e+43 erg / s Luminosity absorbed = 4.47931e+42 erg / s Luminosity requested = 1.05928e+43 erg / s (\u001b[1mbase.py\u001b[0m:359)\n",
      "[\u001b[1mtardis.simulation.base\u001b[0m][\u001b[1;37mINFO\u001b[0m   ]  Plasma stratification:\n",
      "\t              t_rad    next_t_rad         w    next_w\n",
      "\tShell                                                \n",
      "\t0      10501.129902  11527.008679  0.438591  0.512509\n",
      "\t5      10869.940791  11706.138980  0.160809  0.196458\n",
      "\t10     10558.269547  11444.208532  0.103807  0.124092\n",
      "\t15     10185.648701  11085.857161  0.079165  0.093694\n",
      "\n",
      " (\u001b[1mbase.py\u001b[0m:350)\n",
      "[\u001b[1mtardis.simulation.base\u001b[0m][\u001b[1;37mINFO\u001b[0m   ]  t_inner 11328.896 K -- next t_inner 10054.300 K (\u001b[1mbase.py\u001b[0m:352)\n",
      "[\u001b[1mtardis.simulation.base\u001b[0m][\u001b[1;37mINFO\u001b[0m   ]  Starting iteration 5/20 (\u001b[1mbase.py\u001b[0m:268)\n",
      "[\u001b[1mtardis.simulation.base\u001b[0m][\u001b[1;37mINFO\u001b[0m   ]  Luminosity emitted = 8.44348e+42 erg / s Luminosity absorbed = 2.68000e+42 erg / s Luminosity requested = 1.05928e+43 erg / s (\u001b[1mbase.py\u001b[0m:359)\n",
      "[\u001b[1mtardis.simulation.base\u001b[0m][\u001b[1;37mINFO\u001b[0m   ]  Plasma stratification:\n",
      "\t              t_rad    next_t_rad         w    next_w\n",
      "\tShell                                                \n",
      "\t0      11527.008679  10659.382763  0.512509  0.433573\n",
      "\t5      11706.138980  11038.244897  0.196458  0.158494\n",
      "\t10     11444.208532  10790.696726  0.124092  0.099660\n",
      "\t15     11085.857161  10450.666394  0.093694  0.074550\n",
      "\n",
      " (\u001b[1mbase.py\u001b[0m:350)\n",
      "[\u001b[1mtardis.simulation.base\u001b[0m][\u001b[1;37mINFO\u001b[0m   ]  t_inner 10054.300 K -- next t_inner 11261.489 K (\u001b[1mbase.py\u001b[0m:352)\n",
      "[\u001b[1mtardis.simulation.base\u001b[0m][\u001b[1;37mINFO\u001b[0m   ]  Starting iteration 6/20 (\u001b[1mbase.py\u001b[0m:268)\n",
      "[\u001b[1mtardis.simulation.base\u001b[0m][\u001b[1;37mINFO\u001b[0m   ]  Luminosity emitted = 1.32492e+43 erg / s Luminosity absorbed = 4.26229e+42 erg / s Luminosity requested = 1.05928e+43 erg / s (\u001b[1mbase.py\u001b[0m:359)\n",
      "[\u001b[1mtardis.simulation.base\u001b[0m][\u001b[1;37mINFO\u001b[0m   ]  Plasma stratification:\n",
      "\t              t_rad    next_t_rad         w    next_w\n",
      "\tShell                                                \n",
      "\t0      10659.382763  11507.437689  0.433573  0.499441\n",
      "\t5      11038.244897  11634.568776  0.158494  0.197953\n",
      "\t10     10790.696726  11418.594559  0.099660  0.124085\n",
      "\t15     10450.666394  10999.619473  0.074550  0.094676\n",
      "\n",
      " (\u001b[1mbase.py\u001b[0m:350)\n",
      "[\u001b[1mtardis.simulation.base\u001b[0m][\u001b[1;37mINFO\u001b[0m   ]  t_inner 11261.489 K -- next t_inner 10069.444 K (\u001b[1mbase.py\u001b[0m:352)\n",
      "[\u001b[1mtardis.simulation.base\u001b[0m][\u001b[1;37mINFO\u001b[0m   ]  Starting iteration 7/20 (\u001b[1mbase.py\u001b[0m:268)\n",
      "[\u001b[1mtardis.simulation.base\u001b[0m][\u001b[1;37mINFO\u001b[0m   ]  Luminosity emitted = 8.49858e+42 erg / s Luminosity absorbed = 2.69247e+42 erg / s Luminosity requested = 1.05928e+43 erg / s (\u001b[1mbase.py\u001b[0m:359)\n",
      "[\u001b[1mtardis.simulation.base\u001b[0m][\u001b[1;37mINFO\u001b[0m   ]  Plasma stratification:\n",
      "\t              t_rad    next_t_rad         w    next_w\n",
      "\tShell                                                \n",
      "\t0      11507.437689  10679.650246  0.499441  0.431088\n",
      "\t5      11634.568776  11048.266431  0.197953  0.157179\n",
      "\t10     11418.594559  10825.714870  0.124085  0.098608\n",
      "\t15     10999.619473  10506.321595  0.094676  0.073794\n",
      "\n",
      " (\u001b[1mbase.py\u001b[0m:350)\n",
      "[\u001b[1mtardis.simulation.base\u001b[0m][\u001b[1;37mINFO\u001b[0m   ]  t_inner 10069.444 K -- next t_inner 11241.826 K (\u001b[1mbase.py\u001b[0m:352)\n",
      "[\u001b[1mtardis.simulation.base\u001b[0m][\u001b[1;37mINFO\u001b[0m   ]  Starting iteration 8/20 (\u001b[1mbase.py\u001b[0m:268)\n",
      "[\u001b[1mtardis.simulation.base\u001b[0m][\u001b[1;37mINFO\u001b[0m   ]  Luminosity emitted = 1.30632e+43 erg / s Luminosity absorbed = 4.31719e+42 erg / s Luminosity requested = 1.05928e+43 erg / s (\u001b[1mbase.py\u001b[0m:359)\n",
      "[\u001b[1mtardis.simulation.base\u001b[0m][\u001b[1;37mINFO\u001b[0m   ]  Plasma stratification:\n",
      "\t              t_rad    next_t_rad         w    next_w\n",
      "\tShell                                                \n",
      "\t0      10679.650246  11459.828312  0.431088  0.506176\n",
      "\t5      11048.266431  11688.139012  0.157179  0.193468\n",
      "\t10     10825.714870  11441.768967  0.098608  0.122412\n",
      "\t15     10506.321595  11099.449886  0.073794  0.090915\n",
      "\n",
      " (\u001b[1mbase.py\u001b[0m:350)\n",
      "[\u001b[1mtardis.simulation.base\u001b[0m][\u001b[1;37mINFO\u001b[0m   ]  t_inner 11241.826 K -- next t_inner 10123.177 K (\u001b[1mbase.py\u001b[0m:352)\n",
      "[\u001b[1mtardis.simulation.base\u001b[0m][\u001b[1;37mINFO\u001b[0m   ]  Starting iteration 9/20 (\u001b[1mbase.py\u001b[0m:268)\n",
      "[\u001b[1mtardis.simulation.base\u001b[0m][\u001b[1;37mINFO\u001b[0m   ]  Luminosity emitted = 8.68357e+42 erg / s Luminosity absorbed = 2.75015e+42 erg / s Luminosity requested = 1.05928e+43 erg / s (\u001b[1mbase.py\u001b[0m:359)\n",
      "[\u001b[1mtardis.simulation.base\u001b[0m][\u001b[1;37mINFO\u001b[0m   ]  Plasma stratification:\n",
      "\t              t_rad    next_t_rad         w    next_w\n",
      "\tShell                                                \n",
      "\t0      11459.828312  10666.223660  0.506176  0.445097\n",
      "\t5      11688.139012  11000.288585  0.193468  0.163424\n",
      "\t10     11441.768967  10822.884326  0.122412  0.101641\n",
      "\t15     11099.449886  10384.181273  0.090915  0.078432\n",
      "\n",
      " (\u001b[1mbase.py\u001b[0m:350)\n"
     ]
    },
    {
     "name": "stdout",
     "output_type": "stream",
     "text": [
      "[\u001b[1mtardis.simulation.base\u001b[0m][\u001b[1;37mINFO\u001b[0m   ]  t_inner 10123.177 K -- next t_inner 11180.783 K (\u001b[1mbase.py\u001b[0m:352)\n",
      "[\u001b[1mtardis.simulation.base\u001b[0m][\u001b[1;37mINFO\u001b[0m   ]  Starting iteration 10/20 (\u001b[1mbase.py\u001b[0m:268)\n",
      "[\u001b[1mtardis.simulation.base\u001b[0m][\u001b[1;37mINFO\u001b[0m   ]  Luminosity emitted = 1.28170e+43 erg / s Luminosity absorbed = 4.19511e+42 erg / s Luminosity requested = 1.05928e+43 erg / s (\u001b[1mbase.py\u001b[0m:359)\n",
      "[\u001b[1mtardis.simulation.base\u001b[0m][\u001b[1;37mINFO\u001b[0m   ]  Plasma stratification:\n",
      "\t              t_rad    next_t_rad         w    next_w\n",
      "\tShell                                                \n",
      "\t0      10666.223660  11427.410445  0.445097  0.500788\n",
      "\t5      11000.288585  11612.349822  0.163424  0.193129\n",
      "\t10     10822.884326  11373.245169  0.101641  0.121622\n",
      "\t15     10384.181273  11047.955461  0.078432  0.090937\n",
      "\n",
      " (\u001b[1mbase.py\u001b[0m:350)\n",
      "[\u001b[1mtardis.simulation.base\u001b[0m][\u001b[1;37mINFO\u001b[0m   ]  t_inner 11180.783 K -- next t_inner 10164.432 K (\u001b[1mbase.py\u001b[0m:352)\n",
      "[\u001b[1mtardis.simulation.base\u001b[0m][\u001b[1;37mINFO\u001b[0m   ]  Starting iteration 11/20 (\u001b[1mbase.py\u001b[0m:268)\n",
      "[\u001b[1mtardis.simulation.base\u001b[0m][\u001b[1;37mINFO\u001b[0m   ]  Luminosity emitted = 8.79074e+42 erg / s Luminosity absorbed = 2.82804e+42 erg / s Luminosity requested = 1.05928e+43 erg / s (\u001b[1mbase.py\u001b[0m:359)\n",
      "[\u001b[1mtardis.simulation.base\u001b[0m][\u001b[1;37mINFO\u001b[0m   ]  Plasma stratification:\n",
      "\t              t_rad    next_t_rad         w    next_w\n",
      "\tShell                                                \n",
      "\t0      11427.410445  10741.337822  0.500788  0.439938\n",
      "\t5      11612.349822  11230.515356  0.193129  0.153637\n",
      "\t10     11373.245169  10870.696315  0.121622  0.101050\n",
      "\t15     11047.955461  10538.170159  0.090937  0.074680\n",
      "\n",
      " (\u001b[1mbase.py\u001b[0m:350)\n",
      "[\u001b[1mtardis.simulation.base\u001b[0m][\u001b[1;37mINFO\u001b[0m   ]  t_inner 10164.432 K -- next t_inner 11157.711 K (\u001b[1mbase.py\u001b[0m:352)\n",
      "[\u001b[1mtardis.simulation.base\u001b[0m][\u001b[1;37mINFO\u001b[0m   ]  Starting iteration 12/20 (\u001b[1mbase.py\u001b[0m:268)\n",
      "[\u001b[1mtardis.simulation.base\u001b[0m][\u001b[1;37mINFO\u001b[0m   ]  Luminosity emitted = 1.27128e+43 erg / s Luminosity absorbed = 4.15415e+42 erg / s Luminosity requested = 1.05928e+43 erg / s (\u001b[1mbase.py\u001b[0m:359)\n",
      "[\u001b[1mtardis.simulation.base\u001b[0m][\u001b[1;37mINFO\u001b[0m   ]  Plasma stratification:\n",
      "\t              t_rad    next_t_rad         w    next_w\n",
      "\tShell                                                \n",
      "\t0      10741.337822  11507.877578  0.439938  0.483114\n",
      "\t5      11230.515356  11808.852053  0.153637  0.181826\n",
      "\t10     10870.696315  11557.412757  0.101050  0.113563\n",
      "\t15     10538.170159  11117.762050  0.074680  0.087418\n",
      "\n",
      " (\u001b[1mbase.py\u001b[0m:350)\n",
      "[\u001b[1mtardis.simulation.base\u001b[0m][\u001b[1;37mINFO\u001b[0m   ]  t_inner 11157.711 K -- next t_inner 10184.966 K (\u001b[1mbase.py\u001b[0m:352)\n",
      "[\u001b[1mtardis.simulation.base\u001b[0m][\u001b[1;37mINFO\u001b[0m   ]  Starting iteration 13/20 (\u001b[1mbase.py\u001b[0m:268)\n",
      "[\u001b[1mtardis.simulation.base\u001b[0m][\u001b[1;37mINFO\u001b[0m   ]  Luminosity emitted = 8.90399e+42 erg / s Luminosity absorbed = 2.80864e+42 erg / s Luminosity requested = 1.05928e+43 erg / s (\u001b[1mbase.py\u001b[0m:359)\n",
      "[\u001b[1mtardis.simulation.base\u001b[0m][\u001b[1;37mINFO\u001b[0m   ]  Plasma stratification:\n",
      "\t              t_rad    next_t_rad         w    next_w\n",
      "\tShell                                                \n",
      "\t0      11507.877578  10727.217531  0.483114  0.443706\n",
      "\t5      11808.852053  11171.758889  0.181826  0.160824\n",
      "\t10     11557.412757  10971.722637  0.113563  0.098588\n",
      "\t15     11117.762050  10574.916600  0.087418  0.075266\n",
      "\n",
      " (\u001b[1mbase.py\u001b[0m:350)\n",
      "[\u001b[1mtardis.simulation.base\u001b[0m][\u001b[1;37mINFO\u001b[0m   ]  t_inner 10184.966 K -- next t_inner 11108.923 K (\u001b[1mbase.py\u001b[0m:352)\n",
      "[\u001b[1mtardis.simulation.base\u001b[0m][\u001b[1;37mINFO\u001b[0m   ]  Starting iteration 14/20 (\u001b[1mbase.py\u001b[0m:268)\n",
      "[\u001b[1mtardis.simulation.base\u001b[0m][\u001b[1;37mINFO\u001b[0m   ]  Luminosity emitted = 1.25052e+43 erg / s Luminosity absorbed = 4.07335e+42 erg / s Luminosity requested = 1.05928e+43 erg / s (\u001b[1mbase.py\u001b[0m:359)\n",
      "[\u001b[1mtardis.simulation.base\u001b[0m][\u001b[1;37mINFO\u001b[0m   ]  Plasma stratification:\n",
      "\t              t_rad    next_t_rad         w    next_w\n",
      "\tShell                                                \n",
      "\t0      10727.217531  11413.626870  0.443706  0.489526\n",
      "\t5      11171.758889  11697.006992  0.160824  0.184795\n",
      "\t10     10971.722637  11424.445844  0.098588  0.116722\n",
      "\t15     10574.916600  11047.434163  0.075266  0.088067\n",
      "\n",
      " (\u001b[1mbase.py\u001b[0m:350)\n",
      "[\u001b[1mtardis.simulation.base\u001b[0m][\u001b[1;37mINFO\u001b[0m   ]  t_inner 11108.923 K -- next t_inner 10224.266 K (\u001b[1mbase.py\u001b[0m:352)\n",
      "[\u001b[1mtardis.simulation.base\u001b[0m][\u001b[1;37mINFO\u001b[0m   ]  Starting iteration 15/20 (\u001b[1mbase.py\u001b[0m:268)\n",
      "[\u001b[1mtardis.simulation.base\u001b[0m][\u001b[1;37mINFO\u001b[0m   ]  Luminosity emitted = 9.00727e+42 erg / s Luminosity absorbed = 2.88724e+42 erg / s Luminosity requested = 1.05928e+43 erg / s (\u001b[1mbase.py\u001b[0m:359)\n",
      "[\u001b[1mtardis.simulation.base\u001b[0m][\u001b[1;37mINFO\u001b[0m   ]  Plasma stratification:\n",
      "\t              t_rad    next_t_rad         w    next_w\n",
      "\tShell                                                \n",
      "\t0      11413.626870  10712.622749  0.489526  0.455660\n",
      "\t5      11697.006992  11125.894032  0.184795  0.164091\n",
      "\t10     11424.445844  10816.390451  0.116722  0.104037\n",
      "\t15     11047.434163  10421.687097  0.088067  0.080401\n",
      "\n",
      " (\u001b[1mbase.py\u001b[0m:350)\n",
      "[\u001b[1mtardis.simulation.base\u001b[0m][\u001b[1;37mINFO\u001b[0m   ]  t_inner 10224.266 K -- next t_inner 11087.666 K (\u001b[1mbase.py\u001b[0m:352)\n",
      "[\u001b[1mtardis.simulation.base\u001b[0m][\u001b[1;37mINFO\u001b[0m   ]  Starting iteration 16/20 (\u001b[1mbase.py\u001b[0m:268)\n",
      "[\u001b[1mtardis.simulation.base\u001b[0m][\u001b[1;37mINFO\u001b[0m   ]  Luminosity emitted = 1.23781e+43 erg / s Luminosity absorbed = 4.07435e+42 erg / s Luminosity requested = 1.05928e+43 erg / s (\u001b[1mbase.py\u001b[0m:359)\n",
      "[\u001b[1mtardis.simulation.base\u001b[0m][\u001b[1;37mINFO\u001b[0m   ]  Plasma stratification:\n",
      "\t              t_rad    next_t_rad         w    next_w\n",
      "\tShell                                                \n",
      "\t0      10712.622749  11352.158138  0.455660  0.500754\n",
      "\t5      11125.894032  11644.968350  0.164091  0.185289\n",
      "\t10     10816.390451  11320.695930  0.104037  0.119195\n",
      "\t15     10421.687097  10965.228363  0.080401  0.089940\n",
      "\n",
      " (\u001b[1mbase.py\u001b[0m:350)\n",
      "[\u001b[1mtardis.simulation.base\u001b[0m][\u001b[1;37mINFO\u001b[0m   ]  t_inner 11087.666 K -- next t_inner 10256.946 K (\u001b[1mbase.py\u001b[0m:352)\n",
      "[\u001b[1mtardis.simulation.base\u001b[0m][\u001b[1;37mINFO\u001b[0m   ]  Starting iteration 17/20 (\u001b[1mbase.py\u001b[0m:268)\n",
      "[\u001b[1mtardis.simulation.base\u001b[0m][\u001b[1;37mINFO\u001b[0m   ]  Luminosity emitted = 9.18956e+42 erg / s Luminosity absorbed = 2.86249e+42 erg / s Luminosity requested = 1.05928e+43 erg / s (\u001b[1mbase.py\u001b[0m:359)\n",
      "[\u001b[1mtardis.simulation.base\u001b[0m][\u001b[1;37mINFO\u001b[0m   ]  Plasma stratification:\n",
      "\t              t_rad    next_t_rad         w    next_w\n",
      "\tShell                                                \n",
      "\t0      11352.158138  10738.799194  0.500754  0.452965\n",
      "\t5      11644.968350  11210.269586  0.185289  0.160945\n",
      "\t10     11320.695930  10911.463205  0.119195  0.103910\n",
      "\t15     10965.228363  10545.065525  0.089940  0.078433\n",
      "\n",
      " (\u001b[1mbase.py\u001b[0m:350)\n",
      "[\u001b[1mtardis.simulation.base\u001b[0m][\u001b[1;37mINFO\u001b[0m   ]  t_inner 10256.946 K -- next t_inner 11012.230 K (\u001b[1mbase.py\u001b[0m:352)\n",
      "[\u001b[1mtardis.simulation.base\u001b[0m][\u001b[1;37mINFO\u001b[0m   ]  Starting iteration 18/20 (\u001b[1mbase.py\u001b[0m:268)\n",
      "[\u001b[1mtardis.simulation.base\u001b[0m][\u001b[1;37mINFO\u001b[0m   ]  Luminosity emitted = 1.20741e+43 erg / s Luminosity absorbed = 3.93375e+42 erg / s Luminosity requested = 1.05928e+43 erg / s (\u001b[1mbase.py\u001b[0m:359)\n",
      "[\u001b[1mtardis.simulation.base\u001b[0m][\u001b[1;37mINFO\u001b[0m   ]  Plasma stratification:\n",
      "\t              t_rad    next_t_rad         w    next_w\n",
      "\tShell                                                \n",
      "\t0      10738.799194  11316.665617  0.452965  0.492135\n",
      "\t5      11210.269586  11599.094127  0.160945  0.183929\n",
      "\t10     10911.463205  11403.508986  0.103910  0.114400\n",
      "\t15     10545.065525  10958.974248  0.078433  0.087415\n",
      "\n",
      " (\u001b[1mbase.py\u001b[0m:350)\n",
      "[\u001b[1mtardis.simulation.base\u001b[0m][\u001b[1;37mINFO\u001b[0m   ]  t_inner 11012.230 K -- next t_inner 10314.623 K (\u001b[1mbase.py\u001b[0m:352)\n",
      "[\u001b[1mtardis.simulation.base\u001b[0m][\u001b[1;37mINFO\u001b[0m   ]  Starting iteration 19/20 (\u001b[1mbase.py\u001b[0m:268)\n",
      "[\u001b[1mtardis.simulation.base\u001b[0m][\u001b[1;37mINFO\u001b[0m   ]  Luminosity emitted = 9.29848e+42 erg / s Luminosity absorbed = 3.02011e+42 erg / s Luminosity requested = 1.05928e+43 erg / s (\u001b[1mbase.py\u001b[0m:359)\n",
      "[\u001b[1mtardis.simulation.base\u001b[0m][\u001b[1;37mINFO\u001b[0m   ]  Plasma stratification:\n",
      "\t              t_rad    next_t_rad         w    next_w\n",
      "\tShell                                                \n",
      "\t0      11316.665617  10862.505720  0.492135  0.444495\n",
      "\t5      11599.094127  11194.462074  0.183929  0.162842\n",
      "\t10     11403.508986  11065.620645  0.114400  0.099372\n",
      "\t15     10958.974248  10599.851144  0.087415  0.077690\n",
      "\n",
      " (\u001b[1mbase.py\u001b[0m:350)\n"
     ]
    },
    {
     "name": "stdout",
     "output_type": "stream",
     "text": [
      "[\u001b[1mtardis.simulation.base\u001b[0m][\u001b[1;37mINFO\u001b[0m   ]  t_inner 10314.623 K -- next t_inner 11009.102 K (\u001b[1mbase.py\u001b[0m:352)\n",
      "[\u001b[1mtardis.simulation.base\u001b[0m][\u001b[1;37mINFO\u001b[0m   ]  Starting iteration 20/20 (\u001b[1mbase.py\u001b[0m:268)\n",
      "[\u001b[1mtardis.simulation.base\u001b[0m][\u001b[1;37mINFO\u001b[0m   ]  Luminosity emitted = 1.21062e+43 erg / s Luminosity absorbed = 3.88405e+42 erg / s Luminosity requested = 1.05928e+43 erg / s (\u001b[1mbase.py\u001b[0m:359)\n",
      "[\u001b[1mtardis.simulation.base\u001b[0m][\u001b[1;37mINFO\u001b[0m   ]  Simulation finished in 20 iterations and took 50.05 s (\u001b[1mbase.py\u001b[0m:308)\n"
     ]
    }
   ],
   "source": [
    "# Create a Simulation object by running tardis\n",
    "from tardis import run_tardis\n",
    "sim = run_tardis('tardis_example.yml')"
   ]
  },
  {
   "cell_type": "code",
   "execution_count": 3,
   "metadata": {
    "ExecuteTime": {
     "end_time": "2020-06-05T12:34:52.242965Z",
     "start_time": "2020-06-05T12:34:51.428637Z"
    }
   },
   "outputs": [
    {
     "data": {
      "application/vnd.jupyter.widget-view+json": {
       "model_id": "303526bb3dd8467d8b4af419c086b5cb",
       "version_major": 2,
       "version_minor": 0
      },
      "text/plain": [
       "VBox(children=(HTML(value='<b>Frac. Ab.</b> denotes <i>Fractional Abundances</i> (i.e all values sum to 1)<br>…"
      ]
     },
     "metadata": {},
     "output_type": "display_data"
    }
   ],
   "source": [
    "# Now use it to create a shell info widget\n",
    "shell_info = tw.shell_info_from_simulation(sim)\n",
    "\n",
    "# Call display method of shell_info\n",
    "shell_info.display()"
   ]
  },
  {
   "cell_type": "markdown",
   "metadata": {},
   "source": [
    "You can interact with the widget produced in output above (which may not be visible) like this:\n",
    "\n",
    "![Shell Info Widget Demo](images/shell-info-widget-demo.gif)"
   ]
  },
  {
   "cell_type": "markdown",
   "metadata": {},
   "source": [
    "### Using saved simulations (HDF files)"
   ]
  },
  {
   "cell_type": "code",
   "execution_count": 4,
   "metadata": {
    "ExecuteTime": {
     "end_time": "2020-06-05T12:37:43.203790Z",
     "start_time": "2020-06-05T12:37:42.114979Z"
    },
    "scrolled": true
   },
   "outputs": [
    {
     "data": {
      "application/vnd.jupyter.widget-view+json": {
       "model_id": "c4014e98653940249a7254ec81fa0c45",
       "version_major": 2,
       "version_minor": 0
      },
      "text/plain": [
       "VBox(children=(HTML(value='<b>Frac. Ab.</b> denotes <i>Fractional Abundances</i> (i.e all values sum to 1)<br>…"
      ]
     },
     "metadata": {},
     "output_type": "display_data"
    }
   ],
   "source": [
    "# Use a tardis simulation saved as HDF file to create shell info widget\n",
    "shell_info = tw.shell_info_from_hdf('/tmp/sim_example.hdf')\n",
    "\n",
    "# Display it\n",
    "shell_info.display()"
   ]
  },
  {
   "cell_type": "code",
   "execution_count": null,
   "metadata": {},
   "outputs": [],
   "source": []
  }
 ],
 "metadata": {
  "kernelspec": {
   "display_name": "Python 3.6.7 64-bit ('tardis': conda)",
   "language": "python",
   "name": "python36764bittardiscondaa22a1e4c29c4422fa74dc8bcd590e7e0"
  },
  "language_info": {
   "codemirror_mode": {
    "name": "ipython",
    "version": 3
   },
   "file_extension": ".py",
   "mimetype": "text/x-python",
   "name": "python",
   "nbconvert_exporter": "python",
   "pygments_lexer": "ipython3",
   "version": "3.6.10"
  },
  "notify_time": "5",
  "toc": {
   "base_numbering": 1,
   "nav_menu": {},
   "number_sections": false,
   "sideBar": true,
   "skip_h1_title": false,
   "title_cell": "Table of Contents",
   "title_sidebar": "Contents",
   "toc_cell": false,
   "toc_position": {},
   "toc_section_display": true,
   "toc_window_display": false
  },
  "varInspector": {
   "cols": {
    "lenName": 16,
    "lenType": 16,
    "lenVar": 40
   },
   "kernels_config": {
    "python": {
     "delete_cmd_postfix": "",
     "delete_cmd_prefix": "del ",
     "library": "var_list.py",
     "varRefreshCmd": "print(var_dic_list())"
    },
    "r": {
     "delete_cmd_postfix": ") ",
     "delete_cmd_prefix": "rm(",
     "library": "var_list.r",
     "varRefreshCmd": "cat(var_dic_list()) "
    }
   },
   "position": {
    "height": "271.85px",
    "left": "1265.58px",
    "right": "20px",
    "top": "65px",
    "width": "420.167px"
   },
   "types_to_exclude": [
    "module",
    "function",
    "builtin_function_or_method",
    "instance",
    "_Feature"
   ],
   "window_display": false
  },
  "widgets": {
   "application/vnd.jupyter.widget-state+json": {
    "state": {
     "0010b929d769405594d196644b7b2cff": {
      "model_module": "@jupyter-widgets/controls",
      "model_module_version": "1.5.0",
      "model_name": "HTMLModel",
      "state": {
       "layout": "IPY_MODEL_9fabc9f0cab3496294324a96552c8047",
       "style": "IPY_MODEL_ae4ee6b0b98344da98ca3d2eef40218f",
       "value": "<b>Frac. Ab.</b> denotes <i>Fractional Abundances</i> (i.e all values sum to 1)<br><b>W</b> denotes <i>Dilution Factor</i> and <b>Rad. Temp.</b> is <i>Radiative Temperature (in K)</i>"
      }
     },
     "007204f131e5417c84b9eea2fe31b764": {
      "model_module": "@jupyter-widgets/base",
      "model_module_version": "1.2.0",
      "model_name": "LayoutModel",
      "state": {
       "width": "24%"
      }
     },
     "01642fcb09204f45b7f7c178a9329978": {
      "model_module": "qgrid",
      "model_module_version": "^1.1.3",
      "model_name": "QgridModel",
      "state": {
       "_columns": {
        "Frac. Ab. (Ion=0)": {
         "cssClass": "string",
         "defaultSortAsc": true,
         "editable": true,
         "field": "Frac. Ab. (Ion=0)",
         "id": "Frac. Ab. (Ion=0)",
         "minWidth": null,
         "name": "Frac. Ab. (Ion=0)",
         "position": 2,
         "resizable": true,
         "sortable": true,
         "toolTip": "",
         "type": "string",
         "width": 70
        },
        "Level": {
         "cssClass": "integer first-idx-col idx-col first-idx-col idx-col",
         "defaultSortAsc": true,
         "editable": true,
         "field": "Level",
         "first_index": true,
         "id": "Level",
         "index_display_text": "Level",
         "is_index": true,
         "level": 0,
         "minWidth": null,
         "name": "Level",
         "position": 0,
         "resizable": true,
         "sortable": true,
         "toolTip": "",
         "type": "integer",
         "width": 30
        },
        "qgrid_unfiltered_index": {
         "cssClass": "integer",
         "defaultSortAsc": true,
         "editable": true,
         "field": "qgrid_unfiltered_index",
         "id": "qgrid_unfiltered_index",
         "maxWidth": null,
         "minWidth": null,
         "name": "qgrid_unfiltered_index",
         "position": 1,
         "resizable": true,
         "sortable": true,
         "toolTip": "",
         "type": "integer",
         "width": null
        }
       },
       "_df_json": "{\"schema\": {\"fields\":[{\"name\":\"Level\",\"type\":\"integer\"},{\"name\":\"qgrid_unfiltered_index\",\"type\":\"integer\"},{\"name\":\"Frac. Ab. (Ion=0)\",\"type\":\"string\"}],\"primaryKey\":[\"Level\"],\"pandas_version\":\"0.20.0\"}, \"data\": [{\"Level\":0,\"qgrid_unfiltered_index\":0,\"Frac. Ab. (Ion=0)\":\"5.245451e-01\"},{\"Level\":1,\"qgrid_unfiltered_index\":1,\"Frac. Ab. (Ion=0)\":\"3.081982e-01\"},{\"Level\":2,\"qgrid_unfiltered_index\":2,\"Frac. Ab. (Ion=0)\":\"1.018020e-01\"},{\"Level\":3,\"qgrid_unfiltered_index\":3,\"Frac. Ab. (Ion=0)\":\"6.412135e-02\"},{\"Level\":4,\"qgrid_unfiltered_index\":4,\"Frac. Ab. (Ion=0)\":\"1.193807e-03\"},{\"Level\":5,\"qgrid_unfiltered_index\":5,\"Frac. Ab. (Ion=0)\":\"2.994701e-05\"},{\"Level\":6,\"qgrid_unfiltered_index\":6,\"Frac. Ab. (Ion=0)\":\"1.203353e-05\"},{\"Level\":7,\"qgrid_unfiltered_index\":7,\"Frac. Ab. (Ion=0)\":\"3.272569e-06\"},{\"Level\":8,\"qgrid_unfiltered_index\":8,\"Frac. Ab. (Ion=0)\":\"5.452822e-06\"},{\"Level\":9,\"qgrid_unfiltered_index\":9,\"Frac. Ab. (Ion=0)\":\"7.630235e-06\"},{\"Level\":10,\"qgrid_unfiltered_index\":10,\"Frac. Ab. (Ion=0)\":\"2.509362e-06\"},{\"Level\":11,\"qgrid_unfiltered_index\":11,\"Frac. Ab. (Ion=0)\":\"4.181961e-06\"},{\"Level\":12,\"qgrid_unfiltered_index\":12,\"Frac. Ab. (Ion=0)\":\"8.363748e-07\"},{\"Level\":13,\"qgrid_unfiltered_index\":13,\"Frac. Ab. (Ion=0)\":\"1.688869e-06\"},{\"Level\":14,\"qgrid_unfiltered_index\":14,\"Frac. Ab. (Ion=0)\":\"9.177002e-07\"},{\"Level\":15,\"qgrid_unfiltered_index\":15,\"Frac. Ab. (Ion=0)\":\"2.349891e-06\"},{\"Level\":16,\"qgrid_unfiltered_index\":16,\"Frac. Ab. (Ion=0)\":\"1.827672e-06\"},{\"Level\":17,\"qgrid_unfiltered_index\":17,\"Frac. Ab. (Ion=0)\":\"1.305459e-06\"},{\"Level\":18,\"qgrid_unfiltered_index\":18,\"Frac. Ab. (Ion=0)\":\"7.832646e-07\"},{\"Level\":19,\"qgrid_unfiltered_index\":19,\"Frac. Ab. (Ion=0)\":\"2.610865e-07\"},{\"Level\":20,\"qgrid_unfiltered_index\":20,\"Frac. Ab. (Ion=0)\":\"7.762995e-07\"},{\"Level\":21,\"qgrid_unfiltered_index\":21,\"Frac. Ab. (Ion=0)\":\"1.293821e-06\"},{\"Level\":22,\"qgrid_unfiltered_index\":22,\"Frac. Ab. (Ion=0)\":\"1.811327e-06\"},{\"Level\":23,\"qgrid_unfiltered_index\":23,\"Frac. Ab. (Ion=0)\":\"6.276639e-07\"},{\"Level\":24,\"qgrid_unfiltered_index\":24,\"Frac. Ab. (Ion=0)\":\"1.046013e-06\"},{\"Level\":25,\"qgrid_unfiltered_index\":25,\"Frac. Ab. (Ion=0)\":\"1.464187e-06\"},{\"Level\":26,\"qgrid_unfiltered_index\":26,\"Frac. Ab. (Ion=0)\":\"5.806349e-07\"},{\"Level\":27,\"qgrid_unfiltered_index\":27,\"Frac. Ab. (Ion=0)\":\"9.677145e-07\"},{\"Level\":28,\"qgrid_unfiltered_index\":28,\"Frac. Ab. (Ion=0)\":\"1.935362e-07\"},{\"Level\":29,\"qgrid_unfiltered_index\":29,\"Frac. Ab. (Ion=0)\":\"1.117416e-06\"},{\"Level\":30,\"qgrid_unfiltered_index\":30,\"Frac. Ab. (Ion=0)\":\"7.968744e-07\"},{\"Level\":31,\"qgrid_unfiltered_index\":31,\"Frac. Ab. (Ion=0)\":\"4.776248e-07\"},{\"Level\":32,\"qgrid_unfiltered_index\":32,\"Frac. Ab. (Ion=0)\":\"7.008731e-07\"},{\"Level\":33,\"qgrid_unfiltered_index\":33,\"Frac. Ab. (Ion=0)\":\"4.043934e-07\"},{\"Level\":34,\"qgrid_unfiltered_index\":34,\"Frac. Ab. (Ion=0)\":\"6.520337e-07\"},{\"Level\":35,\"qgrid_unfiltered_index\":35,\"Frac. Ab. (Ion=0)\":\"1.142451e-06\"},{\"Level\":36,\"qgrid_unfiltered_index\":36,\"Frac. Ab. (Ion=0)\":\"8.885682e-07\"},{\"Level\":37,\"qgrid_unfiltered_index\":37,\"Frac. Ab. (Ion=0)\":\"6.346866e-07\"},{\"Level\":38,\"qgrid_unfiltered_index\":38,\"Frac. Ab. (Ion=0)\":\"3.808095e-07\"},{\"Level\":39,\"qgrid_unfiltered_index\":39,\"Frac. Ab. (Ion=0)\":\"1.269361e-07\"},{\"Level\":40,\"qgrid_unfiltered_index\":40,\"Frac. Ab. (Ion=0)\":\"8.835420e-07\"},{\"Level\":41,\"qgrid_unfiltered_index\":41,\"Frac. Ab. (Ion=0)\":\"6.310956e-07\"},{\"Level\":42,\"qgrid_unfiltered_index\":42,\"Frac. Ab. (Ion=0)\":\"3.786551e-07\"},{\"Level\":43,\"qgrid_unfiltered_index\":43,\"Frac. Ab. (Ion=0)\":\"3.756697e-07\"},{\"Level\":44,\"qgrid_unfiltered_index\":44,\"Frac. Ab. (Ion=0)\":\"6.261162e-07\"},{\"Level\":45,\"qgrid_unfiltered_index\":45,\"Frac. Ab. (Ion=0)\":\"8.765626e-07\"},{\"Level\":46,\"qgrid_unfiltered_index\":46,\"Frac. Ab. (Ion=0)\":\"1.127009e-06\"},{\"Level\":47,\"qgrid_unfiltered_index\":47,\"Frac. Ab. (Ion=0)\":\"1.377456e-06\"},{\"Level\":48,\"qgrid_unfiltered_index\":48,\"Frac. Ab. (Ion=0)\":\"6.261084e-07\"},{\"Level\":49,\"qgrid_unfiltered_index\":49,\"Frac. Ab. (Ion=0)\":\"8.765517e-07\"},{\"Level\":50,\"qgrid_unfiltered_index\":50,\"Frac. Ab. (Ion=0)\":\"1.126995e-06\"},{\"Level\":51,\"qgrid_unfiltered_index\":51,\"Frac. Ab. (Ion=0)\":\"3.443372e-07\"},{\"Level\":52,\"qgrid_unfiltered_index\":52,\"Frac. Ab. (Ion=0)\":\"3.443367e-07\"},{\"Level\":53,\"qgrid_unfiltered_index\":53,\"Frac. Ab. (Ion=0)\":\"5.738682e-07\"},{\"Level\":54,\"qgrid_unfiltered_index\":54,\"Frac. Ab. (Ion=0)\":\"5.738673e-07\"},{\"Level\":55,\"qgrid_unfiltered_index\":55,\"Frac. Ab. (Ion=0)\":\"8.033623e-07\"},{\"Level\":56,\"qgrid_unfiltered_index\":56,\"Frac. Ab. (Ion=0)\":\"8.033610e-07\"},{\"Level\":57,\"qgrid_unfiltered_index\":57,\"Frac. Ab. (Ion=0)\":\"5.556286e-07\"},{\"Level\":58,\"qgrid_unfiltered_index\":58,\"Frac. Ab. (Ion=0)\":\"3.333745e-07\"},{\"Level\":59,\"qgrid_unfiltered_index\":59,\"Frac. Ab. (Ion=0)\":\"1.111215e-07\"},{\"Level\":60,\"qgrid_unfiltered_index\":60,\"Frac. Ab. (Ion=0)\":\"4.771668e-07\"},{\"Level\":61,\"qgrid_unfiltered_index\":61,\"Frac. Ab. (Ion=0)\":\"2.808195e-07\"},{\"Level\":62,\"qgrid_unfiltered_index\":62,\"Frac. Ab. (Ion=0)\":\"8.182505e-07\"},{\"Level\":63,\"qgrid_unfiltered_index\":63,\"Frac. Ab. (Ion=0)\":\"6.364151e-07\"},{\"Level\":64,\"qgrid_unfiltered_index\":64,\"Frac. Ab. (Ion=0)\":\"4.545803e-07\"},{\"Level\":65,\"qgrid_unfiltered_index\":65,\"Frac. Ab. (Ion=0)\":\"2.727472e-07\"},{\"Level\":66,\"qgrid_unfiltered_index\":66,\"Frac. Ab. (Ion=0)\":\"9.091558e-08\"},{\"Level\":67,\"qgrid_unfiltered_index\":67,\"Frac. Ab. (Ion=0)\":\"2.718970e-07\"},{\"Level\":68,\"qgrid_unfiltered_index\":68,\"Frac. Ab. (Ion=0)\":\"4.531616e-07\"},{\"Level\":69,\"qgrid_unfiltered_index\":69,\"Frac. Ab. (Ion=0)\":\"6.344262e-07\"},{\"Level\":70,\"qgrid_unfiltered_index\":70,\"Frac. Ab. (Ion=0)\":\"2.707241e-07\"},{\"Level\":71,\"qgrid_unfiltered_index\":71,\"Frac. Ab. (Ion=0)\":\"4.512069e-07\"},{\"Level\":72,\"qgrid_unfiltered_index\":72,\"Frac. Ab. (Ion=0)\":\"6.316896e-07\"},{\"Level\":73,\"qgrid_unfiltered_index\":73,\"Frac. Ab. (Ion=0)\":\"8.121724e-07\"},{\"Level\":74,\"qgrid_unfiltered_index\":74,\"Frac. Ab. (Ion=0)\":\"9.926551e-07\"},{\"Level\":75,\"qgrid_unfiltered_index\":75,\"Frac. Ab. (Ion=0)\":\"4.512021e-07\"},{\"Level\":76,\"qgrid_unfiltered_index\":76,\"Frac. Ab. (Ion=0)\":\"6.316830e-07\"},{\"Level\":77,\"qgrid_unfiltered_index\":77,\"Frac. Ab. (Ion=0)\":\"8.121639e-07\"},{\"Level\":78,\"qgrid_unfiltered_index\":78,\"Frac. Ab. (Ion=0)\":\"2.585702e-07\"},{\"Level\":79,\"qgrid_unfiltered_index\":79,\"Frac. Ab. (Ion=0)\":\"4.309410e-07\"},{\"Level\":80,\"qgrid_unfiltered_index\":80,\"Frac. Ab. (Ion=0)\":\"6.032965e-07\"},{\"Level\":81,\"qgrid_unfiltered_index\":81,\"Frac. Ab. (Ion=0)\":\"8.479052e-08\"},{\"Level\":82,\"qgrid_unfiltered_index\":82,\"Frac. Ab. (Ion=0)\":\"2.543716e-07\"},{\"Level\":83,\"qgrid_unfiltered_index\":83,\"Frac. Ab. (Ion=0)\":\"4.239526e-07\"},{\"Level\":84,\"qgrid_unfiltered_index\":84,\"Frac. Ab. (Ion=0)\":\"3.898398e-07\"},{\"Level\":85,\"qgrid_unfiltered_index\":85,\"Frac. Ab. (Ion=0)\":\"2.313594e-07\"},{\"Level\":86,\"qgrid_unfiltered_index\":86,\"Frac. Ab. (Ion=0)\":\"6.828155e-07\"},{\"Level\":87,\"qgrid_unfiltered_index\":87,\"Frac. Ab. (Ion=0)\":\"5.310780e-07\"},{\"Level\":88,\"qgrid_unfiltered_index\":88,\"Frac. Ab. (Ion=0)\":\"3.793406e-07\"},{\"Level\":89,\"qgrid_unfiltered_index\":89,\"Frac. Ab. (Ion=0)\":\"2.276040e-07\"},{\"Level\":90,\"qgrid_unfiltered_index\":90,\"Frac. Ab. (Ion=0)\":\"7.586792e-08\"},{\"Level\":91,\"qgrid_unfiltered_index\":91,\"Frac. Ab. (Ion=0)\":\"2.271728e-07\"},{\"Level\":92,\"qgrid_unfiltered_index\":92,\"Frac. Ab. (Ion=0)\":\"3.786213e-07\"},{\"Level\":93,\"qgrid_unfiltered_index\":93,\"Frac. Ab. (Ion=0)\":\"5.300698e-07\"},{\"Level\":94,\"qgrid_unfiltered_index\":94,\"Frac. Ab. (Ion=0)\":\"2.265911e-07\"},{\"Level\":95,\"qgrid_unfiltered_index\":95,\"Frac. Ab. (Ion=0)\":\"3.776518e-07\"},{\"Level\":96,\"qgrid_unfiltered_index\":96,\"Frac. Ab. (Ion=0)\":\"5.287125e-07\"},{\"Level\":97,\"qgrid_unfiltered_index\":97,\"Frac. Ab. (Ion=0)\":\"6.797733e-07\"},{\"Level\":98,\"qgrid_unfiltered_index\":98,\"Frac. Ab. (Ion=0)\":\"8.308340e-07\"},{\"Level\":99,\"qgrid_unfiltered_index\":99,\"Frac. Ab. (Ion=0)\":\"3.776498e-07\"}]}",
       "_df_range": [
        0,
        100
       ],
       "_editable_rows": {},
       "_index_col_name": "qgrid_unfiltered_index",
       "_interval_columns": [],
       "_model_module_version": "^1.1.3",
       "_multi_index": false,
       "_row_count": 150,
       "_row_styles": {},
       "_sort_ascending": true,
       "_sort_field": null,
       "_view_module_version": "^1.1.3",
       "_viewport_range": [
        0,
        100
       ],
       "grid_options": {
        "autoEdit": false,
        "boldIndex": true,
        "defaultColumnWidth": 150,
        "editable": false,
        "enableColumnReorder": false,
        "enableTextSelectionOnCells": true,
        "explicitInitialization": true,
        "filterable": false,
        "forceFitColumns": true,
        "fullWidthRows": true,
        "highlightSelectedCell": false,
        "highlightSelectedRow": true,
        "maxVisibleRows": 15,
        "minVisibleRows": 2,
        "rowHeight": 28,
        "sortable": false,
        "syncColumnCellResize": true
       },
       "id": "eddbf72f-d94d-475d-a808-d1c29f2c25f9",
       "layout": "IPY_MODEL_b057cdae3cfc41299c98b12b4dde897c",
       "precision": 5,
       "show_toolbar": false
      }
     },
     "017ca4807e0e4bb8aadf2027ac301636": {
      "model_module": "qgrid",
      "model_module_version": "^1.1.3",
      "model_name": "QgridModel",
      "state": {
       "_columns": {
        "Frac. Ab. (Z=8)": {
         "cssClass": "string",
         "defaultSortAsc": true,
         "editable": true,
         "field": "Frac. Ab. (Z=8)",
         "id": "Frac. Ab. (Z=8)",
         "minWidth": null,
         "name": "Frac. Ab. (Z=8)",
         "position": 3,
         "resizable": true,
         "sortable": true,
         "toolTip": "",
         "type": "string",
         "width": 50
        },
        "Ion": {
         "cssClass": "integer first-idx-col idx-col",
         "defaultSortAsc": true,
         "editable": true,
         "field": "Ion",
         "first_index": true,
         "id": "Ion",
         "index_display_text": "Ion",
         "is_index": true,
         "level": 0,
         "minWidth": null,
         "name": "Ion",
         "position": 0,
         "resizable": true,
         "sortable": true,
         "toolTip": "",
         "type": "integer",
         "width": 20
        },
        "Species": {
         "cssClass": "string",
         "defaultSortAsc": true,
         "editable": true,
         "field": "Species",
         "id": "Species",
         "minWidth": null,
         "name": "Species",
         "position": 2,
         "resizable": true,
         "sortable": true,
         "toolTip": "",
         "type": "string",
         "width": 30
        },
        "qgrid_unfiltered_index": {
         "cssClass": "integer",
         "defaultSortAsc": true,
         "editable": true,
         "field": "qgrid_unfiltered_index",
         "id": "qgrid_unfiltered_index",
         "maxWidth": null,
         "minWidth": null,
         "name": "qgrid_unfiltered_index",
         "position": 1,
         "resizable": true,
         "sortable": true,
         "toolTip": "",
         "type": "integer",
         "width": null
        }
       },
       "_df_json": "{\"schema\": {\"fields\":[{\"name\":\"Ion\",\"type\":\"integer\"},{\"name\":\"qgrid_unfiltered_index\",\"type\":\"integer\"},{\"name\":\"Species\",\"type\":\"string\"},{\"name\":\"Frac. Ab. (Z=8)\",\"type\":\"string\"}],\"primaryKey\":[\"Ion\"],\"pandas_version\":\"0.20.0\"}, \"data\": [{\"Ion\":0,\"qgrid_unfiltered_index\":0,\"Species\":\"O I\",\"Frac. Ab. (Z=8)\":\"8.883934e-07\"},{\"Ion\":1,\"qgrid_unfiltered_index\":1,\"Species\":\"O II\",\"Frac. Ab. (Z=8)\":\"9.989109e-01\"},{\"Ion\":2,\"qgrid_unfiltered_index\":2,\"Species\":\"O III\",\"Frac. Ab. (Z=8)\":\"1.088234e-03\"},{\"Ion\":3,\"qgrid_unfiltered_index\":3,\"Species\":\"O IV\",\"Frac. Ab. (Z=8)\":\"4.325107e-16\"},{\"Ion\":4,\"qgrid_unfiltered_index\":4,\"Species\":\"O V\",\"Frac. Ab. (Z=8)\":\"0.000000e+00\"},{\"Ion\":5,\"qgrid_unfiltered_index\":5,\"Species\":\"O VI\",\"Frac. Ab. (Z=8)\":\"0.000000e+00\"},{\"Ion\":6,\"qgrid_unfiltered_index\":6,\"Species\":\"O VII\",\"Frac. Ab. (Z=8)\":\"0.000000e+00\"},{\"Ion\":7,\"qgrid_unfiltered_index\":7,\"Species\":\"O VIII\",\"Frac. Ab. (Z=8)\":\"0.000000e+00\"},{\"Ion\":8,\"qgrid_unfiltered_index\":8,\"Species\":\"O IX\",\"Frac. Ab. (Z=8)\":\"0.000000e+00\"}]}",
       "_df_range": [
        0,
        100
       ],
       "_editable_rows": {},
       "_index_col_name": "qgrid_unfiltered_index",
       "_interval_columns": [],
       "_model_module_version": "^1.1.3",
       "_multi_index": false,
       "_row_count": 9,
       "_row_styles": {},
       "_sort_ascending": true,
       "_sort_field": null,
       "_view_module_version": "^1.1.3",
       "_viewport_range": [
        0,
        100
       ],
       "grid_options": {
        "autoEdit": false,
        "boldIndex": true,
        "defaultColumnWidth": 150,
        "editable": false,
        "enableColumnReorder": false,
        "enableTextSelectionOnCells": true,
        "explicitInitialization": true,
        "filterable": false,
        "forceFitColumns": true,
        "fullWidthRows": true,
        "highlightSelectedCell": false,
        "highlightSelectedRow": true,
        "maxVisibleRows": 15,
        "minVisibleRows": 2,
        "rowHeight": 28,
        "sortable": false,
        "syncColumnCellResize": true
       },
       "id": "5d0924f1-9a18-4324-b071-255e4f7f222a",
       "layout": "IPY_MODEL_1c033beb0bd942178e7658bd3f00edcb",
       "precision": 5,
       "show_toolbar": false
      }
     },
     "01898807ed664fb9b9eccb93a7ca86b1": {
      "model_module": "@jupyter-widgets/controls",
      "model_module_version": "1.5.0",
      "model_name": "BoxModel",
      "state": {
       "children": [
        "IPY_MODEL_3ac4897840a24c25aa5b54e9493b36d7",
        "IPY_MODEL_7c60791b3ce24248a7119ae5b55b5122",
        "IPY_MODEL_b5ddd3f5e342477cb746c5ba3d73b595",
        "IPY_MODEL_b4df9ecd966c4c078dc2b2424b06b0ce"
       ],
       "layout": "IPY_MODEL_ab52e980a07e406eaacdf0d5b461167e"
      }
     },
     "0215b99d9e8745f7b054f811c621a94a": {
      "model_module": "@jupyter-widgets/controls",
      "model_module_version": "1.5.0",
      "model_name": "HTMLModel",
      "state": {
       "layout": "IPY_MODEL_67ef534128de4abdb7ee62e677864e0c",
       "style": "IPY_MODEL_7327db43dfb5440da3f54511df36e864",
       "value": "<b>Frac. Ab.</b> denotes <i>Fractional Abundances</i> (i.e all values sum to 1)<br><b>W</b> denotes <i>Dilution Factor</i> and <b>Rad. Temp.</b> is <i>Radiative Temperature (in K)</i>"
      }
     },
     "02a6a60069d44764b7c61f6dd0a6add0": {
      "model_module": "@jupyter-widgets/controls",
      "model_module_version": "1.5.0",
      "model_name": "VBoxModel",
      "state": {
       "children": [
        "IPY_MODEL_0010b929d769405594d196644b7b2cff",
        "IPY_MODEL_ede917a8d9c448bab050d13fc4adcee6"
       ],
       "layout": "IPY_MODEL_6b48820949174fa0a4253dec6ba15255"
      }
     },
     "02ae461227b64d7b816c550e609a35f7": {
      "model_module": "@jupyter-widgets/base",
      "model_module_version": "1.2.0",
      "model_name": "LayoutModel",
      "state": {}
     },
     "06cbe4dd600a4d488ecdfab457b52f85": {
      "model_module": "@jupyter-widgets/base",
      "model_module_version": "1.2.0",
      "model_name": "LayoutModel",
      "state": {
       "width": "24%"
      }
     },
     "0a410ca6489a41ab95824644a802419a": {
      "model_module": "@jupyter-widgets/controls",
      "model_module_version": "1.5.0",
      "model_name": "VBoxModel",
      "state": {
       "children": [
        "IPY_MODEL_8e47fec3e41541a38144f113e0e18768",
        "IPY_MODEL_fcf442cd25294d8196e7016d2480b3cd"
       ],
       "layout": "IPY_MODEL_42d8b086762e41eaac4d2db2edd97b5f"
      }
     },
     "0a48492ab7a64c8ca95cc70ed74fca96": {
      "model_module": "@jupyter-widgets/controls",
      "model_module_version": "1.5.0",
      "model_name": "BoxModel",
      "state": {
       "children": [
        "IPY_MODEL_20c7158faa294082884eda685fe282de",
        "IPY_MODEL_36dc698fce484287a0cebcb15720c9fa",
        "IPY_MODEL_7232084051e24b9daeff91e9aca7486d",
        "IPY_MODEL_ff6845f748b74e87985fa7b313ea8c3b"
       ],
       "layout": "IPY_MODEL_5b19b6b7023f43629baaf68a9d76c715"
      }
     },
     "0a6c32649fda4e59a110dcfd4d3028c8": {
      "model_module": "qgrid",
      "model_module_version": "^1.1.3",
      "model_name": "QgridModel",
      "state": {
       "_columns": {
        "Element": {
         "cssClass": "string",
         "defaultSortAsc": true,
         "editable": true,
         "field": "Element",
         "id": "Element",
         "minWidth": null,
         "name": "Element",
         "position": 2,
         "resizable": true,
         "sortable": true,
         "toolTip": "",
         "type": "string",
         "width": 30
        },
        "Frac. Ab. (Shell 2)": {
         "cssClass": "string",
         "defaultSortAsc": true,
         "editable": true,
         "field": "Frac. Ab. (Shell 2)",
         "id": "Frac. Ab. (Shell 2)",
         "minWidth": null,
         "name": "Frac. Ab. (Shell 2)",
         "position": 3,
         "resizable": true,
         "sortable": true,
         "toolTip": "",
         "type": "string",
         "width": 55
        },
        "Z": {
         "cssClass": "integer first-idx-col idx-col",
         "defaultSortAsc": true,
         "editable": true,
         "field": "Z",
         "first_index": true,
         "id": "Z",
         "index_display_text": "Z",
         "is_index": true,
         "level": 0,
         "minWidth": null,
         "name": "Z",
         "position": 0,
         "resizable": true,
         "sortable": true,
         "toolTip": "",
         "type": "integer",
         "width": 15
        },
        "qgrid_unfiltered_index": {
         "cssClass": "integer",
         "defaultSortAsc": true,
         "editable": true,
         "field": "qgrid_unfiltered_index",
         "id": "qgrid_unfiltered_index",
         "maxWidth": null,
         "minWidth": null,
         "name": "qgrid_unfiltered_index",
         "position": 1,
         "resizable": true,
         "sortable": true,
         "toolTip": "",
         "type": "integer",
         "width": null
        }
       },
       "_df_json": "{\"schema\": {\"fields\":[{\"name\":\"Z\",\"type\":\"integer\"},{\"name\":\"qgrid_unfiltered_index\",\"type\":\"integer\"},{\"name\":\"Element\",\"type\":\"string\"},{\"name\":\"Frac. Ab. (Shell 2)\",\"type\":\"string\"}],\"primaryKey\":[\"Z\"],\"pandas_version\":\"0.20.0\"}, \"data\": [{\"Z\":8,\"qgrid_unfiltered_index\":0,\"Element\":\"O\",\"Frac. Ab. (Shell 2)\":\"1.900000e-01\"},{\"Z\":12,\"qgrid_unfiltered_index\":1,\"Element\":\"Mg\",\"Frac. Ab. (Shell 2)\":\"3.000000e-02\"},{\"Z\":14,\"qgrid_unfiltered_index\":2,\"Element\":\"Si\",\"Frac. Ab. (Shell 2)\":\"5.200000e-01\"},{\"Z\":16,\"qgrid_unfiltered_index\":3,\"Element\":\"S\",\"Frac. Ab. (Shell 2)\":\"1.900000e-01\"},{\"Z\":18,\"qgrid_unfiltered_index\":4,\"Element\":\"Ar\",\"Frac. Ab. (Shell 2)\":\"4.000000e-02\"},{\"Z\":20,\"qgrid_unfiltered_index\":5,\"Element\":\"Ca\",\"Frac. Ab. (Shell 2)\":\"3.000000e-02\"}]}",
       "_df_range": [
        0,
        100
       ],
       "_editable_rows": {},
       "_index_col_name": "qgrid_unfiltered_index",
       "_interval_columns": [],
       "_model_module_version": "^1.1.3",
       "_multi_index": false,
       "_row_count": 6,
       "_row_styles": {},
       "_sort_ascending": true,
       "_sort_field": null,
       "_view_module_version": "^1.1.3",
       "_viewport_range": [
        0,
        100
       ],
       "grid_options": {
        "autoEdit": false,
        "boldIndex": true,
        "defaultColumnWidth": 150,
        "editable": false,
        "enableColumnReorder": false,
        "enableTextSelectionOnCells": true,
        "explicitInitialization": true,
        "filterable": false,
        "forceFitColumns": true,
        "fullWidthRows": true,
        "highlightSelectedCell": false,
        "highlightSelectedRow": true,
        "maxVisibleRows": 15,
        "minVisibleRows": 2,
        "rowHeight": 28,
        "sortable": false,
        "syncColumnCellResize": true
       },
       "id": "d0b76fba-bcaf-410b-ad0c-91c02a661fc0",
       "layout": "IPY_MODEL_13cd8937e491403282d523d6c32c188d",
       "precision": 5,
       "show_toolbar": false
      }
     },
     "0b1b7673054e48ee897ef8f3b45909ed": {
      "model_module": "@jupyter-widgets/controls",
      "model_module_version": "1.5.0",
      "model_name": "VBoxModel",
      "state": {
       "children": [
        "IPY_MODEL_f97985392c5047648cf7cf621309d881",
        "IPY_MODEL_a90de708e04741c195acf2bad1554d06"
       ],
       "layout": "IPY_MODEL_4a1f696e1bf441739363712146094b34"
      }
     },
     "0e7f25d58434435f9cca40d9e78eac36": {
      "model_module": "qgrid",
      "model_module_version": "^1.1.3",
      "model_name": "QgridModel",
      "state": {
       "_columns": {
        "Frac. Ab. (Z=8)": {
         "cssClass": "string",
         "defaultSortAsc": true,
         "editable": true,
         "field": "Frac. Ab. (Z=8)",
         "id": "Frac. Ab. (Z=8)",
         "minWidth": null,
         "name": "Frac. Ab. (Z=8)",
         "position": 3,
         "resizable": true,
         "sortable": true,
         "toolTip": "",
         "type": "string",
         "width": 50
        },
        "Ion": {
         "cssClass": "integer first-idx-col idx-col first-idx-col idx-col first-idx-col idx-col first-idx-col idx-col",
         "defaultSortAsc": true,
         "editable": true,
         "field": "Ion",
         "first_index": true,
         "id": "Ion",
         "index_display_text": "Ion",
         "is_index": true,
         "level": 0,
         "minWidth": null,
         "name": "Ion",
         "position": 0,
         "resizable": true,
         "sortable": true,
         "toolTip": "",
         "type": "integer",
         "width": 20
        },
        "Species": {
         "cssClass": "string",
         "defaultSortAsc": true,
         "editable": true,
         "field": "Species",
         "id": "Species",
         "minWidth": null,
         "name": "Species",
         "position": 2,
         "resizable": true,
         "sortable": true,
         "toolTip": "",
         "type": "string",
         "width": 30
        },
        "qgrid_unfiltered_index": {
         "cssClass": "integer",
         "defaultSortAsc": true,
         "editable": true,
         "field": "qgrid_unfiltered_index",
         "id": "qgrid_unfiltered_index",
         "maxWidth": null,
         "minWidth": null,
         "name": "qgrid_unfiltered_index",
         "position": 1,
         "resizable": true,
         "sortable": true,
         "toolTip": "",
         "type": "integer",
         "width": null
        }
       },
       "_df_json": "{\"schema\": {\"fields\":[{\"name\":\"Ion\",\"type\":\"integer\"},{\"name\":\"qgrid_unfiltered_index\",\"type\":\"integer\"},{\"name\":\"Species\",\"type\":\"string\"},{\"name\":\"Frac. Ab. (Z=8)\",\"type\":\"string\"}],\"primaryKey\":[\"Ion\"],\"pandas_version\":\"0.20.0\"}, \"data\": [{\"Ion\":0,\"qgrid_unfiltered_index\":0,\"Species\":\"O I\",\"Frac. Ab. (Z=8)\":\"2.455862e-06\"},{\"Ion\":1,\"qgrid_unfiltered_index\":1,\"Species\":\"O II\",\"Frac. Ab. (Z=8)\":\"9.997973e-01\"},{\"Ion\":2,\"qgrid_unfiltered_index\":2,\"Species\":\"O III\",\"Frac. Ab. (Z=8)\":\"2.002405e-04\"},{\"Ion\":3,\"qgrid_unfiltered_index\":3,\"Species\":\"O IV\",\"Frac. Ab. (Z=8)\":\"7.763943e-18\"},{\"Ion\":4,\"qgrid_unfiltered_index\":4,\"Species\":\"O V\",\"Frac. Ab. (Z=8)\":\"0.000000e+00\"},{\"Ion\":5,\"qgrid_unfiltered_index\":5,\"Species\":\"O VI\",\"Frac. Ab. (Z=8)\":\"0.000000e+00\"},{\"Ion\":6,\"qgrid_unfiltered_index\":6,\"Species\":\"O VII\",\"Frac. Ab. (Z=8)\":\"0.000000e+00\"},{\"Ion\":7,\"qgrid_unfiltered_index\":7,\"Species\":\"O VIII\",\"Frac. Ab. (Z=8)\":\"0.000000e+00\"},{\"Ion\":8,\"qgrid_unfiltered_index\":8,\"Species\":\"O IX\",\"Frac. Ab. (Z=8)\":\"0.000000e+00\"}]}",
       "_df_range": [
        0,
        100
       ],
       "_editable_rows": {},
       "_index_col_name": "qgrid_unfiltered_index",
       "_interval_columns": [],
       "_model_module_version": "^1.1.3",
       "_multi_index": false,
       "_row_count": 9,
       "_row_styles": {},
       "_sort_ascending": true,
       "_sort_field": null,
       "_view_module_version": "^1.1.3",
       "_viewport_range": [
        0,
        100
       ],
       "grid_options": {
        "autoEdit": false,
        "boldIndex": true,
        "defaultColumnWidth": 150,
        "editable": false,
        "enableColumnReorder": false,
        "enableTextSelectionOnCells": true,
        "explicitInitialization": true,
        "filterable": false,
        "forceFitColumns": true,
        "fullWidthRows": true,
        "highlightSelectedCell": false,
        "highlightSelectedRow": true,
        "maxVisibleRows": 15,
        "minVisibleRows": 2,
        "rowHeight": 28,
        "sortable": false,
        "syncColumnCellResize": true
       },
       "id": "8ea84067-8b46-426d-9ca5-c498ffd068af",
       "layout": "IPY_MODEL_f789d67eba5d483fbef8accb1802e28d",
       "precision": 5,
       "show_toolbar": false
      }
     },
     "10341ab8e0654ab28bfac1283df11067": {
      "model_module": "@jupyter-widgets/base",
      "model_module_version": "1.2.0",
      "model_name": "LayoutModel",
      "state": {}
     },
     "13cd8937e491403282d523d6c32c188d": {
      "model_module": "@jupyter-widgets/base",
      "model_module_version": "1.2.0",
      "model_name": "LayoutModel",
      "state": {
       "width": "24%"
      }
     },
     "1565dc151b5848cc83ea569b6c1b8eaa": {
      "model_module": "@jupyter-widgets/base",
      "model_module_version": "1.2.0",
      "model_name": "LayoutModel",
      "state": {}
     },
     "17133a96b4804976b497b099de5fb787": {
      "model_module": "@jupyter-widgets/base",
      "model_module_version": "1.2.0",
      "model_name": "LayoutModel",
      "state": {
       "width": "30%"
      }
     },
     "19a55198bca64884a25b805a3ea4f2f4": {
      "model_module": "@jupyter-widgets/base",
      "model_module_version": "1.2.0",
      "model_name": "LayoutModel",
      "state": {}
     },
     "19c84113ceca48b6b17d225c7331a60f": {
      "model_module": "@jupyter-widgets/controls",
      "model_module_version": "1.5.0",
      "model_name": "BoxModel",
      "state": {
       "children": [
        "IPY_MODEL_510273d117024eb1bbfa0e32588ffc2e",
        "IPY_MODEL_1e315f683bc44b978035803fc0d7bf4e",
        "IPY_MODEL_2b21b24279e441b4bc624aab008891a2",
        "IPY_MODEL_46331f57bd37487e8e57dfb0e10ee2f8"
       ],
       "layout": "IPY_MODEL_3798017ccad6484a9ea62100b1d04009"
      }
     },
     "1a8cceae4e9a49319e4a06f4bcda5008": {
      "model_module": "@jupyter-widgets/controls",
      "model_module_version": "1.5.0",
      "model_name": "DescriptionStyleModel",
      "state": {
       "description_width": ""
      }
     },
     "1ae37e14316149c18322baeb46f65ab8": {
      "model_module": "qgrid",
      "model_module_version": "^1.1.3",
      "model_name": "QgridModel",
      "state": {
       "_columns": {
        "Rad. Temp.": {
         "cssClass": "string",
         "defaultSortAsc": true,
         "editable": true,
         "field": "Rad. Temp.",
         "id": "Rad. Temp.",
         "minWidth": null,
         "name": "Rad. Temp.",
         "position": 2,
         "resizable": true,
         "sortable": true,
         "toolTip": "",
         "type": "string",
         "width": 35
        },
        "Shell No.": {
         "cssClass": "integer first-idx-col idx-col first-idx-col idx-col",
         "defaultSortAsc": true,
         "editable": true,
         "field": "Shell No.",
         "first_index": true,
         "id": "Shell No.",
         "index_display_text": "Shell No.",
         "is_index": true,
         "level": 0,
         "minWidth": null,
         "name": "Shell No.",
         "position": 0,
         "resizable": true,
         "sortable": true,
         "toolTip": "",
         "type": "integer",
         "width": 30
        },
        "W": {
         "cssClass": "string",
         "defaultSortAsc": true,
         "editable": true,
         "field": "W",
         "id": "W",
         "minWidth": null,
         "name": "W",
         "position": 3,
         "resizable": true,
         "sortable": true,
         "toolTip": "",
         "type": "string",
         "width": 35
        },
        "qgrid_unfiltered_index": {
         "cssClass": "integer",
         "defaultSortAsc": true,
         "editable": true,
         "field": "qgrid_unfiltered_index",
         "id": "qgrid_unfiltered_index",
         "maxWidth": null,
         "minWidth": null,
         "name": "qgrid_unfiltered_index",
         "position": 1,
         "resizable": true,
         "sortable": true,
         "toolTip": "",
         "type": "integer",
         "width": null
        }
       },
       "_df_json": "{\"schema\": {\"fields\":[{\"name\":\"Shell No.\",\"type\":\"integer\"},{\"name\":\"qgrid_unfiltered_index\",\"type\":\"integer\"},{\"name\":\"Rad. Temp.\",\"type\":\"string\"},{\"name\":\"W\",\"type\":\"string\"}],\"primaryKey\":[\"Shell No.\"],\"pandas_version\":\"0.20.0\"}, \"data\": [{\"Shell No.\":1,\"qgrid_unfiltered_index\":0,\"Rad. Temp.\":\"1.086251e+04\",\"W\":\"4.444947e-01\"},{\"Shell No.\":2,\"qgrid_unfiltered_index\":1,\"Rad. Temp.\":\"1.103536e+04\",\"W\":\"3.308350e-01\"},{\"Shell No.\":3,\"qgrid_unfiltered_index\":2,\"Rad. Temp.\":\"1.119691e+04\",\"W\":\"2.604883e-01\"},{\"Shell No.\":4,\"qgrid_unfiltered_index\":3,\"Rad. Temp.\":\"1.125229e+04\",\"W\":\"2.174908e-01\"},{\"Shell No.\":5,\"qgrid_unfiltered_index\":4,\"Rad. Temp.\":\"1.121542e+04\",\"W\":\"1.879279e-01\"},{\"Shell No.\":6,\"qgrid_unfiltered_index\":5,\"Rad. Temp.\":\"1.119446e+04\",\"W\":\"1.628420e-01\"},{\"Shell No.\":7,\"qgrid_unfiltered_index\":6,\"Rad. Temp.\":\"1.124311e+04\",\"W\":\"1.419034e-01\"},{\"Shell No.\":8,\"qgrid_unfiltered_index\":7,\"Rad. Temp.\":\"1.124690e+04\",\"W\":\"1.264369e-01\"},{\"Shell No.\":9,\"qgrid_unfiltered_index\":8,\"Rad. Temp.\":\"1.116176e+04\",\"W\":\"1.172286e-01\"},{\"Shell No.\":10,\"qgrid_unfiltered_index\":9,\"Rad. Temp.\":\"1.112850e+04\",\"W\":\"1.073689e-01\"},{\"Shell No.\":11,\"qgrid_unfiltered_index\":10,\"Rad. Temp.\":\"1.106562e+04\",\"W\":\"9.937228e-02\"},{\"Shell No.\":12,\"qgrid_unfiltered_index\":11,\"Rad. Temp.\":\"1.093918e+04\",\"W\":\"9.480017e-02\"},{\"Shell No.\":13,\"qgrid_unfiltered_index\":12,\"Rad. Temp.\":\"1.088287e+04\",\"W\":\"8.920397e-02\"},{\"Shell No.\":14,\"qgrid_unfiltered_index\":13,\"Rad. Temp.\":\"1.077571e+04\",\"W\":\"8.504642e-02\"},{\"Shell No.\":15,\"qgrid_unfiltered_index\":14,\"Rad. Temp.\":\"1.065337e+04\",\"W\":\"8.179275e-02\"},{\"Shell No.\":16,\"qgrid_unfiltered_index\":15,\"Rad. Temp.\":\"1.059985e+04\",\"W\":\"7.768958e-02\"},{\"Shell No.\":17,\"qgrid_unfiltered_index\":16,\"Rad. Temp.\":\"1.050428e+04\",\"W\":\"7.459787e-02\"},{\"Shell No.\":18,\"qgrid_unfiltered_index\":17,\"Rad. Temp.\":\"1.050167e+04\",\"W\":\"6.987617e-02\"},{\"Shell No.\":19,\"qgrid_unfiltered_index\":18,\"Rad. Temp.\":\"1.037101e+04\",\"W\":\"6.830342e-02\"},{\"Shell No.\":20,\"qgrid_unfiltered_index\":19,\"Rad. Temp.\":\"1.023320e+04\",\"W\":\"6.706797e-02\"}]}",
       "_df_range": [
        0,
        100
       ],
       "_editable_rows": {},
       "_index_col_name": "qgrid_unfiltered_index",
       "_interval_columns": [],
       "_model_module_version": "^1.1.3",
       "_multi_index": false,
       "_row_count": 20,
       "_row_styles": {},
       "_sort_ascending": true,
       "_sort_field": null,
       "_view_module_version": "^1.1.3",
       "_viewport_range": [
        0,
        100
       ],
       "grid_options": {
        "autoEdit": false,
        "boldIndex": true,
        "defaultColumnWidth": 150,
        "editable": false,
        "enableColumnReorder": false,
        "enableTextSelectionOnCells": true,
        "explicitInitialization": true,
        "filterable": false,
        "forceFitColumns": true,
        "fullWidthRows": true,
        "highlightSelectedCell": false,
        "highlightSelectedRow": true,
        "maxVisibleRows": 15,
        "minVisibleRows": 2,
        "rowHeight": 28,
        "sortable": false,
        "syncColumnCellResize": true
       },
       "id": "92ed5be5-883f-4a44-abc4-9423042cd0da",
       "layout": "IPY_MODEL_900e93ef758d4654866d4a6638894853",
       "precision": 5,
       "show_toolbar": false
      }
     },
     "1c033beb0bd942178e7658bd3f00edcb": {
      "model_module": "@jupyter-widgets/base",
      "model_module_version": "1.2.0",
      "model_name": "LayoutModel",
      "state": {
       "width": "24%"
      }
     },
     "1e315f683bc44b978035803fc0d7bf4e": {
      "model_module": "qgrid",
      "model_module_version": "^1.1.3",
      "model_name": "QgridModel",
      "state": {
       "_columns": {
        "Element": {
         "cssClass": "string",
         "defaultSortAsc": true,
         "editable": true,
         "field": "Element",
         "id": "Element",
         "minWidth": null,
         "name": "Element",
         "position": 2,
         "resizable": true,
         "sortable": true,
         "toolTip": "",
         "type": "string",
         "width": 30
        },
        "Frac. Ab. (Shell 1)": {
         "cssClass": "string",
         "defaultSortAsc": true,
         "editable": true,
         "field": "Frac. Ab. (Shell 1)",
         "id": "Frac. Ab. (Shell 1)",
         "minWidth": null,
         "name": "Frac. Ab. (Shell 1)",
         "position": 3,
         "resizable": true,
         "sortable": true,
         "toolTip": "",
         "type": "string",
         "width": 55
        },
        "Z": {
         "cssClass": "integer first-idx-col idx-col",
         "defaultSortAsc": true,
         "editable": true,
         "field": "Z",
         "first_index": true,
         "id": "Z",
         "index_display_text": "Z",
         "is_index": true,
         "level": 0,
         "minWidth": null,
         "name": "Z",
         "position": 0,
         "resizable": true,
         "sortable": true,
         "toolTip": "",
         "type": "integer",
         "width": 15
        },
        "qgrid_unfiltered_index": {
         "cssClass": "integer",
         "defaultSortAsc": true,
         "editable": true,
         "field": "qgrid_unfiltered_index",
         "id": "qgrid_unfiltered_index",
         "maxWidth": null,
         "minWidth": null,
         "name": "qgrid_unfiltered_index",
         "position": 1,
         "resizable": true,
         "sortable": true,
         "toolTip": "",
         "type": "integer",
         "width": null
        }
       },
       "_df_json": "{\"schema\": {\"fields\":[{\"name\":\"Z\",\"type\":\"integer\"},{\"name\":\"qgrid_unfiltered_index\",\"type\":\"integer\"},{\"name\":\"Element\",\"type\":\"string\"},{\"name\":\"Frac. Ab. (Shell 1)\",\"type\":\"string\"}],\"primaryKey\":[\"Z\"],\"pandas_version\":\"0.20.0\"}, \"data\": [{\"Z\":8,\"qgrid_unfiltered_index\":0,\"Element\":\"O\",\"Frac. Ab. (Shell 1)\":\"1.900000e-01\"},{\"Z\":12,\"qgrid_unfiltered_index\":1,\"Element\":\"Mg\",\"Frac. Ab. (Shell 1)\":\"3.000000e-02\"},{\"Z\":14,\"qgrid_unfiltered_index\":2,\"Element\":\"Si\",\"Frac. Ab. (Shell 1)\":\"5.200000e-01\"},{\"Z\":16,\"qgrid_unfiltered_index\":3,\"Element\":\"S\",\"Frac. Ab. (Shell 1)\":\"1.900000e-01\"},{\"Z\":18,\"qgrid_unfiltered_index\":4,\"Element\":\"Ar\",\"Frac. Ab. (Shell 1)\":\"4.000000e-02\"},{\"Z\":20,\"qgrid_unfiltered_index\":5,\"Element\":\"Ca\",\"Frac. Ab. (Shell 1)\":\"3.000000e-02\"}]}",
       "_df_range": [
        0,
        100
       ],
       "_editable_rows": {},
       "_index_col_name": "qgrid_unfiltered_index",
       "_interval_columns": [],
       "_model_module_version": "^1.1.3",
       "_multi_index": false,
       "_row_count": 6,
       "_row_styles": {},
       "_sort_ascending": true,
       "_sort_field": null,
       "_view_module_version": "^1.1.3",
       "_viewport_range": [
        0,
        100
       ],
       "grid_options": {
        "autoEdit": false,
        "boldIndex": true,
        "defaultColumnWidth": 150,
        "editable": false,
        "enableColumnReorder": false,
        "enableTextSelectionOnCells": true,
        "explicitInitialization": true,
        "filterable": false,
        "forceFitColumns": true,
        "fullWidthRows": true,
        "highlightSelectedCell": false,
        "highlightSelectedRow": true,
        "maxVisibleRows": 15,
        "minVisibleRows": 2,
        "rowHeight": 28,
        "sortable": false,
        "syncColumnCellResize": true
       },
       "id": "5abceaa2-accb-4f3c-b365-c2d3f5b4a7f7",
       "layout": "IPY_MODEL_4a9a06b791244660972c9802b4d6b818",
       "precision": 5,
       "show_toolbar": false
      }
     },
     "1e91335a49604ba7826099abf7fa8fd1": {
      "model_module": "@jupyter-widgets/controls",
      "model_module_version": "1.5.0",
      "model_name": "VBoxModel",
      "state": {
       "children": [
        "IPY_MODEL_89901307de6e44a0bb04ccc9b1fbb122",
        "IPY_MODEL_f4fe11de8d3a428182028b81f84fec12"
       ],
       "layout": "IPY_MODEL_fbb77999180b49ff82063be5eb917411"
      }
     },
     "20c7158faa294082884eda685fe282de": {
      "model_module": "qgrid",
      "model_module_version": "^1.1.3",
      "model_name": "QgridModel",
      "state": {
       "_columns": {
        "Rad. Temp.": {
         "cssClass": "string",
         "defaultSortAsc": true,
         "editable": true,
         "field": "Rad. Temp.",
         "id": "Rad. Temp.",
         "minWidth": null,
         "name": "Rad. Temp.",
         "position": 2,
         "resizable": true,
         "sortable": true,
         "toolTip": "",
         "type": "string",
         "width": 35
        },
        "Shell No.": {
         "cssClass": "integer first-idx-col idx-col",
         "defaultSortAsc": true,
         "editable": true,
         "field": "Shell No.",
         "first_index": true,
         "id": "Shell No.",
         "index_display_text": "Shell No.",
         "is_index": true,
         "level": 0,
         "minWidth": null,
         "name": "Shell No.",
         "position": 0,
         "resizable": true,
         "sortable": true,
         "toolTip": "",
         "type": "integer",
         "width": 30
        },
        "W": {
         "cssClass": "string",
         "defaultSortAsc": true,
         "editable": true,
         "field": "W",
         "id": "W",
         "minWidth": null,
         "name": "W",
         "position": 3,
         "resizable": true,
         "sortable": true,
         "toolTip": "",
         "type": "string",
         "width": 35
        },
        "qgrid_unfiltered_index": {
         "cssClass": "integer",
         "defaultSortAsc": true,
         "editable": true,
         "field": "qgrid_unfiltered_index",
         "id": "qgrid_unfiltered_index",
         "maxWidth": null,
         "minWidth": null,
         "name": "qgrid_unfiltered_index",
         "position": 1,
         "resizable": true,
         "sortable": true,
         "toolTip": "",
         "type": "integer",
         "width": null
        }
       },
       "_df_json": "{\"schema\": {\"fields\":[{\"name\":\"Shell No.\",\"type\":\"integer\"},{\"name\":\"qgrid_unfiltered_index\",\"type\":\"integer\"},{\"name\":\"Rad. Temp.\",\"type\":\"string\"},{\"name\":\"W\",\"type\":\"string\"}],\"primaryKey\":[\"Shell No.\"],\"pandas_version\":\"0.20.0\"}, \"data\": [{\"Shell No.\":1,\"qgrid_unfiltered_index\":0,\"Rad. Temp.\":\"1.086251e+04\",\"W\":\"4.444947e-01\"},{\"Shell No.\":2,\"qgrid_unfiltered_index\":1,\"Rad. Temp.\":\"1.103536e+04\",\"W\":\"3.308350e-01\"},{\"Shell No.\":3,\"qgrid_unfiltered_index\":2,\"Rad. Temp.\":\"1.119691e+04\",\"W\":\"2.604883e-01\"},{\"Shell No.\":4,\"qgrid_unfiltered_index\":3,\"Rad. Temp.\":\"1.125229e+04\",\"W\":\"2.174908e-01\"},{\"Shell No.\":5,\"qgrid_unfiltered_index\":4,\"Rad. Temp.\":\"1.121542e+04\",\"W\":\"1.879279e-01\"},{\"Shell No.\":6,\"qgrid_unfiltered_index\":5,\"Rad. Temp.\":\"1.119446e+04\",\"W\":\"1.628420e-01\"},{\"Shell No.\":7,\"qgrid_unfiltered_index\":6,\"Rad. Temp.\":\"1.124311e+04\",\"W\":\"1.419034e-01\"},{\"Shell No.\":8,\"qgrid_unfiltered_index\":7,\"Rad. Temp.\":\"1.124690e+04\",\"W\":\"1.264369e-01\"},{\"Shell No.\":9,\"qgrid_unfiltered_index\":8,\"Rad. Temp.\":\"1.116176e+04\",\"W\":\"1.172286e-01\"},{\"Shell No.\":10,\"qgrid_unfiltered_index\":9,\"Rad. Temp.\":\"1.112850e+04\",\"W\":\"1.073689e-01\"},{\"Shell No.\":11,\"qgrid_unfiltered_index\":10,\"Rad. Temp.\":\"1.106562e+04\",\"W\":\"9.937228e-02\"},{\"Shell No.\":12,\"qgrid_unfiltered_index\":11,\"Rad. Temp.\":\"1.093918e+04\",\"W\":\"9.480017e-02\"},{\"Shell No.\":13,\"qgrid_unfiltered_index\":12,\"Rad. Temp.\":\"1.088287e+04\",\"W\":\"8.920397e-02\"},{\"Shell No.\":14,\"qgrid_unfiltered_index\":13,\"Rad. Temp.\":\"1.077571e+04\",\"W\":\"8.504642e-02\"},{\"Shell No.\":15,\"qgrid_unfiltered_index\":14,\"Rad. Temp.\":\"1.065337e+04\",\"W\":\"8.179275e-02\"},{\"Shell No.\":16,\"qgrid_unfiltered_index\":15,\"Rad. Temp.\":\"1.059985e+04\",\"W\":\"7.768958e-02\"},{\"Shell No.\":17,\"qgrid_unfiltered_index\":16,\"Rad. Temp.\":\"1.050428e+04\",\"W\":\"7.459787e-02\"},{\"Shell No.\":18,\"qgrid_unfiltered_index\":17,\"Rad. Temp.\":\"1.050167e+04\",\"W\":\"6.987617e-02\"},{\"Shell No.\":19,\"qgrid_unfiltered_index\":18,\"Rad. Temp.\":\"1.037101e+04\",\"W\":\"6.830342e-02\"},{\"Shell No.\":20,\"qgrid_unfiltered_index\":19,\"Rad. Temp.\":\"1.023320e+04\",\"W\":\"6.706797e-02\"}]}",
       "_df_range": [
        0,
        100
       ],
       "_editable_rows": {},
       "_index_col_name": "qgrid_unfiltered_index",
       "_interval_columns": [],
       "_model_module_version": "^1.1.3",
       "_multi_index": false,
       "_row_count": 20,
       "_row_styles": {},
       "_sort_ascending": true,
       "_sort_field": null,
       "_view_module_version": "^1.1.3",
       "_viewport_range": [
        0,
        100
       ],
       "grid_options": {
        "autoEdit": false,
        "boldIndex": true,
        "defaultColumnWidth": 150,
        "editable": false,
        "enableColumnReorder": false,
        "enableTextSelectionOnCells": true,
        "explicitInitialization": true,
        "filterable": false,
        "forceFitColumns": true,
        "fullWidthRows": true,
        "highlightSelectedCell": false,
        "highlightSelectedRow": true,
        "maxVisibleRows": 15,
        "minVisibleRows": 2,
        "rowHeight": 28,
        "sortable": false,
        "syncColumnCellResize": true
       },
       "id": "2748f5a1-c5c6-459b-85ef-0ccf61b0085f",
       "layout": "IPY_MODEL_426c9d7f74bb4ff38f5c3c351c9d017a",
       "precision": 5,
       "show_toolbar": false
      }
     },
     "219b8df0a2474550a1e63b309d0e8597": {
      "model_module": "qgrid",
      "model_module_version": "^1.1.3",
      "model_name": "QgridModel",
      "state": {
       "_columns": {
        "Frac. Ab. (Ion=0)": {
         "cssClass": "string",
         "defaultSortAsc": true,
         "editable": true,
         "field": "Frac. Ab. (Ion=0)",
         "id": "Frac. Ab. (Ion=0)",
         "minWidth": null,
         "name": "Frac. Ab. (Ion=0)",
         "position": 2,
         "resizable": true,
         "sortable": true,
         "toolTip": "",
         "type": "string",
         "width": 70
        },
        "Level": {
         "cssClass": "integer first-idx-col idx-col first-idx-col idx-col first-idx-col idx-col first-idx-col idx-col",
         "defaultSortAsc": true,
         "editable": true,
         "field": "Level",
         "first_index": true,
         "id": "Level",
         "index_display_text": "Level",
         "is_index": true,
         "level": 0,
         "minWidth": null,
         "name": "Level",
         "position": 0,
         "resizable": true,
         "sortable": true,
         "toolTip": "",
         "type": "integer",
         "width": 30
        },
        "qgrid_unfiltered_index": {
         "cssClass": "integer",
         "defaultSortAsc": true,
         "editable": true,
         "field": "qgrid_unfiltered_index",
         "id": "qgrid_unfiltered_index",
         "maxWidth": null,
         "minWidth": null,
         "name": "qgrid_unfiltered_index",
         "position": 1,
         "resizable": true,
         "sortable": true,
         "toolTip": "",
         "type": "integer",
         "width": null
        }
       },
       "_df_json": "{\"schema\": {\"fields\":[{\"name\":\"Level\",\"type\":\"integer\"},{\"name\":\"qgrid_unfiltered_index\",\"type\":\"integer\"},{\"name\":\"Frac. Ab. (Ion=0)\",\"type\":\"string\"}],\"primaryKey\":[\"Level\"],\"pandas_version\":\"0.20.0\"}, \"data\": [{\"Level\":0,\"qgrid_unfiltered_index\":0,\"Frac. Ab. (Ion=0)\":\"5.245451e-01\"},{\"Level\":1,\"qgrid_unfiltered_index\":1,\"Frac. Ab. (Ion=0)\":\"3.081982e-01\"},{\"Level\":2,\"qgrid_unfiltered_index\":2,\"Frac. Ab. (Ion=0)\":\"1.018020e-01\"},{\"Level\":3,\"qgrid_unfiltered_index\":3,\"Frac. Ab. (Ion=0)\":\"6.412135e-02\"},{\"Level\":4,\"qgrid_unfiltered_index\":4,\"Frac. Ab. (Ion=0)\":\"1.193807e-03\"},{\"Level\":5,\"qgrid_unfiltered_index\":5,\"Frac. Ab. (Ion=0)\":\"2.994701e-05\"},{\"Level\":6,\"qgrid_unfiltered_index\":6,\"Frac. Ab. (Ion=0)\":\"1.203353e-05\"},{\"Level\":7,\"qgrid_unfiltered_index\":7,\"Frac. Ab. (Ion=0)\":\"3.272569e-06\"},{\"Level\":8,\"qgrid_unfiltered_index\":8,\"Frac. Ab. (Ion=0)\":\"5.452822e-06\"},{\"Level\":9,\"qgrid_unfiltered_index\":9,\"Frac. Ab. (Ion=0)\":\"7.630235e-06\"},{\"Level\":10,\"qgrid_unfiltered_index\":10,\"Frac. Ab. (Ion=0)\":\"2.509362e-06\"},{\"Level\":11,\"qgrid_unfiltered_index\":11,\"Frac. Ab. (Ion=0)\":\"4.181961e-06\"},{\"Level\":12,\"qgrid_unfiltered_index\":12,\"Frac. Ab. (Ion=0)\":\"8.363748e-07\"},{\"Level\":13,\"qgrid_unfiltered_index\":13,\"Frac. Ab. (Ion=0)\":\"1.688869e-06\"},{\"Level\":14,\"qgrid_unfiltered_index\":14,\"Frac. Ab. (Ion=0)\":\"9.177002e-07\"},{\"Level\":15,\"qgrid_unfiltered_index\":15,\"Frac. Ab. (Ion=0)\":\"2.349891e-06\"},{\"Level\":16,\"qgrid_unfiltered_index\":16,\"Frac. Ab. (Ion=0)\":\"1.827672e-06\"},{\"Level\":17,\"qgrid_unfiltered_index\":17,\"Frac. Ab. (Ion=0)\":\"1.305459e-06\"},{\"Level\":18,\"qgrid_unfiltered_index\":18,\"Frac. Ab. (Ion=0)\":\"7.832646e-07\"},{\"Level\":19,\"qgrid_unfiltered_index\":19,\"Frac. Ab. (Ion=0)\":\"2.610865e-07\"},{\"Level\":20,\"qgrid_unfiltered_index\":20,\"Frac. Ab. (Ion=0)\":\"7.762995e-07\"},{\"Level\":21,\"qgrid_unfiltered_index\":21,\"Frac. Ab. (Ion=0)\":\"1.293821e-06\"},{\"Level\":22,\"qgrid_unfiltered_index\":22,\"Frac. Ab. (Ion=0)\":\"1.811327e-06\"},{\"Level\":23,\"qgrid_unfiltered_index\":23,\"Frac. Ab. (Ion=0)\":\"6.276639e-07\"},{\"Level\":24,\"qgrid_unfiltered_index\":24,\"Frac. Ab. (Ion=0)\":\"1.046013e-06\"},{\"Level\":25,\"qgrid_unfiltered_index\":25,\"Frac. Ab. (Ion=0)\":\"1.464187e-06\"},{\"Level\":26,\"qgrid_unfiltered_index\":26,\"Frac. Ab. (Ion=0)\":\"5.806349e-07\"},{\"Level\":27,\"qgrid_unfiltered_index\":27,\"Frac. Ab. (Ion=0)\":\"9.677145e-07\"},{\"Level\":28,\"qgrid_unfiltered_index\":28,\"Frac. Ab. (Ion=0)\":\"1.935362e-07\"},{\"Level\":29,\"qgrid_unfiltered_index\":29,\"Frac. Ab. (Ion=0)\":\"1.117416e-06\"},{\"Level\":30,\"qgrid_unfiltered_index\":30,\"Frac. Ab. (Ion=0)\":\"7.968744e-07\"},{\"Level\":31,\"qgrid_unfiltered_index\":31,\"Frac. Ab. (Ion=0)\":\"4.776248e-07\"},{\"Level\":32,\"qgrid_unfiltered_index\":32,\"Frac. Ab. (Ion=0)\":\"7.008731e-07\"},{\"Level\":33,\"qgrid_unfiltered_index\":33,\"Frac. Ab. (Ion=0)\":\"4.043934e-07\"},{\"Level\":34,\"qgrid_unfiltered_index\":34,\"Frac. Ab. (Ion=0)\":\"6.520337e-07\"},{\"Level\":35,\"qgrid_unfiltered_index\":35,\"Frac. Ab. (Ion=0)\":\"1.142451e-06\"},{\"Level\":36,\"qgrid_unfiltered_index\":36,\"Frac. Ab. (Ion=0)\":\"8.885682e-07\"},{\"Level\":37,\"qgrid_unfiltered_index\":37,\"Frac. Ab. (Ion=0)\":\"6.346866e-07\"},{\"Level\":38,\"qgrid_unfiltered_index\":38,\"Frac. Ab. (Ion=0)\":\"3.808095e-07\"},{\"Level\":39,\"qgrid_unfiltered_index\":39,\"Frac. Ab. (Ion=0)\":\"1.269361e-07\"},{\"Level\":40,\"qgrid_unfiltered_index\":40,\"Frac. Ab. (Ion=0)\":\"8.835420e-07\"},{\"Level\":41,\"qgrid_unfiltered_index\":41,\"Frac. Ab. (Ion=0)\":\"6.310956e-07\"},{\"Level\":42,\"qgrid_unfiltered_index\":42,\"Frac. Ab. (Ion=0)\":\"3.786551e-07\"},{\"Level\":43,\"qgrid_unfiltered_index\":43,\"Frac. Ab. (Ion=0)\":\"3.756697e-07\"},{\"Level\":44,\"qgrid_unfiltered_index\":44,\"Frac. Ab. (Ion=0)\":\"6.261162e-07\"},{\"Level\":45,\"qgrid_unfiltered_index\":45,\"Frac. Ab. (Ion=0)\":\"8.765626e-07\"},{\"Level\":46,\"qgrid_unfiltered_index\":46,\"Frac. Ab. (Ion=0)\":\"1.127009e-06\"},{\"Level\":47,\"qgrid_unfiltered_index\":47,\"Frac. Ab. (Ion=0)\":\"1.377456e-06\"},{\"Level\":48,\"qgrid_unfiltered_index\":48,\"Frac. Ab. (Ion=0)\":\"6.261084e-07\"},{\"Level\":49,\"qgrid_unfiltered_index\":49,\"Frac. Ab. (Ion=0)\":\"8.765517e-07\"},{\"Level\":50,\"qgrid_unfiltered_index\":50,\"Frac. Ab. (Ion=0)\":\"1.126995e-06\"},{\"Level\":51,\"qgrid_unfiltered_index\":51,\"Frac. Ab. (Ion=0)\":\"3.443372e-07\"},{\"Level\":52,\"qgrid_unfiltered_index\":52,\"Frac. Ab. (Ion=0)\":\"3.443367e-07\"},{\"Level\":53,\"qgrid_unfiltered_index\":53,\"Frac. Ab. (Ion=0)\":\"5.738682e-07\"},{\"Level\":54,\"qgrid_unfiltered_index\":54,\"Frac. Ab. (Ion=0)\":\"5.738673e-07\"},{\"Level\":55,\"qgrid_unfiltered_index\":55,\"Frac. Ab. (Ion=0)\":\"8.033623e-07\"},{\"Level\":56,\"qgrid_unfiltered_index\":56,\"Frac. Ab. (Ion=0)\":\"8.033610e-07\"},{\"Level\":57,\"qgrid_unfiltered_index\":57,\"Frac. Ab. (Ion=0)\":\"5.556286e-07\"},{\"Level\":58,\"qgrid_unfiltered_index\":58,\"Frac. Ab. (Ion=0)\":\"3.333745e-07\"},{\"Level\":59,\"qgrid_unfiltered_index\":59,\"Frac. Ab. (Ion=0)\":\"1.111215e-07\"},{\"Level\":60,\"qgrid_unfiltered_index\":60,\"Frac. Ab. (Ion=0)\":\"4.771668e-07\"},{\"Level\":61,\"qgrid_unfiltered_index\":61,\"Frac. Ab. (Ion=0)\":\"2.808195e-07\"},{\"Level\":62,\"qgrid_unfiltered_index\":62,\"Frac. Ab. (Ion=0)\":\"8.182505e-07\"},{\"Level\":63,\"qgrid_unfiltered_index\":63,\"Frac. Ab. (Ion=0)\":\"6.364151e-07\"},{\"Level\":64,\"qgrid_unfiltered_index\":64,\"Frac. Ab. (Ion=0)\":\"4.545803e-07\"},{\"Level\":65,\"qgrid_unfiltered_index\":65,\"Frac. Ab. (Ion=0)\":\"2.727472e-07\"},{\"Level\":66,\"qgrid_unfiltered_index\":66,\"Frac. Ab. (Ion=0)\":\"9.091558e-08\"},{\"Level\":67,\"qgrid_unfiltered_index\":67,\"Frac. Ab. (Ion=0)\":\"2.718970e-07\"},{\"Level\":68,\"qgrid_unfiltered_index\":68,\"Frac. Ab. (Ion=0)\":\"4.531616e-07\"},{\"Level\":69,\"qgrid_unfiltered_index\":69,\"Frac. Ab. (Ion=0)\":\"6.344262e-07\"},{\"Level\":70,\"qgrid_unfiltered_index\":70,\"Frac. Ab. (Ion=0)\":\"2.707241e-07\"},{\"Level\":71,\"qgrid_unfiltered_index\":71,\"Frac. Ab. (Ion=0)\":\"4.512069e-07\"},{\"Level\":72,\"qgrid_unfiltered_index\":72,\"Frac. Ab. (Ion=0)\":\"6.316896e-07\"},{\"Level\":73,\"qgrid_unfiltered_index\":73,\"Frac. Ab. (Ion=0)\":\"8.121724e-07\"},{\"Level\":74,\"qgrid_unfiltered_index\":74,\"Frac. Ab. (Ion=0)\":\"9.926551e-07\"},{\"Level\":75,\"qgrid_unfiltered_index\":75,\"Frac. Ab. (Ion=0)\":\"4.512021e-07\"},{\"Level\":76,\"qgrid_unfiltered_index\":76,\"Frac. Ab. (Ion=0)\":\"6.316830e-07\"},{\"Level\":77,\"qgrid_unfiltered_index\":77,\"Frac. Ab. (Ion=0)\":\"8.121639e-07\"},{\"Level\":78,\"qgrid_unfiltered_index\":78,\"Frac. Ab. (Ion=0)\":\"2.585702e-07\"},{\"Level\":79,\"qgrid_unfiltered_index\":79,\"Frac. Ab. (Ion=0)\":\"4.309410e-07\"},{\"Level\":80,\"qgrid_unfiltered_index\":80,\"Frac. Ab. (Ion=0)\":\"6.032965e-07\"},{\"Level\":81,\"qgrid_unfiltered_index\":81,\"Frac. Ab. (Ion=0)\":\"8.479052e-08\"},{\"Level\":82,\"qgrid_unfiltered_index\":82,\"Frac. Ab. (Ion=0)\":\"2.543716e-07\"},{\"Level\":83,\"qgrid_unfiltered_index\":83,\"Frac. Ab. (Ion=0)\":\"4.239526e-07\"},{\"Level\":84,\"qgrid_unfiltered_index\":84,\"Frac. Ab. (Ion=0)\":\"3.898398e-07\"},{\"Level\":85,\"qgrid_unfiltered_index\":85,\"Frac. Ab. (Ion=0)\":\"2.313594e-07\"},{\"Level\":86,\"qgrid_unfiltered_index\":86,\"Frac. Ab. (Ion=0)\":\"6.828155e-07\"},{\"Level\":87,\"qgrid_unfiltered_index\":87,\"Frac. Ab. (Ion=0)\":\"5.310780e-07\"},{\"Level\":88,\"qgrid_unfiltered_index\":88,\"Frac. Ab. (Ion=0)\":\"3.793406e-07\"},{\"Level\":89,\"qgrid_unfiltered_index\":89,\"Frac. Ab. (Ion=0)\":\"2.276040e-07\"},{\"Level\":90,\"qgrid_unfiltered_index\":90,\"Frac. Ab. (Ion=0)\":\"7.586792e-08\"},{\"Level\":91,\"qgrid_unfiltered_index\":91,\"Frac. Ab. (Ion=0)\":\"2.271728e-07\"},{\"Level\":92,\"qgrid_unfiltered_index\":92,\"Frac. Ab. (Ion=0)\":\"3.786213e-07\"},{\"Level\":93,\"qgrid_unfiltered_index\":93,\"Frac. Ab. (Ion=0)\":\"5.300698e-07\"},{\"Level\":94,\"qgrid_unfiltered_index\":94,\"Frac. Ab. (Ion=0)\":\"2.265911e-07\"},{\"Level\":95,\"qgrid_unfiltered_index\":95,\"Frac. Ab. (Ion=0)\":\"3.776518e-07\"},{\"Level\":96,\"qgrid_unfiltered_index\":96,\"Frac. Ab. (Ion=0)\":\"5.287125e-07\"},{\"Level\":97,\"qgrid_unfiltered_index\":97,\"Frac. Ab. (Ion=0)\":\"6.797733e-07\"},{\"Level\":98,\"qgrid_unfiltered_index\":98,\"Frac. Ab. (Ion=0)\":\"8.308340e-07\"},{\"Level\":99,\"qgrid_unfiltered_index\":99,\"Frac. Ab. (Ion=0)\":\"3.776498e-07\"}]}",
       "_df_range": [
        0,
        100
       ],
       "_editable_rows": {},
       "_index_col_name": "qgrid_unfiltered_index",
       "_interval_columns": [],
       "_model_module_version": "^1.1.3",
       "_multi_index": false,
       "_row_count": 150,
       "_row_styles": {},
       "_sort_ascending": true,
       "_sort_field": null,
       "_view_module_version": "^1.1.3",
       "_viewport_range": [
        0,
        100
       ],
       "grid_options": {
        "autoEdit": false,
        "boldIndex": true,
        "defaultColumnWidth": 150,
        "editable": false,
        "enableColumnReorder": false,
        "enableTextSelectionOnCells": true,
        "explicitInitialization": true,
        "filterable": false,
        "forceFitColumns": true,
        "fullWidthRows": true,
        "highlightSelectedCell": false,
        "highlightSelectedRow": true,
        "maxVisibleRows": 15,
        "minVisibleRows": 2,
        "rowHeight": 28,
        "sortable": false,
        "syncColumnCellResize": true
       },
       "id": "a9ee9c09-b4c7-4138-9356-2fc83c970645",
       "layout": "IPY_MODEL_749a0a92b90f4b1a82c84a63c32b0601",
       "precision": 5,
       "show_toolbar": false
      }
     },
     "247053b8dc5c4fd0a96875ad05285aea": {
      "model_module": "qgrid",
      "model_module_version": "^1.1.3",
      "model_name": "QgridModel",
      "state": {
       "_columns": {
        "Element": {
         "cssClass": "string",
         "defaultSortAsc": true,
         "editable": true,
         "field": "Element",
         "id": "Element",
         "minWidth": null,
         "name": "Element",
         "position": 2,
         "resizable": true,
         "sortable": true,
         "toolTip": "",
         "type": "string",
         "width": 30
        },
        "Frac. Ab. (Shell 6)": {
         "cssClass": "string",
         "defaultSortAsc": true,
         "editable": true,
         "field": "Frac. Ab. (Shell 6)",
         "id": "Frac. Ab. (Shell 6)",
         "minWidth": null,
         "name": "Frac. Ab. (Shell 6)",
         "position": 3,
         "resizable": true,
         "sortable": true,
         "toolTip": "",
         "type": "string",
         "width": 55
        },
        "Z": {
         "cssClass": "integer first-idx-col idx-col",
         "defaultSortAsc": true,
         "editable": true,
         "field": "Z",
         "first_index": true,
         "id": "Z",
         "index_display_text": "Z",
         "is_index": true,
         "level": 0,
         "minWidth": null,
         "name": "Z",
         "position": 0,
         "resizable": true,
         "sortable": true,
         "toolTip": "",
         "type": "integer",
         "width": 15
        },
        "qgrid_unfiltered_index": {
         "cssClass": "integer",
         "defaultSortAsc": true,
         "editable": true,
         "field": "qgrid_unfiltered_index",
         "id": "qgrid_unfiltered_index",
         "maxWidth": null,
         "minWidth": null,
         "name": "qgrid_unfiltered_index",
         "position": 1,
         "resizable": true,
         "sortable": true,
         "toolTip": "",
         "type": "integer",
         "width": null
        }
       },
       "_df_json": "{\"schema\": {\"fields\":[{\"name\":\"Z\",\"type\":\"integer\"},{\"name\":\"qgrid_unfiltered_index\",\"type\":\"integer\"},{\"name\":\"Element\",\"type\":\"string\"},{\"name\":\"Frac. Ab. (Shell 6)\",\"type\":\"string\"}],\"primaryKey\":[\"Z\"],\"pandas_version\":\"0.20.0\"}, \"data\": [{\"Z\":8,\"qgrid_unfiltered_index\":0,\"Element\":\"O\",\"Frac. Ab. (Shell 6)\":\"1.900000e-01\"},{\"Z\":12,\"qgrid_unfiltered_index\":1,\"Element\":\"Mg\",\"Frac. Ab. (Shell 6)\":\"3.000000e-02\"},{\"Z\":14,\"qgrid_unfiltered_index\":2,\"Element\":\"Si\",\"Frac. Ab. (Shell 6)\":\"5.200000e-01\"},{\"Z\":16,\"qgrid_unfiltered_index\":3,\"Element\":\"S\",\"Frac. Ab. (Shell 6)\":\"1.900000e-01\"},{\"Z\":18,\"qgrid_unfiltered_index\":4,\"Element\":\"Ar\",\"Frac. Ab. (Shell 6)\":\"4.000000e-02\"},{\"Z\":20,\"qgrid_unfiltered_index\":5,\"Element\":\"Ca\",\"Frac. Ab. (Shell 6)\":\"3.000000e-02\"}]}",
       "_df_range": [
        0,
        100
       ],
       "_editable_rows": {},
       "_index_col_name": "qgrid_unfiltered_index",
       "_interval_columns": [],
       "_model_module_version": "^1.1.3",
       "_multi_index": false,
       "_row_count": 6,
       "_row_styles": {},
       "_sort_ascending": true,
       "_sort_field": null,
       "_view_module_version": "^1.1.3",
       "_viewport_range": [
        0,
        100
       ],
       "grid_options": {
        "autoEdit": false,
        "boldIndex": true,
        "defaultColumnWidth": 150,
        "editable": false,
        "enableColumnReorder": false,
        "enableTextSelectionOnCells": true,
        "explicitInitialization": true,
        "filterable": false,
        "forceFitColumns": true,
        "fullWidthRows": true,
        "highlightSelectedCell": false,
        "highlightSelectedRow": true,
        "maxVisibleRows": 15,
        "minVisibleRows": 2,
        "rowHeight": 28,
        "sortable": false,
        "syncColumnCellResize": true
       },
       "id": "5d3f9089-6e66-471d-95d2-40ec31a91192",
       "layout": "IPY_MODEL_ff408d11c7e3422b8db258c986fd0ea5",
       "precision": 5,
       "show_toolbar": false
      }
     },
     "25a06dda99834cf69eea38db0c51f0b6": {
      "model_module": "@jupyter-widgets/base",
      "model_module_version": "1.2.0",
      "model_name": "LayoutModel",
      "state": {}
     },
     "27c158ee3113418592daa88b1c8eff17": {
      "model_module": "@jupyter-widgets/base",
      "model_module_version": "1.2.0",
      "model_name": "LayoutModel",
      "state": {
       "width": "18%"
      }
     },
     "2b0874f95faf441bab4671d9b13503a6": {
      "model_module": "@jupyter-widgets/base",
      "model_module_version": "1.2.0",
      "model_name": "LayoutModel",
      "state": {
       "width": "30%"
      }
     },
     "2b21b24279e441b4bc624aab008891a2": {
      "model_module": "qgrid",
      "model_module_version": "^1.1.3",
      "model_name": "QgridModel",
      "state": {
       "_columns": {
        "Frac. Ab. (Z=8)": {
         "cssClass": "string",
         "defaultSortAsc": true,
         "editable": true,
         "field": "Frac. Ab. (Z=8)",
         "id": "Frac. Ab. (Z=8)",
         "minWidth": null,
         "name": "Frac. Ab. (Z=8)",
         "position": 3,
         "resizable": true,
         "sortable": true,
         "toolTip": "",
         "type": "string",
         "width": 50
        },
        "Ion": {
         "cssClass": "integer first-idx-col idx-col",
         "defaultSortAsc": true,
         "editable": true,
         "field": "Ion",
         "first_index": true,
         "id": "Ion",
         "index_display_text": "Ion",
         "is_index": true,
         "level": 0,
         "minWidth": null,
         "name": "Ion",
         "position": 0,
         "resizable": true,
         "sortable": true,
         "toolTip": "",
         "type": "integer",
         "width": 20
        },
        "Species": {
         "cssClass": "string",
         "defaultSortAsc": true,
         "editable": true,
         "field": "Species",
         "id": "Species",
         "minWidth": null,
         "name": "Species",
         "position": 2,
         "resizable": true,
         "sortable": true,
         "toolTip": "",
         "type": "string",
         "width": 30
        },
        "qgrid_unfiltered_index": {
         "cssClass": "integer",
         "defaultSortAsc": true,
         "editable": true,
         "field": "qgrid_unfiltered_index",
         "id": "qgrid_unfiltered_index",
         "maxWidth": null,
         "minWidth": null,
         "name": "qgrid_unfiltered_index",
         "position": 1,
         "resizable": true,
         "sortable": true,
         "toolTip": "",
         "type": "integer",
         "width": null
        }
       },
       "_df_json": "{\"schema\": {\"fields\":[{\"name\":\"Ion\",\"type\":\"integer\"},{\"name\":\"qgrid_unfiltered_index\",\"type\":\"integer\"},{\"name\":\"Species\",\"type\":\"string\"},{\"name\":\"Frac. Ab. (Z=8)\",\"type\":\"string\"}],\"primaryKey\":[\"Ion\"],\"pandas_version\":\"0.20.0\"}, \"data\": [{\"Ion\":0,\"qgrid_unfiltered_index\":0,\"Species\":\"O I\",\"Frac. Ab. (Z=8)\":\"2.455862e-06\"},{\"Ion\":1,\"qgrid_unfiltered_index\":1,\"Species\":\"O II\",\"Frac. Ab. (Z=8)\":\"9.997973e-01\"},{\"Ion\":2,\"qgrid_unfiltered_index\":2,\"Species\":\"O III\",\"Frac. Ab. (Z=8)\":\"2.002405e-04\"},{\"Ion\":3,\"qgrid_unfiltered_index\":3,\"Species\":\"O IV\",\"Frac. Ab. (Z=8)\":\"7.763943e-18\"},{\"Ion\":4,\"qgrid_unfiltered_index\":4,\"Species\":\"O V\",\"Frac. Ab. (Z=8)\":\"0.000000e+00\"},{\"Ion\":5,\"qgrid_unfiltered_index\":5,\"Species\":\"O VI\",\"Frac. Ab. (Z=8)\":\"0.000000e+00\"},{\"Ion\":6,\"qgrid_unfiltered_index\":6,\"Species\":\"O VII\",\"Frac. Ab. (Z=8)\":\"0.000000e+00\"},{\"Ion\":7,\"qgrid_unfiltered_index\":7,\"Species\":\"O VIII\",\"Frac. Ab. (Z=8)\":\"0.000000e+00\"},{\"Ion\":8,\"qgrid_unfiltered_index\":8,\"Species\":\"O IX\",\"Frac. Ab. (Z=8)\":\"0.000000e+00\"}]}",
       "_df_range": [
        0,
        100
       ],
       "_editable_rows": {},
       "_index_col_name": "qgrid_unfiltered_index",
       "_interval_columns": [],
       "_model_module_version": "^1.1.3",
       "_multi_index": false,
       "_row_count": 9,
       "_row_styles": {},
       "_sort_ascending": true,
       "_sort_field": null,
       "_view_module_version": "^1.1.3",
       "_viewport_range": [
        0,
        100
       ],
       "grid_options": {
        "autoEdit": false,
        "boldIndex": true,
        "defaultColumnWidth": 150,
        "editable": false,
        "enableColumnReorder": false,
        "enableTextSelectionOnCells": true,
        "explicitInitialization": true,
        "filterable": false,
        "forceFitColumns": true,
        "fullWidthRows": true,
        "highlightSelectedCell": false,
        "highlightSelectedRow": true,
        "maxVisibleRows": 15,
        "minVisibleRows": 2,
        "rowHeight": 28,
        "sortable": false,
        "syncColumnCellResize": true
       },
       "id": "8af44975-1cd8-4348-b94f-b97aec969ddf",
       "layout": "IPY_MODEL_b0e9800c0259400496a5e7ba1ff3b9b0",
       "precision": 5,
       "show_toolbar": false
      }
     },
     "2bd41bb81f8f4375ba08500d5443e724": {
      "model_module": "@jupyter-widgets/base",
      "model_module_version": "1.2.0",
      "model_name": "LayoutModel",
      "state": {
       "width": "30%"
      }
     },
     "2db9c108c76e496eb6c65420219b76c2": {
      "model_module": "@jupyter-widgets/base",
      "model_module_version": "1.2.0",
      "model_name": "LayoutModel",
      "state": {
       "align_items": "flex-start",
       "display": "flex",
       "justify_content": "space-between"
      }
     },
     "2e985b015ef24c0190718906910524bb": {
      "model_module": "qgrid",
      "model_module_version": "^1.1.3",
      "model_name": "QgridModel",
      "state": {
       "_columns": {
        "Frac. Ab. (Z=20)": {
         "cssClass": "string",
         "defaultSortAsc": true,
         "editable": true,
         "field": "Frac. Ab. (Z=20)",
         "id": "Frac. Ab. (Z=20)",
         "minWidth": null,
         "name": "Frac. Ab. (Z=20)",
         "position": 3,
         "resizable": true,
         "sortable": true,
         "toolTip": "",
         "type": "string",
         "width": 50
        },
        "Ion": {
         "cssClass": "integer first-idx-col idx-col",
         "defaultSortAsc": true,
         "editable": true,
         "field": "Ion",
         "first_index": true,
         "id": "Ion",
         "index_display_text": "Ion",
         "is_index": true,
         "level": 0,
         "minWidth": null,
         "name": "Ion",
         "position": 0,
         "resizable": true,
         "sortable": true,
         "toolTip": "",
         "type": "integer",
         "width": 20
        },
        "Species": {
         "cssClass": "string",
         "defaultSortAsc": true,
         "editable": true,
         "field": "Species",
         "id": "Species",
         "minWidth": null,
         "name": "Species",
         "position": 2,
         "resizable": true,
         "sortable": true,
         "toolTip": "",
         "type": "string",
         "width": 30
        },
        "qgrid_unfiltered_index": {
         "cssClass": "integer",
         "defaultSortAsc": true,
         "editable": true,
         "field": "qgrid_unfiltered_index",
         "id": "qgrid_unfiltered_index",
         "maxWidth": null,
         "minWidth": null,
         "name": "qgrid_unfiltered_index",
         "position": 1,
         "resizable": true,
         "sortable": true,
         "toolTip": "",
         "type": "integer",
         "width": null
        }
       },
       "_df_json": "{\"schema\": {\"fields\":[{\"name\":\"Ion\",\"type\":\"integer\"},{\"name\":\"qgrid_unfiltered_index\",\"type\":\"integer\"},{\"name\":\"Species\",\"type\":\"string\"},{\"name\":\"Frac. Ab. (Z=20)\",\"type\":\"string\"}],\"primaryKey\":[\"Ion\"],\"pandas_version\":\"0.20.0\"}, \"data\": [{\"Ion\":0,\"qgrid_unfiltered_index\":0,\"Species\":\"Ca I\",\"Frac. Ab. (Z=20)\":\"4.043450e-17\"},{\"Ion\":1,\"qgrid_unfiltered_index\":1,\"Species\":\"Ca II\",\"Frac. Ab. (Z=20)\":\"1.918395e-07\"},{\"Ion\":2,\"qgrid_unfiltered_index\":2,\"Species\":\"Ca III\",\"Frac. Ab. (Z=20)\":\"9.999998e-01\"},{\"Ion\":3,\"qgrid_unfiltered_index\":3,\"Species\":\"Ca IV\",\"Frac. Ab. (Z=20)\":\"3.633352e-10\"},{\"Ion\":4,\"qgrid_unfiltered_index\":4,\"Species\":\"Ca V\",\"Frac. Ab. (Z=20)\":\"1.809880e-27\"},{\"Ion\":5,\"qgrid_unfiltered_index\":5,\"Species\":\"Ca VI\",\"Frac. Ab. (Z=20)\":\"0.000000e+00\"},{\"Ion\":6,\"qgrid_unfiltered_index\":6,\"Species\":\"Ca VII\",\"Frac. Ab. (Z=20)\":\"0.000000e+00\"},{\"Ion\":7,\"qgrid_unfiltered_index\":7,\"Species\":\"Ca VIII\",\"Frac. Ab. (Z=20)\":\"0.000000e+00\"},{\"Ion\":8,\"qgrid_unfiltered_index\":8,\"Species\":\"Ca IX\",\"Frac. Ab. (Z=20)\":\"0.000000e+00\"},{\"Ion\":9,\"qgrid_unfiltered_index\":9,\"Species\":\"Ca X\",\"Frac. Ab. (Z=20)\":\"0.000000e+00\"},{\"Ion\":10,\"qgrid_unfiltered_index\":10,\"Species\":\"Ca XI\",\"Frac. Ab. (Z=20)\":\"0.000000e+00\"},{\"Ion\":11,\"qgrid_unfiltered_index\":11,\"Species\":\"Ca XII\",\"Frac. Ab. (Z=20)\":\"0.000000e+00\"},{\"Ion\":12,\"qgrid_unfiltered_index\":12,\"Species\":\"Ca XIII\",\"Frac. Ab. (Z=20)\":\"0.000000e+00\"},{\"Ion\":13,\"qgrid_unfiltered_index\":13,\"Species\":\"Ca XIV\",\"Frac. Ab. (Z=20)\":\"0.000000e+00\"},{\"Ion\":14,\"qgrid_unfiltered_index\":14,\"Species\":\"Ca XV\",\"Frac. Ab. (Z=20)\":\"0.000000e+00\"},{\"Ion\":15,\"qgrid_unfiltered_index\":15,\"Species\":\"Ca XVI\",\"Frac. Ab. (Z=20)\":\"0.000000e+00\"},{\"Ion\":16,\"qgrid_unfiltered_index\":16,\"Species\":\"Ca XVII\",\"Frac. Ab. (Z=20)\":\"0.000000e+00\"},{\"Ion\":17,\"qgrid_unfiltered_index\":17,\"Species\":\"Ca XVIII\",\"Frac. Ab. (Z=20)\":\"0.000000e+00\"},{\"Ion\":18,\"qgrid_unfiltered_index\":18,\"Species\":\"Ca XIX\",\"Frac. Ab. (Z=20)\":\"0.000000e+00\"},{\"Ion\":19,\"qgrid_unfiltered_index\":19,\"Species\":\"Ca XX\",\"Frac. Ab. (Z=20)\":\"0.000000e+00\"},{\"Ion\":20,\"qgrid_unfiltered_index\":20,\"Species\":\"Ca XXI\",\"Frac. Ab. (Z=20)\":\"0.000000e+00\"}]}",
       "_df_range": [
        0,
        103
       ],
       "_editable_rows": {},
       "_index_col_name": "qgrid_unfiltered_index",
       "_interval_columns": [],
       "_model_module_version": "^1.1.3",
       "_multi_index": false,
       "_row_count": 21,
       "_row_styles": {},
       "_sort_ascending": true,
       "_sort_field": null,
       "_view_module_version": "^1.1.3",
       "_viewport_range": [
        3,
        20
       ],
       "grid_options": {
        "autoEdit": false,
        "boldIndex": true,
        "defaultColumnWidth": 150,
        "editable": false,
        "enableColumnReorder": false,
        "enableTextSelectionOnCells": true,
        "explicitInitialization": true,
        "filterable": false,
        "forceFitColumns": true,
        "fullWidthRows": true,
        "highlightSelectedCell": false,
        "highlightSelectedRow": true,
        "maxVisibleRows": 15,
        "minVisibleRows": 2,
        "rowHeight": 28,
        "sortable": false,
        "syncColumnCellResize": true
       },
       "id": "b6a97705-64ab-4f19-9fe2-dacd536677b6",
       "layout": "IPY_MODEL_007204f131e5417c84b9eea2fe31b764",
       "precision": 5,
       "show_toolbar": false
      }
     },
     "303526bb3dd8467d8b4af419c086b5cb": {
      "model_module": "@jupyter-widgets/controls",
      "model_module_version": "1.5.0",
      "model_name": "VBoxModel",
      "state": {
       "children": [
        "IPY_MODEL_7b951b48055641cfba5dd097cc4da728",
        "IPY_MODEL_e5743a4cb5ee4013b5b2da1448d1da73"
       ],
       "layout": "IPY_MODEL_426a59c372194b4881114b3c7e5f0546"
      }
     },
     "32067803a8524d099ab0dcbac1656166": {
      "model_module": "qgrid",
      "model_module_version": "^1.1.3",
      "model_name": "QgridModel",
      "state": {
       "_columns": {
        "Frac. Ab. (Ion=4)": {
         "cssClass": "string",
         "defaultSortAsc": true,
         "editable": true,
         "field": "Frac. Ab. (Ion=4)",
         "id": "Frac. Ab. (Ion=4)",
         "minWidth": null,
         "name": "Frac. Ab. (Ion=4)",
         "position": 2,
         "resizable": true,
         "sortable": true,
         "toolTip": "",
         "type": "string",
         "width": 70
        },
        "Level": {
         "cssClass": "integer first-idx-col idx-col",
         "defaultSortAsc": true,
         "editable": true,
         "field": "Level",
         "first_index": true,
         "id": "Level",
         "index_display_text": "Level",
         "is_index": true,
         "level": 0,
         "minWidth": null,
         "name": "Level",
         "position": 0,
         "resizable": true,
         "sortable": true,
         "toolTip": "",
         "type": "integer",
         "width": 30
        },
        "qgrid_unfiltered_index": {
         "cssClass": "integer",
         "defaultSortAsc": true,
         "editable": true,
         "field": "qgrid_unfiltered_index",
         "id": "qgrid_unfiltered_index",
         "maxWidth": null,
         "minWidth": null,
         "name": "qgrid_unfiltered_index",
         "position": 1,
         "resizable": true,
         "sortable": true,
         "toolTip": "",
         "type": "integer",
         "width": null
        }
       },
       "_df_json": "{\"schema\": {\"fields\":[{\"name\":\"Level\",\"type\":\"integer\"},{\"name\":\"qgrid_unfiltered_index\",\"type\":\"integer\"},{\"name\":\"Frac. Ab. (Ion=4)\",\"type\":\"string\"}],\"primaryKey\":[\"Level\"],\"pandas_version\":\"0.20.0\"}, \"data\": [{\"Level\":0,\"qgrid_unfiltered_index\":0,\"Frac. Ab. (Ion=4)\":\"6.011435e-01\"},{\"Level\":1,\"qgrid_unfiltered_index\":1,\"Frac. Ab. (Ion=4)\":\"2.652123e-01\"},{\"Level\":2,\"qgrid_unfiltered_index\":2,\"Frac. Ab. (Ion=4)\":\"7.908794e-02\"},{\"Level\":3,\"qgrid_unfiltered_index\":3,\"Frac. Ab. (Ion=4)\":\"5.411398e-02\"},{\"Level\":4,\"qgrid_unfiltered_index\":4,\"Frac. Ab. (Ion=4)\":\"4.422988e-04\"},{\"Level\":5,\"qgrid_unfiltered_index\":5,\"Frac. Ab. (Ion=4)\":\"1.548555e-09\"},{\"Level\":6,\"qgrid_unfiltered_index\":6,\"Frac. Ab. (Ion=4)\":\"7.112971e-10\"},{\"Level\":7,\"qgrid_unfiltered_index\":7,\"Frac. Ab. (Ion=4)\":\"2.049310e-10\"},{\"Level\":8,\"qgrid_unfiltered_index\":8,\"Frac. Ab. (Ion=4)\":\"3.720416e-12\"},{\"Level\":9,\"qgrid_unfiltered_index\":9,\"Frac. Ab. (Ion=4)\":\"4.647008e-15\"},{\"Level\":10,\"qgrid_unfiltered_index\":10,\"Frac. Ab. (Ion=4)\":\"1.434666e-16\"},{\"Level\":11,\"qgrid_unfiltered_index\":11,\"Frac. Ab. (Ion=4)\":\"1.749455e-17\"},{\"Level\":12,\"qgrid_unfiltered_index\":12,\"Frac. Ab. (Ion=4)\":\"1.655022e-17\"},{\"Level\":13,\"qgrid_unfiltered_index\":13,\"Frac. Ab. (Ion=4)\":\"8.387913e-18\"},{\"Level\":14,\"qgrid_unfiltered_index\":14,\"Frac. Ab. (Ion=4)\":\"2.441573e-18\"},{\"Level\":15,\"qgrid_unfiltered_index\":15,\"Frac. Ab. (Ion=4)\":\"5.977180e-18\"},{\"Level\":16,\"qgrid_unfiltered_index\":16,\"Frac. Ab. (Ion=4)\":\"6.472379e-18\"},{\"Level\":17,\"qgrid_unfiltered_index\":17,\"Frac. Ab. (Ion=4)\":\"3.747125e-18\"},{\"Level\":18,\"qgrid_unfiltered_index\":18,\"Frac. Ab. (Ion=4)\":\"1.950288e-18\"},{\"Level\":19,\"qgrid_unfiltered_index\":19,\"Frac. Ab. (Ion=4)\":\"1.199266e-18\"},{\"Level\":20,\"qgrid_unfiltered_index\":20,\"Frac. Ab. (Ion=4)\":\"4.391698e-19\"},{\"Level\":21,\"qgrid_unfiltered_index\":21,\"Frac. Ab. (Ion=4)\":\"1.176148e-20\"},{\"Level\":22,\"qgrid_unfiltered_index\":22,\"Frac. Ab. (Ion=4)\":\"8.758045e-21\"},{\"Level\":23,\"qgrid_unfiltered_index\":23,\"Frac. Ab. (Ion=4)\":\"1.079846e-21\"},{\"Level\":24,\"qgrid_unfiltered_index\":24,\"Frac. Ab. (Ion=4)\":\"1.775515e-21\"},{\"Level\":25,\"qgrid_unfiltered_index\":25,\"Frac. Ab. (Ion=4)\":\"2.403519e-21\"},{\"Level\":26,\"qgrid_unfiltered_index\":26,\"Frac. Ab. (Ion=4)\":\"9.330209e-22\"},{\"Level\":27,\"qgrid_unfiltered_index\":27,\"Frac. Ab. (Ion=4)\":\"3.866135e-23\"},{\"Level\":28,\"qgrid_unfiltered_index\":28,\"Frac. Ab. (Ion=4)\":\"1.132437e-22\"},{\"Level\":29,\"qgrid_unfiltered_index\":29,\"Frac. Ab. (Ion=4)\":\"1.787337e-22\"},{\"Level\":30,\"qgrid_unfiltered_index\":30,\"Frac. Ab. (Ion=4)\":\"5.931886e-23\"},{\"Level\":31,\"qgrid_unfiltered_index\":31,\"Frac. Ab. (Ion=4)\":\"5.357441e-29\"},{\"Level\":32,\"qgrid_unfiltered_index\":32,\"Frac. Ab. (Ion=4)\":\"2.646318e-30\"},{\"Level\":33,\"qgrid_unfiltered_index\":33,\"Frac. Ab. (Ion=4)\":\"4.343927e-30\"},{\"Level\":34,\"qgrid_unfiltered_index\":34,\"Frac. Ab. (Ion=4)\":\"5.865368e-30\"},{\"Level\":35,\"qgrid_unfiltered_index\":35,\"Frac. Ab. (Ion=4)\":\"3.471654e-30\"},{\"Level\":36,\"qgrid_unfiltered_index\":36,\"Frac. Ab. (Ion=4)\":\"2.788717e-31\"},{\"Level\":37,\"qgrid_unfiltered_index\":37,\"Frac. Ab. (Ion=4)\":\"4.415553e-31\"},{\"Level\":38,\"qgrid_unfiltered_index\":38,\"Frac. Ab. (Ion=4)\":\"2.188912e-31\"}]}",
       "_df_range": [
        0,
        100
       ],
       "_editable_rows": {},
       "_index_col_name": "qgrid_unfiltered_index",
       "_interval_columns": [],
       "_model_module_version": "^1.1.3",
       "_multi_index": false,
       "_row_count": 39,
       "_row_styles": {},
       "_sort_ascending": true,
       "_sort_field": null,
       "_view_module_version": "^1.1.3",
       "_viewport_range": [
        0,
        16
       ],
       "grid_options": {
        "autoEdit": false,
        "boldIndex": true,
        "defaultColumnWidth": 150,
        "editable": false,
        "enableColumnReorder": false,
        "enableTextSelectionOnCells": true,
        "explicitInitialization": true,
        "filterable": false,
        "forceFitColumns": true,
        "fullWidthRows": true,
        "highlightSelectedCell": false,
        "highlightSelectedRow": true,
        "maxVisibleRows": 15,
        "minVisibleRows": 2,
        "rowHeight": 28,
        "sortable": false,
        "syncColumnCellResize": true
       },
       "id": "33fe1e84-5adc-4a9d-8deb-b28d32fc2871",
       "layout": "IPY_MODEL_53598020b0414a82b2b77ed71a8f440f",
       "precision": 5,
       "show_toolbar": false
      }
     },
     "33f83d50b3574c958fb1ef64e6aaf110": {
      "model_module": "@jupyter-widgets/base",
      "model_module_version": "1.2.0",
      "model_name": "LayoutModel",
      "state": {
       "width": "30%"
      }
     },
     "36c10d54336a46eebf135842e68be9d4": {
      "model_module": "@jupyter-widgets/controls",
      "model_module_version": "1.5.0",
      "model_name": "DescriptionStyleModel",
      "state": {
       "description_width": ""
      }
     },
     "36dc698fce484287a0cebcb15720c9fa": {
      "model_module": "qgrid",
      "model_module_version": "^1.1.3",
      "model_name": "QgridModel",
      "state": {
       "_columns": {
        "Element": {
         "cssClass": "string",
         "defaultSortAsc": true,
         "editable": true,
         "field": "Element",
         "id": "Element",
         "minWidth": null,
         "name": "Element",
         "position": 2,
         "resizable": true,
         "sortable": true,
         "toolTip": "",
         "type": "string",
         "width": 30
        },
        "Frac. Ab. (Shell 1)": {
         "cssClass": "string",
         "defaultSortAsc": true,
         "editable": true,
         "field": "Frac. Ab. (Shell 1)",
         "id": "Frac. Ab. (Shell 1)",
         "minWidth": null,
         "name": "Frac. Ab. (Shell 1)",
         "position": 3,
         "resizable": true,
         "sortable": true,
         "toolTip": "",
         "type": "string",
         "width": 55
        },
        "Z": {
         "cssClass": "integer first-idx-col idx-col",
         "defaultSortAsc": true,
         "editable": true,
         "field": "Z",
         "first_index": true,
         "id": "Z",
         "index_display_text": "Z",
         "is_index": true,
         "level": 0,
         "minWidth": null,
         "name": "Z",
         "position": 0,
         "resizable": true,
         "sortable": true,
         "toolTip": "",
         "type": "integer",
         "width": 15
        },
        "qgrid_unfiltered_index": {
         "cssClass": "integer",
         "defaultSortAsc": true,
         "editable": true,
         "field": "qgrid_unfiltered_index",
         "id": "qgrid_unfiltered_index",
         "maxWidth": null,
         "minWidth": null,
         "name": "qgrid_unfiltered_index",
         "position": 1,
         "resizable": true,
         "sortable": true,
         "toolTip": "",
         "type": "integer",
         "width": null
        }
       },
       "_df_json": "{\"schema\": {\"fields\":[{\"name\":\"Z\",\"type\":\"integer\"},{\"name\":\"qgrid_unfiltered_index\",\"type\":\"integer\"},{\"name\":\"Element\",\"type\":\"string\"},{\"name\":\"Frac. Ab. (Shell 1)\",\"type\":\"string\"}],\"primaryKey\":[\"Z\"],\"pandas_version\":\"0.20.0\"}, \"data\": [{\"Z\":8,\"qgrid_unfiltered_index\":0,\"Element\":\"O\",\"Frac. Ab. (Shell 1)\":\"1.900000e-01\"},{\"Z\":12,\"qgrid_unfiltered_index\":1,\"Element\":\"Mg\",\"Frac. Ab. (Shell 1)\":\"3.000000e-02\"},{\"Z\":14,\"qgrid_unfiltered_index\":2,\"Element\":\"Si\",\"Frac. Ab. (Shell 1)\":\"5.200000e-01\"},{\"Z\":16,\"qgrid_unfiltered_index\":3,\"Element\":\"S\",\"Frac. Ab. (Shell 1)\":\"1.900000e-01\"},{\"Z\":18,\"qgrid_unfiltered_index\":4,\"Element\":\"Ar\",\"Frac. Ab. (Shell 1)\":\"4.000000e-02\"},{\"Z\":20,\"qgrid_unfiltered_index\":5,\"Element\":\"Ca\",\"Frac. Ab. (Shell 1)\":\"3.000000e-02\"}]}",
       "_df_range": [
        0,
        100
       ],
       "_editable_rows": {},
       "_index_col_name": "qgrid_unfiltered_index",
       "_interval_columns": [],
       "_model_module_version": "^1.1.3",
       "_multi_index": false,
       "_row_count": 6,
       "_row_styles": {},
       "_sort_ascending": true,
       "_sort_field": null,
       "_view_module_version": "^1.1.3",
       "_viewport_range": [
        0,
        100
       ],
       "grid_options": {
        "autoEdit": false,
        "boldIndex": true,
        "defaultColumnWidth": 150,
        "editable": false,
        "enableColumnReorder": false,
        "enableTextSelectionOnCells": true,
        "explicitInitialization": true,
        "filterable": false,
        "forceFitColumns": true,
        "fullWidthRows": true,
        "highlightSelectedCell": false,
        "highlightSelectedRow": true,
        "maxVisibleRows": 15,
        "minVisibleRows": 2,
        "rowHeight": 28,
        "sortable": false,
        "syncColumnCellResize": true
       },
       "id": "b65971b2-36a9-4426-a07e-d804b0948429",
       "layout": "IPY_MODEL_b86ba11962204756b7ca3b19a5a2d923",
       "precision": 5,
       "show_toolbar": false
      }
     },
     "3798017ccad6484a9ea62100b1d04009": {
      "model_module": "@jupyter-widgets/base",
      "model_module_version": "1.2.0",
      "model_name": "LayoutModel",
      "state": {
       "align_items": "flex-start",
       "display": "flex",
       "justify_content": "space-between"
      }
     },
     "39385de76b884567a369e30dd256f980": {
      "model_module": "qgrid",
      "model_module_version": "^1.1.3",
      "model_name": "QgridModel",
      "state": {
       "_columns": {
        "Frac. Ab. (Z=8)": {
         "cssClass": "string",
         "defaultSortAsc": true,
         "editable": true,
         "field": "Frac. Ab. (Z=8)",
         "id": "Frac. Ab. (Z=8)",
         "minWidth": null,
         "name": "Frac. Ab. (Z=8)",
         "position": 3,
         "resizable": true,
         "sortable": true,
         "toolTip": "",
         "type": "string",
         "width": 50
        },
        "Ion": {
         "cssClass": "integer first-idx-col idx-col first-idx-col idx-col",
         "defaultSortAsc": true,
         "editable": true,
         "field": "Ion",
         "first_index": true,
         "id": "Ion",
         "index_display_text": "Ion",
         "is_index": true,
         "level": 0,
         "minWidth": null,
         "name": "Ion",
         "position": 0,
         "resizable": true,
         "sortable": true,
         "toolTip": "",
         "type": "integer",
         "width": 20
        },
        "Species": {
         "cssClass": "string",
         "defaultSortAsc": true,
         "editable": true,
         "field": "Species",
         "id": "Species",
         "minWidth": null,
         "name": "Species",
         "position": 2,
         "resizable": true,
         "sortable": true,
         "toolTip": "",
         "type": "string",
         "width": 30
        },
        "qgrid_unfiltered_index": {
         "cssClass": "integer",
         "defaultSortAsc": true,
         "editable": true,
         "field": "qgrid_unfiltered_index",
         "id": "qgrid_unfiltered_index",
         "maxWidth": null,
         "minWidth": null,
         "name": "qgrid_unfiltered_index",
         "position": 1,
         "resizable": true,
         "sortable": true,
         "toolTip": "",
         "type": "integer",
         "width": null
        }
       },
       "_df_json": "{\"schema\": {\"fields\":[{\"name\":\"Ion\",\"type\":\"integer\"},{\"name\":\"qgrid_unfiltered_index\",\"type\":\"integer\"},{\"name\":\"Species\",\"type\":\"string\"},{\"name\":\"Frac. Ab. (Z=8)\",\"type\":\"string\"}],\"primaryKey\":[\"Ion\"],\"pandas_version\":\"0.20.0\"}, \"data\": [{\"Ion\":0,\"qgrid_unfiltered_index\":0,\"Species\":\"O I\",\"Frac. Ab. (Z=8)\":\"2.455862e-06\"},{\"Ion\":1,\"qgrid_unfiltered_index\":1,\"Species\":\"O II\",\"Frac. Ab. (Z=8)\":\"9.997973e-01\"},{\"Ion\":2,\"qgrid_unfiltered_index\":2,\"Species\":\"O III\",\"Frac. Ab. (Z=8)\":\"2.002405e-04\"},{\"Ion\":3,\"qgrid_unfiltered_index\":3,\"Species\":\"O IV\",\"Frac. Ab. (Z=8)\":\"7.763943e-18\"},{\"Ion\":4,\"qgrid_unfiltered_index\":4,\"Species\":\"O V\",\"Frac. Ab. (Z=8)\":\"0.000000e+00\"},{\"Ion\":5,\"qgrid_unfiltered_index\":5,\"Species\":\"O VI\",\"Frac. Ab. (Z=8)\":\"0.000000e+00\"},{\"Ion\":6,\"qgrid_unfiltered_index\":6,\"Species\":\"O VII\",\"Frac. Ab. (Z=8)\":\"0.000000e+00\"},{\"Ion\":7,\"qgrid_unfiltered_index\":7,\"Species\":\"O VIII\",\"Frac. Ab. (Z=8)\":\"0.000000e+00\"},{\"Ion\":8,\"qgrid_unfiltered_index\":8,\"Species\":\"O IX\",\"Frac. Ab. (Z=8)\":\"0.000000e+00\"}]}",
       "_df_range": [
        0,
        100
       ],
       "_editable_rows": {},
       "_index_col_name": "qgrid_unfiltered_index",
       "_interval_columns": [],
       "_model_module_version": "^1.1.3",
       "_multi_index": false,
       "_row_count": 9,
       "_row_styles": {},
       "_sort_ascending": true,
       "_sort_field": null,
       "_view_module_version": "^1.1.3",
       "_viewport_range": [
        0,
        100
       ],
       "grid_options": {
        "autoEdit": false,
        "boldIndex": true,
        "defaultColumnWidth": 150,
        "editable": false,
        "enableColumnReorder": false,
        "enableTextSelectionOnCells": true,
        "explicitInitialization": true,
        "filterable": false,
        "forceFitColumns": true,
        "fullWidthRows": true,
        "highlightSelectedCell": false,
        "highlightSelectedRow": true,
        "maxVisibleRows": 15,
        "minVisibleRows": 2,
        "rowHeight": 28,
        "sortable": false,
        "syncColumnCellResize": true
       },
       "id": "aecf6a4a-fef7-452c-bd24-59182aeafe2f",
       "layout": "IPY_MODEL_6d213845ddca426893ae0761571a37f9",
       "precision": 5,
       "show_toolbar": false
      }
     },
     "3ac4897840a24c25aa5b54e9493b36d7": {
      "model_module": "qgrid",
      "model_module_version": "^1.1.3",
      "model_name": "QgridModel",
      "state": {
       "_columns": {
        "Rad. Temp.": {
         "cssClass": "string",
         "defaultSortAsc": true,
         "editable": true,
         "field": "Rad. Temp.",
         "id": "Rad. Temp.",
         "minWidth": null,
         "name": "Rad. Temp.",
         "position": 2,
         "resizable": true,
         "sortable": true,
         "toolTip": "",
         "type": "string",
         "width": 35
        },
        "Shell No.": {
         "cssClass": "integer first-idx-col idx-col",
         "defaultSortAsc": true,
         "editable": true,
         "field": "Shell No.",
         "first_index": true,
         "id": "Shell No.",
         "index_display_text": "Shell No.",
         "is_index": true,
         "level": 0,
         "minWidth": null,
         "name": "Shell No.",
         "position": 0,
         "resizable": true,
         "sortable": true,
         "toolTip": "",
         "type": "integer",
         "width": 30
        },
        "W": {
         "cssClass": "string",
         "defaultSortAsc": true,
         "editable": true,
         "field": "W",
         "id": "W",
         "minWidth": null,
         "name": "W",
         "position": 3,
         "resizable": true,
         "sortable": true,
         "toolTip": "",
         "type": "string",
         "width": 35
        },
        "qgrid_unfiltered_index": {
         "cssClass": "integer",
         "defaultSortAsc": true,
         "editable": true,
         "field": "qgrid_unfiltered_index",
         "id": "qgrid_unfiltered_index",
         "maxWidth": null,
         "minWidth": null,
         "name": "qgrid_unfiltered_index",
         "position": 1,
         "resizable": true,
         "sortable": true,
         "toolTip": "",
         "type": "integer",
         "width": null
        }
       },
       "_df_json": "{\"schema\": {\"fields\":[{\"name\":\"Shell No.\",\"type\":\"integer\"},{\"name\":\"qgrid_unfiltered_index\",\"type\":\"integer\"},{\"name\":\"Rad. Temp.\",\"type\":\"string\"},{\"name\":\"W\",\"type\":\"string\"}],\"primaryKey\":[\"Shell No.\"],\"pandas_version\":\"0.20.0\"}, \"data\": [{\"Shell No.\":1,\"qgrid_unfiltered_index\":0,\"Rad. Temp.\":\"1.086251e+04\",\"W\":\"4.444947e-01\"},{\"Shell No.\":2,\"qgrid_unfiltered_index\":1,\"Rad. Temp.\":\"1.103536e+04\",\"W\":\"3.308350e-01\"},{\"Shell No.\":3,\"qgrid_unfiltered_index\":2,\"Rad. Temp.\":\"1.119691e+04\",\"W\":\"2.604883e-01\"},{\"Shell No.\":4,\"qgrid_unfiltered_index\":3,\"Rad. Temp.\":\"1.125229e+04\",\"W\":\"2.174908e-01\"},{\"Shell No.\":5,\"qgrid_unfiltered_index\":4,\"Rad. Temp.\":\"1.121542e+04\",\"W\":\"1.879279e-01\"},{\"Shell No.\":6,\"qgrid_unfiltered_index\":5,\"Rad. Temp.\":\"1.119446e+04\",\"W\":\"1.628420e-01\"},{\"Shell No.\":7,\"qgrid_unfiltered_index\":6,\"Rad. Temp.\":\"1.124311e+04\",\"W\":\"1.419034e-01\"},{\"Shell No.\":8,\"qgrid_unfiltered_index\":7,\"Rad. Temp.\":\"1.124690e+04\",\"W\":\"1.264369e-01\"},{\"Shell No.\":9,\"qgrid_unfiltered_index\":8,\"Rad. Temp.\":\"1.116176e+04\",\"W\":\"1.172286e-01\"},{\"Shell No.\":10,\"qgrid_unfiltered_index\":9,\"Rad. Temp.\":\"1.112850e+04\",\"W\":\"1.073689e-01\"},{\"Shell No.\":11,\"qgrid_unfiltered_index\":10,\"Rad. Temp.\":\"1.106562e+04\",\"W\":\"9.937228e-02\"},{\"Shell No.\":12,\"qgrid_unfiltered_index\":11,\"Rad. Temp.\":\"1.093918e+04\",\"W\":\"9.480017e-02\"},{\"Shell No.\":13,\"qgrid_unfiltered_index\":12,\"Rad. Temp.\":\"1.088287e+04\",\"W\":\"8.920397e-02\"},{\"Shell No.\":14,\"qgrid_unfiltered_index\":13,\"Rad. Temp.\":\"1.077571e+04\",\"W\":\"8.504642e-02\"},{\"Shell No.\":15,\"qgrid_unfiltered_index\":14,\"Rad. Temp.\":\"1.065337e+04\",\"W\":\"8.179275e-02\"},{\"Shell No.\":16,\"qgrid_unfiltered_index\":15,\"Rad. Temp.\":\"1.059985e+04\",\"W\":\"7.768958e-02\"},{\"Shell No.\":17,\"qgrid_unfiltered_index\":16,\"Rad. Temp.\":\"1.050428e+04\",\"W\":\"7.459787e-02\"},{\"Shell No.\":18,\"qgrid_unfiltered_index\":17,\"Rad. Temp.\":\"1.050167e+04\",\"W\":\"6.987617e-02\"},{\"Shell No.\":19,\"qgrid_unfiltered_index\":18,\"Rad. Temp.\":\"1.037101e+04\",\"W\":\"6.830342e-02\"},{\"Shell No.\":20,\"qgrid_unfiltered_index\":19,\"Rad. Temp.\":\"1.023320e+04\",\"W\":\"6.706797e-02\"}]}",
       "_df_range": [
        0,
        100
       ],
       "_editable_rows": {},
       "_index_col_name": "qgrid_unfiltered_index",
       "_interval_columns": [],
       "_model_module_version": "^1.1.3",
       "_multi_index": false,
       "_row_count": 20,
       "_row_styles": {},
       "_sort_ascending": true,
       "_sort_field": null,
       "_view_module_version": "^1.1.3",
       "_viewport_range": [
        0,
        16
       ],
       "grid_options": {
        "autoEdit": false,
        "boldIndex": true,
        "defaultColumnWidth": 150,
        "editable": false,
        "enableColumnReorder": false,
        "enableTextSelectionOnCells": true,
        "explicitInitialization": true,
        "filterable": false,
        "forceFitColumns": true,
        "fullWidthRows": true,
        "highlightSelectedCell": false,
        "highlightSelectedRow": true,
        "maxVisibleRows": 15,
        "minVisibleRows": 2,
        "rowHeight": 28,
        "sortable": false,
        "syncColumnCellResize": true
       },
       "id": "e01282d2-8854-4032-a28d-97708ba13786",
       "layout": "IPY_MODEL_2b0874f95faf441bab4671d9b13503a6",
       "precision": 5,
       "show_toolbar": false
      }
     },
     "3ddc402ab35745acaafdb02dabba1210": {
      "model_module": "@jupyter-widgets/controls",
      "model_module_version": "1.5.0",
      "model_name": "HTMLModel",
      "state": {
       "layout": "IPY_MODEL_10341ab8e0654ab28bfac1283df11067",
       "style": "IPY_MODEL_c0898b21d6124cc889f1ab30ec104c89",
       "value": "<b>Frac. Ab.</b> denotes <i>Fractional Abundances</i> (i.e all values sum to 1)<br><b>W</b> denotes <i>Dilution Factor</i> and <b>Rad. Temp.</b> is <i>Radiative Temperature (in K)</i>"
      }
     },
     "3fd83cdd62e148068282b24e2c482dca": {
      "model_module": "@jupyter-widgets/controls",
      "model_module_version": "1.5.0",
      "model_name": "BoxModel",
      "state": {
       "children": [
        "IPY_MODEL_dbf71db27a824d13802210a5a6dd66f9",
        "IPY_MODEL_d5093df10049420e8634c2d98a89599e",
        "IPY_MODEL_0e7f25d58434435f9cca40d9e78eac36",
        "IPY_MODEL_219b8df0a2474550a1e63b309d0e8597"
       ],
       "layout": "IPY_MODEL_5b19b6b7023f43629baaf68a9d76c715"
      }
     },
     "3ff58ed0a7c14be5bd7f2512a7f6fa58": {
      "model_module": "@jupyter-widgets/controls",
      "model_module_version": "1.5.0",
      "model_name": "VBoxModel",
      "state": {
       "children": [
        "IPY_MODEL_3ddc402ab35745acaafdb02dabba1210",
        "IPY_MODEL_01898807ed664fb9b9eccb93a7ca86b1"
       ],
       "layout": "IPY_MODEL_be74ff6b1b4f46e48239bdbd92faaffd"
      }
     },
     "426a59c372194b4881114b3c7e5f0546": {
      "model_module": "@jupyter-widgets/base",
      "model_module_version": "1.2.0",
      "model_name": "LayoutModel",
      "state": {}
     },
     "426c9d7f74bb4ff38f5c3c351c9d017a": {
      "model_module": "@jupyter-widgets/base",
      "model_module_version": "1.2.0",
      "model_name": "LayoutModel",
      "state": {
       "width": "30%"
      }
     },
     "42d8b086762e41eaac4d2db2edd97b5f": {
      "model_module": "@jupyter-widgets/base",
      "model_module_version": "1.2.0",
      "model_name": "LayoutModel",
      "state": {}
     },
     "44f2102d70af4efa84779fa96fc8be50": {
      "model_module": "@jupyter-widgets/base",
      "model_module_version": "1.2.0",
      "model_name": "LayoutModel",
      "state": {}
     },
     "46331f57bd37487e8e57dfb0e10ee2f8": {
      "model_module": "qgrid",
      "model_module_version": "^1.1.3",
      "model_name": "QgridModel",
      "state": {
       "_columns": {
        "Frac. Ab. (Ion=0)": {
         "cssClass": "string",
         "defaultSortAsc": true,
         "editable": true,
         "field": "Frac. Ab. (Ion=0)",
         "id": "Frac. Ab. (Ion=0)",
         "minWidth": null,
         "name": "Frac. Ab. (Ion=0)",
         "position": 2,
         "resizable": true,
         "sortable": true,
         "toolTip": "",
         "type": "string",
         "width": 70
        },
        "Level": {
         "cssClass": "integer first-idx-col idx-col",
         "defaultSortAsc": true,
         "editable": true,
         "field": "Level",
         "first_index": true,
         "id": "Level",
         "index_display_text": "Level",
         "is_index": true,
         "level": 0,
         "minWidth": null,
         "name": "Level",
         "position": 0,
         "resizable": true,
         "sortable": true,
         "toolTip": "",
         "type": "integer",
         "width": 30
        },
        "qgrid_unfiltered_index": {
         "cssClass": "integer",
         "defaultSortAsc": true,
         "editable": true,
         "field": "qgrid_unfiltered_index",
         "id": "qgrid_unfiltered_index",
         "maxWidth": null,
         "minWidth": null,
         "name": "qgrid_unfiltered_index",
         "position": 1,
         "resizable": true,
         "sortable": true,
         "toolTip": "",
         "type": "integer",
         "width": null
        }
       },
       "_df_json": "{\"schema\": {\"fields\":[{\"name\":\"Level\",\"type\":\"integer\"},{\"name\":\"qgrid_unfiltered_index\",\"type\":\"integer\"},{\"name\":\"Frac. Ab. (Ion=0)\",\"type\":\"string\"}],\"primaryKey\":[\"Level\"],\"pandas_version\":\"0.20.0\"}, \"data\": [{\"Level\":0,\"qgrid_unfiltered_index\":0,\"Frac. Ab. (Ion=0)\":\"5.245451e-01\"},{\"Level\":1,\"qgrid_unfiltered_index\":1,\"Frac. Ab. (Ion=0)\":\"3.081982e-01\"},{\"Level\":2,\"qgrid_unfiltered_index\":2,\"Frac. Ab. (Ion=0)\":\"1.018020e-01\"},{\"Level\":3,\"qgrid_unfiltered_index\":3,\"Frac. Ab. (Ion=0)\":\"6.412135e-02\"},{\"Level\":4,\"qgrid_unfiltered_index\":4,\"Frac. Ab. (Ion=0)\":\"1.193807e-03\"},{\"Level\":5,\"qgrid_unfiltered_index\":5,\"Frac. Ab. (Ion=0)\":\"2.994701e-05\"},{\"Level\":6,\"qgrid_unfiltered_index\":6,\"Frac. Ab. (Ion=0)\":\"1.203353e-05\"},{\"Level\":7,\"qgrid_unfiltered_index\":7,\"Frac. Ab. (Ion=0)\":\"3.272569e-06\"},{\"Level\":8,\"qgrid_unfiltered_index\":8,\"Frac. Ab. (Ion=0)\":\"5.452822e-06\"},{\"Level\":9,\"qgrid_unfiltered_index\":9,\"Frac. Ab. (Ion=0)\":\"7.630235e-06\"},{\"Level\":10,\"qgrid_unfiltered_index\":10,\"Frac. Ab. (Ion=0)\":\"2.509362e-06\"},{\"Level\":11,\"qgrid_unfiltered_index\":11,\"Frac. Ab. (Ion=0)\":\"4.181961e-06\"},{\"Level\":12,\"qgrid_unfiltered_index\":12,\"Frac. Ab. (Ion=0)\":\"8.363748e-07\"},{\"Level\":13,\"qgrid_unfiltered_index\":13,\"Frac. Ab. (Ion=0)\":\"1.688869e-06\"},{\"Level\":14,\"qgrid_unfiltered_index\":14,\"Frac. Ab. (Ion=0)\":\"9.177002e-07\"},{\"Level\":15,\"qgrid_unfiltered_index\":15,\"Frac. Ab. (Ion=0)\":\"2.349891e-06\"},{\"Level\":16,\"qgrid_unfiltered_index\":16,\"Frac. Ab. (Ion=0)\":\"1.827672e-06\"},{\"Level\":17,\"qgrid_unfiltered_index\":17,\"Frac. Ab. (Ion=0)\":\"1.305459e-06\"},{\"Level\":18,\"qgrid_unfiltered_index\":18,\"Frac. Ab. (Ion=0)\":\"7.832646e-07\"},{\"Level\":19,\"qgrid_unfiltered_index\":19,\"Frac. Ab. (Ion=0)\":\"2.610865e-07\"},{\"Level\":20,\"qgrid_unfiltered_index\":20,\"Frac. Ab. (Ion=0)\":\"7.762995e-07\"},{\"Level\":21,\"qgrid_unfiltered_index\":21,\"Frac. Ab. (Ion=0)\":\"1.293821e-06\"},{\"Level\":22,\"qgrid_unfiltered_index\":22,\"Frac. Ab. (Ion=0)\":\"1.811327e-06\"},{\"Level\":23,\"qgrid_unfiltered_index\":23,\"Frac. Ab. (Ion=0)\":\"6.276639e-07\"},{\"Level\":24,\"qgrid_unfiltered_index\":24,\"Frac. Ab. (Ion=0)\":\"1.046013e-06\"},{\"Level\":25,\"qgrid_unfiltered_index\":25,\"Frac. Ab. (Ion=0)\":\"1.464187e-06\"},{\"Level\":26,\"qgrid_unfiltered_index\":26,\"Frac. Ab. (Ion=0)\":\"5.806349e-07\"},{\"Level\":27,\"qgrid_unfiltered_index\":27,\"Frac. Ab. (Ion=0)\":\"9.677145e-07\"},{\"Level\":28,\"qgrid_unfiltered_index\":28,\"Frac. Ab. (Ion=0)\":\"1.935362e-07\"},{\"Level\":29,\"qgrid_unfiltered_index\":29,\"Frac. Ab. (Ion=0)\":\"1.117416e-06\"},{\"Level\":30,\"qgrid_unfiltered_index\":30,\"Frac. Ab. (Ion=0)\":\"7.968744e-07\"},{\"Level\":31,\"qgrid_unfiltered_index\":31,\"Frac. Ab. (Ion=0)\":\"4.776248e-07\"},{\"Level\":32,\"qgrid_unfiltered_index\":32,\"Frac. Ab. (Ion=0)\":\"7.008731e-07\"},{\"Level\":33,\"qgrid_unfiltered_index\":33,\"Frac. Ab. (Ion=0)\":\"4.043934e-07\"},{\"Level\":34,\"qgrid_unfiltered_index\":34,\"Frac. Ab. (Ion=0)\":\"6.520337e-07\"},{\"Level\":35,\"qgrid_unfiltered_index\":35,\"Frac. Ab. (Ion=0)\":\"1.142451e-06\"},{\"Level\":36,\"qgrid_unfiltered_index\":36,\"Frac. Ab. (Ion=0)\":\"8.885682e-07\"},{\"Level\":37,\"qgrid_unfiltered_index\":37,\"Frac. Ab. (Ion=0)\":\"6.346866e-07\"},{\"Level\":38,\"qgrid_unfiltered_index\":38,\"Frac. Ab. (Ion=0)\":\"3.808095e-07\"},{\"Level\":39,\"qgrid_unfiltered_index\":39,\"Frac. Ab. (Ion=0)\":\"1.269361e-07\"},{\"Level\":40,\"qgrid_unfiltered_index\":40,\"Frac. Ab. (Ion=0)\":\"8.835420e-07\"},{\"Level\":41,\"qgrid_unfiltered_index\":41,\"Frac. Ab. (Ion=0)\":\"6.310956e-07\"},{\"Level\":42,\"qgrid_unfiltered_index\":42,\"Frac. Ab. (Ion=0)\":\"3.786551e-07\"},{\"Level\":43,\"qgrid_unfiltered_index\":43,\"Frac. Ab. (Ion=0)\":\"3.756697e-07\"},{\"Level\":44,\"qgrid_unfiltered_index\":44,\"Frac. Ab. (Ion=0)\":\"6.261162e-07\"},{\"Level\":45,\"qgrid_unfiltered_index\":45,\"Frac. Ab. (Ion=0)\":\"8.765626e-07\"},{\"Level\":46,\"qgrid_unfiltered_index\":46,\"Frac. Ab. (Ion=0)\":\"1.127009e-06\"},{\"Level\":47,\"qgrid_unfiltered_index\":47,\"Frac. Ab. (Ion=0)\":\"1.377456e-06\"},{\"Level\":48,\"qgrid_unfiltered_index\":48,\"Frac. Ab. (Ion=0)\":\"6.261084e-07\"},{\"Level\":49,\"qgrid_unfiltered_index\":49,\"Frac. Ab. (Ion=0)\":\"8.765517e-07\"},{\"Level\":50,\"qgrid_unfiltered_index\":50,\"Frac. Ab. (Ion=0)\":\"1.126995e-06\"},{\"Level\":51,\"qgrid_unfiltered_index\":51,\"Frac. Ab. (Ion=0)\":\"3.443372e-07\"},{\"Level\":52,\"qgrid_unfiltered_index\":52,\"Frac. Ab. (Ion=0)\":\"3.443367e-07\"},{\"Level\":53,\"qgrid_unfiltered_index\":53,\"Frac. Ab. (Ion=0)\":\"5.738682e-07\"},{\"Level\":54,\"qgrid_unfiltered_index\":54,\"Frac. Ab. (Ion=0)\":\"5.738673e-07\"},{\"Level\":55,\"qgrid_unfiltered_index\":55,\"Frac. Ab. (Ion=0)\":\"8.033623e-07\"},{\"Level\":56,\"qgrid_unfiltered_index\":56,\"Frac. Ab. (Ion=0)\":\"8.033610e-07\"},{\"Level\":57,\"qgrid_unfiltered_index\":57,\"Frac. Ab. (Ion=0)\":\"5.556286e-07\"},{\"Level\":58,\"qgrid_unfiltered_index\":58,\"Frac. Ab. (Ion=0)\":\"3.333745e-07\"},{\"Level\":59,\"qgrid_unfiltered_index\":59,\"Frac. Ab. (Ion=0)\":\"1.111215e-07\"},{\"Level\":60,\"qgrid_unfiltered_index\":60,\"Frac. Ab. (Ion=0)\":\"4.771668e-07\"},{\"Level\":61,\"qgrid_unfiltered_index\":61,\"Frac. Ab. (Ion=0)\":\"2.808195e-07\"},{\"Level\":62,\"qgrid_unfiltered_index\":62,\"Frac. Ab. (Ion=0)\":\"8.182505e-07\"},{\"Level\":63,\"qgrid_unfiltered_index\":63,\"Frac. Ab. (Ion=0)\":\"6.364151e-07\"},{\"Level\":64,\"qgrid_unfiltered_index\":64,\"Frac. Ab. (Ion=0)\":\"4.545803e-07\"},{\"Level\":65,\"qgrid_unfiltered_index\":65,\"Frac. Ab. (Ion=0)\":\"2.727472e-07\"},{\"Level\":66,\"qgrid_unfiltered_index\":66,\"Frac. Ab. (Ion=0)\":\"9.091558e-08\"},{\"Level\":67,\"qgrid_unfiltered_index\":67,\"Frac. Ab. (Ion=0)\":\"2.718970e-07\"},{\"Level\":68,\"qgrid_unfiltered_index\":68,\"Frac. Ab. (Ion=0)\":\"4.531616e-07\"},{\"Level\":69,\"qgrid_unfiltered_index\":69,\"Frac. Ab. (Ion=0)\":\"6.344262e-07\"},{\"Level\":70,\"qgrid_unfiltered_index\":70,\"Frac. Ab. (Ion=0)\":\"2.707241e-07\"},{\"Level\":71,\"qgrid_unfiltered_index\":71,\"Frac. Ab. (Ion=0)\":\"4.512069e-07\"},{\"Level\":72,\"qgrid_unfiltered_index\":72,\"Frac. Ab. (Ion=0)\":\"6.316896e-07\"},{\"Level\":73,\"qgrid_unfiltered_index\":73,\"Frac. Ab. (Ion=0)\":\"8.121724e-07\"},{\"Level\":74,\"qgrid_unfiltered_index\":74,\"Frac. Ab. (Ion=0)\":\"9.926551e-07\"},{\"Level\":75,\"qgrid_unfiltered_index\":75,\"Frac. Ab. (Ion=0)\":\"4.512021e-07\"},{\"Level\":76,\"qgrid_unfiltered_index\":76,\"Frac. Ab. (Ion=0)\":\"6.316830e-07\"},{\"Level\":77,\"qgrid_unfiltered_index\":77,\"Frac. Ab. (Ion=0)\":\"8.121639e-07\"},{\"Level\":78,\"qgrid_unfiltered_index\":78,\"Frac. Ab. (Ion=0)\":\"2.585702e-07\"},{\"Level\":79,\"qgrid_unfiltered_index\":79,\"Frac. Ab. (Ion=0)\":\"4.309410e-07\"},{\"Level\":80,\"qgrid_unfiltered_index\":80,\"Frac. Ab. (Ion=0)\":\"6.032965e-07\"},{\"Level\":81,\"qgrid_unfiltered_index\":81,\"Frac. Ab. (Ion=0)\":\"8.479052e-08\"},{\"Level\":82,\"qgrid_unfiltered_index\":82,\"Frac. Ab. (Ion=0)\":\"2.543716e-07\"},{\"Level\":83,\"qgrid_unfiltered_index\":83,\"Frac. Ab. (Ion=0)\":\"4.239526e-07\"},{\"Level\":84,\"qgrid_unfiltered_index\":84,\"Frac. Ab. (Ion=0)\":\"3.898398e-07\"},{\"Level\":85,\"qgrid_unfiltered_index\":85,\"Frac. Ab. (Ion=0)\":\"2.313594e-07\"},{\"Level\":86,\"qgrid_unfiltered_index\":86,\"Frac. Ab. (Ion=0)\":\"6.828155e-07\"},{\"Level\":87,\"qgrid_unfiltered_index\":87,\"Frac. Ab. (Ion=0)\":\"5.310780e-07\"},{\"Level\":88,\"qgrid_unfiltered_index\":88,\"Frac. Ab. (Ion=0)\":\"3.793406e-07\"},{\"Level\":89,\"qgrid_unfiltered_index\":89,\"Frac. Ab. (Ion=0)\":\"2.276040e-07\"},{\"Level\":90,\"qgrid_unfiltered_index\":90,\"Frac. Ab. (Ion=0)\":\"7.586792e-08\"},{\"Level\":91,\"qgrid_unfiltered_index\":91,\"Frac. Ab. (Ion=0)\":\"2.271728e-07\"},{\"Level\":92,\"qgrid_unfiltered_index\":92,\"Frac. Ab. (Ion=0)\":\"3.786213e-07\"},{\"Level\":93,\"qgrid_unfiltered_index\":93,\"Frac. Ab. (Ion=0)\":\"5.300698e-07\"},{\"Level\":94,\"qgrid_unfiltered_index\":94,\"Frac. Ab. (Ion=0)\":\"2.265911e-07\"},{\"Level\":95,\"qgrid_unfiltered_index\":95,\"Frac. Ab. (Ion=0)\":\"3.776518e-07\"},{\"Level\":96,\"qgrid_unfiltered_index\":96,\"Frac. Ab. (Ion=0)\":\"5.287125e-07\"},{\"Level\":97,\"qgrid_unfiltered_index\":97,\"Frac. Ab. (Ion=0)\":\"6.797733e-07\"},{\"Level\":98,\"qgrid_unfiltered_index\":98,\"Frac. Ab. (Ion=0)\":\"8.308340e-07\"},{\"Level\":99,\"qgrid_unfiltered_index\":99,\"Frac. Ab. (Ion=0)\":\"3.776498e-07\"}]}",
       "_df_range": [
        0,
        100
       ],
       "_editable_rows": {},
       "_index_col_name": "qgrid_unfiltered_index",
       "_interval_columns": [],
       "_model_module_version": "^1.1.3",
       "_multi_index": false,
       "_row_count": 150,
       "_row_styles": {},
       "_sort_ascending": true,
       "_sort_field": null,
       "_view_module_version": "^1.1.3",
       "_viewport_range": [
        0,
        100
       ],
       "grid_options": {
        "autoEdit": false,
        "boldIndex": true,
        "defaultColumnWidth": 150,
        "editable": false,
        "enableColumnReorder": false,
        "enableTextSelectionOnCells": true,
        "explicitInitialization": true,
        "filterable": false,
        "forceFitColumns": true,
        "fullWidthRows": true,
        "highlightSelectedCell": false,
        "highlightSelectedRow": true,
        "maxVisibleRows": 15,
        "minVisibleRows": 2,
        "rowHeight": 28,
        "sortable": false,
        "syncColumnCellResize": true
       },
       "id": "a3f1c84e-dff7-4edb-a540-474b3c884fc4",
       "layout": "IPY_MODEL_c28088dded0c488e96832fd77f7f292c",
       "precision": 5,
       "show_toolbar": false
      }
     },
     "477104e4f358423c8b9236188f5a166b": {
      "model_module": "qgrid",
      "model_module_version": "^1.1.3",
      "model_name": "QgridModel",
      "state": {
       "_columns": {
        "Rad. Temp.": {
         "cssClass": "string",
         "defaultSortAsc": true,
         "editable": true,
         "field": "Rad. Temp.",
         "id": "Rad. Temp.",
         "minWidth": null,
         "name": "Rad. Temp.",
         "position": 2,
         "resizable": true,
         "sortable": true,
         "toolTip": "",
         "type": "string",
         "width": 35
        },
        "Shell No.": {
         "cssClass": "integer first-idx-col idx-col",
         "defaultSortAsc": true,
         "editable": true,
         "field": "Shell No.",
         "first_index": true,
         "id": "Shell No.",
         "index_display_text": "Shell No.",
         "is_index": true,
         "level": 0,
         "minWidth": null,
         "name": "Shell No.",
         "position": 0,
         "resizable": true,
         "sortable": true,
         "toolTip": "",
         "type": "integer",
         "width": 30
        },
        "W": {
         "cssClass": "string",
         "defaultSortAsc": true,
         "editable": true,
         "field": "W",
         "id": "W",
         "minWidth": null,
         "name": "W",
         "position": 3,
         "resizable": true,
         "sortable": true,
         "toolTip": "",
         "type": "string",
         "width": 35
        },
        "qgrid_unfiltered_index": {
         "cssClass": "integer",
         "defaultSortAsc": true,
         "editable": true,
         "field": "qgrid_unfiltered_index",
         "id": "qgrid_unfiltered_index",
         "maxWidth": null,
         "minWidth": null,
         "name": "qgrid_unfiltered_index",
         "position": 1,
         "resizable": true,
         "sortable": true,
         "toolTip": "",
         "type": "integer",
         "width": null
        }
       },
       "_df_json": "{\"schema\": {\"fields\":[{\"name\":\"Shell No.\",\"type\":\"integer\"},{\"name\":\"qgrid_unfiltered_index\",\"type\":\"integer\"},{\"name\":\"Rad. Temp.\",\"type\":\"string\"},{\"name\":\"W\",\"type\":\"string\"}],\"primaryKey\":[\"Shell No.\"],\"pandas_version\":\"0.20.0\"}, \"data\": [{\"Shell No.\":1,\"qgrid_unfiltered_index\":0,\"Rad. Temp.\":\"1.086251e+04\",\"W\":\"4.444947e-01\"},{\"Shell No.\":2,\"qgrid_unfiltered_index\":1,\"Rad. Temp.\":\"1.103536e+04\",\"W\":\"3.308350e-01\"},{\"Shell No.\":3,\"qgrid_unfiltered_index\":2,\"Rad. Temp.\":\"1.119691e+04\",\"W\":\"2.604883e-01\"},{\"Shell No.\":4,\"qgrid_unfiltered_index\":3,\"Rad. Temp.\":\"1.125229e+04\",\"W\":\"2.174908e-01\"},{\"Shell No.\":5,\"qgrid_unfiltered_index\":4,\"Rad. Temp.\":\"1.121542e+04\",\"W\":\"1.879279e-01\"},{\"Shell No.\":6,\"qgrid_unfiltered_index\":5,\"Rad. Temp.\":\"1.119446e+04\",\"W\":\"1.628420e-01\"},{\"Shell No.\":7,\"qgrid_unfiltered_index\":6,\"Rad. Temp.\":\"1.124311e+04\",\"W\":\"1.419034e-01\"},{\"Shell No.\":8,\"qgrid_unfiltered_index\":7,\"Rad. Temp.\":\"1.124690e+04\",\"W\":\"1.264369e-01\"},{\"Shell No.\":9,\"qgrid_unfiltered_index\":8,\"Rad. Temp.\":\"1.116176e+04\",\"W\":\"1.172286e-01\"},{\"Shell No.\":10,\"qgrid_unfiltered_index\":9,\"Rad. Temp.\":\"1.112850e+04\",\"W\":\"1.073689e-01\"},{\"Shell No.\":11,\"qgrid_unfiltered_index\":10,\"Rad. Temp.\":\"1.106562e+04\",\"W\":\"9.937228e-02\"},{\"Shell No.\":12,\"qgrid_unfiltered_index\":11,\"Rad. Temp.\":\"1.093918e+04\",\"W\":\"9.480017e-02\"},{\"Shell No.\":13,\"qgrid_unfiltered_index\":12,\"Rad. Temp.\":\"1.088287e+04\",\"W\":\"8.920397e-02\"},{\"Shell No.\":14,\"qgrid_unfiltered_index\":13,\"Rad. Temp.\":\"1.077571e+04\",\"W\":\"8.504642e-02\"},{\"Shell No.\":15,\"qgrid_unfiltered_index\":14,\"Rad. Temp.\":\"1.065337e+04\",\"W\":\"8.179275e-02\"},{\"Shell No.\":16,\"qgrid_unfiltered_index\":15,\"Rad. Temp.\":\"1.059985e+04\",\"W\":\"7.768958e-02\"},{\"Shell No.\":17,\"qgrid_unfiltered_index\":16,\"Rad. Temp.\":\"1.050428e+04\",\"W\":\"7.459787e-02\"},{\"Shell No.\":18,\"qgrid_unfiltered_index\":17,\"Rad. Temp.\":\"1.050167e+04\",\"W\":\"6.987617e-02\"},{\"Shell No.\":19,\"qgrid_unfiltered_index\":18,\"Rad. Temp.\":\"1.037101e+04\",\"W\":\"6.830342e-02\"},{\"Shell No.\":20,\"qgrid_unfiltered_index\":19,\"Rad. Temp.\":\"1.023320e+04\",\"W\":\"6.706797e-02\"}]}",
       "_df_range": [
        0,
        100
       ],
       "_editable_rows": {},
       "_index_col_name": "qgrid_unfiltered_index",
       "_interval_columns": [],
       "_model_module_version": "^1.1.3",
       "_multi_index": false,
       "_row_count": 20,
       "_row_styles": {},
       "_sort_ascending": true,
       "_sort_field": null,
       "_view_module_version": "^1.1.3",
       "_viewport_range": [
        0,
        100
       ],
       "grid_options": {
        "autoEdit": false,
        "boldIndex": true,
        "defaultColumnWidth": 150,
        "editable": false,
        "enableColumnReorder": false,
        "enableTextSelectionOnCells": true,
        "explicitInitialization": true,
        "filterable": false,
        "forceFitColumns": true,
        "fullWidthRows": true,
        "highlightSelectedCell": false,
        "highlightSelectedRow": true,
        "maxVisibleRows": 15,
        "minVisibleRows": 2,
        "rowHeight": 28,
        "sortable": false,
        "syncColumnCellResize": true
       },
       "id": "7b084774-c18d-4454-b3a7-97c9814471b2",
       "layout": "IPY_MODEL_33f83d50b3574c958fb1ef64e6aaf110",
       "precision": 5,
       "show_toolbar": false
      }
     },
     "4a1f696e1bf441739363712146094b34": {
      "model_module": "@jupyter-widgets/base",
      "model_module_version": "1.2.0",
      "model_name": "LayoutModel",
      "state": {}
     },
     "4a9a06b791244660972c9802b4d6b818": {
      "model_module": "@jupyter-widgets/base",
      "model_module_version": "1.2.0",
      "model_name": "LayoutModel",
      "state": {
       "width": "24%"
      }
     },
     "4c2ca45b0bd04158b73c363601688c30": {
      "model_module": "@jupyter-widgets/controls",
      "model_module_version": "1.5.0",
      "model_name": "HTMLModel",
      "state": {
       "layout": "IPY_MODEL_44f2102d70af4efa84779fa96fc8be50",
       "style": "IPY_MODEL_a016381751e2413c94fcc5bd3a704bfe",
       "value": "<b>Frac. Ab.</b> denotes <i>Fractional Abundances</i> (i.e all values sum to 1)<br><b>W</b> denotes <i>Dilution Factor</i> and <b>Rad. Temp.</b> is <i>Radiative Temperature (in K)</i>"
      }
     },
     "4c48a0a1bbb14195b0ac242b0c716be2": {
      "model_module": "@jupyter-widgets/controls",
      "model_module_version": "1.5.0",
      "model_name": "VBoxModel",
      "state": {
       "children": [
        "IPY_MODEL_a9fda71892cb4583af147196f8698f1d",
        "IPY_MODEL_d658f3646e0a4201b903ba18a177c733"
       ],
       "layout": "IPY_MODEL_9f62b5c5c8af46ac8c9be4718ba5d41c"
      }
     },
     "4ca5091029ae4dfba618634ea4661e1b": {
      "model_module": "qgrid",
      "model_module_version": "^1.1.3",
      "model_name": "QgridModel",
      "state": {
       "_columns": {
        "Frac. Ab. (Z=14)": {
         "cssClass": "string",
         "defaultSortAsc": true,
         "editable": true,
         "field": "Frac. Ab. (Z=14)",
         "id": "Frac. Ab. (Z=14)",
         "minWidth": null,
         "name": "Frac. Ab. (Z=14)",
         "position": 3,
         "resizable": true,
         "sortable": true,
         "toolTip": "",
         "type": "string",
         "width": 50
        },
        "Ion": {
         "cssClass": "integer first-idx-col idx-col",
         "defaultSortAsc": true,
         "editable": true,
         "field": "Ion",
         "first_index": true,
         "id": "Ion",
         "index_display_text": "Ion",
         "is_index": true,
         "level": 0,
         "minWidth": null,
         "name": "Ion",
         "position": 0,
         "resizable": true,
         "sortable": true,
         "toolTip": "",
         "type": "integer",
         "width": 20
        },
        "Species": {
         "cssClass": "string",
         "defaultSortAsc": true,
         "editable": true,
         "field": "Species",
         "id": "Species",
         "minWidth": null,
         "name": "Species",
         "position": 2,
         "resizable": true,
         "sortable": true,
         "toolTip": "",
         "type": "string",
         "width": 30
        },
        "qgrid_unfiltered_index": {
         "cssClass": "integer",
         "defaultSortAsc": true,
         "editable": true,
         "field": "qgrid_unfiltered_index",
         "id": "qgrid_unfiltered_index",
         "maxWidth": null,
         "minWidth": null,
         "name": "qgrid_unfiltered_index",
         "position": 1,
         "resizable": true,
         "sortable": true,
         "toolTip": "",
         "type": "integer",
         "width": null
        }
       },
       "_df_json": "{\"schema\": {\"fields\":[{\"name\":\"Ion\",\"type\":\"integer\"},{\"name\":\"qgrid_unfiltered_index\",\"type\":\"integer\"},{\"name\":\"Species\",\"type\":\"string\"},{\"name\":\"Frac. Ab. (Z=14)\",\"type\":\"string\"}],\"primaryKey\":[\"Ion\"],\"pandas_version\":\"0.20.0\"}, \"data\": [{\"Ion\":0,\"qgrid_unfiltered_index\":0,\"Species\":\"Si I\",\"Frac. Ab. (Z=14)\":\"2.926441e-13\"},{\"Ion\":1,\"qgrid_unfiltered_index\":1,\"Species\":\"Si II\",\"Frac. Ab. (Z=14)\":\"6.777777e-05\"},{\"Ion\":2,\"qgrid_unfiltered_index\":2,\"Species\":\"Si III\",\"Frac. Ab. (Z=14)\":\"9.974187e-01\"},{\"Ion\":3,\"qgrid_unfiltered_index\":3,\"Species\":\"Si IV\",\"Frac. Ab. (Z=14)\":\"2.513493e-03\"},{\"Ion\":4,\"qgrid_unfiltered_index\":4,\"Species\":\"Si V\",\"Frac. Ab. (Z=14)\":\"7.644945e-12\"},{\"Ion\":5,\"qgrid_unfiltered_index\":5,\"Species\":\"Si VI\",\"Frac. Ab. (Z=14)\":\"0.000000e+00\"},{\"Ion\":6,\"qgrid_unfiltered_index\":6,\"Species\":\"Si VII\",\"Frac. Ab. (Z=14)\":\"0.000000e+00\"},{\"Ion\":7,\"qgrid_unfiltered_index\":7,\"Species\":\"Si VIII\",\"Frac. Ab. (Z=14)\":\"0.000000e+00\"},{\"Ion\":8,\"qgrid_unfiltered_index\":8,\"Species\":\"Si IX\",\"Frac. Ab. (Z=14)\":\"0.000000e+00\"},{\"Ion\":9,\"qgrid_unfiltered_index\":9,\"Species\":\"Si X\",\"Frac. Ab. (Z=14)\":\"0.000000e+00\"},{\"Ion\":10,\"qgrid_unfiltered_index\":10,\"Species\":\"Si XI\",\"Frac. Ab. (Z=14)\":\"0.000000e+00\"},{\"Ion\":11,\"qgrid_unfiltered_index\":11,\"Species\":\"Si XII\",\"Frac. Ab. (Z=14)\":\"0.000000e+00\"},{\"Ion\":12,\"qgrid_unfiltered_index\":12,\"Species\":\"Si XIII\",\"Frac. Ab. (Z=14)\":\"0.000000e+00\"},{\"Ion\":13,\"qgrid_unfiltered_index\":13,\"Species\":\"Si XIV\",\"Frac. Ab. (Z=14)\":\"0.000000e+00\"},{\"Ion\":14,\"qgrid_unfiltered_index\":14,\"Species\":\"Si XV\",\"Frac. Ab. (Z=14)\":\"0.000000e+00\"}]}",
       "_df_range": [
        0,
        100
       ],
       "_editable_rows": {},
       "_index_col_name": "qgrid_unfiltered_index",
       "_interval_columns": [],
       "_model_module_version": "^1.1.3",
       "_multi_index": false,
       "_row_count": 15,
       "_row_styles": {},
       "_sort_ascending": true,
       "_sort_field": null,
       "_view_module_version": "^1.1.3",
       "_viewport_range": [
        0,
        100
       ],
       "grid_options": {
        "autoEdit": false,
        "boldIndex": true,
        "defaultColumnWidth": 150,
        "editable": false,
        "enableColumnReorder": false,
        "enableTextSelectionOnCells": true,
        "explicitInitialization": true,
        "filterable": false,
        "forceFitColumns": true,
        "fullWidthRows": true,
        "highlightSelectedCell": false,
        "highlightSelectedRow": true,
        "maxVisibleRows": 15,
        "minVisibleRows": 2,
        "rowHeight": 28,
        "sortable": false,
        "syncColumnCellResize": true
       },
       "id": "244dc247-7980-4837-a75e-10debc2d5596",
       "layout": "IPY_MODEL_766a96108ab34a9bb42072fa7e0049d4",
       "precision": 5,
       "show_toolbar": false
      }
     },
     "4db53e5008b34abb9d0277be508b7446": {
      "model_module": "@jupyter-widgets/base",
      "model_module_version": "1.2.0",
      "model_name": "LayoutModel",
      "state": {
       "width": "18%"
      }
     },
     "505ffbb2247143378e1d73370bf445f7": {
      "model_module": "@jupyter-widgets/base",
      "model_module_version": "1.2.0",
      "model_name": "LayoutModel",
      "state": {
       "width": "30%"
      }
     },
     "510273d117024eb1bbfa0e32588ffc2e": {
      "model_module": "qgrid",
      "model_module_version": "^1.1.3",
      "model_name": "QgridModel",
      "state": {
       "_columns": {
        "Rad. Temp.": {
         "cssClass": "string",
         "defaultSortAsc": true,
         "editable": true,
         "field": "Rad. Temp.",
         "id": "Rad. Temp.",
         "minWidth": null,
         "name": "Rad. Temp.",
         "position": 2,
         "resizable": true,
         "sortable": true,
         "toolTip": "",
         "type": "string",
         "width": 35
        },
        "Shell No.": {
         "cssClass": "integer first-idx-col idx-col",
         "defaultSortAsc": true,
         "editable": true,
         "field": "Shell No.",
         "first_index": true,
         "id": "Shell No.",
         "index_display_text": "Shell No.",
         "is_index": true,
         "level": 0,
         "minWidth": null,
         "name": "Shell No.",
         "position": 0,
         "resizable": true,
         "sortable": true,
         "toolTip": "",
         "type": "integer",
         "width": 30
        },
        "W": {
         "cssClass": "string",
         "defaultSortAsc": true,
         "editable": true,
         "field": "W",
         "id": "W",
         "minWidth": null,
         "name": "W",
         "position": 3,
         "resizable": true,
         "sortable": true,
         "toolTip": "",
         "type": "string",
         "width": 35
        },
        "qgrid_unfiltered_index": {
         "cssClass": "integer",
         "defaultSortAsc": true,
         "editable": true,
         "field": "qgrid_unfiltered_index",
         "id": "qgrid_unfiltered_index",
         "maxWidth": null,
         "minWidth": null,
         "name": "qgrid_unfiltered_index",
         "position": 1,
         "resizable": true,
         "sortable": true,
         "toolTip": "",
         "type": "integer",
         "width": null
        }
       },
       "_df_json": "{\"schema\": {\"fields\":[{\"name\":\"Shell No.\",\"type\":\"integer\"},{\"name\":\"qgrid_unfiltered_index\",\"type\":\"integer\"},{\"name\":\"Rad. Temp.\",\"type\":\"string\"},{\"name\":\"W\",\"type\":\"string\"}],\"primaryKey\":[\"Shell No.\"],\"pandas_version\":\"0.20.0\"}, \"data\": [{\"Shell No.\":1,\"qgrid_unfiltered_index\":0,\"Rad. Temp.\":\"1.086251e+04\",\"W\":\"4.444947e-01\"},{\"Shell No.\":2,\"qgrid_unfiltered_index\":1,\"Rad. Temp.\":\"1.103536e+04\",\"W\":\"3.308350e-01\"},{\"Shell No.\":3,\"qgrid_unfiltered_index\":2,\"Rad. Temp.\":\"1.119691e+04\",\"W\":\"2.604883e-01\"},{\"Shell No.\":4,\"qgrid_unfiltered_index\":3,\"Rad. Temp.\":\"1.125229e+04\",\"W\":\"2.174908e-01\"},{\"Shell No.\":5,\"qgrid_unfiltered_index\":4,\"Rad. Temp.\":\"1.121542e+04\",\"W\":\"1.879279e-01\"},{\"Shell No.\":6,\"qgrid_unfiltered_index\":5,\"Rad. Temp.\":\"1.119446e+04\",\"W\":\"1.628420e-01\"},{\"Shell No.\":7,\"qgrid_unfiltered_index\":6,\"Rad. Temp.\":\"1.124311e+04\",\"W\":\"1.419034e-01\"},{\"Shell No.\":8,\"qgrid_unfiltered_index\":7,\"Rad. Temp.\":\"1.124690e+04\",\"W\":\"1.264369e-01\"},{\"Shell No.\":9,\"qgrid_unfiltered_index\":8,\"Rad. Temp.\":\"1.116176e+04\",\"W\":\"1.172286e-01\"},{\"Shell No.\":10,\"qgrid_unfiltered_index\":9,\"Rad. Temp.\":\"1.112850e+04\",\"W\":\"1.073689e-01\"},{\"Shell No.\":11,\"qgrid_unfiltered_index\":10,\"Rad. Temp.\":\"1.106562e+04\",\"W\":\"9.937228e-02\"},{\"Shell No.\":12,\"qgrid_unfiltered_index\":11,\"Rad. Temp.\":\"1.093918e+04\",\"W\":\"9.480017e-02\"},{\"Shell No.\":13,\"qgrid_unfiltered_index\":12,\"Rad. Temp.\":\"1.088287e+04\",\"W\":\"8.920397e-02\"},{\"Shell No.\":14,\"qgrid_unfiltered_index\":13,\"Rad. Temp.\":\"1.077571e+04\",\"W\":\"8.504642e-02\"},{\"Shell No.\":15,\"qgrid_unfiltered_index\":14,\"Rad. Temp.\":\"1.065337e+04\",\"W\":\"8.179275e-02\"},{\"Shell No.\":16,\"qgrid_unfiltered_index\":15,\"Rad. Temp.\":\"1.059985e+04\",\"W\":\"7.768958e-02\"},{\"Shell No.\":17,\"qgrid_unfiltered_index\":16,\"Rad. Temp.\":\"1.050428e+04\",\"W\":\"7.459787e-02\"},{\"Shell No.\":18,\"qgrid_unfiltered_index\":17,\"Rad. Temp.\":\"1.050167e+04\",\"W\":\"6.987617e-02\"},{\"Shell No.\":19,\"qgrid_unfiltered_index\":18,\"Rad. Temp.\":\"1.037101e+04\",\"W\":\"6.830342e-02\"},{\"Shell No.\":20,\"qgrid_unfiltered_index\":19,\"Rad. Temp.\":\"1.023320e+04\",\"W\":\"6.706797e-02\"}]}",
       "_df_range": [
        0,
        104
       ],
       "_editable_rows": {},
       "_index_col_name": "qgrid_unfiltered_index",
       "_interval_columns": [],
       "_model_module_version": "^1.1.3",
       "_multi_index": false,
       "_row_count": 20,
       "_row_styles": {},
       "_sort_ascending": true,
       "_sort_field": null,
       "_view_module_version": "^1.1.3",
       "_viewport_range": [
        4,
        21
       ],
       "grid_options": {
        "autoEdit": false,
        "boldIndex": true,
        "defaultColumnWidth": 150,
        "editable": false,
        "enableColumnReorder": false,
        "enableTextSelectionOnCells": true,
        "explicitInitialization": true,
        "filterable": false,
        "forceFitColumns": true,
        "fullWidthRows": true,
        "highlightSelectedCell": false,
        "highlightSelectedRow": true,
        "maxVisibleRows": 15,
        "minVisibleRows": 2,
        "rowHeight": 28,
        "sortable": false,
        "syncColumnCellResize": true
       },
       "id": "641870d2-73c0-40c6-8911-6fe6d32efe08",
       "layout": "IPY_MODEL_505ffbb2247143378e1d73370bf445f7",
       "precision": 5,
       "show_toolbar": false
      }
     },
     "5297b5c9bd98443f9f8c2363edfa698d": {
      "model_module": "@jupyter-widgets/controls",
      "model_module_version": "1.5.0",
      "model_name": "VBoxModel",
      "state": {
       "children": [
        "IPY_MODEL_af7633dd998f4990b089784aa9df1582",
        "IPY_MODEL_a01c4a616ccf477896b95f19ca80ff8f"
       ],
       "layout": "IPY_MODEL_f2490641bc43466bacc2c6823439f819"
      }
     },
     "53598020b0414a82b2b77ed71a8f440f": {
      "model_module": "@jupyter-widgets/base",
      "model_module_version": "1.2.0",
      "model_name": "LayoutModel",
      "state": {
       "width": "18%"
      }
     },
     "5394cfa275bd40a69700257029f8c368": {
      "model_module": "qgrid",
      "model_module_version": "^1.1.3",
      "model_name": "QgridModel",
      "state": {
       "_columns": {
        "Frac. Ab. (Ion=0)": {
         "cssClass": "string",
         "defaultSortAsc": true,
         "editable": true,
         "field": "Frac. Ab. (Ion=0)",
         "id": "Frac. Ab. (Ion=0)",
         "minWidth": null,
         "name": "Frac. Ab. (Ion=0)",
         "position": 2,
         "resizable": true,
         "sortable": true,
         "toolTip": "",
         "type": "string",
         "width": 70
        },
        "Level": {
         "cssClass": "integer first-idx-col idx-col",
         "defaultSortAsc": true,
         "editable": true,
         "field": "Level",
         "first_index": true,
         "id": "Level",
         "index_display_text": "Level",
         "is_index": true,
         "level": 0,
         "minWidth": null,
         "name": "Level",
         "position": 0,
         "resizable": true,
         "sortable": true,
         "toolTip": "",
         "type": "integer",
         "width": 30
        },
        "qgrid_unfiltered_index": {
         "cssClass": "integer",
         "defaultSortAsc": true,
         "editable": true,
         "field": "qgrid_unfiltered_index",
         "id": "qgrid_unfiltered_index",
         "maxWidth": null,
         "minWidth": null,
         "name": "qgrid_unfiltered_index",
         "position": 1,
         "resizable": true,
         "sortable": true,
         "toolTip": "",
         "type": "integer",
         "width": null
        }
       },
       "_df_json": "{\"schema\": {\"fields\":[{\"name\":\"Level\",\"type\":\"integer\"},{\"name\":\"qgrid_unfiltered_index\",\"type\":\"integer\"},{\"name\":\"Frac. Ab. (Ion=0)\",\"type\":\"string\"}],\"primaryKey\":[\"Level\"],\"pandas_version\":\"0.20.0\"}, \"data\": [{\"Level\":0,\"qgrid_unfiltered_index\":0,\"Frac. Ab. (Ion=0)\":\"5.221242e-01\"},{\"Level\":1,\"qgrid_unfiltered_index\":1,\"Frac. Ab. (Ion=0)\":\"3.069666e-01\"},{\"Level\":2,\"qgrid_unfiltered_index\":2,\"Frac. Ab. (Ion=0)\":\"1.014225e-01\"},{\"Level\":3,\"qgrid_unfiltered_index\":3,\"Frac. Ab. (Ion=0)\":\"6.792989e-02\"},{\"Level\":4,\"qgrid_unfiltered_index\":4,\"Frac. Ab. (Ion=0)\":\"1.356963e-03\"},{\"Level\":5,\"qgrid_unfiltered_index\":5,\"Frac. Ab. (Ion=0)\":\"3.982700e-05\"},{\"Level\":6,\"qgrid_unfiltered_index\":6,\"Frac. Ab. (Ion=0)\":\"1.619497e-05\"},{\"Level\":7,\"qgrid_unfiltered_index\":7,\"Frac. Ab. (Ion=0)\":\"4.577678e-06\"},{\"Level\":8,\"qgrid_unfiltered_index\":8,\"Frac. Ab. (Ion=0)\":\"7.627482e-06\"},{\"Level\":9,\"qgrid_unfiltered_index\":9,\"Frac. Ab. (Ion=0)\":\"1.067343e-05\"},{\"Level\":10,\"qgrid_unfiltered_index\":10,\"Frac. Ab. (Ion=0)\":\"3.537851e-06\"},{\"Level\":11,\"qgrid_unfiltered_index\":11,\"Frac. Ab. (Ion=0)\":\"5.895995e-06\"},{\"Level\":12,\"qgrid_unfiltered_index\":12,\"Frac. Ab. (Ion=0)\":\"1.179175e-06\"},{\"Level\":13,\"qgrid_unfiltered_index\":13,\"Frac. Ab. (Ion=0)\":\"2.445965e-06\"},{\"Level\":14,\"qgrid_unfiltered_index\":14,\"Frac. Ab. (Ion=0)\":\"1.333004e-06\"},{\"Level\":15,\"qgrid_unfiltered_index\":15,\"Frac. Ab. (Ion=0)\":\"3.429398e-06\"},{\"Level\":16,\"qgrid_unfiltered_index\":16,\"Frac. Ab. (Ion=0)\":\"2.667280e-06\"},{\"Level\":17,\"qgrid_unfiltered_index\":17,\"Frac. Ab. (Ion=0)\":\"1.905170e-06\"},{\"Level\":18,\"qgrid_unfiltered_index\":18,\"Frac. Ab. (Ion=0)\":\"1.143087e-06\"},{\"Level\":19,\"qgrid_unfiltered_index\":19,\"Frac. Ab. (Ion=0)\":\"3.810265e-07\"},{\"Level\":20,\"qgrid_unfiltered_index\":20,\"Frac. Ab. (Ion=0)\":\"1.133222e-06\"},{\"Level\":21,\"qgrid_unfiltered_index\":21,\"Frac. Ab. (Ion=0)\":\"1.888687e-06\"},{\"Level\":22,\"qgrid_unfiltered_index\":22,\"Frac. Ab. (Ion=0)\":\"2.644131e-06\"},{\"Level\":23,\"qgrid_unfiltered_index\":23,\"Frac. Ab. (Ion=0)\":\"9.220405e-07\"},{\"Level\":24,\"qgrid_unfiltered_index\":24,\"Frac. Ab. (Ion=0)\":\"1.536601e-06\"},{\"Level\":25,\"qgrid_unfiltered_index\":25,\"Frac. Ab. (Ion=0)\":\"2.150911e-06\"},{\"Level\":26,\"qgrid_unfiltered_index\":26,\"Frac. Ab. (Ion=0)\":\"8.549269e-07\"},{\"Level\":27,\"qgrid_unfiltered_index\":27,\"Frac. Ab. (Ion=0)\":\"1.424863e-06\"},{\"Level\":28,\"qgrid_unfiltered_index\":28,\"Frac. Ab. (Ion=0)\":\"2.849631e-07\"},{\"Level\":29,\"qgrid_unfiltered_index\":29,\"Frac. Ab. (Ion=0)\":\"1.654710e-06\"},{\"Level\":30,\"qgrid_unfiltered_index\":30,\"Frac. Ab. (Ion=0)\":\"1.180096e-06\"},{\"Level\":31,\"qgrid_unfiltered_index\":31,\"Frac. Ab. (Ion=0)\":\"7.073394e-07\"},{\"Level\":32,\"qgrid_unfiltered_index\":32,\"Frac. Ab. (Ion=0)\":\"1.041886e-06\"},{\"Level\":33,\"qgrid_unfiltered_index\":33,\"Frac. Ab. (Ion=0)\":\"6.018502e-07\"},{\"Level\":34,\"qgrid_unfiltered_index\":34,\"Frac. Ab. (Ion=0)\":\"9.713616e-07\"},{\"Level\":35,\"qgrid_unfiltered_index\":35,\"Frac. Ab. (Ion=0)\":\"1.703317e-06\"},{\"Level\":36,\"qgrid_unfiltered_index\":36,\"Frac. Ab. (Ion=0)\":\"1.324795e-06\"},{\"Level\":37,\"qgrid_unfiltered_index\":37,\"Frac. Ab. (Ion=0)\":\"9.462753e-07\"},{\"Level\":38,\"qgrid_unfiltered_index\":38,\"Frac. Ab. (Ion=0)\":\"5.677616e-07\"},{\"Level\":39,\"qgrid_unfiltered_index\":39,\"Frac. Ab. (Ion=0)\":\"1.892533e-07\"},{\"Level\":40,\"qgrid_unfiltered_index\":40,\"Frac. Ab. (Ion=0)\":\"1.317523e-06\"},{\"Level\":41,\"qgrid_unfiltered_index\":41,\"Frac. Ab. (Ion=0)\":\"9.410797e-07\"},{\"Level\":42,\"qgrid_unfiltered_index\":42,\"Frac. Ab. (Ion=0)\":\"5.646445e-07\"},{\"Level\":43,\"qgrid_unfiltered_index\":43,\"Frac. Ab. (Ion=0)\":\"5.603242e-07\"},{\"Level\":44,\"qgrid_unfiltered_index\":44,\"Frac. Ab. (Ion=0)\":\"9.338737e-07\"},{\"Level\":45,\"qgrid_unfiltered_index\":45,\"Frac. Ab. (Ion=0)\":\"1.307423e-06\"},{\"Level\":46,\"qgrid_unfiltered_index\":46,\"Frac. Ab. (Ion=0)\":\"1.680973e-06\"},{\"Level\":47,\"qgrid_unfiltered_index\":47,\"Frac. Ab. (Ion=0)\":\"2.054522e-06\"},{\"Level\":48,\"qgrid_unfiltered_index\":48,\"Frac. Ab. (Ion=0)\":\"9.338625e-07\"},{\"Level\":49,\"qgrid_unfiltered_index\":49,\"Frac. Ab. (Ion=0)\":\"1.307407e-06\"},{\"Level\":50,\"qgrid_unfiltered_index\":50,\"Frac. Ab. (Ion=0)\":\"1.680952e-06\"},{\"Level\":51,\"qgrid_unfiltered_index\":51,\"Frac. Ab. (Ion=0)\":\"5.149188e-07\"},{\"Level\":52,\"qgrid_unfiltered_index\":52,\"Frac. Ab. (Ion=0)\":\"5.149180e-07\"},{\"Level\":53,\"qgrid_unfiltered_index\":53,\"Frac. Ab. (Ion=0)\":\"8.581587e-07\"},{\"Level\":54,\"qgrid_unfiltered_index\":54,\"Frac. Ab. (Ion=0)\":\"8.581573e-07\"},{\"Level\":55,\"qgrid_unfiltered_index\":55,\"Frac. Ab. (Ion=0)\":\"1.201345e-06\"},{\"Level\":56,\"qgrid_unfiltered_index\":56,\"Frac. Ab. (Ion=0)\":\"1.201343e-06\"},{\"Level\":57,\"qgrid_unfiltered_index\":57,\"Frac. Ab. (Ion=0)\":\"8.316795e-07\"},{\"Level\":58,\"qgrid_unfiltered_index\":58,\"Frac. Ab. (Ion=0)\":\"4.990038e-07\"},{\"Level\":59,\"qgrid_unfiltered_index\":59,\"Frac. Ab. (Ion=0)\":\"1.663298e-07\"},{\"Level\":60,\"qgrid_unfiltered_index\":60,\"Frac. Ab. (Ion=0)\":\"7.174673e-07\"},{\"Level\":61,\"qgrid_unfiltered_index\":61,\"Frac. Ab. (Ion=0)\":\"4.224819e-07\"},{\"Level\":62,\"qgrid_unfiltered_index\":62,\"Frac. Ab. (Ion=0)\":\"1.232090e-06\"},{\"Level\":63,\"qgrid_unfiltered_index\":63,\"Frac. Ab. (Ion=0)\":\"9.582898e-07\"},{\"Level\":64,\"qgrid_unfiltered_index\":64,\"Frac. Ab. (Ion=0)\":\"6.844899e-07\"},{\"Level\":65,\"qgrid_unfiltered_index\":65,\"Frac. Ab. (Ion=0)\":\"4.106925e-07\"},{\"Level\":66,\"qgrid_unfiltered_index\":66,\"Frac. Ab. (Ion=0)\":\"1.368973e-07\"},{\"Level\":67,\"qgrid_unfiltered_index\":67,\"Frac. Ab. (Ion=0)\":\"4.094501e-07\"},{\"Level\":68,\"qgrid_unfiltered_index\":68,\"Frac. Ab. (Ion=0)\":\"6.824169e-07\"},{\"Level\":69,\"qgrid_unfiltered_index\":69,\"Frac. Ab. (Ion=0)\":\"9.553837e-07\"},{\"Level\":70,\"qgrid_unfiltered_index\":70,\"Frac. Ab. (Ion=0)\":\"4.077362e-07\"},{\"Level\":71,\"qgrid_unfiltered_index\":71,\"Frac. Ab. (Ion=0)\":\"6.795604e-07\"},{\"Level\":72,\"qgrid_unfiltered_index\":72,\"Frac. Ab. (Ion=0)\":\"9.513845e-07\"},{\"Level\":73,\"qgrid_unfiltered_index\":73,\"Frac. Ab. (Ion=0)\":\"1.223209e-06\"},{\"Level\":74,\"qgrid_unfiltered_index\":74,\"Frac. Ab. (Ion=0)\":\"1.495033e-06\"},{\"Level\":75,\"qgrid_unfiltered_index\":75,\"Frac. Ab. (Ion=0)\":\"6.795535e-07\"},{\"Level\":76,\"qgrid_unfiltered_index\":76,\"Frac. Ab. (Ion=0)\":\"9.513749e-07\"},{\"Level\":77,\"qgrid_unfiltered_index\":77,\"Frac. Ab. (Ion=0)\":\"1.223196e-06\"},{\"Level\":78,\"qgrid_unfiltered_index\":78,\"Frac. Ab. (Ion=0)\":\"3.899621e-07\"},{\"Level\":79,\"qgrid_unfiltered_index\":79,\"Frac. Ab. (Ion=0)\":\"6.499231e-07\"},{\"Level\":80,\"qgrid_unfiltered_index\":80,\"Frac. Ab. (Ion=0)\":\"9.098618e-07\"},{\"Level\":81,\"qgrid_unfiltered_index\":81,\"Frac. Ab. (Ion=0)\":\"1.279387e-07\"},{\"Level\":82,\"qgrid_unfiltered_index\":82,\"Frac. Ab. (Ion=0)\":\"3.838162e-07\"},{\"Level\":83,\"qgrid_unfiltered_index\":83,\"Frac. Ab. (Ion=0)\":\"6.396936e-07\"},{\"Level\":84,\"qgrid_unfiltered_index\":84,\"Frac. Ab. (Ion=0)\":\"5.896865e-07\"},{\"Level\":85,\"qgrid_unfiltered_index\":85,\"Frac. Ab. (Ion=0)\":\"3.500765e-07\"},{\"Level\":86,\"qgrid_unfiltered_index\":86,\"Frac. Ab. (Ion=0)\":\"1.033689e-06\"},{\"Level\":87,\"qgrid_unfiltered_index\":87,\"Frac. Ab. (Ion=0)\":\"8.039793e-07\"},{\"Level\":88,\"qgrid_unfiltered_index\":88,\"Frac. Ab. (Ion=0)\":\"5.742698e-07\"},{\"Level\":89,\"qgrid_unfiltered_index\":89,\"Frac. Ab. (Ion=0)\":\"3.445613e-07\"},{\"Level\":90,\"qgrid_unfiltered_index\":90,\"Frac. Ab. (Ion=0)\":\"1.148537e-07\"},{\"Level\":91,\"qgrid_unfiltered_index\":91,\"Frac. Ab. (Ion=0)\":\"3.439279e-07\"},{\"Level\":92,\"qgrid_unfiltered_index\":92,\"Frac. Ab. (Ion=0)\":\"5.732131e-07\"},{\"Level\":93,\"qgrid_unfiltered_index\":93,\"Frac. Ab. (Ion=0)\":\"8.024984e-07\"},{\"Level\":94,\"qgrid_unfiltered_index\":94,\"Frac. Ab. (Ion=0)\":\"3.430733e-07\"},{\"Level\":95,\"qgrid_unfiltered_index\":95,\"Frac. Ab. (Ion=0)\":\"5.717888e-07\"},{\"Level\":96,\"qgrid_unfiltered_index\":96,\"Frac. Ab. (Ion=0)\":\"8.005044e-07\"},{\"Level\":97,\"qgrid_unfiltered_index\":97,\"Frac. Ab. (Ion=0)\":\"1.029220e-06\"},{\"Level\":98,\"qgrid_unfiltered_index\":98,\"Frac. Ab. (Ion=0)\":\"1.257935e-06\"},{\"Level\":99,\"qgrid_unfiltered_index\":99,\"Frac. Ab. (Ion=0)\":\"5.717858e-07\"}]}",
       "_df_range": [
        0,
        100
       ],
       "_editable_rows": {},
       "_index_col_name": "qgrid_unfiltered_index",
       "_interval_columns": [],
       "_model_module_version": "^1.1.3",
       "_multi_index": false,
       "_row_count": 150,
       "_row_styles": {},
       "_sort_ascending": true,
       "_sort_field": null,
       "_view_module_version": "^1.1.3",
       "_viewport_range": [
        0,
        16
       ],
       "grid_options": {
        "autoEdit": false,
        "boldIndex": true,
        "defaultColumnWidth": 150,
        "editable": false,
        "enableColumnReorder": false,
        "enableTextSelectionOnCells": true,
        "explicitInitialization": true,
        "filterable": false,
        "forceFitColumns": true,
        "fullWidthRows": true,
        "highlightSelectedCell": false,
        "highlightSelectedRow": true,
        "maxVisibleRows": 15,
        "minVisibleRows": 2,
        "rowHeight": 28,
        "sortable": false,
        "syncColumnCellResize": true
       },
       "id": "635fe026-9b59-4dd2-bbc1-efaf224b0c1e",
       "layout": "IPY_MODEL_67e99e47fa9d4739a29faf161097853c",
       "precision": 5,
       "show_toolbar": false
      }
     },
     "569bd5d7d9484b49a3a4626164fd097e": {
      "model_module": "@jupyter-widgets/controls",
      "model_module_version": "1.5.0",
      "model_name": "BoxModel",
      "state": {
       "children": [
        "IPY_MODEL_b19949d1b87c4c51a7ec7cffc4a51a8c",
        "IPY_MODEL_e83df4ec404e415a8627ece82fb84014",
        "IPY_MODEL_8d487482f86e49259041000fa0e1e7ff",
        "IPY_MODEL_b2a76eabb61242c5ac7a9e7979128a04"
       ],
       "layout": "IPY_MODEL_2db9c108c76e496eb6c65420219b76c2"
      }
     },
     "5738ef0c7b954c00ae457744a809865a": {
      "model_module": "qgrid",
      "model_module_version": "^1.1.3",
      "model_name": "QgridModel",
      "state": {
       "_columns": {
        "Frac. Ab. (Ion=0)": {
         "cssClass": "string",
         "defaultSortAsc": true,
         "editable": true,
         "field": "Frac. Ab. (Ion=0)",
         "id": "Frac. Ab. (Ion=0)",
         "minWidth": null,
         "name": "Frac. Ab. (Ion=0)",
         "position": 2,
         "resizable": true,
         "sortable": true,
         "toolTip": "",
         "type": "string",
         "width": 70
        },
        "Level": {
         "cssClass": "integer first-idx-col idx-col first-idx-col idx-col",
         "defaultSortAsc": true,
         "editable": true,
         "field": "Level",
         "first_index": true,
         "id": "Level",
         "index_display_text": "Level",
         "is_index": true,
         "level": 0,
         "minWidth": null,
         "name": "Level",
         "position": 0,
         "resizable": true,
         "sortable": true,
         "toolTip": "",
         "type": "integer",
         "width": 30
        },
        "qgrid_unfiltered_index": {
         "cssClass": "integer",
         "defaultSortAsc": true,
         "editable": true,
         "field": "qgrid_unfiltered_index",
         "id": "qgrid_unfiltered_index",
         "maxWidth": null,
         "minWidth": null,
         "name": "qgrid_unfiltered_index",
         "position": 1,
         "resizable": true,
         "sortable": true,
         "toolTip": "",
         "type": "integer",
         "width": null
        }
       },
       "_df_json": "{\"schema\": {\"fields\":[{\"name\":\"Level\",\"type\":\"integer\"},{\"name\":\"qgrid_unfiltered_index\",\"type\":\"integer\"},{\"name\":\"Frac. Ab. (Ion=0)\",\"type\":\"string\"}],\"primaryKey\":[\"Level\"],\"pandas_version\":\"0.20.0\"}, \"data\": [{\"Level\":0,\"qgrid_unfiltered_index\":0,\"Frac. Ab. (Ion=0)\":\"5.221064e-01\"},{\"Level\":1,\"qgrid_unfiltered_index\":1,\"Frac. Ab. (Ion=0)\":\"3.069574e-01\"},{\"Level\":2,\"qgrid_unfiltered_index\":2,\"Frac. Ab. (Ion=0)\":\"1.014197e-01\"},{\"Level\":3,\"qgrid_unfiltered_index\":3,\"Frac. Ab. (Ion=0)\":\"6.795791e-02\"},{\"Level\":4,\"qgrid_unfiltered_index\":4,\"Frac. Ab. (Ion=0)\":\"1.358208e-03\"},{\"Level\":5,\"qgrid_unfiltered_index\":5,\"Frac. Ab. (Ion=0)\":\"3.990841e-05\"},{\"Level\":6,\"qgrid_unfiltered_index\":6,\"Frac. Ab. (Ion=0)\":\"1.622945e-05\"},{\"Level\":7,\"qgrid_unfiltered_index\":7,\"Frac. Ab. (Ion=0)\":\"4.588696e-06\"},{\"Level\":8,\"qgrid_unfiltered_index\":8,\"Frac. Ab. (Ion=0)\":\"7.645840e-06\"},{\"Level\":9,\"qgrid_unfiltered_index\":9,\"Frac. Ab. (Ion=0)\":\"1.069912e-05\"},{\"Level\":10,\"qgrid_unfiltered_index\":10,\"Frac. Ab. (Ion=0)\":\"3.546566e-06\"},{\"Level\":11,\"qgrid_unfiltered_index\":11,\"Frac. Ab. (Ion=0)\":\"5.910519e-06\"},{\"Level\":12,\"qgrid_unfiltered_index\":12,\"Frac. Ab. (Ion=0)\":\"1.182080e-06\"},{\"Level\":13,\"qgrid_unfiltered_index\":13,\"Frac. Ab. (Ion=0)\":\"2.452462e-06\"},{\"Level\":14,\"qgrid_unfiltered_index\":14,\"Frac. Ab. (Ion=0)\":\"1.336574e-06\"},{\"Level\":15,\"qgrid_unfiltered_index\":15,\"Frac. Ab. (Ion=0)\":\"3.438696e-06\"},{\"Level\":16,\"qgrid_unfiltered_index\":16,\"Frac. Ab. (Ion=0)\":\"2.674512e-06\"},{\"Level\":17,\"qgrid_unfiltered_index\":17,\"Frac. Ab. (Ion=0)\":\"1.910336e-06\"},{\"Level\":18,\"qgrid_unfiltered_index\":18,\"Frac. Ab. (Ion=0)\":\"1.146186e-06\"},{\"Level\":19,\"qgrid_unfiltered_index\":19,\"Frac. Ab. (Ion=0)\":\"3.820597e-07\"},{\"Level\":20,\"qgrid_unfiltered_index\":20,\"Frac. Ab. (Ion=0)\":\"1.136297e-06\"},{\"Level\":21,\"qgrid_unfiltered_index\":21,\"Frac. Ab. (Ion=0)\":\"1.893811e-06\"},{\"Level\":22,\"qgrid_unfiltered_index\":22,\"Frac. Ab. (Ion=0)\":\"2.651305e-06\"},{\"Level\":23,\"qgrid_unfiltered_index\":23,\"Frac. Ab. (Ion=0)\":\"9.245840e-07\"},{\"Level\":24,\"qgrid_unfiltered_index\":24,\"Frac. Ab. (Ion=0)\":\"1.540840e-06\"},{\"Level\":25,\"qgrid_unfiltered_index\":25,\"Frac. Ab. (Ion=0)\":\"2.156845e-06\"},{\"Level\":26,\"qgrid_unfiltered_index\":26,\"Frac. Ab. (Ion=0)\":\"8.572995e-07\"},{\"Level\":27,\"qgrid_unfiltered_index\":27,\"Frac. Ab. (Ion=0)\":\"1.428818e-06\"},{\"Level\":28,\"qgrid_unfiltered_index\":28,\"Frac. Ab. (Ion=0)\":\"2.857540e-07\"},{\"Level\":29,\"qgrid_unfiltered_index\":29,\"Frac. Ab. (Ion=0)\":\"1.659370e-06\"},{\"Level\":30,\"qgrid_unfiltered_index\":30,\"Frac. Ab. (Ion=0)\":\"1.183420e-06\"},{\"Level\":31,\"qgrid_unfiltered_index\":31,\"Frac. Ab. (Ion=0)\":\"7.093319e-07\"},{\"Level\":32,\"qgrid_unfiltered_index\":32,\"Frac. Ab. (Ion=0)\":\"1.044849e-06\"},{\"Level\":33,\"qgrid_unfiltered_index\":33,\"Frac. Ab. (Ion=0)\":\"6.035669e-07\"},{\"Level\":34,\"qgrid_unfiltered_index\":34,\"Frac. Ab. (Ion=0)\":\"9.741390e-07\"},{\"Level\":35,\"qgrid_unfiltered_index\":35,\"Frac. Ab. (Ion=0)\":\"1.708198e-06\"},{\"Level\":36,\"qgrid_unfiltered_index\":36,\"Frac. Ab. (Ion=0)\":\"1.328591e-06\"},{\"Level\":37,\"qgrid_unfiltered_index\":37,\"Frac. Ab. (Ion=0)\":\"9.489864e-07\"},{\"Level\":38,\"qgrid_unfiltered_index\":38,\"Frac. Ab. (Ion=0)\":\"5.693883e-07\"},{\"Level\":39,\"qgrid_unfiltered_index\":39,\"Frac. Ab. (Ion=0)\":\"1.897955e-07\"},{\"Level\":40,\"qgrid_unfiltered_index\":40,\"Frac. Ab. (Ion=0)\":\"1.321300e-06\"},{\"Level\":41,\"qgrid_unfiltered_index\":41,\"Frac. Ab. (Ion=0)\":\"9.437771e-07\"},{\"Level\":42,\"qgrid_unfiltered_index\":42,\"Frac. Ab. (Ion=0)\":\"5.662629e-07\"},{\"Level\":43,\"qgrid_unfiltered_index\":43,\"Frac. Ab. (Ion=0)\":\"5.619312e-07\"},{\"Level\":44,\"qgrid_unfiltered_index\":44,\"Frac. Ab. (Ion=0)\":\"9.365521e-07\"},{\"Level\":45,\"qgrid_unfiltered_index\":45,\"Frac. Ab. (Ion=0)\":\"1.311173e-06\"},{\"Level\":46,\"qgrid_unfiltered_index\":46,\"Frac. Ab. (Ion=0)\":\"1.685794e-06\"},{\"Level\":47,\"qgrid_unfiltered_index\":47,\"Frac. Ab. (Ion=0)\":\"2.060415e-06\"},{\"Level\":48,\"qgrid_unfiltered_index\":48,\"Frac. Ab. (Ion=0)\":\"9.365408e-07\"},{\"Level\":49,\"qgrid_unfiltered_index\":49,\"Frac. Ab. (Ion=0)\":\"1.311157e-06\"},{\"Level\":50,\"qgrid_unfiltered_index\":50,\"Frac. Ab. (Ion=0)\":\"1.685773e-06\"},{\"Level\":51,\"qgrid_unfiltered_index\":51,\"Frac. Ab. (Ion=0)\":\"5.164052e-07\"},{\"Level\":52,\"qgrid_unfiltered_index\":52,\"Frac. Ab. (Ion=0)\":\"5.164044e-07\"},{\"Level\":53,\"qgrid_unfiltered_index\":53,\"Frac. Ab. (Ion=0)\":\"8.606358e-07\"},{\"Level\":54,\"qgrid_unfiltered_index\":54,\"Frac. Ab. (Ion=0)\":\"8.606345e-07\"},{\"Level\":55,\"qgrid_unfiltered_index\":55,\"Frac. Ab. (Ion=0)\":\"1.204813e-06\"},{\"Level\":56,\"qgrid_unfiltered_index\":56,\"Frac. Ab. (Ion=0)\":\"1.204811e-06\"},{\"Level\":57,\"qgrid_unfiltered_index\":57,\"Frac. Ab. (Ion=0)\":\"8.340859e-07\"},{\"Level\":58,\"qgrid_unfiltered_index\":58,\"Frac. Ab. (Ion=0)\":\"5.004477e-07\"},{\"Level\":59,\"qgrid_unfiltered_index\":59,\"Frac. Ab. (Ion=0)\":\"1.668111e-07\"},{\"Level\":60,\"qgrid_unfiltered_index\":60,\"Frac. Ab. (Ion=0)\":\"7.195665e-07\"},{\"Level\":61,\"qgrid_unfiltered_index\":61,\"Frac. Ab. (Ion=0)\":\"4.237198e-07\"},{\"Level\":62,\"qgrid_unfiltered_index\":62,\"Frac. Ab. (Ion=0)\":\"1.235708e-06\"},{\"Level\":63,\"qgrid_unfiltered_index\":63,\"Frac. Ab. (Ion=0)\":\"9.611035e-07\"},{\"Level\":64,\"qgrid_unfiltered_index\":64,\"Frac. Ab. (Ion=0)\":\"6.864997e-07\"},{\"Level\":65,\"qgrid_unfiltered_index\":65,\"Frac. Ab. (Ion=0)\":\"4.118984e-07\"},{\"Level\":66,\"qgrid_unfiltered_index\":66,\"Frac. Ab. (Ion=0)\":\"1.372992e-07\"},{\"Level\":67,\"qgrid_unfiltered_index\":67,\"Frac. Ab. (Ion=0)\":\"4.106526e-07\"},{\"Level\":68,\"qgrid_unfiltered_index\":68,\"Frac. Ab. (Ion=0)\":\"6.844211e-07\"},{\"Level\":69,\"qgrid_unfiltered_index\":69,\"Frac. Ab. (Ion=0)\":\"9.581895e-07\"},{\"Level\":70,\"qgrid_unfiltered_index\":70,\"Frac. Ab. (Ion=0)\":\"4.089341e-07\"},{\"Level\":71,\"qgrid_unfiltered_index\":71,\"Frac. Ab. (Ion=0)\":\"6.815568e-07\"},{\"Level\":72,\"qgrid_unfiltered_index\":72,\"Frac. Ab. (Ion=0)\":\"9.541795e-07\"},{\"Level\":73,\"qgrid_unfiltered_index\":73,\"Frac. Ab. (Ion=0)\":\"1.226802e-06\"},{\"Level\":74,\"qgrid_unfiltered_index\":74,\"Frac. Ab. (Ion=0)\":\"1.499425e-06\"},{\"Level\":75,\"qgrid_unfiltered_index\":75,\"Frac. Ab. (Ion=0)\":\"6.815499e-07\"},{\"Level\":76,\"qgrid_unfiltered_index\":76,\"Frac. Ab. (Ion=0)\":\"9.541698e-07\"},{\"Level\":77,\"qgrid_unfiltered_index\":77,\"Frac. Ab. (Ion=0)\":\"1.226790e-06\"},{\"Level\":78,\"qgrid_unfiltered_index\":78,\"Frac. Ab. (Ion=0)\":\"3.911115e-07\"},{\"Level\":79,\"qgrid_unfiltered_index\":79,\"Frac. Ab. (Ion=0)\":\"6.518388e-07\"},{\"Level\":80,\"qgrid_unfiltered_index\":80,\"Frac. Ab. (Ion=0)\":\"9.125437e-07\"},{\"Level\":81,\"qgrid_unfiltered_index\":81,\"Frac. Ab. (Ion=0)\":\"1.283163e-07\"},{\"Level\":82,\"qgrid_unfiltered_index\":82,\"Frac. Ab. (Ion=0)\":\"3.849488e-07\"},{\"Level\":83,\"qgrid_unfiltered_index\":83,\"Frac. Ab. (Ion=0)\":\"6.415814e-07\"},{\"Level\":84,\"qgrid_unfiltered_index\":84,\"Frac. Ab. (Ion=0)\":\"5.914372e-07\"},{\"Level\":85,\"qgrid_unfiltered_index\":85,\"Frac. Ab. (Ion=0)\":\"3.511167e-07\"},{\"Level\":86,\"qgrid_unfiltered_index\":86,\"Frac. Ab. (Ion=0)\":\"1.036764e-06\"},{\"Level\":87,\"qgrid_unfiltered_index\":87,\"Frac. Ab. (Ion=0)\":\"8.063710e-07\"},{\"Level\":88,\"qgrid_unfiltered_index\":88,\"Frac. Ab. (Ion=0)\":\"5.759781e-07\"},{\"Level\":89,\"qgrid_unfiltered_index\":89,\"Frac. Ab. (Ion=0)\":\"3.455863e-07\"},{\"Level\":90,\"qgrid_unfiltered_index\":90,\"Frac. Ab. (Ion=0)\":\"1.151953e-07\"},{\"Level\":91,\"qgrid_unfiltered_index\":91,\"Frac. Ab. (Ion=0)\":\"3.449511e-07\"},{\"Level\":92,\"qgrid_unfiltered_index\":92,\"Frac. Ab. (Ion=0)\":\"5.749186e-07\"},{\"Level\":93,\"qgrid_unfiltered_index\":93,\"Frac. Ab. (Ion=0)\":\"8.048860e-07\"},{\"Level\":94,\"qgrid_unfiltered_index\":94,\"Frac. Ab. (Ion=0)\":\"3.440942e-07\"},{\"Level\":95,\"qgrid_unfiltered_index\":95,\"Frac. Ab. (Ion=0)\":\"5.734903e-07\"},{\"Level\":96,\"qgrid_unfiltered_index\":96,\"Frac. Ab. (Ion=0)\":\"8.028865e-07\"},{\"Level\":97,\"qgrid_unfiltered_index\":97,\"Frac. Ab. (Ion=0)\":\"1.032283e-06\"},{\"Level\":98,\"qgrid_unfiltered_index\":98,\"Frac. Ab. (Ion=0)\":\"1.261679e-06\"},{\"Level\":99,\"qgrid_unfiltered_index\":99,\"Frac. Ab. (Ion=0)\":\"5.734873e-07\"},{\"Level\":100,\"qgrid_unfiltered_index\":100,\"Frac. Ab. (Ion=0)\":\"8.028822e-07\"},{\"Level\":101,\"qgrid_unfiltered_index\":101,\"Frac. Ab. (Ion=0)\":\"1.032277e-06\"},{\"Level\":102,\"qgrid_unfiltered_index\":102,\"Frac. Ab. (Ion=0)\":\"5.267995e-07\"},{\"Level\":103,\"qgrid_unfiltered_index\":103,\"Frac. Ab. (Ion=0)\":\"3.140075e-07\"},{\"Level\":104,\"qgrid_unfiltered_index\":104,\"Frac. Ab. (Ion=0)\":\"9.328375e-07\"},{\"Level\":105,\"qgrid_unfiltered_index\":105,\"Frac. Ab. (Ion=0)\":\"7.255395e-07\"},{\"Level\":106,\"qgrid_unfiltered_index\":106,\"Frac. Ab. (Ion=0)\":\"5.182418e-07\"},{\"Level\":107,\"qgrid_unfiltered_index\":107,\"Frac. Ab. (Ion=0)\":\"3.109447e-07\"},{\"Level\":108,\"qgrid_unfiltered_index\":108,\"Frac. Ab. (Ion=0)\":\"1.036482e-07\"},{\"Level\":109,\"qgrid_unfiltered_index\":109,\"Frac. Ab. (Ion=0)\":\"3.105744e-07\"},{\"Level\":110,\"qgrid_unfiltered_index\":110,\"Frac. Ab. (Ion=0)\":\"5.176240e-07\"},{\"Level\":111,\"qgrid_unfiltered_index\":111,\"Frac. Ab. (Ion=0)\":\"7.246736e-07\"},{\"Level\":112,\"qgrid_unfiltered_index\":112,\"Frac. Ab. (Ion=0)\":\"3.100814e-07\"},{\"Level\":113,\"qgrid_unfiltered_index\":113,\"Frac. Ab. (Ion=0)\":\"5.168024e-07\"},{\"Level\":114,\"qgrid_unfiltered_index\":114,\"Frac. Ab. (Ion=0)\":\"7.235233e-07\"},{\"Level\":115,\"qgrid_unfiltered_index\":115,\"Frac. Ab. (Ion=0)\":\"9.302443e-07\"},{\"Level\":116,\"qgrid_unfiltered_index\":116,\"Frac. Ab. (Ion=0)\":\"1.136965e-06\"},{\"Level\":117,\"qgrid_unfiltered_index\":117,\"Frac. Ab. (Ion=0)\":\"5.168019e-07\"},{\"Level\":118,\"qgrid_unfiltered_index\":118,\"Frac. Ab. (Ion=0)\":\"7.235227e-07\"},{\"Level\":119,\"qgrid_unfiltered_index\":119,\"Frac. Ab. (Ion=0)\":\"9.302434e-07\"},{\"Level\":120,\"qgrid_unfiltered_index\":120,\"Frac. Ab. (Ion=0)\":\"4.892566e-07\"},{\"Level\":121,\"qgrid_unfiltered_index\":121,\"Frac. Ab. (Ion=0)\":\"2.922292e-07\"},{\"Level\":122,\"qgrid_unfiltered_index\":122,\"Frac. Ab. (Ion=0)\":\"8.711321e-07\"},{\"Level\":123,\"qgrid_unfiltered_index\":123,\"Frac. Ab. (Ion=0)\":\"6.775468e-07\"},{\"Level\":124,\"qgrid_unfiltered_index\":124,\"Frac. Ab. (Ion=0)\":\"4.839615e-07\"},{\"Level\":125,\"qgrid_unfiltered_index\":125,\"Frac. Ab. (Ion=0)\":\"2.903767e-07\"},{\"Level\":126,\"qgrid_unfiltered_index\":126,\"Frac. Ab. (Ion=0)\":\"9.679218e-08\"},{\"Level\":127,\"qgrid_unfiltered_index\":127,\"Frac. Ab. (Ion=0)\":\"2.900817e-07\"},{\"Level\":128,\"qgrid_unfiltered_index\":128,\"Frac. Ab. (Ion=0)\":\"4.834695e-07\"},{\"Level\":129,\"qgrid_unfiltered_index\":129,\"Frac. Ab. (Ion=0)\":\"6.768573e-07\"},{\"Level\":130,\"qgrid_unfiltered_index\":130,\"Frac. Ab. (Ion=0)\":\"4.653063e-07\"},{\"Level\":131,\"qgrid_unfiltered_index\":131,\"Frac. Ab. (Ion=0)\":\"2.783134e-07\"},{\"Level\":132,\"qgrid_unfiltered_index\":132,\"Frac. Ab. (Ion=0)\":\"9.236790e-08\"},{\"Level\":133,\"qgrid_unfiltered_index\":133,\"Frac. Ab. (Ion=0)\":\"2.771037e-07\"},{\"Level\":134,\"qgrid_unfiltered_index\":134,\"Frac. Ab. (Ion=0)\":\"4.618395e-07\"},{\"Level\":135,\"qgrid_unfiltered_index\":135,\"Frac. Ab. (Ion=0)\":\"6.465753e-07\"},{\"Level\":136,\"qgrid_unfiltered_index\":136,\"Frac. Ab. (Ion=0)\":\"8.313111e-07\"},{\"Level\":137,\"qgrid_unfiltered_index\":137,\"Frac. Ab. (Ion=0)\":\"2.768723e-07\"},{\"Level\":138,\"qgrid_unfiltered_index\":138,\"Frac. Ab. (Ion=0)\":\"4.614539e-07\"},{\"Level\":139,\"qgrid_unfiltered_index\":139,\"Frac. Ab. (Ion=0)\":\"6.460355e-07\"},{\"Level\":140,\"qgrid_unfiltered_index\":140,\"Frac. Ab. (Ion=0)\":\"4.490702e-07\"},{\"Level\":141,\"qgrid_unfiltered_index\":141,\"Frac. Ab. (Ion=0)\":\"2.688507e-07\"},{\"Level\":142,\"qgrid_unfiltered_index\":142,\"Frac. Ab. (Ion=0)\":\"8.931800e-08\"},{\"Level\":143,\"qgrid_unfiltered_index\":143,\"Frac. Ab. (Ion=0)\":\"2.679540e-07\"},{\"Level\":144,\"qgrid_unfiltered_index\":144,\"Frac. Ab. (Ion=0)\":\"4.465900e-07\"},{\"Level\":145,\"qgrid_unfiltered_index\":145,\"Frac. Ab. (Ion=0)\":\"6.252260e-07\"},{\"Level\":146,\"qgrid_unfiltered_index\":146,\"Frac. Ab. (Ion=0)\":\"8.038620e-07\"},{\"Level\":147,\"qgrid_unfiltered_index\":147,\"Frac. Ab. (Ion=0)\":\"2.677957e-07\"},{\"Level\":148,\"qgrid_unfiltered_index\":148,\"Frac. Ab. (Ion=0)\":\"4.463261e-07\"},{\"Level\":149,\"qgrid_unfiltered_index\":149,\"Frac. Ab. (Ion=0)\":\"6.248566e-07\"}]}",
       "_df_range": [
        0,
        173
       ],
       "_editable_rows": {},
       "_index_col_name": "qgrid_unfiltered_index",
       "_interval_columns": [],
       "_model_module_version": "^1.1.3",
       "_multi_index": false,
       "_row_count": 150,
       "_row_styles": {},
       "_sort_ascending": true,
       "_sort_field": null,
       "_view_module_version": "^1.1.3",
       "_viewport_range": [
        73,
        90
       ],
       "grid_options": {
        "autoEdit": false,
        "boldIndex": true,
        "defaultColumnWidth": 150,
        "editable": false,
        "enableColumnReorder": false,
        "enableTextSelectionOnCells": true,
        "explicitInitialization": true,
        "filterable": false,
        "forceFitColumns": true,
        "fullWidthRows": true,
        "highlightSelectedCell": false,
        "highlightSelectedRow": true,
        "maxVisibleRows": 15,
        "minVisibleRows": 2,
        "rowHeight": 28,
        "sortable": false,
        "syncColumnCellResize": true
       },
       "id": "ddbcd93b-90a9-4fe9-bbaa-381f7ce7b848",
       "layout": "IPY_MODEL_81446dc25eb442cc81d4f927cdf6dd49",
       "precision": 5,
       "show_toolbar": false
      }
     },
     "594441bc49844214a6086954ccdc005e": {
      "model_module": "@jupyter-widgets/base",
      "model_module_version": "1.2.0",
      "model_name": "LayoutModel",
      "state": {
       "width": "24%"
      }
     },
     "5981fc1c49d345f58430c308df382391": {
      "model_module": "@jupyter-widgets/controls",
      "model_module_version": "1.5.0",
      "model_name": "VBoxModel",
      "state": {
       "children": [
        "IPY_MODEL_93d8d5c800b14f15be6268d10bd66714",
        "IPY_MODEL_19c84113ceca48b6b17d225c7331a60f"
       ],
       "layout": "IPY_MODEL_8b8e03ac56c24d17a2bcdf26f2e5b2e9"
      }
     },
     "5b19b6b7023f43629baaf68a9d76c715": {
      "model_module": "@jupyter-widgets/base",
      "model_module_version": "1.2.0",
      "model_name": "LayoutModel",
      "state": {
       "align_items": "flex-start",
       "display": "flex",
       "justify_content": "space-between"
      }
     },
     "5e928ae00b0b4e8c97d9aac839ae510e": {
      "model_module": "@jupyter-widgets/base",
      "model_module_version": "1.2.0",
      "model_name": "LayoutModel",
      "state": {
       "width": "24%"
      }
     },
     "611d3857cae543ab881b586711f55509": {
      "model_module": "@jupyter-widgets/base",
      "model_module_version": "1.2.0",
      "model_name": "LayoutModel",
      "state": {
       "align_items": "flex-start",
       "display": "flex",
       "justify_content": "space-between"
      }
     },
     "67e99e47fa9d4739a29faf161097853c": {
      "model_module": "@jupyter-widgets/base",
      "model_module_version": "1.2.0",
      "model_name": "LayoutModel",
      "state": {
       "width": "18%"
      }
     },
     "67ef534128de4abdb7ee62e677864e0c": {
      "model_module": "@jupyter-widgets/base",
      "model_module_version": "1.2.0",
      "model_name": "LayoutModel",
      "state": {}
     },
     "6859f24838df4880b2dfc16dcfb84186": {
      "model_module": "@jupyter-widgets/base",
      "model_module_version": "1.2.0",
      "model_name": "LayoutModel",
      "state": {
       "width": "18%"
      }
     },
     "6b48820949174fa0a4253dec6ba15255": {
      "model_module": "@jupyter-widgets/base",
      "model_module_version": "1.2.0",
      "model_name": "LayoutModel",
      "state": {}
     },
     "6d213845ddca426893ae0761571a37f9": {
      "model_module": "@jupyter-widgets/base",
      "model_module_version": "1.2.0",
      "model_name": "LayoutModel",
      "state": {
       "width": "24%"
      }
     },
     "7232084051e24b9daeff91e9aca7486d": {
      "model_module": "qgrid",
      "model_module_version": "^1.1.3",
      "model_name": "QgridModel",
      "state": {
       "_columns": {
        "Frac. Ab. (Z=8)": {
         "cssClass": "string",
         "defaultSortAsc": true,
         "editable": true,
         "field": "Frac. Ab. (Z=8)",
         "id": "Frac. Ab. (Z=8)",
         "minWidth": null,
         "name": "Frac. Ab. (Z=8)",
         "position": 3,
         "resizable": true,
         "sortable": true,
         "toolTip": "",
         "type": "string",
         "width": 50
        },
        "Ion": {
         "cssClass": "integer first-idx-col idx-col",
         "defaultSortAsc": true,
         "editable": true,
         "field": "Ion",
         "first_index": true,
         "id": "Ion",
         "index_display_text": "Ion",
         "is_index": true,
         "level": 0,
         "minWidth": null,
         "name": "Ion",
         "position": 0,
         "resizable": true,
         "sortable": true,
         "toolTip": "",
         "type": "integer",
         "width": 20
        },
        "Species": {
         "cssClass": "string",
         "defaultSortAsc": true,
         "editable": true,
         "field": "Species",
         "id": "Species",
         "minWidth": null,
         "name": "Species",
         "position": 2,
         "resizable": true,
         "sortable": true,
         "toolTip": "",
         "type": "string",
         "width": 30
        },
        "qgrid_unfiltered_index": {
         "cssClass": "integer",
         "defaultSortAsc": true,
         "editable": true,
         "field": "qgrid_unfiltered_index",
         "id": "qgrid_unfiltered_index",
         "maxWidth": null,
         "minWidth": null,
         "name": "qgrid_unfiltered_index",
         "position": 1,
         "resizable": true,
         "sortable": true,
         "toolTip": "",
         "type": "integer",
         "width": null
        }
       },
       "_df_json": "{\"schema\": {\"fields\":[{\"name\":\"Ion\",\"type\":\"integer\"},{\"name\":\"qgrid_unfiltered_index\",\"type\":\"integer\"},{\"name\":\"Species\",\"type\":\"string\"},{\"name\":\"Frac. Ab. (Z=8)\",\"type\":\"string\"}],\"primaryKey\":[\"Ion\"],\"pandas_version\":\"0.20.0\"}, \"data\": [{\"Ion\":0,\"qgrid_unfiltered_index\":0,\"Species\":\"O I\",\"Frac. Ab. (Z=8)\":\"2.455862e-06\"},{\"Ion\":1,\"qgrid_unfiltered_index\":1,\"Species\":\"O II\",\"Frac. Ab. (Z=8)\":\"9.997973e-01\"},{\"Ion\":2,\"qgrid_unfiltered_index\":2,\"Species\":\"O III\",\"Frac. Ab. (Z=8)\":\"2.002405e-04\"},{\"Ion\":3,\"qgrid_unfiltered_index\":3,\"Species\":\"O IV\",\"Frac. Ab. (Z=8)\":\"7.763943e-18\"},{\"Ion\":4,\"qgrid_unfiltered_index\":4,\"Species\":\"O V\",\"Frac. Ab. (Z=8)\":\"0.000000e+00\"},{\"Ion\":5,\"qgrid_unfiltered_index\":5,\"Species\":\"O VI\",\"Frac. Ab. (Z=8)\":\"0.000000e+00\"},{\"Ion\":6,\"qgrid_unfiltered_index\":6,\"Species\":\"O VII\",\"Frac. Ab. (Z=8)\":\"0.000000e+00\"},{\"Ion\":7,\"qgrid_unfiltered_index\":7,\"Species\":\"O VIII\",\"Frac. Ab. (Z=8)\":\"0.000000e+00\"},{\"Ion\":8,\"qgrid_unfiltered_index\":8,\"Species\":\"O IX\",\"Frac. Ab. (Z=8)\":\"0.000000e+00\"}]}",
       "_df_range": [
        0,
        100
       ],
       "_editable_rows": {},
       "_index_col_name": "qgrid_unfiltered_index",
       "_interval_columns": [],
       "_model_module_version": "^1.1.3",
       "_multi_index": false,
       "_row_count": 9,
       "_row_styles": {},
       "_sort_ascending": true,
       "_sort_field": null,
       "_view_module_version": "^1.1.3",
       "_viewport_range": [
        0,
        100
       ],
       "grid_options": {
        "autoEdit": false,
        "boldIndex": true,
        "defaultColumnWidth": 150,
        "editable": false,
        "enableColumnReorder": false,
        "enableTextSelectionOnCells": true,
        "explicitInitialization": true,
        "filterable": false,
        "forceFitColumns": true,
        "fullWidthRows": true,
        "highlightSelectedCell": false,
        "highlightSelectedRow": true,
        "maxVisibleRows": 15,
        "minVisibleRows": 2,
        "rowHeight": 28,
        "sortable": false,
        "syncColumnCellResize": true
       },
       "id": "1c0bb0e0-1a27-491f-9cdd-cec25f184e77",
       "layout": "IPY_MODEL_b61853f2f8b643cc99e66d9604c298ec",
       "precision": 5,
       "show_toolbar": false
      }
     },
     "7327db43dfb5440da3f54511df36e864": {
      "model_module": "@jupyter-widgets/controls",
      "model_module_version": "1.5.0",
      "model_name": "DescriptionStyleModel",
      "state": {
       "description_width": ""
      }
     },
     "74956f00583e4bcab38f3ee80512f05d": {
      "model_module": "@jupyter-widgets/base",
      "model_module_version": "1.2.0",
      "model_name": "LayoutModel",
      "state": {
       "width": "24%"
      }
     },
     "749a0a92b90f4b1a82c84a63c32b0601": {
      "model_module": "@jupyter-widgets/base",
      "model_module_version": "1.2.0",
      "model_name": "LayoutModel",
      "state": {
       "width": "18%"
      }
     },
     "766a96108ab34a9bb42072fa7e0049d4": {
      "model_module": "@jupyter-widgets/base",
      "model_module_version": "1.2.0",
      "model_name": "LayoutModel",
      "state": {
       "width": "24%"
      }
     },
     "78db49091cce49dea6af6f7d72826c98": {
      "model_module": "@jupyter-widgets/controls",
      "model_module_version": "1.5.0",
      "model_name": "HTMLModel",
      "state": {
       "layout": "IPY_MODEL_beb424b0f9bd41cf8d0abf6441695985",
       "style": "IPY_MODEL_b090429befc84e7fb7a101a1496377eb",
       "value": "<b>Frac. Ab.</b> denotes <i>Fractional Abundances</i> (i.e all values sum to 1)<br><b>W</b> denotes <i>Dilution Factor</i> and <b>Rad. Temp.</b> is <i>Radiative Temperature (in K)</i>"
      }
     },
     "7b951b48055641cfba5dd097cc4da728": {
      "model_module": "@jupyter-widgets/controls",
      "model_module_version": "1.5.0",
      "model_name": "HTMLModel",
      "state": {
       "layout": "IPY_MODEL_19a55198bca64884a25b805a3ea4f2f4",
       "style": "IPY_MODEL_d9a1309ad6ca480e8d12beca0db771ca",
       "value": "<b>Frac. Ab.</b> denotes <i>Fractional Abundances</i> (i.e all values sum to 1)<br><b>W</b> denotes <i>Dilution Factor</i> and <b>Rad. Temp.</b> is <i>Radiative Temperature (in K)</i>"
      }
     },
     "7ba746aa47034e8bb6f536f9ca74ff7c": {
      "model_module": "@jupyter-widgets/base",
      "model_module_version": "1.2.0",
      "model_name": "LayoutModel",
      "state": {
       "width": "30%"
      }
     },
     "7c60791b3ce24248a7119ae5b55b5122": {
      "model_module": "qgrid",
      "model_module_version": "^1.1.3",
      "model_name": "QgridModel",
      "state": {
       "_columns": {
        "Element": {
         "cssClass": "string",
         "defaultSortAsc": true,
         "editable": true,
         "field": "Element",
         "id": "Element",
         "minWidth": null,
         "name": "Element",
         "position": 2,
         "resizable": true,
         "sortable": true,
         "toolTip": "",
         "type": "string",
         "width": 30
        },
        "Frac. Ab. (Shell 11)": {
         "cssClass": "string",
         "defaultSortAsc": true,
         "editable": true,
         "field": "Frac. Ab. (Shell 11)",
         "id": "Frac. Ab. (Shell 11)",
         "minWidth": null,
         "name": "Frac. Ab. (Shell 11)",
         "position": 3,
         "resizable": true,
         "sortable": true,
         "toolTip": "",
         "type": "string",
         "width": 55
        },
        "Z": {
         "cssClass": "integer first-idx-col idx-col",
         "defaultSortAsc": true,
         "editable": true,
         "field": "Z",
         "first_index": true,
         "id": "Z",
         "index_display_text": "Z",
         "is_index": true,
         "level": 0,
         "minWidth": null,
         "name": "Z",
         "position": 0,
         "resizable": true,
         "sortable": true,
         "toolTip": "",
         "type": "integer",
         "width": 15
        },
        "qgrid_unfiltered_index": {
         "cssClass": "integer",
         "defaultSortAsc": true,
         "editable": true,
         "field": "qgrid_unfiltered_index",
         "id": "qgrid_unfiltered_index",
         "maxWidth": null,
         "minWidth": null,
         "name": "qgrid_unfiltered_index",
         "position": 1,
         "resizable": true,
         "sortable": true,
         "toolTip": "",
         "type": "integer",
         "width": null
        }
       },
       "_df_json": "{\"schema\": {\"fields\":[{\"name\":\"Z\",\"type\":\"integer\"},{\"name\":\"qgrid_unfiltered_index\",\"type\":\"integer\"},{\"name\":\"Element\",\"type\":\"string\"},{\"name\":\"Frac. Ab. (Shell 11)\",\"type\":\"string\"}],\"primaryKey\":[\"Z\"],\"pandas_version\":\"0.20.0\"}, \"data\": [{\"Z\":8,\"qgrid_unfiltered_index\":0,\"Element\":\"O\",\"Frac. Ab. (Shell 11)\":\"1.900000e-01\"},{\"Z\":12,\"qgrid_unfiltered_index\":1,\"Element\":\"Mg\",\"Frac. Ab. (Shell 11)\":\"3.000000e-02\"},{\"Z\":14,\"qgrid_unfiltered_index\":2,\"Element\":\"Si\",\"Frac. Ab. (Shell 11)\":\"5.200000e-01\"},{\"Z\":16,\"qgrid_unfiltered_index\":3,\"Element\":\"S\",\"Frac. Ab. (Shell 11)\":\"1.900000e-01\"},{\"Z\":18,\"qgrid_unfiltered_index\":4,\"Element\":\"Ar\",\"Frac. Ab. (Shell 11)\":\"4.000000e-02\"},{\"Z\":20,\"qgrid_unfiltered_index\":5,\"Element\":\"Ca\",\"Frac. Ab. (Shell 11)\":\"3.000000e-02\"}]}",
       "_df_range": [
        0,
        100
       ],
       "_editable_rows": {},
       "_index_col_name": "qgrid_unfiltered_index",
       "_interval_columns": [],
       "_model_module_version": "^1.1.3",
       "_multi_index": false,
       "_row_count": 6,
       "_row_styles": {},
       "_sort_ascending": true,
       "_sort_field": null,
       "_view_module_version": "^1.1.3",
       "_viewport_range": [
        0,
        100
       ],
       "grid_options": {
        "autoEdit": false,
        "boldIndex": true,
        "defaultColumnWidth": 150,
        "editable": false,
        "enableColumnReorder": false,
        "enableTextSelectionOnCells": true,
        "explicitInitialization": true,
        "filterable": false,
        "forceFitColumns": true,
        "fullWidthRows": true,
        "highlightSelectedCell": false,
        "highlightSelectedRow": true,
        "maxVisibleRows": 15,
        "minVisibleRows": 2,
        "rowHeight": 28,
        "sortable": false,
        "syncColumnCellResize": true
       },
       "id": "4abc25d2-311f-43a8-b7b0-fd33b7ceae79",
       "layout": "IPY_MODEL_06cbe4dd600a4d488ecdfab457b52f85",
       "precision": 5,
       "show_toolbar": false
      }
     },
     "7e2afc2dca7a4331aa5b2130c11618ee": {
      "model_module": "@jupyter-widgets/base",
      "model_module_version": "1.2.0",
      "model_name": "LayoutModel",
      "state": {}
     },
     "7fb5daca2d72418b9ed273eee85164c8": {
      "model_module": "qgrid",
      "model_module_version": "^1.1.3",
      "model_name": "QgridModel",
      "state": {
       "_columns": {
        "Frac. Ab. (Ion=0)": {
         "cssClass": "string",
         "defaultSortAsc": true,
         "editable": true,
         "field": "Frac. Ab. (Ion=0)",
         "id": "Frac. Ab. (Ion=0)",
         "minWidth": null,
         "name": "Frac. Ab. (Ion=0)",
         "position": 2,
         "resizable": true,
         "sortable": true,
         "toolTip": "",
         "type": "string",
         "width": 70
        },
        "Level": {
         "cssClass": "integer first-idx-col idx-col first-idx-col idx-col first-idx-col idx-col",
         "defaultSortAsc": true,
         "editable": true,
         "field": "Level",
         "first_index": true,
         "id": "Level",
         "index_display_text": "Level",
         "is_index": true,
         "level": 0,
         "minWidth": null,
         "name": "Level",
         "position": 0,
         "resizable": true,
         "sortable": true,
         "toolTip": "",
         "type": "integer",
         "width": 30
        },
        "qgrid_unfiltered_index": {
         "cssClass": "integer",
         "defaultSortAsc": true,
         "editable": true,
         "field": "qgrid_unfiltered_index",
         "id": "qgrid_unfiltered_index",
         "maxWidth": null,
         "minWidth": null,
         "name": "qgrid_unfiltered_index",
         "position": 1,
         "resizable": true,
         "sortable": true,
         "toolTip": "",
         "type": "integer",
         "width": null
        }
       },
       "_df_json": "{\"schema\": {\"fields\":[{\"name\":\"Level\",\"type\":\"integer\"},{\"name\":\"qgrid_unfiltered_index\",\"type\":\"integer\"},{\"name\":\"Frac. Ab. (Ion=0)\",\"type\":\"string\"}],\"primaryKey\":[\"Level\"],\"pandas_version\":\"0.20.0\"}, \"data\": [{\"Level\":0,\"qgrid_unfiltered_index\":0,\"Frac. Ab. (Ion=0)\":\"5.217428e-01\"},{\"Level\":1,\"qgrid_unfiltered_index\":1,\"Frac. Ab. (Ion=0)\":\"3.067714e-01\"},{\"Level\":2,\"qgrid_unfiltered_index\":2,\"Frac. Ab. (Ion=0)\":\"1.013622e-01\"},{\"Level\":3,\"qgrid_unfiltered_index\":3,\"Frac. Ab. (Ion=0)\":\"6.852875e-02\"},{\"Level\":4,\"qgrid_unfiltered_index\":4,\"Frac. Ab. (Ion=0)\":\"1.383708e-03\"},{\"Level\":5,\"qgrid_unfiltered_index\":5,\"Frac. Ab. (Ion=0)\":\"4.159649e-05\"},{\"Level\":6,\"qgrid_unfiltered_index\":6,\"Frac. Ab. (Ion=0)\":\"1.694520e-05\"},{\"Level\":7,\"qgrid_unfiltered_index\":7,\"Frac. Ab. (Ion=0)\":\"4.818038e-06\"},{\"Level\":8,\"qgrid_unfiltered_index\":8,\"Frac. Ab. (Ion=0)\":\"8.027987e-06\"},{\"Level\":9,\"qgrid_unfiltered_index\":9,\"Frac. Ab. (Ion=0)\":\"1.123390e-05\"},{\"Level\":10,\"qgrid_unfiltered_index\":10,\"Frac. Ab. (Ion=0)\":\"3.728088e-06\"},{\"Level\":11,\"qgrid_unfiltered_index\":11,\"Frac. Ab. (Ion=0)\":\"6.213037e-06\"},{\"Level\":12,\"qgrid_unfiltered_index\":12,\"Frac. Ab. (Ion=0)\":\"1.242582e-06\"},{\"Level\":13,\"qgrid_unfiltered_index\":13,\"Frac. Ab. (Ion=0)\":\"2.588084e-06\"},{\"Level\":14,\"qgrid_unfiltered_index\":14,\"Frac. Ab. (Ion=0)\":\"1.411089e-06\"},{\"Level\":15,\"qgrid_unfiltered_index\":15,\"Frac. Ab. (Ion=0)\":\"3.632887e-06\"},{\"Level\":16,\"qgrid_unfiltered_index\":16,\"Frac. Ab. (Ion=0)\":\"2.825548e-06\"},{\"Level\":17,\"qgrid_unfiltered_index\":17,\"Frac. Ab. (Ion=0)\":\"2.018217e-06\"},{\"Level\":18,\"qgrid_unfiltered_index\":18,\"Frac. Ab. (Ion=0)\":\"1.210914e-06\"},{\"Level\":19,\"qgrid_unfiltered_index\":19,\"Frac. Ab. (Ion=0)\":\"4.036355e-07\"},{\"Level\":20,\"qgrid_unfiltered_index\":20,\"Frac. Ab. (Ion=0)\":\"1.200513e-06\"},{\"Level\":21,\"qgrid_unfiltered_index\":21,\"Frac. Ab. (Ion=0)\":\"2.000836e-06\"},{\"Level\":22,\"qgrid_unfiltered_index\":22,\"Frac. Ab. (Ion=0)\":\"2.801139e-06\"},{\"Level\":23,\"qgrid_unfiltered_index\":23,\"Frac. Ab. (Ion=0)\":\"9.777306e-07\"},{\"Level\":24,\"qgrid_unfiltered_index\":24,\"Frac. Ab. (Ion=0)\":\"1.629411e-06\"},{\"Level\":25,\"qgrid_unfiltered_index\":25,\"Frac. Ab. (Ion=0)\":\"2.280826e-06\"},{\"Level\":26,\"qgrid_unfiltered_index\":26,\"Frac. Ab. (Ion=0)\":\"9.068829e-07\"},{\"Level\":27,\"qgrid_unfiltered_index\":27,\"Frac. Ab. (Ion=0)\":\"1.511456e-06\"},{\"Level\":28,\"qgrid_unfiltered_index\":28,\"Frac. Ab. (Ion=0)\":\"3.022811e-07\"},{\"Level\":29,\"qgrid_unfiltered_index\":29,\"Frac. Ab. (Ion=0)\":\"1.756801e-06\"},{\"Level\":30,\"qgrid_unfiltered_index\":30,\"Frac. Ab. (Ion=0)\":\"1.252914e-06\"},{\"Level\":31,\"qgrid_unfiltered_index\":31,\"Frac. Ab. (Ion=0)\":\"7.509894e-07\"},{\"Level\":32,\"qgrid_unfiltered_index\":32,\"Frac. Ab. (Ion=0)\":\"1.106818e-06\"},{\"Level\":33,\"qgrid_unfiltered_index\":33,\"Frac. Ab. (Ion=0)\":\"6.394717e-07\"},{\"Level\":34,\"qgrid_unfiltered_index\":34,\"Frac. Ab. (Ion=0)\":\"1.032236e-06\"},{\"Level\":35,\"qgrid_unfiltered_index\":35,\"Frac. Ab. (Ion=0)\":\"1.810283e-06\"},{\"Level\":36,\"qgrid_unfiltered_index\":36,\"Frac. Ab. (Ion=0)\":\"1.407991e-06\"},{\"Level\":37,\"qgrid_unfiltered_index\":37,\"Frac. Ab. (Ion=0)\":\"1.005700e-06\"},{\"Level\":38,\"qgrid_unfiltered_index\":38,\"Frac. Ab. (Ion=0)\":\"6.034162e-07\"},{\"Level\":39,\"qgrid_unfiltered_index\":39,\"Frac. Ab. (Ion=0)\":\"2.011381e-07\"},{\"Level\":40,\"qgrid_unfiltered_index\":40,\"Frac. Ab. (Ion=0)\":\"1.400298e-06\"},{\"Level\":41,\"qgrid_unfiltered_index\":41,\"Frac. Ab. (Ion=0)\":\"1.000204e-06\"},{\"Level\":42,\"qgrid_unfiltered_index\":42,\"Frac. Ab. (Ion=0)\":\"6.001188e-07\"},{\"Level\":43,\"qgrid_unfiltered_index\":43,\"Frac. Ab. (Ion=0)\":\"5.955484e-07\"},{\"Level\":44,\"qgrid_unfiltered_index\":44,\"Frac. Ab. (Ion=0)\":\"9.925807e-07\"},{\"Level\":45,\"qgrid_unfiltered_index\":45,\"Frac. Ab. (Ion=0)\":\"1.389613e-06\"},{\"Level\":46,\"qgrid_unfiltered_index\":46,\"Frac. Ab. (Ion=0)\":\"1.786645e-06\"},{\"Level\":47,\"qgrid_unfiltered_index\":47,\"Frac. Ab. (Ion=0)\":\"2.183678e-06\"},{\"Level\":48,\"qgrid_unfiltered_index\":48,\"Frac. Ab. (Ion=0)\":\"9.925688e-07\"},{\"Level\":49,\"qgrid_unfiltered_index\":49,\"Frac. Ab. (Ion=0)\":\"1.389596e-06\"},{\"Level\":50,\"qgrid_unfiltered_index\":50,\"Frac. Ab. (Ion=0)\":\"1.786624e-06\"},{\"Level\":51,\"qgrid_unfiltered_index\":51,\"Frac. Ab. (Ion=0)\":\"5.475043e-07\"},{\"Level\":52,\"qgrid_unfiltered_index\":52,\"Frac. Ab. (Ion=0)\":\"5.475035e-07\"},{\"Level\":53,\"qgrid_unfiltered_index\":53,\"Frac. Ab. (Ion=0)\":\"9.124655e-07\"},{\"Level\":54,\"qgrid_unfiltered_index\":54,\"Frac. Ab. (Ion=0)\":\"9.124641e-07\"},{\"Level\":55,\"qgrid_unfiltered_index\":55,\"Frac. Ab. (Ion=0)\":\"1.277370e-06\"},{\"Level\":56,\"qgrid_unfiltered_index\":56,\"Frac. Ab. (Ion=0)\":\"1.277368e-06\"},{\"Level\":57,\"qgrid_unfiltered_index\":57,\"Frac. Ab. (Ion=0)\":\"8.844398e-07\"},{\"Level\":58,\"qgrid_unfiltered_index\":58,\"Frac. Ab. (Ion=0)\":\"5.306598e-07\"},{\"Level\":59,\"qgrid_unfiltered_index\":59,\"Frac. Ab. (Ion=0)\":\"1.768815e-07\"},{\"Level\":60,\"qgrid_unfiltered_index\":60,\"Frac. Ab. (Ion=0)\":\"7.635079e-07\"},{\"Level\":61,\"qgrid_unfiltered_index\":61,\"Frac. Ab. (Ion=0)\":\"4.496323e-07\"},{\"Level\":62,\"qgrid_unfiltered_index\":62,\"Frac. Ab. (Ion=0)\":\"1.311443e-06\"},{\"Level\":63,\"qgrid_unfiltered_index\":63,\"Frac. Ab. (Ion=0)\":\"1.020008e-06\"},{\"Level\":64,\"qgrid_unfiltered_index\":64,\"Frac. Ab. (Ion=0)\":\"7.285741e-07\"},{\"Level\":65,\"qgrid_unfiltered_index\":65,\"Frac. Ab. (Ion=0)\":\"4.371429e-07\"},{\"Level\":66,\"qgrid_unfiltered_index\":66,\"Frac. Ab. (Ion=0)\":\"1.457141e-07\"},{\"Level\":67,\"qgrid_unfiltered_index\":67,\"Frac. Ab. (Ion=0)\":\"4.358267e-07\"},{\"Level\":68,\"qgrid_unfiltered_index\":68,\"Frac. Ab. (Ion=0)\":\"7.263779e-07\"},{\"Level\":69,\"qgrid_unfiltered_index\":69,\"Frac. Ab. (Ion=0)\":\"1.016929e-06\"},{\"Level\":70,\"qgrid_unfiltered_index\":70,\"Frac. Ab. (Ion=0)\":\"4.340109e-07\"},{\"Level\":71,\"qgrid_unfiltered_index\":71,\"Frac. Ab. (Ion=0)\":\"7.233514e-07\"},{\"Level\":72,\"qgrid_unfiltered_index\":72,\"Frac. Ab. (Ion=0)\":\"1.012692e-06\"},{\"Level\":73,\"qgrid_unfiltered_index\":73,\"Frac. Ab. (Ion=0)\":\"1.302033e-06\"},{\"Level\":74,\"qgrid_unfiltered_index\":74,\"Frac. Ab. (Ion=0)\":\"1.591373e-06\"},{\"Level\":75,\"qgrid_unfiltered_index\":75,\"Frac. Ab. (Ion=0)\":\"7.233441e-07\"},{\"Level\":76,\"qgrid_unfiltered_index\":76,\"Frac. Ab. (Ion=0)\":\"1.012682e-06\"},{\"Level\":77,\"qgrid_unfiltered_index\":77,\"Frac. Ab. (Ion=0)\":\"1.302019e-06\"},{\"Level\":78,\"qgrid_unfiltered_index\":78,\"Frac. Ab. (Ion=0)\":\"4.151776e-07\"},{\"Level\":79,\"qgrid_unfiltered_index\":79,\"Frac. Ab. (Ion=0)\":\"6.919482e-07\"},{\"Level\":80,\"qgrid_unfiltered_index\":80,\"Frac. Ab. (Ion=0)\":\"9.686951e-07\"},{\"Level\":81,\"qgrid_unfiltered_index\":81,\"Frac. Ab. (Ion=0)\":\"1.362215e-07\"},{\"Level\":82,\"qgrid_unfiltered_index\":82,\"Frac. Ab. (Ion=0)\":\"4.086646e-07\"},{\"Level\":83,\"qgrid_unfiltered_index\":83,\"Frac. Ab. (Ion=0)\":\"6.811076e-07\"},{\"Level\":84,\"qgrid_unfiltered_index\":84,\"Frac. Ab. (Ion=0)\":\"6.281013e-07\"},{\"Level\":85,\"qgrid_unfiltered_index\":85,\"Frac. Ab. (Ion=0)\":\"3.729005e-07\"},{\"Level\":86,\"qgrid_unfiltered_index\":86,\"Frac. Ab. (Ion=0)\":\"1.101164e-06\"},{\"Level\":87,\"qgrid_unfiltered_index\":87,\"Frac. Ab. (Ion=0)\":\"8.564599e-07\"},{\"Level\":88,\"qgrid_unfiltered_index\":88,\"Frac. Ab. (Ion=0)\":\"6.117558e-07\"},{\"Level\":89,\"qgrid_unfiltered_index\":89,\"Frac. Ab. (Ion=0)\":\"3.670529e-07\"},{\"Level\":90,\"qgrid_unfiltered_index\":90,\"Frac. Ab. (Ion=0)\":\"1.223509e-07\"},{\"Level\":91,\"qgrid_unfiltered_index\":91,\"Frac. Ab. (Ion=0)\":\"3.663813e-07\"},{\"Level\":92,\"qgrid_unfiltered_index\":92,\"Frac. Ab. (Ion=0)\":\"6.106355e-07\"},{\"Level\":93,\"qgrid_unfiltered_index\":93,\"Frac. Ab. (Ion=0)\":\"8.548897e-07\"},{\"Level\":94,\"qgrid_unfiltered_index\":94,\"Frac. Ab. (Ion=0)\":\"3.654751e-07\"},{\"Level\":95,\"qgrid_unfiltered_index\":95,\"Frac. Ab. (Ion=0)\":\"6.091252e-07\"},{\"Level\":96,\"qgrid_unfiltered_index\":96,\"Frac. Ab. (Ion=0)\":\"8.527753e-07\"},{\"Level\":97,\"qgrid_unfiltered_index\":97,\"Frac. Ab. (Ion=0)\":\"1.096425e-06\"},{\"Level\":98,\"qgrid_unfiltered_index\":98,\"Frac. Ab. (Ion=0)\":\"1.340076e-06\"},{\"Level\":99,\"qgrid_unfiltered_index\":99,\"Frac. Ab. (Ion=0)\":\"6.091221e-07\"}]}",
       "_df_range": [
        0,
        100
       ],
       "_editable_rows": {},
       "_index_col_name": "qgrid_unfiltered_index",
       "_interval_columns": [],
       "_model_module_version": "^1.1.3",
       "_multi_index": false,
       "_row_count": 150,
       "_row_styles": {},
       "_sort_ascending": true,
       "_sort_field": null,
       "_view_module_version": "^1.1.3",
       "_viewport_range": [
        0,
        16
       ],
       "grid_options": {
        "autoEdit": false,
        "boldIndex": true,
        "defaultColumnWidth": 150,
        "editable": false,
        "enableColumnReorder": false,
        "enableTextSelectionOnCells": true,
        "explicitInitialization": true,
        "filterable": false,
        "forceFitColumns": true,
        "fullWidthRows": true,
        "highlightSelectedCell": false,
        "highlightSelectedRow": true,
        "maxVisibleRows": 15,
        "minVisibleRows": 2,
        "rowHeight": 28,
        "sortable": false,
        "syncColumnCellResize": true
       },
       "id": "1e5af4fd-0d98-47c2-9f01-af3fcf07282c",
       "layout": "IPY_MODEL_6859f24838df4880b2dfc16dcfb84186",
       "precision": 5,
       "show_toolbar": false
      }
     },
     "81446dc25eb442cc81d4f927cdf6dd49": {
      "model_module": "@jupyter-widgets/base",
      "model_module_version": "1.2.0",
      "model_name": "LayoutModel",
      "state": {
       "width": "18%"
      }
     },
     "854d3f7b86e24fe59a557538fd6997d1": {
      "model_module": "@jupyter-widgets/base",
      "model_module_version": "1.2.0",
      "model_name": "LayoutModel",
      "state": {}
     },
     "8618b90fc2574849bc40140686c6f620": {
      "model_module": "qgrid",
      "model_module_version": "^1.1.3",
      "model_name": "QgridModel",
      "state": {
       "_columns": {
        "Rad. Temp.": {
         "cssClass": "string",
         "defaultSortAsc": true,
         "editable": true,
         "field": "Rad. Temp.",
         "id": "Rad. Temp.",
         "minWidth": null,
         "name": "Rad. Temp.",
         "position": 2,
         "resizable": true,
         "sortable": true,
         "toolTip": "",
         "type": "string",
         "width": 35
        },
        "Shell No.": {
         "cssClass": "integer first-idx-col idx-col first-idx-col idx-col",
         "defaultSortAsc": true,
         "editable": true,
         "field": "Shell No.",
         "first_index": true,
         "id": "Shell No.",
         "index_display_text": "Shell No.",
         "is_index": true,
         "level": 0,
         "minWidth": null,
         "name": "Shell No.",
         "position": 0,
         "resizable": true,
         "sortable": true,
         "toolTip": "",
         "type": "integer",
         "width": 30
        },
        "W": {
         "cssClass": "string",
         "defaultSortAsc": true,
         "editable": true,
         "field": "W",
         "id": "W",
         "minWidth": null,
         "name": "W",
         "position": 3,
         "resizable": true,
         "sortable": true,
         "toolTip": "",
         "type": "string",
         "width": 35
        },
        "qgrid_unfiltered_index": {
         "cssClass": "integer",
         "defaultSortAsc": true,
         "editable": true,
         "field": "qgrid_unfiltered_index",
         "id": "qgrid_unfiltered_index",
         "maxWidth": null,
         "minWidth": null,
         "name": "qgrid_unfiltered_index",
         "position": 1,
         "resizable": true,
         "sortable": true,
         "toolTip": "",
         "type": "integer",
         "width": null
        }
       },
       "_df_json": "{\"schema\": {\"fields\":[{\"name\":\"Shell No.\",\"type\":\"integer\"},{\"name\":\"qgrid_unfiltered_index\",\"type\":\"integer\"},{\"name\":\"Rad. Temp.\",\"type\":\"string\"},{\"name\":\"W\",\"type\":\"string\"}],\"primaryKey\":[\"Shell No.\"],\"pandas_version\":\"0.20.0\"}, \"data\": [{\"Shell No.\":1,\"qgrid_unfiltered_index\":0,\"Rad. Temp.\":\"1.086251e+04\",\"W\":\"4.444947e-01\"},{\"Shell No.\":2,\"qgrid_unfiltered_index\":1,\"Rad. Temp.\":\"1.103536e+04\",\"W\":\"3.308350e-01\"},{\"Shell No.\":3,\"qgrid_unfiltered_index\":2,\"Rad. Temp.\":\"1.119691e+04\",\"W\":\"2.604883e-01\"},{\"Shell No.\":4,\"qgrid_unfiltered_index\":3,\"Rad. Temp.\":\"1.125229e+04\",\"W\":\"2.174908e-01\"},{\"Shell No.\":5,\"qgrid_unfiltered_index\":4,\"Rad. Temp.\":\"1.121542e+04\",\"W\":\"1.879279e-01\"},{\"Shell No.\":6,\"qgrid_unfiltered_index\":5,\"Rad. Temp.\":\"1.119446e+04\",\"W\":\"1.628420e-01\"},{\"Shell No.\":7,\"qgrid_unfiltered_index\":6,\"Rad. Temp.\":\"1.124311e+04\",\"W\":\"1.419034e-01\"},{\"Shell No.\":8,\"qgrid_unfiltered_index\":7,\"Rad. Temp.\":\"1.124690e+04\",\"W\":\"1.264369e-01\"},{\"Shell No.\":9,\"qgrid_unfiltered_index\":8,\"Rad. Temp.\":\"1.116176e+04\",\"W\":\"1.172286e-01\"},{\"Shell No.\":10,\"qgrid_unfiltered_index\":9,\"Rad. Temp.\":\"1.112850e+04\",\"W\":\"1.073689e-01\"},{\"Shell No.\":11,\"qgrid_unfiltered_index\":10,\"Rad. Temp.\":\"1.106562e+04\",\"W\":\"9.937228e-02\"},{\"Shell No.\":12,\"qgrid_unfiltered_index\":11,\"Rad. Temp.\":\"1.093918e+04\",\"W\":\"9.480017e-02\"},{\"Shell No.\":13,\"qgrid_unfiltered_index\":12,\"Rad. Temp.\":\"1.088287e+04\",\"W\":\"8.920397e-02\"},{\"Shell No.\":14,\"qgrid_unfiltered_index\":13,\"Rad. Temp.\":\"1.077571e+04\",\"W\":\"8.504642e-02\"},{\"Shell No.\":15,\"qgrid_unfiltered_index\":14,\"Rad. Temp.\":\"1.065337e+04\",\"W\":\"8.179275e-02\"},{\"Shell No.\":16,\"qgrid_unfiltered_index\":15,\"Rad. Temp.\":\"1.059985e+04\",\"W\":\"7.768958e-02\"},{\"Shell No.\":17,\"qgrid_unfiltered_index\":16,\"Rad. Temp.\":\"1.050428e+04\",\"W\":\"7.459787e-02\"},{\"Shell No.\":18,\"qgrid_unfiltered_index\":17,\"Rad. Temp.\":\"1.050167e+04\",\"W\":\"6.987617e-02\"},{\"Shell No.\":19,\"qgrid_unfiltered_index\":18,\"Rad. Temp.\":\"1.037101e+04\",\"W\":\"6.830342e-02\"},{\"Shell No.\":20,\"qgrid_unfiltered_index\":19,\"Rad. Temp.\":\"1.023320e+04\",\"W\":\"6.706797e-02\"}]}",
       "_df_range": [
        0,
        104
       ],
       "_editable_rows": {},
       "_index_col_name": "qgrid_unfiltered_index",
       "_interval_columns": [],
       "_model_module_version": "^1.1.3",
       "_multi_index": false,
       "_row_count": 20,
       "_row_styles": {},
       "_sort_ascending": true,
       "_sort_field": null,
       "_view_module_version": "^1.1.3",
       "_viewport_range": [
        4,
        21
       ],
       "grid_options": {
        "autoEdit": false,
        "boldIndex": true,
        "defaultColumnWidth": 150,
        "editable": false,
        "enableColumnReorder": false,
        "enableTextSelectionOnCells": true,
        "explicitInitialization": true,
        "filterable": false,
        "forceFitColumns": true,
        "fullWidthRows": true,
        "highlightSelectedCell": false,
        "highlightSelectedRow": true,
        "maxVisibleRows": 15,
        "minVisibleRows": 2,
        "rowHeight": 28,
        "sortable": false,
        "syncColumnCellResize": true
       },
       "id": "66ed9352-8073-484f-8073-113c56ca0fd0",
       "layout": "IPY_MODEL_a2d951845adb4071a9ba9a24c27ce35c",
       "precision": 5,
       "show_toolbar": false
      }
     },
     "87015b58568f4e8d99722f72a1d9b5c4": {
      "model_module": "@jupyter-widgets/base",
      "model_module_version": "1.2.0",
      "model_name": "LayoutModel",
      "state": {}
     },
     "875ebf2424a74288b60d4d2b6bfa9025": {
      "model_module": "@jupyter-widgets/controls",
      "model_module_version": "1.5.0",
      "model_name": "DescriptionStyleModel",
      "state": {
       "description_width": ""
      }
     },
     "89901307de6e44a0bb04ccc9b1fbb122": {
      "model_module": "@jupyter-widgets/controls",
      "model_module_version": "1.5.0",
      "model_name": "HTMLModel",
      "state": {
       "layout": "IPY_MODEL_25a06dda99834cf69eea38db0c51f0b6",
       "style": "IPY_MODEL_d7561f6b974b4fc5afc47691beb5f588",
       "value": "<b>Frac. Ab.</b> denotes <i>Fractional Abundances</i> (i.e all values sum to 1)<br><b>W</b> denotes <i>Dilution Factor</i> and <b>Rad. Temp.</b> is <i>Radiative Temperature (in K)</i>"
      }
     },
     "8b8e03ac56c24d17a2bcdf26f2e5b2e9": {
      "model_module": "@jupyter-widgets/base",
      "model_module_version": "1.2.0",
      "model_name": "LayoutModel",
      "state": {}
     },
     "8c2be5e127d54660a61b2a83457a8756": {
      "model_module": "qgrid",
      "model_module_version": "^1.1.3",
      "model_name": "QgridModel",
      "state": {
       "_columns": {
        "Rad. Temp.": {
         "cssClass": "string",
         "defaultSortAsc": true,
         "editable": true,
         "field": "Rad. Temp.",
         "id": "Rad. Temp.",
         "maxWidth": null,
         "minWidth": null,
         "name": "Rad. Temp.",
         "position": 2,
         "resizable": true,
         "sortable": true,
         "toolTip": "",
         "type": "string",
         "width": 35
        },
        "Shell No.": {
         "cssClass": "integer",
         "defaultSortAsc": true,
         "editable": true,
         "field": "Shell No.",
         "first_index": true,
         "id": "Shell No.",
         "index_display_text": "Shell No.",
         "is_index": true,
         "level": 0,
         "maxWidth": null,
         "minWidth": null,
         "name": "Shell No.",
         "position": 0,
         "resizable": true,
         "sortable": true,
         "toolTip": "",
         "type": "integer",
         "width": 30
        },
        "W": {
         "cssClass": "string",
         "defaultSortAsc": true,
         "editable": true,
         "field": "W",
         "id": "W",
         "maxWidth": null,
         "minWidth": null,
         "name": "W",
         "position": 3,
         "resizable": true,
         "sortable": true,
         "toolTip": "",
         "type": "string",
         "width": 35
        },
        "qgrid_unfiltered_index": {
         "cssClass": "integer",
         "defaultSortAsc": true,
         "editable": true,
         "field": "qgrid_unfiltered_index",
         "id": "qgrid_unfiltered_index",
         "maxWidth": null,
         "minWidth": null,
         "name": "qgrid_unfiltered_index",
         "position": 1,
         "resizable": true,
         "sortable": true,
         "toolTip": "",
         "type": "integer",
         "width": null
        }
       },
       "_df_json": "{\"schema\": {\"fields\":[{\"name\":\"Shell No.\",\"type\":\"integer\"},{\"name\":\"qgrid_unfiltered_index\",\"type\":\"integer\"},{\"name\":\"Rad. Temp.\",\"type\":\"string\"},{\"name\":\"W\",\"type\":\"string\"}],\"primaryKey\":[\"Shell No.\"],\"pandas_version\":\"0.20.0\"}, \"data\": [{\"Shell No.\":1,\"qgrid_unfiltered_index\":0,\"Rad. Temp.\":\"1.086251e+04\",\"W\":\"4.444947e-01\"},{\"Shell No.\":2,\"qgrid_unfiltered_index\":1,\"Rad. Temp.\":\"1.103536e+04\",\"W\":\"3.308350e-01\"},{\"Shell No.\":3,\"qgrid_unfiltered_index\":2,\"Rad. Temp.\":\"1.119691e+04\",\"W\":\"2.604883e-01\"},{\"Shell No.\":4,\"qgrid_unfiltered_index\":3,\"Rad. Temp.\":\"1.125229e+04\",\"W\":\"2.174908e-01\"},{\"Shell No.\":5,\"qgrid_unfiltered_index\":4,\"Rad. Temp.\":\"1.121542e+04\",\"W\":\"1.879279e-01\"},{\"Shell No.\":6,\"qgrid_unfiltered_index\":5,\"Rad. Temp.\":\"1.119446e+04\",\"W\":\"1.628420e-01\"},{\"Shell No.\":7,\"qgrid_unfiltered_index\":6,\"Rad. Temp.\":\"1.124311e+04\",\"W\":\"1.419034e-01\"},{\"Shell No.\":8,\"qgrid_unfiltered_index\":7,\"Rad. Temp.\":\"1.124690e+04\",\"W\":\"1.264369e-01\"},{\"Shell No.\":9,\"qgrid_unfiltered_index\":8,\"Rad. Temp.\":\"1.116176e+04\",\"W\":\"1.172286e-01\"},{\"Shell No.\":10,\"qgrid_unfiltered_index\":9,\"Rad. Temp.\":\"1.112850e+04\",\"W\":\"1.073689e-01\"},{\"Shell No.\":11,\"qgrid_unfiltered_index\":10,\"Rad. Temp.\":\"1.106562e+04\",\"W\":\"9.937228e-02\"},{\"Shell No.\":12,\"qgrid_unfiltered_index\":11,\"Rad. Temp.\":\"1.093918e+04\",\"W\":\"9.480017e-02\"},{\"Shell No.\":13,\"qgrid_unfiltered_index\":12,\"Rad. Temp.\":\"1.088287e+04\",\"W\":\"8.920397e-02\"},{\"Shell No.\":14,\"qgrid_unfiltered_index\":13,\"Rad. Temp.\":\"1.077571e+04\",\"W\":\"8.504642e-02\"},{\"Shell No.\":15,\"qgrid_unfiltered_index\":14,\"Rad. Temp.\":\"1.065337e+04\",\"W\":\"8.179275e-02\"},{\"Shell No.\":16,\"qgrid_unfiltered_index\":15,\"Rad. Temp.\":\"1.059985e+04\",\"W\":\"7.768958e-02\"},{\"Shell No.\":17,\"qgrid_unfiltered_index\":16,\"Rad. Temp.\":\"1.050428e+04\",\"W\":\"7.459787e-02\"},{\"Shell No.\":18,\"qgrid_unfiltered_index\":17,\"Rad. Temp.\":\"1.050167e+04\",\"W\":\"6.987617e-02\"},{\"Shell No.\":19,\"qgrid_unfiltered_index\":18,\"Rad. Temp.\":\"1.037101e+04\",\"W\":\"6.830342e-02\"},{\"Shell No.\":20,\"qgrid_unfiltered_index\":19,\"Rad. Temp.\":\"1.023320e+04\",\"W\":\"6.706797e-02\"}]}",
       "_df_range": [
        0,
        100
       ],
       "_editable_rows": {},
       "_index_col_name": "qgrid_unfiltered_index",
       "_interval_columns": [],
       "_model_module_version": "^1.1.3",
       "_multi_index": false,
       "_row_count": 20,
       "_row_styles": {},
       "_sort_ascending": true,
       "_sort_field": null,
       "_view_module_version": "^1.1.3",
       "_viewport_range": [
        0,
        100
       ],
       "grid_options": {
        "autoEdit": false,
        "boldIndex": true,
        "defaultColumnWidth": 150,
        "editable": false,
        "enableColumnReorder": false,
        "enableTextSelectionOnCells": true,
        "explicitInitialization": true,
        "filterable": false,
        "forceFitColumns": true,
        "fullWidthRows": true,
        "highlightSelectedCell": false,
        "highlightSelectedRow": true,
        "maxVisibleRows": 15,
        "minVisibleRows": 2,
        "rowHeight": 28,
        "sortable": false,
        "syncColumnCellResize": true
       },
       "id": "002e0a20-629f-4ae2-ac12-b77717fbd347",
       "layout": "IPY_MODEL_87015b58568f4e8d99722f72a1d9b5c4",
       "precision": 5,
       "show_toolbar": false
      }
     },
     "8c82c405ca174d69a0efe25fc743c91b": {
      "model_module": "@jupyter-widgets/base",
      "model_module_version": "1.2.0",
      "model_name": "LayoutModel",
      "state": {
       "width": "24%"
      }
     },
     "8d487482f86e49259041000fa0e1e7ff": {
      "model_module": "qgrid",
      "model_module_version": "^1.1.3",
      "model_name": "QgridModel",
      "state": {
       "_columns": {
        "Frac. Ab. (Z=8)": {
         "cssClass": "string",
         "defaultSortAsc": true,
         "editable": true,
         "field": "Frac. Ab. (Z=8)",
         "id": "Frac. Ab. (Z=8)",
         "minWidth": null,
         "name": "Frac. Ab. (Z=8)",
         "position": 3,
         "resizable": true,
         "sortable": true,
         "toolTip": "",
         "type": "string",
         "width": 50
        },
        "Ion": {
         "cssClass": "integer first-idx-col idx-col first-idx-col idx-col first-idx-col idx-col",
         "defaultSortAsc": true,
         "editable": true,
         "field": "Ion",
         "first_index": true,
         "id": "Ion",
         "index_display_text": "Ion",
         "is_index": true,
         "level": 0,
         "minWidth": null,
         "name": "Ion",
         "position": 0,
         "resizable": true,
         "sortable": true,
         "toolTip": "",
         "type": "integer",
         "width": 20
        },
        "Species": {
         "cssClass": "string",
         "defaultSortAsc": true,
         "editable": true,
         "field": "Species",
         "id": "Species",
         "minWidth": null,
         "name": "Species",
         "position": 2,
         "resizable": true,
         "sortable": true,
         "toolTip": "",
         "type": "string",
         "width": 30
        },
        "qgrid_unfiltered_index": {
         "cssClass": "integer",
         "defaultSortAsc": true,
         "editable": true,
         "field": "qgrid_unfiltered_index",
         "id": "qgrid_unfiltered_index",
         "maxWidth": null,
         "minWidth": null,
         "name": "qgrid_unfiltered_index",
         "position": 1,
         "resizable": true,
         "sortable": true,
         "toolTip": "",
         "type": "integer",
         "width": null
        }
       },
       "_df_json": "{\"schema\": {\"fields\":[{\"name\":\"Ion\",\"type\":\"integer\"},{\"name\":\"qgrid_unfiltered_index\",\"type\":\"integer\"},{\"name\":\"Species\",\"type\":\"string\"},{\"name\":\"Frac. Ab. (Z=8)\",\"type\":\"string\"}],\"primaryKey\":[\"Ion\"],\"pandas_version\":\"0.20.0\"}, \"data\": [{\"Ion\":0,\"qgrid_unfiltered_index\":0,\"Species\":\"O I\",\"Frac. Ab. (Z=8)\":\"1.542463e-07\"},{\"Ion\":1,\"qgrid_unfiltered_index\":1,\"Species\":\"O II\",\"Frac. Ab. (Z=8)\":\"9.966939e-01\"},{\"Ion\":2,\"qgrid_unfiltered_index\":2,\"Species\":\"O III\",\"Frac. Ab. (Z=8)\":\"3.305948e-03\"},{\"Ion\":3,\"qgrid_unfiltered_index\":3,\"Species\":\"O IV\",\"Frac. Ab. (Z=8)\":\"2.208796e-15\"},{\"Ion\":4,\"qgrid_unfiltered_index\":4,\"Species\":\"O V\",\"Frac. Ab. (Z=8)\":\"0.000000e+00\"},{\"Ion\":5,\"qgrid_unfiltered_index\":5,\"Species\":\"O VI\",\"Frac. Ab. (Z=8)\":\"0.000000e+00\"},{\"Ion\":6,\"qgrid_unfiltered_index\":6,\"Species\":\"O VII\",\"Frac. Ab. (Z=8)\":\"0.000000e+00\"},{\"Ion\":7,\"qgrid_unfiltered_index\":7,\"Species\":\"O VIII\",\"Frac. Ab. (Z=8)\":\"0.000000e+00\"},{\"Ion\":8,\"qgrid_unfiltered_index\":8,\"Species\":\"O IX\",\"Frac. Ab. (Z=8)\":\"0.000000e+00\"}]}",
       "_df_range": [
        0,
        100
       ],
       "_editable_rows": {},
       "_index_col_name": "qgrid_unfiltered_index",
       "_interval_columns": [],
       "_model_module_version": "^1.1.3",
       "_multi_index": false,
       "_row_count": 9,
       "_row_styles": {},
       "_sort_ascending": true,
       "_sort_field": null,
       "_view_module_version": "^1.1.3",
       "_viewport_range": [
        0,
        100
       ],
       "grid_options": {
        "autoEdit": false,
        "boldIndex": true,
        "defaultColumnWidth": 150,
        "editable": false,
        "enableColumnReorder": false,
        "enableTextSelectionOnCells": true,
        "explicitInitialization": true,
        "filterable": false,
        "forceFitColumns": true,
        "fullWidthRows": true,
        "highlightSelectedCell": false,
        "highlightSelectedRow": true,
        "maxVisibleRows": 15,
        "minVisibleRows": 2,
        "rowHeight": 28,
        "sortable": false,
        "syncColumnCellResize": true
       },
       "id": "14ae1d2d-e5f4-46ff-acfc-512beca91d9c",
       "layout": "IPY_MODEL_bec9bdfe08ff4364b329cdc16f6d9d6b",
       "precision": 5,
       "show_toolbar": false
      }
     },
     "8e47fec3e41541a38144f113e0e18768": {
      "model_module": "@jupyter-widgets/controls",
      "model_module_version": "1.5.0",
      "model_name": "HTMLModel",
      "state": {
       "layout": "IPY_MODEL_f4e75a3c378244d6b5c0df65627a995e",
       "style": "IPY_MODEL_36c10d54336a46eebf135842e68be9d4",
       "value": "<b>Frac. Ab.</b> denotes <i>Fractional Abundances</i> (i.e all values sum to 1)<br><b>W</b> denotes <i>Dilution Factor</i> and <b>Rad. Temp.</b> is <i>Radiative Temperature (in K)</i>"
      }
     },
     "900e93ef758d4654866d4a6638894853": {
      "model_module": "@jupyter-widgets/base",
      "model_module_version": "1.2.0",
      "model_name": "LayoutModel",
      "state": {
       "width": "30%"
      }
     },
     "93d8d5c800b14f15be6268d10bd66714": {
      "model_module": "@jupyter-widgets/controls",
      "model_module_version": "1.5.0",
      "model_name": "HTMLModel",
      "state": {
       "layout": "IPY_MODEL_854d3f7b86e24fe59a557538fd6997d1",
       "style": "IPY_MODEL_875ebf2424a74288b60d4d2b6bfa9025",
       "value": "<b>Frac. Ab.</b> denotes <i>Fractional Abundances</i> (i.e all values sum to 1)<br><b>W</b> denotes <i>Dilution Factor</i> and <b>Rad. Temp.</b> is <i>Radiative Temperature (in K)</i>"
      }
     },
     "948b8b96a09443199577ebf2b3329368": {
      "model_module": "@jupyter-widgets/controls",
      "model_module_version": "1.5.0",
      "model_name": "DescriptionStyleModel",
      "state": {
       "description_width": ""
      }
     },
     "9d2b36ce722e4896b8520acd6ef2cc20": {
      "model_module": "@jupyter-widgets/base",
      "model_module_version": "1.2.0",
      "model_name": "LayoutModel",
      "state": {}
     },
     "9f62b5c5c8af46ac8c9be4718ba5d41c": {
      "model_module": "@jupyter-widgets/base",
      "model_module_version": "1.2.0",
      "model_name": "LayoutModel",
      "state": {}
     },
     "9fabc9f0cab3496294324a96552c8047": {
      "model_module": "@jupyter-widgets/base",
      "model_module_version": "1.2.0",
      "model_name": "LayoutModel",
      "state": {}
     },
     "9fb312bca8eb452493b54502677bc121": {
      "model_module": "qgrid",
      "model_module_version": "^1.1.3",
      "model_name": "QgridModel",
      "state": {
       "_columns": {
        "Element": {
         "cssClass": "string",
         "defaultSortAsc": true,
         "editable": true,
         "field": "Element",
         "id": "Element",
         "minWidth": null,
         "name": "Element",
         "position": 2,
         "resizable": true,
         "sortable": true,
         "toolTip": "",
         "type": "string",
         "width": 30
        },
        "Frac. Ab. (Shell 1)": {
         "cssClass": "string",
         "defaultSortAsc": true,
         "editable": true,
         "field": "Frac. Ab. (Shell 1)",
         "id": "Frac. Ab. (Shell 1)",
         "minWidth": null,
         "name": "Frac. Ab. (Shell 1)",
         "position": 3,
         "resizable": true,
         "sortable": true,
         "toolTip": "",
         "type": "string",
         "width": 55
        },
        "Z": {
         "cssClass": "integer first-idx-col idx-col first-idx-col idx-col",
         "defaultSortAsc": true,
         "editable": true,
         "field": "Z",
         "first_index": true,
         "id": "Z",
         "index_display_text": "Z",
         "is_index": true,
         "level": 0,
         "minWidth": null,
         "name": "Z",
         "position": 0,
         "resizable": true,
         "sortable": true,
         "toolTip": "",
         "type": "integer",
         "width": 15
        },
        "qgrid_unfiltered_index": {
         "cssClass": "integer",
         "defaultSortAsc": true,
         "editable": true,
         "field": "qgrid_unfiltered_index",
         "id": "qgrid_unfiltered_index",
         "maxWidth": null,
         "minWidth": null,
         "name": "qgrid_unfiltered_index",
         "position": 1,
         "resizable": true,
         "sortable": true,
         "toolTip": "",
         "type": "integer",
         "width": null
        }
       },
       "_df_json": "{\"schema\": {\"fields\":[{\"name\":\"Z\",\"type\":\"integer\"},{\"name\":\"qgrid_unfiltered_index\",\"type\":\"integer\"},{\"name\":\"Element\",\"type\":\"string\"},{\"name\":\"Frac. Ab. (Shell 1)\",\"type\":\"string\"}],\"primaryKey\":[\"Z\"],\"pandas_version\":\"0.20.0\"}, \"data\": [{\"Z\":8,\"qgrid_unfiltered_index\":0,\"Element\":\"O\",\"Frac. Ab. (Shell 1)\":\"1.900000e-01\"},{\"Z\":12,\"qgrid_unfiltered_index\":1,\"Element\":\"Mg\",\"Frac. Ab. (Shell 1)\":\"3.000000e-02\"},{\"Z\":14,\"qgrid_unfiltered_index\":2,\"Element\":\"Si\",\"Frac. Ab. (Shell 1)\":\"5.200000e-01\"},{\"Z\":16,\"qgrid_unfiltered_index\":3,\"Element\":\"S\",\"Frac. Ab. (Shell 1)\":\"1.900000e-01\"},{\"Z\":18,\"qgrid_unfiltered_index\":4,\"Element\":\"Ar\",\"Frac. Ab. (Shell 1)\":\"4.000000e-02\"},{\"Z\":20,\"qgrid_unfiltered_index\":5,\"Element\":\"Ca\",\"Frac. Ab. (Shell 1)\":\"3.000000e-02\"}]}",
       "_df_range": [
        0,
        100
       ],
       "_editable_rows": {},
       "_index_col_name": "qgrid_unfiltered_index",
       "_interval_columns": [],
       "_model_module_version": "^1.1.3",
       "_multi_index": false,
       "_row_count": 6,
       "_row_styles": {},
       "_sort_ascending": true,
       "_sort_field": null,
       "_view_module_version": "^1.1.3",
       "_viewport_range": [
        0,
        100
       ],
       "grid_options": {
        "autoEdit": false,
        "boldIndex": true,
        "defaultColumnWidth": 150,
        "editable": false,
        "enableColumnReorder": false,
        "enableTextSelectionOnCells": true,
        "explicitInitialization": true,
        "filterable": false,
        "forceFitColumns": true,
        "fullWidthRows": true,
        "highlightSelectedCell": false,
        "highlightSelectedRow": true,
        "maxVisibleRows": 15,
        "minVisibleRows": 2,
        "rowHeight": 28,
        "sortable": false,
        "syncColumnCellResize": true
       },
       "id": "7f3c3e67-2fa9-434f-b746-be5ddc5bc5d7",
       "layout": "IPY_MODEL_74956f00583e4bcab38f3ee80512f05d",
       "precision": 5,
       "show_toolbar": false
      }
     },
     "a016381751e2413c94fcc5bd3a704bfe": {
      "model_module": "@jupyter-widgets/controls",
      "model_module_version": "1.5.0",
      "model_name": "DescriptionStyleModel",
      "state": {
       "description_width": ""
      }
     },
     "a01c4a616ccf477896b95f19ca80ff8f": {
      "model_module": "@jupyter-widgets/controls",
      "model_module_version": "1.5.0",
      "model_name": "BoxModel",
      "state": {
       "children": [
        "IPY_MODEL_477104e4f358423c8b9236188f5a166b",
        "IPY_MODEL_0a6c32649fda4e59a110dcfd4d3028c8",
        "IPY_MODEL_4ca5091029ae4dfba618634ea4661e1b",
        "IPY_MODEL_da298d8a24b248f08f42fbe51bc220f3"
       ],
       "layout": "IPY_MODEL_f262851912f640c6b81326868285cd2b"
      }
     },
     "a2d951845adb4071a9ba9a24c27ce35c": {
      "model_module": "@jupyter-widgets/base",
      "model_module_version": "1.2.0",
      "model_name": "LayoutModel",
      "state": {
       "width": "30%"
      }
     },
     "a5ccfdf07af845529c7474b37717f6ad": {
      "model_module": "@jupyter-widgets/controls",
      "model_module_version": "1.5.0",
      "model_name": "VBoxModel",
      "state": {
       "children": [
        "IPY_MODEL_0215b99d9e8745f7b054f811c621a94a",
        "IPY_MODEL_3fd83cdd62e148068282b24e2c482dca"
       ],
       "layout": "IPY_MODEL_7e2afc2dca7a4331aa5b2130c11618ee"
      }
     },
     "a666813136b54fba95779ee83ba0b7d0": {
      "model_module": "@jupyter-widgets/controls",
      "model_module_version": "1.5.0",
      "model_name": "VBoxModel",
      "state": {
       "children": [
        "IPY_MODEL_78db49091cce49dea6af6f7d72826c98",
        "IPY_MODEL_0a48492ab7a64c8ca95cc70ed74fca96"
       ],
       "layout": "IPY_MODEL_1565dc151b5848cc83ea569b6c1b8eaa"
      }
     },
     "a90de708e04741c195acf2bad1554d06": {
      "model_module": "@jupyter-widgets/controls",
      "model_module_version": "1.5.0",
      "model_name": "BoxModel",
      "state": {
       "children": [
        "IPY_MODEL_8618b90fc2574849bc40140686c6f620",
        "IPY_MODEL_db40741114fc43dcaf5f35e55035be1a",
        "IPY_MODEL_dbb8e46da6914f50b44a70c0973d077d",
        "IPY_MODEL_7fb5daca2d72418b9ed273eee85164c8"
       ],
       "layout": "IPY_MODEL_f262851912f640c6b81326868285cd2b"
      }
     },
     "a98f6a8270ac4dcea6d2bc7409412075": {
      "model_module": "@jupyter-widgets/base",
      "model_module_version": "1.2.0",
      "model_name": "LayoutModel",
      "state": {
       "width": "18%"
      }
     },
     "a9fda71892cb4583af147196f8698f1d": {
      "model_module": "@jupyter-widgets/controls",
      "model_module_version": "1.5.0",
      "model_name": "HTMLModel",
      "state": {
       "layout": "IPY_MODEL_f0ea5bb5ef5a4741b245767ced96bb39",
       "style": "IPY_MODEL_c8164ad9b27d4d7b9d5cad0b01b9d88a",
       "value": "<b>Frac. Ab.</b> denotes <i>Fractional Abundances</i> (i.e all values sum to 1)<br><b>W</b> denotes <i>Dilution Factor</i> and <b>Rad. Temp.</b> is <i>Radiative Temperature (in K)</i>"
      }
     },
     "ab52e980a07e406eaacdf0d5b461167e": {
      "model_module": "@jupyter-widgets/base",
      "model_module_version": "1.2.0",
      "model_name": "LayoutModel",
      "state": {
       "align_items": "flex-start",
       "display": "flex",
       "justify_content": "space-between"
      }
     },
     "adcc55ec44fd439180c1c135589ee3f1": {
      "model_module": "@jupyter-widgets/base",
      "model_module_version": "1.2.0",
      "model_name": "LayoutModel",
      "state": {
       "width": "30%"
      }
     },
     "ae4ee6b0b98344da98ca3d2eef40218f": {
      "model_module": "@jupyter-widgets/controls",
      "model_module_version": "1.5.0",
      "model_name": "DescriptionStyleModel",
      "state": {
       "description_width": ""
      }
     },
     "af7633dd998f4990b089784aa9df1582": {
      "model_module": "@jupyter-widgets/controls",
      "model_module_version": "1.5.0",
      "model_name": "HTMLModel",
      "state": {
       "layout": "IPY_MODEL_02ae461227b64d7b816c550e609a35f7",
       "style": "IPY_MODEL_b3b2e457feb34a90a19cb1af6eea481f",
       "value": "<b>Frac. Ab.</b> denotes <i>Fractional Abundances</i> (i.e all values sum to 1)<br><b>W</b> denotes <i>Dilution Factor</i> and <b>Rad. Temp.</b> is <i>Radiative Temperature (in K)</i>"
      }
     },
     "b057cdae3cfc41299c98b12b4dde897c": {
      "model_module": "@jupyter-widgets/base",
      "model_module_version": "1.2.0",
      "model_name": "LayoutModel",
      "state": {
       "width": "18%"
      }
     },
     "b090429befc84e7fb7a101a1496377eb": {
      "model_module": "@jupyter-widgets/controls",
      "model_module_version": "1.5.0",
      "model_name": "DescriptionStyleModel",
      "state": {
       "description_width": ""
      }
     },
     "b0e9800c0259400496a5e7ba1ff3b9b0": {
      "model_module": "@jupyter-widgets/base",
      "model_module_version": "1.2.0",
      "model_name": "LayoutModel",
      "state": {
       "width": "24%"
      }
     },
     "b19949d1b87c4c51a7ec7cffc4a51a8c": {
      "model_module": "qgrid",
      "model_module_version": "^1.1.3",
      "model_name": "QgridModel",
      "state": {
       "_columns": {
        "Rad. Temp.": {
         "cssClass": "string",
         "defaultSortAsc": true,
         "editable": true,
         "field": "Rad. Temp.",
         "id": "Rad. Temp.",
         "minWidth": null,
         "name": "Rad. Temp.",
         "position": 2,
         "resizable": true,
         "sortable": true,
         "toolTip": "",
         "type": "string",
         "width": 35
        },
        "Shell No.": {
         "cssClass": "integer first-idx-col idx-col",
         "defaultSortAsc": true,
         "editable": true,
         "field": "Shell No.",
         "first_index": true,
         "id": "Shell No.",
         "index_display_text": "Shell No.",
         "is_index": true,
         "level": 0,
         "minWidth": null,
         "name": "Shell No.",
         "position": 0,
         "resizable": true,
         "sortable": true,
         "toolTip": "",
         "type": "integer",
         "width": 30
        },
        "W": {
         "cssClass": "string",
         "defaultSortAsc": true,
         "editable": true,
         "field": "W",
         "id": "W",
         "minWidth": null,
         "name": "W",
         "position": 3,
         "resizable": true,
         "sortable": true,
         "toolTip": "",
         "type": "string",
         "width": 35
        },
        "qgrid_unfiltered_index": {
         "cssClass": "integer",
         "defaultSortAsc": true,
         "editable": true,
         "field": "qgrid_unfiltered_index",
         "id": "qgrid_unfiltered_index",
         "maxWidth": null,
         "minWidth": null,
         "name": "qgrid_unfiltered_index",
         "position": 1,
         "resizable": true,
         "sortable": true,
         "toolTip": "",
         "type": "integer",
         "width": null
        }
       },
       "_df_json": "{\"schema\": {\"fields\":[{\"name\":\"Shell No.\",\"type\":\"integer\"},{\"name\":\"qgrid_unfiltered_index\",\"type\":\"integer\"},{\"name\":\"Rad. Temp.\",\"type\":\"string\"},{\"name\":\"W\",\"type\":\"string\"}],\"primaryKey\":[\"Shell No.\"],\"pandas_version\":\"0.20.0\"}, \"data\": [{\"Shell No.\":1,\"qgrid_unfiltered_index\":0,\"Rad. Temp.\":\"1.086251e+04\",\"W\":\"4.444947e-01\"},{\"Shell No.\":2,\"qgrid_unfiltered_index\":1,\"Rad. Temp.\":\"1.103536e+04\",\"W\":\"3.308350e-01\"},{\"Shell No.\":3,\"qgrid_unfiltered_index\":2,\"Rad. Temp.\":\"1.119691e+04\",\"W\":\"2.604883e-01\"},{\"Shell No.\":4,\"qgrid_unfiltered_index\":3,\"Rad. Temp.\":\"1.125229e+04\",\"W\":\"2.174908e-01\"},{\"Shell No.\":5,\"qgrid_unfiltered_index\":4,\"Rad. Temp.\":\"1.121542e+04\",\"W\":\"1.879279e-01\"},{\"Shell No.\":6,\"qgrid_unfiltered_index\":5,\"Rad. Temp.\":\"1.119446e+04\",\"W\":\"1.628420e-01\"},{\"Shell No.\":7,\"qgrid_unfiltered_index\":6,\"Rad. Temp.\":\"1.124311e+04\",\"W\":\"1.419034e-01\"},{\"Shell No.\":8,\"qgrid_unfiltered_index\":7,\"Rad. Temp.\":\"1.124690e+04\",\"W\":\"1.264369e-01\"},{\"Shell No.\":9,\"qgrid_unfiltered_index\":8,\"Rad. Temp.\":\"1.116176e+04\",\"W\":\"1.172286e-01\"},{\"Shell No.\":10,\"qgrid_unfiltered_index\":9,\"Rad. Temp.\":\"1.112850e+04\",\"W\":\"1.073689e-01\"},{\"Shell No.\":11,\"qgrid_unfiltered_index\":10,\"Rad. Temp.\":\"1.106562e+04\",\"W\":\"9.937228e-02\"},{\"Shell No.\":12,\"qgrid_unfiltered_index\":11,\"Rad. Temp.\":\"1.093918e+04\",\"W\":\"9.480017e-02\"},{\"Shell No.\":13,\"qgrid_unfiltered_index\":12,\"Rad. Temp.\":\"1.088287e+04\",\"W\":\"8.920397e-02\"},{\"Shell No.\":14,\"qgrid_unfiltered_index\":13,\"Rad. Temp.\":\"1.077571e+04\",\"W\":\"8.504642e-02\"},{\"Shell No.\":15,\"qgrid_unfiltered_index\":14,\"Rad. Temp.\":\"1.065337e+04\",\"W\":\"8.179275e-02\"},{\"Shell No.\":16,\"qgrid_unfiltered_index\":15,\"Rad. Temp.\":\"1.059985e+04\",\"W\":\"7.768958e-02\"},{\"Shell No.\":17,\"qgrid_unfiltered_index\":16,\"Rad. Temp.\":\"1.050428e+04\",\"W\":\"7.459787e-02\"},{\"Shell No.\":18,\"qgrid_unfiltered_index\":17,\"Rad. Temp.\":\"1.050167e+04\",\"W\":\"6.987617e-02\"},{\"Shell No.\":19,\"qgrid_unfiltered_index\":18,\"Rad. Temp.\":\"1.037101e+04\",\"W\":\"6.830342e-02\"},{\"Shell No.\":20,\"qgrid_unfiltered_index\":19,\"Rad. Temp.\":\"1.023320e+04\",\"W\":\"6.706797e-02\"}]}",
       "_df_range": [
        0,
        100
       ],
       "_editable_rows": {},
       "_index_col_name": "qgrid_unfiltered_index",
       "_interval_columns": [],
       "_model_module_version": "^1.1.3",
       "_multi_index": false,
       "_row_count": 20,
       "_row_styles": {},
       "_sort_ascending": true,
       "_sort_field": null,
       "_view_module_version": "^1.1.3",
       "_viewport_range": [
        0,
        100
       ],
       "grid_options": {
        "autoEdit": false,
        "boldIndex": true,
        "defaultColumnWidth": 150,
        "editable": false,
        "enableColumnReorder": false,
        "enableTextSelectionOnCells": true,
        "explicitInitialization": true,
        "filterable": false,
        "forceFitColumns": true,
        "fullWidthRows": true,
        "highlightSelectedCell": false,
        "highlightSelectedRow": true,
        "maxVisibleRows": 15,
        "minVisibleRows": 2,
        "rowHeight": 28,
        "sortable": false,
        "syncColumnCellResize": true
       },
       "id": "7f0e5cb9-0611-417d-b7f3-cf5d6ae976dd",
       "layout": "IPY_MODEL_2bd41bb81f8f4375ba08500d5443e724",
       "precision": 5,
       "show_toolbar": false
      }
     },
     "b2a6cc44c9bc44f1b8c0a6765b929e31": {
      "model_module": "@jupyter-widgets/base",
      "model_module_version": "1.2.0",
      "model_name": "LayoutModel",
      "state": {
       "align_items": "flex-start",
       "display": "flex",
       "justify_content": "space-between"
      }
     },
     "b2a76eabb61242c5ac7a9e7979128a04": {
      "model_module": "qgrid",
      "model_module_version": "^1.1.3",
      "model_name": "QgridModel",
      "state": {
       "_columns": {
        "Frac. Ab. (Ion=0)": {
         "cssClass": "string",
         "defaultSortAsc": true,
         "editable": true,
         "field": "Frac. Ab. (Ion=0)",
         "id": "Frac. Ab. (Ion=0)",
         "minWidth": null,
         "name": "Frac. Ab. (Ion=0)",
         "position": 2,
         "resizable": true,
         "sortable": true,
         "toolTip": "",
         "type": "string",
         "width": 70
        },
        "Level": {
         "cssClass": "integer first-idx-col idx-col first-idx-col idx-col first-idx-col idx-col first-idx-col idx-col",
         "defaultSortAsc": true,
         "editable": true,
         "field": "Level",
         "first_index": true,
         "id": "Level",
         "index_display_text": "Level",
         "is_index": true,
         "level": 0,
         "minWidth": null,
         "name": "Level",
         "position": 0,
         "resizable": true,
         "sortable": true,
         "toolTip": "",
         "type": "integer",
         "width": 30
        },
        "qgrid_unfiltered_index": {
         "cssClass": "integer",
         "defaultSortAsc": true,
         "editable": true,
         "field": "qgrid_unfiltered_index",
         "id": "qgrid_unfiltered_index",
         "maxWidth": null,
         "minWidth": null,
         "name": "qgrid_unfiltered_index",
         "position": 1,
         "resizable": true,
         "sortable": true,
         "toolTip": "",
         "type": "integer",
         "width": null
        }
       },
       "_df_json": "{\"schema\": {\"fields\":[{\"name\":\"Level\",\"type\":\"integer\"},{\"name\":\"qgrid_unfiltered_index\",\"type\":\"integer\"},{\"name\":\"Frac. Ab. (Ion=0)\",\"type\":\"string\"}],\"primaryKey\":[\"Level\"],\"pandas_version\":\"0.20.0\"}, \"data\": [{\"Level\":0,\"qgrid_unfiltered_index\":0,\"Frac. Ab. (Ion=0)\":\"5.243963e-01\"},{\"Level\":1,\"qgrid_unfiltered_index\":1,\"Frac. Ab. (Ion=0)\":\"3.081228e-01\"},{\"Level\":2,\"qgrid_unfiltered_index\":2,\"Frac. Ab. (Ion=0)\":\"1.017788e-01\"},{\"Level\":3,\"qgrid_unfiltered_index\":3,\"Frac. Ab. (Ion=0)\":\"6.435574e-02\"},{\"Level\":4,\"qgrid_unfiltered_index\":4,\"Frac. Ab. (Ion=0)\":\"1.203505e-03\"},{\"Level\":5,\"qgrid_unfiltered_index\":5,\"Frac. Ab. (Ion=0)\":\"3.049088e-05\"},{\"Level\":6,\"qgrid_unfiltered_index\":6,\"Frac. Ab. (Ion=0)\":\"1.226126e-05\"},{\"Level\":7,\"qgrid_unfiltered_index\":7,\"Frac. Ab. (Ion=0)\":\"3.342636e-06\"},{\"Level\":8,\"qgrid_unfiltered_index\":8,\"Frac. Ab. (Ion=0)\":\"5.569572e-06\"},{\"Level\":9,\"qgrid_unfiltered_index\":9,\"Frac. Ab. (Ion=0)\":\"7.793612e-06\"},{\"Level\":10,\"qgrid_unfiltered_index\":10,\"Frac. Ab. (Ion=0)\":\"2.564362e-06\"},{\"Level\":11,\"qgrid_unfiltered_index\":11,\"Frac. Ab. (Ion=0)\":\"4.273621e-06\"},{\"Level\":12,\"qgrid_unfiltered_index\":12,\"Frac. Ab. (Ion=0)\":\"8.547065e-07\"},{\"Level\":13,\"qgrid_unfiltered_index\":13,\"Frac. Ab. (Ion=0)\":\"1.728816e-06\"},{\"Level\":14,\"qgrid_unfiltered_index\":14,\"Frac. Ab. (Ion=0)\":\"9.395810e-07\"},{\"Level\":15,\"qgrid_unfiltered_index\":15,\"Frac. Ab. (Ion=0)\":\"2.406632e-06\"},{\"Level\":16,\"qgrid_unfiltered_index\":16,\"Frac. Ab. (Ion=0)\":\"1.871804e-06\"},{\"Level\":17,\"qgrid_unfiltered_index\":17,\"Frac. Ab. (Ion=0)\":\"1.336981e-06\"},{\"Level\":18,\"qgrid_unfiltered_index\":18,\"Frac. Ab. (Ion=0)\":\"8.021777e-07\"},{\"Level\":19,\"qgrid_unfiltered_index\":19,\"Frac. Ab. (Ion=0)\":\"2.673908e-07\"},{\"Level\":20,\"qgrid_unfiltered_index\":20,\"Frac. Ab. (Ion=0)\":\"7.950578e-07\"},{\"Level\":21,\"qgrid_unfiltered_index\":21,\"Frac. Ab. (Ion=0)\":\"1.325084e-06\"},{\"Level\":22,\"qgrid_unfiltered_index\":22,\"Frac. Ab. (Ion=0)\":\"1.855096e-06\"},{\"Level\":23,\"qgrid_unfiltered_index\":23,\"Frac. Ab. (Ion=0)\":\"6.430862e-07\"},{\"Level\":24,\"qgrid_unfiltered_index\":24,\"Frac. Ab. (Ion=0)\":\"1.071715e-06\"},{\"Level\":25,\"qgrid_unfiltered_index\":25,\"Frac. Ab. (Ion=0)\":\"1.500164e-06\"},{\"Level\":26,\"qgrid_unfiltered_index\":26,\"Frac. Ab. (Ion=0)\":\"5.949884e-07\"},{\"Level\":27,\"qgrid_unfiltered_index\":27,\"Frac. Ab. (Ion=0)\":\"9.916367e-07\"},{\"Level\":28,\"qgrid_unfiltered_index\":28,\"Frac. Ab. (Ion=0)\":\"1.983205e-07\"},{\"Level\":29,\"qgrid_unfiltered_index\":29,\"Frac. Ab. (Ion=0)\":\"1.145452e-06\"},{\"Level\":30,\"qgrid_unfiltered_index\":30,\"Frac. Ab. (Ion=0)\":\"8.168702e-07\"},{\"Level\":31,\"qgrid_unfiltered_index\":31,\"Frac. Ab. (Ion=0)\":\"4.896108e-07\"},{\"Level\":32,\"qgrid_unfiltered_index\":32,\"Frac. Ab. (Ion=0)\":\"7.186325e-07\"},{\"Level\":33,\"qgrid_unfiltered_index\":33,\"Frac. Ab. (Ion=0)\":\"4.146707e-07\"},{\"Level\":34,\"qgrid_unfiltered_index\":34,\"Frac. Ab. (Ion=0)\":\"6.686460e-07\"},{\"Level\":35,\"qgrid_unfiltered_index\":35,\"Frac. Ab. (Ion=0)\":\"1.171617e-06\"},{\"Level\":36,\"qgrid_unfiltered_index\":36,\"Frac. Ab. (Ion=0)\":\"9.112528e-07\"},{\"Level\":37,\"qgrid_unfiltered_index\":37,\"Frac. Ab. (Ion=0)\":\"6.508898e-07\"},{\"Level\":38,\"qgrid_unfiltered_index\":38,\"Frac. Ab. (Ion=0)\":\"3.905313e-07\"},{\"Level\":39,\"qgrid_unfiltered_index\":39,\"Frac. Ab. (Ion=0)\":\"1.301767e-07\"},{\"Level\":40,\"qgrid_unfiltered_index\":40,\"Frac. Ab. (Ion=0)\":\"9.061078e-07\"},{\"Level\":41,\"qgrid_unfiltered_index\":41,\"Frac. Ab. (Ion=0)\":\"6.472140e-07\"},{\"Level\":42,\"qgrid_unfiltered_index\":42,\"Frac. Ab. (Ion=0)\":\"3.883260e-07\"},{\"Level\":43,\"qgrid_unfiltered_index\":43,\"Frac. Ab. (Ion=0)\":\"3.852701e-07\"},{\"Level\":44,\"qgrid_unfiltered_index\":44,\"Frac. Ab. (Ion=0)\":\"6.421168e-07\"},{\"Level\":45,\"qgrid_unfiltered_index\":45,\"Frac. Ab. (Ion=0)\":\"8.989636e-07\"},{\"Level\":46,\"qgrid_unfiltered_index\":46,\"Frac. Ab. (Ion=0)\":\"1.155810e-06\"},{\"Level\":47,\"qgrid_unfiltered_index\":47,\"Frac. Ab. (Ion=0)\":\"1.412657e-06\"},{\"Level\":48,\"qgrid_unfiltered_index\":48,\"Frac. Ab. (Ion=0)\":\"6.421089e-07\"},{\"Level\":49,\"qgrid_unfiltered_index\":49,\"Frac. Ab. (Ion=0)\":\"8.989524e-07\"},{\"Level\":50,\"qgrid_unfiltered_index\":50,\"Frac. Ab. (Ion=0)\":\"1.155796e-06\"},{\"Level\":51,\"qgrid_unfiltered_index\":51,\"Frac. Ab. (Ion=0)\":\"3.531945e-07\"},{\"Level\":52,\"qgrid_unfiltered_index\":52,\"Frac. Ab. (Ion=0)\":\"3.531939e-07\"},{\"Level\":53,\"qgrid_unfiltered_index\":53,\"Frac. Ab. (Ion=0)\":\"5.886296e-07\"},{\"Level\":54,\"qgrid_unfiltered_index\":54,\"Frac. Ab. (Ion=0)\":\"5.886287e-07\"},{\"Level\":55,\"qgrid_unfiltered_index\":55,\"Frac. Ab. (Ion=0)\":\"8.240270e-07\"},{\"Level\":56,\"qgrid_unfiltered_index\":56,\"Frac. Ab. (Ion=0)\":\"8.240257e-07\"},{\"Level\":57,\"qgrid_unfiltered_index\":57,\"Frac. Ab. (Ion=0)\":\"5.699553e-07\"},{\"Level\":58,\"qgrid_unfiltered_index\":58,\"Frac. Ab. (Ion=0)\":\"3.419705e-07\"},{\"Level\":59,\"qgrid_unfiltered_index\":59,\"Frac. Ab. (Ion=0)\":\"1.139868e-07\"},{\"Level\":60,\"qgrid_unfiltered_index\":60,\"Frac. Ab. (Ion=0)\":\"4.896098e-07\"},{\"Level\":61,\"qgrid_unfiltered_index\":61,\"Frac. Ab. (Ion=0)\":\"2.881528e-07\"},{\"Level\":62,\"qgrid_unfiltered_index\":62,\"Frac. Ab. (Ion=0)\":\"8.396641e-07\"},{\"Level\":63,\"qgrid_unfiltered_index\":63,\"Frac. Ab. (Ion=0)\":\"6.530701e-07\"},{\"Level\":64,\"qgrid_unfiltered_index\":64,\"Frac. Ab. (Ion=0)\":\"4.664767e-07\"},{\"Level\":65,\"qgrid_unfiltered_index\":65,\"Frac. Ab. (Ion=0)\":\"2.798850e-07\"},{\"Level\":66,\"qgrid_unfiltered_index\":66,\"Frac. Ab. (Ion=0)\":\"9.329484e-08\"},{\"Level\":67,\"qgrid_unfiltered_index\":67,\"Frac. Ab. (Ion=0)\":\"2.790141e-07\"},{\"Level\":68,\"qgrid_unfiltered_index\":68,\"Frac. Ab. (Ion=0)\":\"4.650236e-07\"},{\"Level\":69,\"qgrid_unfiltered_index\":69,\"Frac. Ab. (Ion=0)\":\"6.510330e-07\"},{\"Level\":70,\"qgrid_unfiltered_index\":70,\"Frac. Ab. (Ion=0)\":\"2.778128e-07\"},{\"Level\":71,\"qgrid_unfiltered_index\":71,\"Frac. Ab. (Ion=0)\":\"4.630214e-07\"},{\"Level\":72,\"qgrid_unfiltered_index\":72,\"Frac. Ab. (Ion=0)\":\"6.482300e-07\"},{\"Level\":73,\"qgrid_unfiltered_index\":73,\"Frac. Ab. (Ion=0)\":\"8.334385e-07\"},{\"Level\":74,\"qgrid_unfiltered_index\":74,\"Frac. Ab. (Ion=0)\":\"1.018647e-06\"},{\"Level\":75,\"qgrid_unfiltered_index\":75,\"Frac. Ab. (Ion=0)\":\"4.630166e-07\"},{\"Level\":76,\"qgrid_unfiltered_index\":76,\"Frac. Ab. (Ion=0)\":\"6.482232e-07\"},{\"Level\":77,\"qgrid_unfiltered_index\":77,\"Frac. Ab. (Ion=0)\":\"8.334298e-07\"},{\"Level\":78,\"qgrid_unfiltered_index\":78,\"Frac. Ab. (Ion=0)\":\"2.653635e-07\"},{\"Level\":79,\"qgrid_unfiltered_index\":79,\"Frac. Ab. (Ion=0)\":\"4.422629e-07\"},{\"Level\":80,\"qgrid_unfiltered_index\":80,\"Frac. Ab. (Ion=0)\":\"6.191467e-07\"},{\"Level\":81,\"qgrid_unfiltered_index\":81,\"Frac. Ab. (Ion=0)\":\"8.702084e-08\"},{\"Level\":82,\"qgrid_unfiltered_index\":82,\"Frac. Ab. (Ion=0)\":\"2.610625e-07\"},{\"Level\":83,\"qgrid_unfiltered_index\":83,\"Frac. Ab. (Ion=0)\":\"4.351042e-07\"},{\"Level\":84,\"qgrid_unfiltered_index\":84,\"Frac. Ab. (Ion=0)\":\"4.001569e-07\"},{\"Level\":85,\"qgrid_unfiltered_index\":85,\"Frac. Ab. (Ion=0)\":\"2.374871e-07\"},{\"Level\":86,\"qgrid_unfiltered_index\":86,\"Frac. Ab. (Ion=0)\":\"7.009220e-07\"},{\"Level\":87,\"qgrid_unfiltered_index\":87,\"Frac. Ab. (Ion=0)\":\"5.451608e-07\"},{\"Level\":88,\"qgrid_unfiltered_index\":88,\"Frac. Ab. (Ion=0)\":\"3.893997e-07\"},{\"Level\":89,\"qgrid_unfiltered_index\":89,\"Frac. Ab. (Ion=0)\":\"2.336394e-07\"},{\"Level\":90,\"qgrid_unfiltered_index\":90,\"Frac. Ab. (Ion=0)\":\"7.787974e-08\"},{\"Level\":91,\"qgrid_unfiltered_index\":91,\"Frac. Ab. (Ion=0)\":\"2.331977e-07\"},{\"Level\":92,\"qgrid_unfiltered_index\":92,\"Frac. Ab. (Ion=0)\":\"3.886628e-07\"},{\"Level\":93,\"qgrid_unfiltered_index\":93,\"Frac. Ab. (Ion=0)\":\"5.441279e-07\"},{\"Level\":94,\"qgrid_unfiltered_index\":94,\"Frac. Ab. (Ion=0)\":\"2.326016e-07\"},{\"Level\":95,\"qgrid_unfiltered_index\":95,\"Frac. Ab. (Ion=0)\":\"3.876694e-07\"},{\"Level\":96,\"qgrid_unfiltered_index\":96,\"Frac. Ab. (Ion=0)\":\"5.427372e-07\"},{\"Level\":97,\"qgrid_unfiltered_index\":97,\"Frac. Ab. (Ion=0)\":\"6.978049e-07\"},{\"Level\":98,\"qgrid_unfiltered_index\":98,\"Frac. Ab. (Ion=0)\":\"8.528727e-07\"},{\"Level\":99,\"qgrid_unfiltered_index\":99,\"Frac. Ab. (Ion=0)\":\"3.876673e-07\"}]}",
       "_df_range": [
        0,
        100
       ],
       "_editable_rows": {},
       "_index_col_name": "qgrid_unfiltered_index",
       "_interval_columns": [],
       "_model_module_version": "^1.1.3",
       "_multi_index": false,
       "_row_count": 150,
       "_row_styles": {},
       "_sort_ascending": true,
       "_sort_field": null,
       "_view_module_version": "^1.1.3",
       "_viewport_range": [
        0,
        100
       ],
       "grid_options": {
        "autoEdit": false,
        "boldIndex": true,
        "defaultColumnWidth": 150,
        "editable": false,
        "enableColumnReorder": false,
        "enableTextSelectionOnCells": true,
        "explicitInitialization": true,
        "filterable": false,
        "forceFitColumns": true,
        "fullWidthRows": true,
        "highlightSelectedCell": false,
        "highlightSelectedRow": true,
        "maxVisibleRows": 15,
        "minVisibleRows": 2,
        "rowHeight": 28,
        "sortable": false,
        "syncColumnCellResize": true
       },
       "id": "31f0c406-5813-4c7b-b694-7ad6f7c8753f",
       "layout": "IPY_MODEL_e15b8f20e6954ee59d6dcffa5f834880",
       "precision": 5,
       "show_toolbar": false
      }
     },
     "b3ae65010b9d404580b3e3e52bf4fd62": {
      "model_module": "@jupyter-widgets/base",
      "model_module_version": "1.2.0",
      "model_name": "LayoutModel",
      "state": {
       "width": "24%"
      }
     },
     "b3b2e457feb34a90a19cb1af6eea481f": {
      "model_module": "@jupyter-widgets/controls",
      "model_module_version": "1.5.0",
      "model_name": "DescriptionStyleModel",
      "state": {
       "description_width": ""
      }
     },
     "b4df9ecd966c4c078dc2b2424b06b0ce": {
      "model_module": "qgrid",
      "model_module_version": "^1.1.3",
      "model_name": "QgridModel",
      "state": {
       "_columns": {
        "Frac. Ab. (Ion=0)": {
         "cssClass": "string",
         "defaultSortAsc": true,
         "editable": true,
         "field": "Frac. Ab. (Ion=0)",
         "id": "Frac. Ab. (Ion=0)",
         "minWidth": null,
         "name": "Frac. Ab. (Ion=0)",
         "position": 2,
         "resizable": true,
         "sortable": true,
         "toolTip": "",
         "type": "string",
         "width": 70
        },
        "Level": {
         "cssClass": "integer first-idx-col idx-col first-idx-col idx-col first-idx-col idx-col",
         "defaultSortAsc": true,
         "editable": true,
         "field": "Level",
         "first_index": true,
         "id": "Level",
         "index_display_text": "Level",
         "is_index": true,
         "level": 0,
         "minWidth": null,
         "name": "Level",
         "position": 0,
         "resizable": true,
         "sortable": true,
         "toolTip": "",
         "type": "integer",
         "width": 30
        },
        "qgrid_unfiltered_index": {
         "cssClass": "integer",
         "defaultSortAsc": true,
         "editable": true,
         "field": "qgrid_unfiltered_index",
         "id": "qgrid_unfiltered_index",
         "maxWidth": null,
         "minWidth": null,
         "name": "qgrid_unfiltered_index",
         "position": 1,
         "resizable": true,
         "sortable": true,
         "toolTip": "",
         "type": "integer",
         "width": null
        }
       },
       "_df_json": "{\"schema\": {\"fields\":[{\"name\":\"Level\",\"type\":\"integer\"},{\"name\":\"qgrid_unfiltered_index\",\"type\":\"integer\"},{\"name\":\"Frac. Ab. (Ion=0)\",\"type\":\"string\"}],\"primaryKey\":[\"Level\"],\"pandas_version\":\"0.20.0\"}, \"data\": [{\"Level\":0,\"qgrid_unfiltered_index\":0,\"Frac. Ab. (Ion=0)\":\"5.230626e-01\"},{\"Level\":1,\"qgrid_unfiltered_index\":1,\"Frac. Ab. (Ion=0)\":\"3.074454e-01\"},{\"Level\":2,\"qgrid_unfiltered_index\":2,\"Frac. Ab. (Ion=0)\":\"1.015703e-01\"},{\"Level\":3,\"qgrid_unfiltered_index\":3,\"Frac. Ab. (Ion=0)\":\"6.645506e-02\"},{\"Level\":4,\"qgrid_unfiltered_index\":4,\"Frac. Ab. (Ion=0)\":\"1.292367e-03\"},{\"Level\":5,\"qgrid_unfiltered_index\":5,\"Frac. Ab. (Ion=0)\":\"3.572849e-05\"},{\"Level\":6,\"qgrid_unfiltered_index\":6,\"Frac. Ab. (Ion=0)\":\"1.446272e-05\"},{\"Level\":7,\"qgrid_unfiltered_index\":7,\"Frac. Ab. (Ion=0)\":\"4.028339e-06\"},{\"Level\":8,\"qgrid_unfiltered_index\":8,\"Frac. Ab. (Ion=0)\":\"6.712134e-06\"},{\"Level\":9,\"qgrid_unfiltered_index\":9,\"Frac. Ab. (Ion=0)\":\"9.392497e-06\"},{\"Level\":10,\"qgrid_unfiltered_index\":10,\"Frac. Ab. (Ion=0)\":\"3.103969e-06\"},{\"Level\":11,\"qgrid_unfiltered_index\":11,\"Frac. Ab. (Ion=0)\":\"5.172905e-06\"},{\"Level\":12,\"qgrid_unfiltered_index\":12,\"Frac. Ab. (Ion=0)\":\"1.034560e-06\"},{\"Level\":13,\"qgrid_unfiltered_index\":13,\"Frac. Ab. (Ion=0)\":\"2.124118e-06\"},{\"Level\":14,\"qgrid_unfiltered_index\":14,\"Frac. Ab. (Ion=0)\":\"1.156308e-06\"},{\"Level\":15,\"qgrid_unfiltered_index\":15,\"Frac. Ab. (Ion=0)\":\"2.969497e-06\"},{\"Level\":16,\"qgrid_unfiltered_index\":16,\"Frac. Ab. (Ion=0)\":\"2.309583e-06\"},{\"Level\":17,\"qgrid_unfiltered_index\":17,\"Frac. Ab. (Ion=0)\":\"1.649676e-06\"},{\"Level\":18,\"qgrid_unfiltered_index\":18,\"Frac. Ab. (Ion=0)\":\"9.897922e-07\"},{\"Level\":19,\"qgrid_unfiltered_index\":19,\"Frac. Ab. (Ion=0)\":\"3.299286e-07\"},{\"Level\":20,\"qgrid_unfiltered_index\":20,\"Frac. Ab. (Ion=0)\":\"9.811514e-07\"},{\"Level\":21,\"qgrid_unfiltered_index\":21,\"Frac. Ab. (Ion=0)\":\"1.635237e-06\"},{\"Level\":22,\"qgrid_unfiltered_index\":22,\"Frac. Ab. (Ion=0)\":\"2.289306e-06\"},{\"Level\":23,\"qgrid_unfiltered_index\":23,\"Frac. Ab. (Ion=0)\":\"7.963943e-07\"},{\"Level\":24,\"qgrid_unfiltered_index\":24,\"Frac. Ab. (Ion=0)\":\"1.327208e-06\"},{\"Level\":25,\"qgrid_unfiltered_index\":25,\"Frac. Ab. (Ion=0)\":\"1.857802e-06\"},{\"Level\":26,\"qgrid_unfiltered_index\":26,\"Frac. Ab. (Ion=0)\":\"7.377768e-07\"},{\"Level\":27,\"qgrid_unfiltered_index\":27,\"Frac. Ab. (Ion=0)\":\"1.229615e-06\"},{\"Level\":28,\"qgrid_unfiltered_index\":28,\"Frac. Ab. (Ion=0)\":\"2.459147e-07\"},{\"Level\":29,\"qgrid_unfiltered_index\":29,\"Frac. Ab. (Ion=0)\":\"1.424861e-06\"},{\"Level\":30,\"qgrid_unfiltered_index\":30,\"Frac. Ab. (Ion=0)\":\"1.016156e-06\"},{\"Level\":31,\"qgrid_unfiltered_index\":31,\"Frac. Ab. (Ion=0)\":\"6.090677e-07\"},{\"Level\":32,\"qgrid_unfiltered_index\":32,\"Frac. Ab. (Ion=0)\":\"8.958454e-07\"},{\"Level\":33,\"qgrid_unfiltered_index\":33,\"Frac. Ab. (Ion=0)\":\"5.172607e-07\"},{\"Level\":34,\"qgrid_unfiltered_index\":34,\"Frac. Ab. (Ion=0)\":\"8.345253e-07\"},{\"Level\":35,\"qgrid_unfiltered_index\":35,\"Frac. Ab. (Ion=0)\":\"1.462924e-06\"},{\"Level\":36,\"qgrid_unfiltered_index\":36,\"Frac. Ab. (Ion=0)\":\"1.137824e-06\"},{\"Level\":37,\"qgrid_unfiltered_index\":37,\"Frac. Ab. (Ion=0)\":\"8.127252e-07\"},{\"Level\":38,\"qgrid_unfiltered_index\":38,\"Frac. Ab. (Ion=0)\":\"4.876320e-07\"},{\"Level\":39,\"qgrid_unfiltered_index\":39,\"Frac. Ab. (Ion=0)\":\"1.625435e-07\"},{\"Level\":40,\"qgrid_unfiltered_index\":40,\"Frac. Ab. (Ion=0)\":\"1.131506e-06\"},{\"Level\":41,\"qgrid_unfiltered_index\":41,\"Frac. Ab. (Ion=0)\":\"8.082111e-07\"},{\"Level\":42,\"qgrid_unfiltered_index\":42,\"Frac. Ab. (Ion=0)\":\"4.849238e-07\"},{\"Level\":43,\"qgrid_unfiltered_index\":43,\"Frac. Ab. (Ion=0)\":\"4.811705e-07\"},{\"Level\":44,\"qgrid_unfiltered_index\":44,\"Frac. Ab. (Ion=0)\":\"8.019508e-07\"},{\"Level\":45,\"qgrid_unfiltered_index\":45,\"Frac. Ab. (Ion=0)\":\"1.122731e-06\"},{\"Level\":46,\"qgrid_unfiltered_index\":46,\"Frac. Ab. (Ion=0)\":\"1.443511e-06\"},{\"Level\":47,\"qgrid_unfiltered_index\":47,\"Frac. Ab. (Ion=0)\":\"1.764292e-06\"},{\"Level\":48,\"qgrid_unfiltered_index\":48,\"Frac. Ab. (Ion=0)\":\"8.019410e-07\"},{\"Level\":49,\"qgrid_unfiltered_index\":49,\"Frac. Ab. (Ion=0)\":\"1.122717e-06\"},{\"Level\":50,\"qgrid_unfiltered_index\":50,\"Frac. Ab. (Ion=0)\":\"1.443494e-06\"},{\"Level\":51,\"qgrid_unfiltered_index\":51,\"Frac. Ab. (Ion=0)\":\"4.417443e-07\"},{\"Level\":52,\"qgrid_unfiltered_index\":52,\"Frac. Ab. (Ion=0)\":\"4.417437e-07\"},{\"Level\":53,\"qgrid_unfiltered_index\":53,\"Frac. Ab. (Ion=0)\":\"7.362064e-07\"},{\"Level\":54,\"qgrid_unfiltered_index\":54,\"Frac. Ab. (Ion=0)\":\"7.362052e-07\"},{\"Level\":55,\"qgrid_unfiltered_index\":55,\"Frac. Ab. (Ion=0)\":\"1.030622e-06\"},{\"Level\":56,\"qgrid_unfiltered_index\":56,\"Frac. Ab. (Ion=0)\":\"1.030620e-06\"},{\"Level\":57,\"qgrid_unfiltered_index\":57,\"Frac. Ab. (Ion=0)\":\"7.132298e-07\"},{\"Level\":58,\"qgrid_unfiltered_index\":58,\"Frac. Ab. (Ion=0)\":\"4.279345e-07\"},{\"Level\":59,\"qgrid_unfiltered_index\":59,\"Frac. Ab. (Ion=0)\":\"1.426407e-07\"},{\"Level\":60,\"qgrid_unfiltered_index\":60,\"Frac. Ab. (Ion=0)\":\"6.142267e-07\"},{\"Level\":61,\"qgrid_unfiltered_index\":61,\"Frac. Ab. (Ion=0)\":\"3.616095e-07\"},{\"Level\":62,\"qgrid_unfiltered_index\":62,\"Frac. Ab. (Ion=0)\":\"1.054220e-06\"},{\"Level\":63,\"qgrid_unfiltered_index\":63,\"Frac. Ab. (Ion=0)\":\"8.199464e-07\"},{\"Level\":64,\"qgrid_unfiltered_index\":64,\"Frac. Ab. (Ion=0)\":\"5.856736e-07\"},{\"Level\":65,\"qgrid_unfiltered_index\":65,\"Frac. Ab. (Ion=0)\":\"3.514029e-07\"},{\"Level\":66,\"qgrid_unfiltered_index\":66,\"Frac. Ab. (Ion=0)\":\"1.171341e-07\"},{\"Level\":67,\"qgrid_unfiltered_index\":67,\"Frac. Ab. (Ion=0)\":\"3.503276e-07\"},{\"Level\":68,\"qgrid_unfiltered_index\":68,\"Frac. Ab. (Ion=0)\":\"5.838793e-07\"},{\"Level\":69,\"qgrid_unfiltered_index\":69,\"Frac. Ab. (Ion=0)\":\"8.174310e-07\"},{\"Level\":70,\"qgrid_unfiltered_index\":70,\"Frac. Ab. (Ion=0)\":\"3.488441e-07\"},{\"Level\":71,\"qgrid_unfiltered_index\":71,\"Frac. Ab. (Ion=0)\":\"5.814068e-07\"},{\"Level\":72,\"qgrid_unfiltered_index\":72,\"Frac. Ab. (Ion=0)\":\"8.139695e-07\"},{\"Level\":73,\"qgrid_unfiltered_index\":73,\"Frac. Ab. (Ion=0)\":\"1.046532e-06\"},{\"Level\":74,\"qgrid_unfiltered_index\":74,\"Frac. Ab. (Ion=0)\":\"1.279095e-06\"},{\"Level\":75,\"qgrid_unfiltered_index\":75,\"Frac. Ab. (Ion=0)\":\"5.814008e-07\"},{\"Level\":76,\"qgrid_unfiltered_index\":76,\"Frac. Ab. (Ion=0)\":\"8.139612e-07\"},{\"Level\":77,\"qgrid_unfiltered_index\":77,\"Frac. Ab. (Ion=0)\":\"1.046521e-06\"},{\"Level\":78,\"qgrid_unfiltered_index\":78,\"Frac. Ab. (Ion=0)\":\"3.334641e-07\"},{\"Level\":79,\"qgrid_unfiltered_index\":79,\"Frac. Ab. (Ion=0)\":\"5.557616e-07\"},{\"Level\":80,\"qgrid_unfiltered_index\":80,\"Frac. Ab. (Ion=0)\":\"7.780399e-07\"},{\"Level\":81,\"qgrid_unfiltered_index\":81,\"Frac. Ab. (Ion=0)\":\"1.093826e-07\"},{\"Level\":82,\"qgrid_unfiltered_index\":82,\"Frac. Ab. (Ion=0)\":\"3.281479e-07\"},{\"Level\":83,\"qgrid_unfiltered_index\":83,\"Frac. Ab. (Ion=0)\":\"5.469132e-07\"},{\"Level\":84,\"qgrid_unfiltered_index\":84,\"Frac. Ab. (Ion=0)\":\"5.036814e-07\"},{\"Level\":85,\"qgrid_unfiltered_index\":85,\"Frac. Ab. (Ion=0)\":\"2.989813e-07\"},{\"Level\":86,\"qgrid_unfiltered_index\":86,\"Frac. Ab. (Ion=0)\":\"8.826546e-07\"},{\"Level\":87,\"qgrid_unfiltered_index\":87,\"Frac. Ab. (Ion=0)\":\"6.865081e-07\"},{\"Level\":88,\"qgrid_unfiltered_index\":88,\"Frac. Ab. (Ion=0)\":\"4.903619e-07\"},{\"Level\":89,\"qgrid_unfiltered_index\":89,\"Frac. Ab. (Ion=0)\":\"2.942167e-07\"},{\"Level\":90,\"qgrid_unfiltered_index\":90,\"Frac. Ab. (Ion=0)\":\"9.807213e-08\"},{\"Level\":91,\"qgrid_unfiltered_index\":91,\"Frac. Ab. (Ion=0)\":\"2.936695e-07\"},{\"Level\":92,\"qgrid_unfiltered_index\":92,\"Frac. Ab. (Ion=0)\":\"4.894492e-07\"},{\"Level\":93,\"qgrid_unfiltered_index\":93,\"Frac. Ab. (Ion=0)\":\"6.852289e-07\"},{\"Level\":94,\"qgrid_unfiltered_index\":94,\"Frac. Ab. (Ion=0)\":\"2.929313e-07\"},{\"Level\":95,\"qgrid_unfiltered_index\":95,\"Frac. Ab. (Ion=0)\":\"4.882189e-07\"},{\"Level\":96,\"qgrid_unfiltered_index\":96,\"Frac. Ab. (Ion=0)\":\"6.835064e-07\"},{\"Level\":97,\"qgrid_unfiltered_index\":97,\"Frac. Ab. (Ion=0)\":\"8.787940e-07\"},{\"Level\":98,\"qgrid_unfiltered_index\":98,\"Frac. Ab. (Ion=0)\":\"1.074082e-06\"},{\"Level\":99,\"qgrid_unfiltered_index\":99,\"Frac. Ab. (Ion=0)\":\"4.882163e-07\"}]}",
       "_df_range": [
        0,
        100
       ],
       "_editable_rows": {},
       "_index_col_name": "qgrid_unfiltered_index",
       "_interval_columns": [],
       "_model_module_version": "^1.1.3",
       "_multi_index": false,
       "_row_count": 150,
       "_row_styles": {},
       "_sort_ascending": true,
       "_sort_field": null,
       "_view_module_version": "^1.1.3",
       "_viewport_range": [
        0,
        100
       ],
       "grid_options": {
        "autoEdit": false,
        "boldIndex": true,
        "defaultColumnWidth": 150,
        "editable": false,
        "enableColumnReorder": false,
        "enableTextSelectionOnCells": true,
        "explicitInitialization": true,
        "filterable": false,
        "forceFitColumns": true,
        "fullWidthRows": true,
        "highlightSelectedCell": false,
        "highlightSelectedRow": true,
        "maxVisibleRows": 15,
        "minVisibleRows": 2,
        "rowHeight": 28,
        "sortable": false,
        "syncColumnCellResize": true
       },
       "id": "eb1cced2-8d46-481e-8c5b-9d3fd4c70d7e",
       "layout": "IPY_MODEL_a98f6a8270ac4dcea6d2bc7409412075",
       "precision": 5,
       "show_toolbar": false
      }
     },
     "b5ddd3f5e342477cb746c5ba3d73b595": {
      "model_module": "qgrid",
      "model_module_version": "^1.1.3",
      "model_name": "QgridModel",
      "state": {
       "_columns": {
        "Frac. Ab. (Z=8)": {
         "cssClass": "string",
         "defaultSortAsc": true,
         "editable": true,
         "field": "Frac. Ab. (Z=8)",
         "id": "Frac. Ab. (Z=8)",
         "minWidth": null,
         "name": "Frac. Ab. (Z=8)",
         "position": 3,
         "resizable": true,
         "sortable": true,
         "toolTip": "",
         "type": "string",
         "width": 50
        },
        "Ion": {
         "cssClass": "integer first-idx-col idx-col first-idx-col idx-col",
         "defaultSortAsc": true,
         "editable": true,
         "field": "Ion",
         "first_index": true,
         "id": "Ion",
         "index_display_text": "Ion",
         "is_index": true,
         "level": 0,
         "minWidth": null,
         "name": "Ion",
         "position": 0,
         "resizable": true,
         "sortable": true,
         "toolTip": "",
         "type": "integer",
         "width": 20
        },
        "Species": {
         "cssClass": "string",
         "defaultSortAsc": true,
         "editable": true,
         "field": "Species",
         "id": "Species",
         "minWidth": null,
         "name": "Species",
         "position": 2,
         "resizable": true,
         "sortable": true,
         "toolTip": "",
         "type": "string",
         "width": 30
        },
        "qgrid_unfiltered_index": {
         "cssClass": "integer",
         "defaultSortAsc": true,
         "editable": true,
         "field": "qgrid_unfiltered_index",
         "id": "qgrid_unfiltered_index",
         "maxWidth": null,
         "minWidth": null,
         "name": "qgrid_unfiltered_index",
         "position": 1,
         "resizable": true,
         "sortable": true,
         "toolTip": "",
         "type": "integer",
         "width": null
        }
       },
       "_df_json": "{\"schema\": {\"fields\":[{\"name\":\"Ion\",\"type\":\"integer\"},{\"name\":\"qgrid_unfiltered_index\",\"type\":\"integer\"},{\"name\":\"Species\",\"type\":\"string\"},{\"name\":\"Frac. Ab. (Z=8)\",\"type\":\"string\"}],\"primaryKey\":[\"Ion\"],\"pandas_version\":\"0.20.0\"}, \"data\": [{\"Ion\":0,\"qgrid_unfiltered_index\":0,\"Species\":\"O I\",\"Frac. Ab. (Z=8)\":\"1.745013e-07\"},{\"Ion\":1,\"qgrid_unfiltered_index\":1,\"Species\":\"O II\",\"Frac. Ab. (Z=8)\":\"9.957594e-01\"},{\"Ion\":2,\"qgrid_unfiltered_index\":2,\"Species\":\"O III\",\"Frac. Ab. (Z=8)\":\"4.240395e-03\"},{\"Ion\":3,\"qgrid_unfiltered_index\":3,\"Species\":\"O IV\",\"Frac. Ab. (Z=8)\":\"5.160104e-15\"},{\"Ion\":4,\"qgrid_unfiltered_index\":4,\"Species\":\"O V\",\"Frac. Ab. (Z=8)\":\"0.000000e+00\"},{\"Ion\":5,\"qgrid_unfiltered_index\":5,\"Species\":\"O VI\",\"Frac. Ab. (Z=8)\":\"0.000000e+00\"},{\"Ion\":6,\"qgrid_unfiltered_index\":6,\"Species\":\"O VII\",\"Frac. Ab. (Z=8)\":\"0.000000e+00\"},{\"Ion\":7,\"qgrid_unfiltered_index\":7,\"Species\":\"O VIII\",\"Frac. Ab. (Z=8)\":\"0.000000e+00\"},{\"Ion\":8,\"qgrid_unfiltered_index\":8,\"Species\":\"O IX\",\"Frac. Ab. (Z=8)\":\"0.000000e+00\"}]}",
       "_df_range": [
        0,
        101
       ],
       "_editable_rows": {},
       "_index_col_name": "qgrid_unfiltered_index",
       "_interval_columns": [],
       "_model_module_version": "^1.1.3",
       "_multi_index": false,
       "_row_count": 9,
       "_row_styles": {},
       "_sort_ascending": true,
       "_sort_field": null,
       "_view_module_version": "^1.1.3",
       "_viewport_range": [
        1,
        17
       ],
       "grid_options": {
        "autoEdit": false,
        "boldIndex": true,
        "defaultColumnWidth": 150,
        "editable": false,
        "enableColumnReorder": false,
        "enableTextSelectionOnCells": true,
        "explicitInitialization": true,
        "filterable": false,
        "forceFitColumns": true,
        "fullWidthRows": true,
        "highlightSelectedCell": false,
        "highlightSelectedRow": true,
        "maxVisibleRows": 15,
        "minVisibleRows": 2,
        "rowHeight": 28,
        "sortable": false,
        "syncColumnCellResize": true
       },
       "id": "05823eed-fd13-4761-800d-4ef04535b7d6",
       "layout": "IPY_MODEL_5e928ae00b0b4e8c97d9aac839ae510e",
       "precision": 5,
       "show_toolbar": false
      }
     },
     "b61853f2f8b643cc99e66d9604c298ec": {
      "model_module": "@jupyter-widgets/base",
      "model_module_version": "1.2.0",
      "model_name": "LayoutModel",
      "state": {
       "width": "24%"
      }
     },
     "b64c8ab94e594afe828d702cebb9f188": {
      "model_module": "@jupyter-widgets/base",
      "model_module_version": "1.2.0",
      "model_name": "LayoutModel",
      "state": {
       "width": "24%"
      }
     },
     "b70b0e0ec8a44480b32717efd5e38337": {
      "model_module": "qgrid",
      "model_module_version": "^1.1.3",
      "model_name": "QgridModel",
      "state": {
       "_columns": {
        "Rad. Temp.": {
         "cssClass": "string",
         "defaultSortAsc": true,
         "editable": true,
         "field": "Rad. Temp.",
         "id": "Rad. Temp.",
         "minWidth": null,
         "name": "Rad. Temp.",
         "position": 2,
         "resizable": true,
         "sortable": true,
         "toolTip": "",
         "type": "string",
         "width": 35
        },
        "Shell No.": {
         "cssClass": "integer first-idx-col idx-col",
         "defaultSortAsc": true,
         "editable": true,
         "field": "Shell No.",
         "first_index": true,
         "id": "Shell No.",
         "index_display_text": "Shell No.",
         "is_index": true,
         "level": 0,
         "minWidth": null,
         "name": "Shell No.",
         "position": 0,
         "resizable": true,
         "sortable": true,
         "toolTip": "",
         "type": "integer",
         "width": 30
        },
        "W": {
         "cssClass": "string",
         "defaultSortAsc": true,
         "editable": true,
         "field": "W",
         "id": "W",
         "minWidth": null,
         "name": "W",
         "position": 3,
         "resizable": true,
         "sortable": true,
         "toolTip": "",
         "type": "string",
         "width": 35
        },
        "qgrid_unfiltered_index": {
         "cssClass": "integer",
         "defaultSortAsc": true,
         "editable": true,
         "field": "qgrid_unfiltered_index",
         "id": "qgrid_unfiltered_index",
         "maxWidth": null,
         "minWidth": null,
         "name": "qgrid_unfiltered_index",
         "position": 1,
         "resizable": true,
         "sortable": true,
         "toolTip": "",
         "type": "integer",
         "width": null
        }
       },
       "_df_json": "{\"schema\": {\"fields\":[{\"name\":\"Shell No.\",\"type\":\"integer\"},{\"name\":\"qgrid_unfiltered_index\",\"type\":\"integer\"},{\"name\":\"Rad. Temp.\",\"type\":\"string\"},{\"name\":\"W\",\"type\":\"string\"}],\"primaryKey\":[\"Shell No.\"],\"pandas_version\":\"0.20.0\"}, \"data\": [{\"Shell No.\":1,\"qgrid_unfiltered_index\":0,\"Rad. Temp.\":\"1.086251e+04\",\"W\":\"4.444947e-01\"},{\"Shell No.\":2,\"qgrid_unfiltered_index\":1,\"Rad. Temp.\":\"1.103536e+04\",\"W\":\"3.308350e-01\"},{\"Shell No.\":3,\"qgrid_unfiltered_index\":2,\"Rad. Temp.\":\"1.119691e+04\",\"W\":\"2.604883e-01\"},{\"Shell No.\":4,\"qgrid_unfiltered_index\":3,\"Rad. Temp.\":\"1.125229e+04\",\"W\":\"2.174908e-01\"},{\"Shell No.\":5,\"qgrid_unfiltered_index\":4,\"Rad. Temp.\":\"1.121542e+04\",\"W\":\"1.879279e-01\"},{\"Shell No.\":6,\"qgrid_unfiltered_index\":5,\"Rad. Temp.\":\"1.119446e+04\",\"W\":\"1.628420e-01\"},{\"Shell No.\":7,\"qgrid_unfiltered_index\":6,\"Rad. Temp.\":\"1.124311e+04\",\"W\":\"1.419034e-01\"},{\"Shell No.\":8,\"qgrid_unfiltered_index\":7,\"Rad. Temp.\":\"1.124690e+04\",\"W\":\"1.264369e-01\"},{\"Shell No.\":9,\"qgrid_unfiltered_index\":8,\"Rad. Temp.\":\"1.116176e+04\",\"W\":\"1.172286e-01\"},{\"Shell No.\":10,\"qgrid_unfiltered_index\":9,\"Rad. Temp.\":\"1.112850e+04\",\"W\":\"1.073689e-01\"},{\"Shell No.\":11,\"qgrid_unfiltered_index\":10,\"Rad. Temp.\":\"1.106562e+04\",\"W\":\"9.937228e-02\"},{\"Shell No.\":12,\"qgrid_unfiltered_index\":11,\"Rad. Temp.\":\"1.093918e+04\",\"W\":\"9.480017e-02\"},{\"Shell No.\":13,\"qgrid_unfiltered_index\":12,\"Rad. Temp.\":\"1.088287e+04\",\"W\":\"8.920397e-02\"},{\"Shell No.\":14,\"qgrid_unfiltered_index\":13,\"Rad. Temp.\":\"1.077571e+04\",\"W\":\"8.504642e-02\"},{\"Shell No.\":15,\"qgrid_unfiltered_index\":14,\"Rad. Temp.\":\"1.065337e+04\",\"W\":\"8.179275e-02\"},{\"Shell No.\":16,\"qgrid_unfiltered_index\":15,\"Rad. Temp.\":\"1.059985e+04\",\"W\":\"7.768958e-02\"},{\"Shell No.\":17,\"qgrid_unfiltered_index\":16,\"Rad. Temp.\":\"1.050428e+04\",\"W\":\"7.459787e-02\"},{\"Shell No.\":18,\"qgrid_unfiltered_index\":17,\"Rad. Temp.\":\"1.050167e+04\",\"W\":\"6.987617e-02\"},{\"Shell No.\":19,\"qgrid_unfiltered_index\":18,\"Rad. Temp.\":\"1.037101e+04\",\"W\":\"6.830342e-02\"},{\"Shell No.\":20,\"qgrid_unfiltered_index\":19,\"Rad. Temp.\":\"1.023320e+04\",\"W\":\"6.706797e-02\"}]}",
       "_df_range": [
        0,
        100
       ],
       "_editable_rows": {},
       "_index_col_name": "qgrid_unfiltered_index",
       "_interval_columns": [],
       "_model_module_version": "^1.1.3",
       "_multi_index": false,
       "_row_count": 20,
       "_row_styles": {},
       "_sort_ascending": true,
       "_sort_field": null,
       "_view_module_version": "^1.1.3",
       "_viewport_range": [
        0,
        100
       ],
       "grid_options": {
        "autoEdit": false,
        "boldIndex": true,
        "defaultColumnWidth": 150,
        "editable": false,
        "enableColumnReorder": false,
        "enableTextSelectionOnCells": true,
        "explicitInitialization": true,
        "filterable": false,
        "forceFitColumns": true,
        "fullWidthRows": true,
        "highlightSelectedCell": false,
        "highlightSelectedRow": true,
        "maxVisibleRows": 15,
        "minVisibleRows": 2,
        "rowHeight": 28,
        "sortable": false,
        "syncColumnCellResize": true
       },
       "id": "c6d68f67-7a36-49be-907f-52402d658b64",
       "layout": "IPY_MODEL_adcc55ec44fd439180c1c135589ee3f1",
       "precision": 5,
       "show_toolbar": false
      }
     },
     "b86ba11962204756b7ca3b19a5a2d923": {
      "model_module": "@jupyter-widgets/base",
      "model_module_version": "1.2.0",
      "model_name": "LayoutModel",
      "state": {
       "width": "24%"
      }
     },
     "bb287649ea284deea59a1a39143e36c5": {
      "model_module": "qgrid",
      "model_module_version": "^1.1.3",
      "model_name": "QgridModel",
      "state": {
       "_columns": {
        "Frac. Ab. (Z=8)": {
         "cssClass": "string",
         "defaultSortAsc": true,
         "editable": true,
         "field": "Frac. Ab. (Z=8)",
         "id": "Frac. Ab. (Z=8)",
         "minWidth": null,
         "name": "Frac. Ab. (Z=8)",
         "position": 3,
         "resizable": true,
         "sortable": true,
         "toolTip": "",
         "type": "string",
         "width": 50
        },
        "Ion": {
         "cssClass": "integer first-idx-col idx-col",
         "defaultSortAsc": true,
         "editable": true,
         "field": "Ion",
         "first_index": true,
         "id": "Ion",
         "index_display_text": "Ion",
         "is_index": true,
         "level": 0,
         "minWidth": null,
         "name": "Ion",
         "position": 0,
         "resizable": true,
         "sortable": true,
         "toolTip": "",
         "type": "integer",
         "width": 20
        },
        "Species": {
         "cssClass": "string",
         "defaultSortAsc": true,
         "editable": true,
         "field": "Species",
         "id": "Species",
         "minWidth": null,
         "name": "Species",
         "position": 2,
         "resizable": true,
         "sortable": true,
         "toolTip": "",
         "type": "string",
         "width": 30
        },
        "qgrid_unfiltered_index": {
         "cssClass": "integer",
         "defaultSortAsc": true,
         "editable": true,
         "field": "qgrid_unfiltered_index",
         "id": "qgrid_unfiltered_index",
         "maxWidth": null,
         "minWidth": null,
         "name": "qgrid_unfiltered_index",
         "position": 1,
         "resizable": true,
         "sortable": true,
         "toolTip": "",
         "type": "integer",
         "width": null
        }
       },
       "_df_json": "{\"schema\": {\"fields\":[{\"name\":\"Ion\",\"type\":\"integer\"},{\"name\":\"qgrid_unfiltered_index\",\"type\":\"integer\"},{\"name\":\"Species\",\"type\":\"string\"},{\"name\":\"Frac. Ab. (Z=8)\",\"type\":\"string\"}],\"primaryKey\":[\"Ion\"],\"pandas_version\":\"0.20.0\"}, \"data\": [{\"Ion\":0,\"qgrid_unfiltered_index\":0,\"Species\":\"O I\",\"Frac. Ab. (Z=8)\":\"4.270154e-07\"},{\"Ion\":1,\"qgrid_unfiltered_index\":1,\"Species\":\"O II\",\"Frac. Ab. (Z=8)\":\"9.977516e-01\"},{\"Ion\":2,\"qgrid_unfiltered_index\":2,\"Species\":\"O III\",\"Frac. Ab. (Z=8)\":\"2.247932e-03\"},{\"Ion\":3,\"qgrid_unfiltered_index\":3,\"Species\":\"O IV\",\"Frac. Ab. (Z=8)\":\"1.839351e-15\"},{\"Ion\":4,\"qgrid_unfiltered_index\":4,\"Species\":\"O V\",\"Frac. Ab. (Z=8)\":\"0.000000e+00\"},{\"Ion\":5,\"qgrid_unfiltered_index\":5,\"Species\":\"O VI\",\"Frac. Ab. (Z=8)\":\"0.000000e+00\"},{\"Ion\":6,\"qgrid_unfiltered_index\":6,\"Species\":\"O VII\",\"Frac. Ab. (Z=8)\":\"0.000000e+00\"},{\"Ion\":7,\"qgrid_unfiltered_index\":7,\"Species\":\"O VIII\",\"Frac. Ab. (Z=8)\":\"0.000000e+00\"},{\"Ion\":8,\"qgrid_unfiltered_index\":8,\"Species\":\"O IX\",\"Frac. Ab. (Z=8)\":\"0.000000e+00\"}]}",
       "_df_range": [
        0,
        101
       ],
       "_editable_rows": {},
       "_index_col_name": "qgrid_unfiltered_index",
       "_interval_columns": [],
       "_model_module_version": "^1.1.3",
       "_multi_index": false,
       "_row_count": 9,
       "_row_styles": {},
       "_sort_ascending": true,
       "_sort_field": null,
       "_view_module_version": "^1.1.3",
       "_viewport_range": [
        1,
        18
       ],
       "grid_options": {
        "autoEdit": false,
        "boldIndex": true,
        "defaultColumnWidth": 150,
        "editable": false,
        "enableColumnReorder": false,
        "enableTextSelectionOnCells": true,
        "explicitInitialization": true,
        "filterable": false,
        "forceFitColumns": true,
        "fullWidthRows": true,
        "highlightSelectedCell": false,
        "highlightSelectedRow": true,
        "maxVisibleRows": 15,
        "minVisibleRows": 2,
        "rowHeight": 28,
        "sortable": false,
        "syncColumnCellResize": true
       },
       "id": "a4578e4d-7820-4a41-9d17-672cca184f6e",
       "layout": "IPY_MODEL_e3ea23ebd9b64b248d9db4ee749ad302",
       "precision": 5,
       "show_toolbar": false
      }
     },
     "bb532b02b80044ce9f34fcb614c1a06a": {
      "model_module": "@jupyter-widgets/controls",
      "model_module_version": "1.5.0",
      "model_name": "BoxModel",
      "state": {
       "children": [
        "IPY_MODEL_dbf71db27a824d13802210a5a6dd66f9",
        "IPY_MODEL_d5093df10049420e8634c2d98a89599e",
        "IPY_MODEL_0e7f25d58434435f9cca40d9e78eac36",
        "IPY_MODEL_219b8df0a2474550a1e63b309d0e8597"
       ],
       "layout": "IPY_MODEL_5b19b6b7023f43629baaf68a9d76c715"
      }
     },
     "bcc42b1efbb84a379822780d1942f399": {
      "model_module": "qgrid",
      "model_module_version": "^1.1.3",
      "model_name": "QgridModel",
      "state": {
       "_columns": {
        "Element": {
         "cssClass": "string",
         "defaultSortAsc": true,
         "editable": true,
         "field": "Element",
         "id": "Element",
         "minWidth": null,
         "name": "Element",
         "position": 2,
         "resizable": true,
         "sortable": true,
         "toolTip": "",
         "type": "string",
         "width": 30
        },
        "Frac. Ab. (Shell 4)": {
         "cssClass": "string",
         "defaultSortAsc": true,
         "editable": true,
         "field": "Frac. Ab. (Shell 4)",
         "id": "Frac. Ab. (Shell 4)",
         "minWidth": null,
         "name": "Frac. Ab. (Shell 4)",
         "position": 3,
         "resizable": true,
         "sortable": true,
         "toolTip": "",
         "type": "string",
         "width": 55
        },
        "Z": {
         "cssClass": "integer first-idx-col idx-col",
         "defaultSortAsc": true,
         "editable": true,
         "field": "Z",
         "first_index": true,
         "id": "Z",
         "index_display_text": "Z",
         "is_index": true,
         "level": 0,
         "minWidth": null,
         "name": "Z",
         "position": 0,
         "resizable": true,
         "sortable": true,
         "toolTip": "",
         "type": "integer",
         "width": 15
        },
        "qgrid_unfiltered_index": {
         "cssClass": "integer",
         "defaultSortAsc": true,
         "editable": true,
         "field": "qgrid_unfiltered_index",
         "id": "qgrid_unfiltered_index",
         "maxWidth": null,
         "minWidth": null,
         "name": "qgrid_unfiltered_index",
         "position": 1,
         "resizable": true,
         "sortable": true,
         "toolTip": "",
         "type": "integer",
         "width": null
        }
       },
       "_df_json": "{\"schema\": {\"fields\":[{\"name\":\"Z\",\"type\":\"integer\"},{\"name\":\"qgrid_unfiltered_index\",\"type\":\"integer\"},{\"name\":\"Element\",\"type\":\"string\"},{\"name\":\"Frac. Ab. (Shell 4)\",\"type\":\"string\"}],\"primaryKey\":[\"Z\"],\"pandas_version\":\"0.20.0\"}, \"data\": [{\"Z\":8,\"qgrid_unfiltered_index\":0,\"Element\":\"O\",\"Frac. Ab. (Shell 4)\":\"1.900000e-01\"},{\"Z\":12,\"qgrid_unfiltered_index\":1,\"Element\":\"Mg\",\"Frac. Ab. (Shell 4)\":\"3.000000e-02\"},{\"Z\":14,\"qgrid_unfiltered_index\":2,\"Element\":\"Si\",\"Frac. Ab. (Shell 4)\":\"5.200000e-01\"},{\"Z\":16,\"qgrid_unfiltered_index\":3,\"Element\":\"S\",\"Frac. Ab. (Shell 4)\":\"1.900000e-01\"},{\"Z\":18,\"qgrid_unfiltered_index\":4,\"Element\":\"Ar\",\"Frac. Ab. (Shell 4)\":\"4.000000e-02\"},{\"Z\":20,\"qgrid_unfiltered_index\":5,\"Element\":\"Ca\",\"Frac. Ab. (Shell 4)\":\"3.000000e-02\"}]}",
       "_df_range": [
        0,
        100
       ],
       "_editable_rows": {},
       "_index_col_name": "qgrid_unfiltered_index",
       "_interval_columns": [],
       "_model_module_version": "^1.1.3",
       "_multi_index": false,
       "_row_count": 6,
       "_row_styles": {},
       "_sort_ascending": true,
       "_sort_field": null,
       "_view_module_version": "^1.1.3",
       "_viewport_range": [
        0,
        100
       ],
       "grid_options": {
        "autoEdit": false,
        "boldIndex": true,
        "defaultColumnWidth": 150,
        "editable": false,
        "enableColumnReorder": false,
        "enableTextSelectionOnCells": true,
        "explicitInitialization": true,
        "filterable": false,
        "forceFitColumns": true,
        "fullWidthRows": true,
        "highlightSelectedCell": false,
        "highlightSelectedRow": true,
        "maxVisibleRows": 15,
        "minVisibleRows": 2,
        "rowHeight": 28,
        "sortable": false,
        "syncColumnCellResize": true
       },
       "id": "48180673-9185-4c21-b317-a722d4bde8fc",
       "layout": "IPY_MODEL_b3ae65010b9d404580b3e3e52bf4fd62",
       "precision": 5,
       "show_toolbar": false
      }
     },
     "be74ff6b1b4f46e48239bdbd92faaffd": {
      "model_module": "@jupyter-widgets/base",
      "model_module_version": "1.2.0",
      "model_name": "LayoutModel",
      "state": {}
     },
     "beb424b0f9bd41cf8d0abf6441695985": {
      "model_module": "@jupyter-widgets/base",
      "model_module_version": "1.2.0",
      "model_name": "LayoutModel",
      "state": {}
     },
     "bec9bdfe08ff4364b329cdc16f6d9d6b": {
      "model_module": "@jupyter-widgets/base",
      "model_module_version": "1.2.0",
      "model_name": "LayoutModel",
      "state": {
       "width": "24%"
      }
     },
     "c0898b21d6124cc889f1ab30ec104c89": {
      "model_module": "@jupyter-widgets/controls",
      "model_module_version": "1.5.0",
      "model_name": "DescriptionStyleModel",
      "state": {
       "description_width": ""
      }
     },
     "c28088dded0c488e96832fd77f7f292c": {
      "model_module": "@jupyter-widgets/base",
      "model_module_version": "1.2.0",
      "model_name": "LayoutModel",
      "state": {
       "width": "18%"
      }
     },
     "c4014e98653940249a7254ec81fa0c45": {
      "model_module": "@jupyter-widgets/controls",
      "model_module_version": "1.5.0",
      "model_name": "VBoxModel",
      "state": {
       "children": [
        "IPY_MODEL_4c2ca45b0bd04158b73c363601688c30",
        "IPY_MODEL_569bd5d7d9484b49a3a4626164fd097e"
       ],
       "layout": "IPY_MODEL_e975c0256a69493f8272fc48d02a9a96"
      }
     },
     "c4f49ffd1e994a03b765bb8e815c93fe": {
      "model_module": "@jupyter-widgets/base",
      "model_module_version": "1.2.0",
      "model_name": "LayoutModel",
      "state": {
       "width": "24%"
      }
     },
     "c8164ad9b27d4d7b9d5cad0b01b9d88a": {
      "model_module": "@jupyter-widgets/controls",
      "model_module_version": "1.5.0",
      "model_name": "DescriptionStyleModel",
      "state": {
       "description_width": ""
      }
     },
     "c9a2b26fa9704c32a9b6952bd94d65ea": {
      "model_module": "@jupyter-widgets/base",
      "model_module_version": "1.2.0",
      "model_name": "LayoutModel",
      "state": {
       "width": "30%"
      }
     },
     "cdec7197a1104be096b22399e9d3ee94": {
      "model_module": "@jupyter-widgets/base",
      "model_module_version": "1.2.0",
      "model_name": "LayoutModel",
      "state": {}
     },
     "d3f5c877acc34c078d811fcf0ed47585": {
      "model_module": "@jupyter-widgets/base",
      "model_module_version": "1.2.0",
      "model_name": "LayoutModel",
      "state": {
       "width": "24%"
      }
     },
     "d5093df10049420e8634c2d98a89599e": {
      "model_module": "qgrid",
      "model_module_version": "^1.1.3",
      "model_name": "QgridModel",
      "state": {
       "_columns": {
        "Element": {
         "cssClass": "string",
         "defaultSortAsc": true,
         "editable": true,
         "field": "Element",
         "id": "Element",
         "minWidth": null,
         "name": "Element",
         "position": 2,
         "resizable": true,
         "sortable": true,
         "toolTip": "",
         "type": "string",
         "width": 30
        },
        "Frac. Ab. (Shell 1)": {
         "cssClass": "string",
         "defaultSortAsc": true,
         "editable": true,
         "field": "Frac. Ab. (Shell 1)",
         "id": "Frac. Ab. (Shell 1)",
         "minWidth": null,
         "name": "Frac. Ab. (Shell 1)",
         "position": 3,
         "resizable": true,
         "sortable": true,
         "toolTip": "",
         "type": "string",
         "width": 55
        },
        "Z": {
         "cssClass": "integer first-idx-col idx-col first-idx-col idx-col first-idx-col idx-col first-idx-col idx-col",
         "defaultSortAsc": true,
         "editable": true,
         "field": "Z",
         "first_index": true,
         "id": "Z",
         "index_display_text": "Z",
         "is_index": true,
         "level": 0,
         "minWidth": null,
         "name": "Z",
         "position": 0,
         "resizable": true,
         "sortable": true,
         "toolTip": "",
         "type": "integer",
         "width": 15
        },
        "qgrid_unfiltered_index": {
         "cssClass": "integer",
         "defaultSortAsc": true,
         "editable": true,
         "field": "qgrid_unfiltered_index",
         "id": "qgrid_unfiltered_index",
         "maxWidth": null,
         "minWidth": null,
         "name": "qgrid_unfiltered_index",
         "position": 1,
         "resizable": true,
         "sortable": true,
         "toolTip": "",
         "type": "integer",
         "width": null
        }
       },
       "_df_json": "{\"schema\": {\"fields\":[{\"name\":\"Z\",\"type\":\"integer\"},{\"name\":\"qgrid_unfiltered_index\",\"type\":\"integer\"},{\"name\":\"Element\",\"type\":\"string\"},{\"name\":\"Frac. Ab. (Shell 1)\",\"type\":\"string\"}],\"primaryKey\":[\"Z\"],\"pandas_version\":\"0.20.0\"}, \"data\": [{\"Z\":8,\"qgrid_unfiltered_index\":0,\"Element\":\"O\",\"Frac. Ab. (Shell 1)\":\"1.900000e-01\"},{\"Z\":12,\"qgrid_unfiltered_index\":1,\"Element\":\"Mg\",\"Frac. Ab. (Shell 1)\":\"3.000000e-02\"},{\"Z\":14,\"qgrid_unfiltered_index\":2,\"Element\":\"Si\",\"Frac. Ab. (Shell 1)\":\"5.200000e-01\"},{\"Z\":16,\"qgrid_unfiltered_index\":3,\"Element\":\"S\",\"Frac. Ab. (Shell 1)\":\"1.900000e-01\"},{\"Z\":18,\"qgrid_unfiltered_index\":4,\"Element\":\"Ar\",\"Frac. Ab. (Shell 1)\":\"4.000000e-02\"},{\"Z\":20,\"qgrid_unfiltered_index\":5,\"Element\":\"Ca\",\"Frac. Ab. (Shell 1)\":\"3.000000e-02\"}]}",
       "_df_range": [
        0,
        100
       ],
       "_editable_rows": {},
       "_index_col_name": "qgrid_unfiltered_index",
       "_interval_columns": [],
       "_model_module_version": "^1.1.3",
       "_multi_index": false,
       "_row_count": 6,
       "_row_styles": {},
       "_sort_ascending": true,
       "_sort_field": null,
       "_view_module_version": "^1.1.3",
       "_viewport_range": [
        0,
        100
       ],
       "grid_options": {
        "autoEdit": false,
        "boldIndex": true,
        "defaultColumnWidth": 150,
        "editable": false,
        "enableColumnReorder": false,
        "enableTextSelectionOnCells": true,
        "explicitInitialization": true,
        "filterable": false,
        "forceFitColumns": true,
        "fullWidthRows": true,
        "highlightSelectedCell": false,
        "highlightSelectedRow": true,
        "maxVisibleRows": 15,
        "minVisibleRows": 2,
        "rowHeight": 28,
        "sortable": false,
        "syncColumnCellResize": true
       },
       "id": "f357d777-bb7f-45c9-82a2-d6b527068b17",
       "layout": "IPY_MODEL_8c82c405ca174d69a0efe25fc743c91b",
       "precision": 5,
       "show_toolbar": false
      }
     },
     "d658f3646e0a4201b903ba18a177c733": {
      "model_module": "@jupyter-widgets/controls",
      "model_module_version": "1.5.0",
      "model_name": "BoxModel",
      "state": {
       "children": [
        "IPY_MODEL_1ae37e14316149c18322baeb46f65ab8",
        "IPY_MODEL_9fb312bca8eb452493b54502677bc121",
        "IPY_MODEL_39385de76b884567a369e30dd256f980",
        "IPY_MODEL_01642fcb09204f45b7f7c178a9329978"
       ],
       "layout": "IPY_MODEL_f262851912f640c6b81326868285cd2b"
      }
     },
     "d7561f6b974b4fc5afc47691beb5f588": {
      "model_module": "@jupyter-widgets/controls",
      "model_module_version": "1.5.0",
      "model_name": "DescriptionStyleModel",
      "state": {
       "description_width": ""
      }
     },
     "d9a1309ad6ca480e8d12beca0db771ca": {
      "model_module": "@jupyter-widgets/controls",
      "model_module_version": "1.5.0",
      "model_name": "DescriptionStyleModel",
      "state": {
       "description_width": ""
      }
     },
     "da298d8a24b248f08f42fbe51bc220f3": {
      "model_module": "qgrid",
      "model_module_version": "^1.1.3",
      "model_name": "QgridModel",
      "state": {
       "_columns": {
        "Frac. Ab. (Ion=2)": {
         "cssClass": "string",
         "defaultSortAsc": true,
         "editable": true,
         "field": "Frac. Ab. (Ion=2)",
         "id": "Frac. Ab. (Ion=2)",
         "minWidth": null,
         "name": "Frac. Ab. (Ion=2)",
         "position": 2,
         "resizable": true,
         "sortable": true,
         "toolTip": "",
         "type": "string",
         "width": 70
        },
        "Level": {
         "cssClass": "integer first-idx-col idx-col",
         "defaultSortAsc": true,
         "editable": true,
         "field": "Level",
         "first_index": true,
         "id": "Level",
         "index_display_text": "Level",
         "is_index": true,
         "level": 0,
         "minWidth": null,
         "name": "Level",
         "position": 0,
         "resizable": true,
         "sortable": true,
         "toolTip": "",
         "type": "integer",
         "width": 30
        },
        "qgrid_unfiltered_index": {
         "cssClass": "integer",
         "defaultSortAsc": true,
         "editable": true,
         "field": "qgrid_unfiltered_index",
         "id": "qgrid_unfiltered_index",
         "maxWidth": null,
         "minWidth": null,
         "name": "qgrid_unfiltered_index",
         "position": 1,
         "resizable": true,
         "sortable": true,
         "toolTip": "",
         "type": "integer",
         "width": null
        }
       },
       "_df_json": "{\"schema\": {\"fields\":[{\"name\":\"Level\",\"type\":\"integer\"},{\"name\":\"qgrid_unfiltered_index\",\"type\":\"integer\"},{\"name\":\"Frac. Ab. (Ion=2)\",\"type\":\"string\"}],\"primaryKey\":[\"Level\"],\"pandas_version\":\"0.20.0\"}, \"data\": [{\"Level\":0,\"qgrid_unfiltered_index\":0,\"Frac. Ab. (Ion=2)\":\"9.910203e-01\"},{\"Level\":1,\"qgrid_unfiltered_index\":1,\"Frac. Ab. (Ion=2)\":\"1.024854e-03\"},{\"Level\":2,\"qgrid_unfiltered_index\":2,\"Frac. Ab. (Ion=2)\":\"3.023445e-03\"},{\"Level\":3,\"qgrid_unfiltered_index\":3,\"Frac. Ab. (Ion=2)\":\"4.870022e-03\"},{\"Level\":4,\"qgrid_unfiltered_index\":4,\"Frac. Ab. (Ion=2)\":\"6.026357e-05\"},{\"Level\":5,\"qgrid_unfiltered_index\":5,\"Frac. Ab. (Ion=2)\":\"5.955550e-07\"},{\"Level\":6,\"qgrid_unfiltered_index\":6,\"Frac. Ab. (Ion=2)\":\"4.483575e-08\"},{\"Level\":7,\"qgrid_unfiltered_index\":7,\"Frac. Ab. (Ion=2)\":\"1.321860e-07\"},{\"Level\":8,\"qgrid_unfiltered_index\":8,\"Frac. Ab. (Ion=2)\":\"2.130072e-07\"},{\"Level\":9,\"qgrid_unfiltered_index\":9,\"Frac. Ab. (Ion=2)\":\"5.588600e-08\"},{\"Level\":10,\"qgrid_unfiltered_index\":10,\"Frac. Ab. (Ion=2)\":\"3.990765e-08\"},{\"Level\":11,\"qgrid_unfiltered_index\":11,\"Frac. Ab. (Ion=2)\":\"2.393707e-08\"},{\"Level\":12,\"qgrid_unfiltered_index\":12,\"Frac. Ab. (Ion=2)\":\"6.145580e-09\"},{\"Level\":13,\"qgrid_unfiltered_index\":13,\"Frac. Ab. (Ion=2)\":\"2.030662e-09\"},{\"Level\":14,\"qgrid_unfiltered_index\":14,\"Frac. Ab. (Ion=2)\":\"9.752429e-10\"},{\"Level\":15,\"qgrid_unfiltered_index\":15,\"Frac. Ab. (Ion=2)\":\"2.036906e-09\"},{\"Level\":16,\"qgrid_unfiltered_index\":16,\"Frac. Ab. (Ion=2)\":\"1.185947e-10\"},{\"Level\":17,\"qgrid_unfiltered_index\":17,\"Frac. Ab. (Ion=2)\":\"3.542526e-10\"},{\"Level\":18,\"qgrid_unfiltered_index\":18,\"Frac. Ab. (Ion=2)\":\"5.848160e-10\"},{\"Level\":19,\"qgrid_unfiltered_index\":19,\"Frac. Ab. (Ion=2)\":\"3.019963e-10\"},{\"Level\":20,\"qgrid_unfiltered_index\":20,\"Frac. Ab. (Ion=2)\":\"2.700617e-11\"},{\"Level\":21,\"qgrid_unfiltered_index\":21,\"Frac. Ab. (Ion=2)\":\"3.730265e-11\"},{\"Level\":22,\"qgrid_unfiltered_index\":22,\"Frac. Ab. (Ion=2)\":\"4.710774e-11\"},{\"Level\":23,\"qgrid_unfiltered_index\":23,\"Frac. Ab. (Ion=2)\":\"1.143331e-11\"},{\"Level\":24,\"qgrid_unfiltered_index\":24,\"Frac. Ab. (Ion=2)\":\"1.905415e-11\"},{\"Level\":25,\"qgrid_unfiltered_index\":25,\"Frac. Ab. (Ion=2)\":\"2.667164e-11\"},{\"Level\":26,\"qgrid_unfiltered_index\":26,\"Frac. Ab. (Ion=2)\":\"1.334342e-11\"},{\"Level\":27,\"qgrid_unfiltered_index\":27,\"Frac. Ab. (Ion=2)\":\"1.750808e-11\"},{\"Level\":28,\"qgrid_unfiltered_index\":28,\"Frac. Ab. (Ion=2)\":\"1.750808e-11\"},{\"Level\":29,\"qgrid_unfiltered_index\":29,\"Frac. Ab. (Ion=2)\":\"1.218225e-11\"},{\"Level\":30,\"qgrid_unfiltered_index\":30,\"Frac. Ab. (Ion=2)\":\"6.294090e-12\"},{\"Level\":31,\"qgrid_unfiltered_index\":31,\"Frac. Ab. (Ion=2)\":\"1.681379e-12\"},{\"Level\":32,\"qgrid_unfiltered_index\":32,\"Frac. Ab. (Ion=2)\":\"6.773202e-12\"},{\"Level\":33,\"qgrid_unfiltered_index\":33,\"Frac. Ab. (Ion=2)\":\"9.448015e-12\"},{\"Level\":34,\"qgrid_unfiltered_index\":34,\"Frac. Ab. (Ion=2)\":\"1.208368e-11\"},{\"Level\":35,\"qgrid_unfiltered_index\":35,\"Frac. Ab. (Ion=2)\":\"2.117325e-12\"},{\"Level\":36,\"qgrid_unfiltered_index\":36,\"Frac. Ab. (Ion=2)\":\"3.324712e-12\"},{\"Level\":37,\"qgrid_unfiltered_index\":37,\"Frac. Ab. (Ion=2)\":\"1.993428e-12\"},{\"Level\":38,\"qgrid_unfiltered_index\":38,\"Frac. Ab. (Ion=2)\":\"6.644060e-13\"},{\"Level\":39,\"qgrid_unfiltered_index\":39,\"Frac. Ab. (Ion=2)\":\"2.842835e-12\"},{\"Level\":40,\"qgrid_unfiltered_index\":40,\"Frac. Ab. (Ion=2)\":\"1.683947e-12\"},{\"Level\":41,\"qgrid_unfiltered_index\":41,\"Frac. Ab. (Ion=2)\":\"5.568278e-13\"},{\"Level\":42,\"qgrid_unfiltered_index\":42,\"Frac. Ab. (Ion=2)\":\"1.459515e-12\"},{\"Level\":43,\"qgrid_unfiltered_index\":43,\"Frac. Ab. (Ion=2)\":\"2.415412e-12\"},{\"Level\":44,\"qgrid_unfiltered_index\":44,\"Frac. Ab. (Ion=2)\":\"3.359793e-12\"},{\"Level\":45,\"qgrid_unfiltered_index\":45,\"Frac. Ab. (Ion=2)\":\"1.178268e-12\"},{\"Level\":46,\"qgrid_unfiltered_index\":46,\"Frac. Ab. (Ion=2)\":\"1.502022e-13\"},{\"Level\":47,\"qgrid_unfiltered_index\":47,\"Frac. Ab. (Ion=2)\":\"4.431826e-13\"},{\"Level\":48,\"qgrid_unfiltered_index\":48,\"Frac. Ab. (Ion=2)\":\"7.109661e-13\"},{\"Level\":49,\"qgrid_unfiltered_index\":49,\"Frac. Ab. (Ion=2)\":\"4.123127e-13\"},{\"Level\":50,\"qgrid_unfiltered_index\":50,\"Frac. Ab. (Ion=2)\":\"6.869172e-13\"},{\"Level\":51,\"qgrid_unfiltered_index\":51,\"Frac. Ab. (Ion=2)\":\"9.611188e-13\"},{\"Level\":52,\"qgrid_unfiltered_index\":52,\"Frac. Ab. (Ion=2)\":\"6.368151e-13\"},{\"Level\":53,\"qgrid_unfiltered_index\":53,\"Frac. Ab. (Ion=2)\":\"3.338714e-13\"},{\"Level\":54,\"qgrid_unfiltered_index\":54,\"Frac. Ab. (Ion=2)\":\"2.959998e-13\"},{\"Level\":55,\"qgrid_unfiltered_index\":55,\"Frac. Ab. (Ion=2)\":\"4.535720e-13\"},{\"Level\":56,\"qgrid_unfiltered_index\":56,\"Frac. Ab. (Ion=2)\":\"6.349246e-13\"},{\"Level\":57,\"qgrid_unfiltered_index\":57,\"Frac. Ab. (Ion=2)\":\"8.161146e-13\"},{\"Level\":58,\"qgrid_unfiltered_index\":58,\"Frac. Ab. (Ion=2)\":\"6.322317e-13\"},{\"Level\":59,\"qgrid_unfiltered_index\":59,\"Frac. Ab. (Ion=2)\":\"8.128227e-13\"},{\"Level\":60,\"qgrid_unfiltered_index\":60,\"Frac. Ab. (Ion=2)\":\"8.127856e-13\"},{\"Level\":61,\"qgrid_unfiltered_index\":61,\"Frac. Ab. (Ion=2)\":\"9.933606e-13\"},{\"Level\":62,\"qgrid_unfiltered_index\":62,\"Frac. Ab. (Ion=2)\":\"8.957719e-14\"},{\"Level\":63,\"qgrid_unfiltered_index\":63,\"Frac. Ab. (Ion=2)\":\"1.590431e-13\"},{\"Level\":64,\"qgrid_unfiltered_index\":64,\"Frac. Ab. (Ion=2)\":\"1.590431e-13\"},{\"Level\":65,\"qgrid_unfiltered_index\":65,\"Frac. Ab. (Ion=2)\":\"5.282512e-14\"},{\"Level\":66,\"qgrid_unfiltered_index\":66,\"Frac. Ab. (Ion=2)\":\"5.282512e-14\"},{\"Level\":67,\"qgrid_unfiltered_index\":67,\"Frac. Ab. (Ion=2)\":\"1.582002e-13\"},{\"Level\":68,\"qgrid_unfiltered_index\":68,\"Frac. Ab. (Ion=2)\":\"1.582002e-13\"},{\"Level\":69,\"qgrid_unfiltered_index\":69,\"Frac. Ab. (Ion=2)\":\"2.631937e-13\"},{\"Level\":70,\"qgrid_unfiltered_index\":70,\"Frac. Ab. (Ion=2)\":\"2.631937e-13\"},{\"Level\":71,\"qgrid_unfiltered_index\":71,\"Frac. Ab. (Ion=2)\":\"3.246237e-13\"},{\"Level\":72,\"qgrid_unfiltered_index\":72,\"Frac. Ab. (Ion=2)\":\"1.297143e-13\"},{\"Level\":73,\"qgrid_unfiltered_index\":73,\"Frac. Ab. (Ion=2)\":\"7.393945e-14\"},{\"Level\":74,\"qgrid_unfiltered_index\":74,\"Frac. Ab. (Ion=2)\":\"1.228794e-13\"},{\"Level\":75,\"qgrid_unfiltered_index\":75,\"Frac. Ab. (Ion=2)\":\"1.713518e-13\"},{\"Level\":76,\"qgrid_unfiltered_index\":76,\"Frac. Ab. (Ion=2)\":\"1.186988e-13\"},{\"Level\":77,\"qgrid_unfiltered_index\":77,\"Frac. Ab. (Ion=2)\":\"5.784497e-14\"},{\"Level\":78,\"qgrid_unfiltered_index\":78,\"Frac. Ab. (Ion=2)\":\"9.312476e-14\"},{\"Level\":79,\"qgrid_unfiltered_index\":79,\"Frac. Ab. (Ion=2)\":\"1.303680e-13\"},{\"Level\":80,\"qgrid_unfiltered_index\":80,\"Frac. Ab. (Ion=2)\":\"1.676066e-13\"},{\"Level\":81,\"qgrid_unfiltered_index\":81,\"Frac. Ab. (Ion=2)\":\"1.293119e-13\"},{\"Level\":82,\"qgrid_unfiltered_index\":82,\"Frac. Ab. (Ion=2)\":\"1.662538e-13\"},{\"Level\":83,\"qgrid_unfiltered_index\":83,\"Frac. Ab. (Ion=2)\":\"1.662449e-13\"},{\"Level\":84,\"qgrid_unfiltered_index\":84,\"Frac. Ab. (Ion=2)\":\"2.031739e-13\"},{\"Level\":85,\"qgrid_unfiltered_index\":85,\"Frac. Ab. (Ion=2)\":\"1.831893e-14\"},{\"Level\":86,\"qgrid_unfiltered_index\":86,\"Frac. Ab. (Ion=2)\":\"1.627044e-13\"},{\"Level\":87,\"qgrid_unfiltered_index\":87,\"Frac. Ab. (Ion=2)\":\"1.988610e-13\"},{\"Level\":88,\"qgrid_unfiltered_index\":88,\"Frac. Ab. (Ion=2)\":\"1.988610e-13\"},{\"Level\":89,\"qgrid_unfiltered_index\":89,\"Frac. Ab. (Ion=2)\":\"2.350175e-13\"},{\"Level\":90,\"qgrid_unfiltered_index\":90,\"Frac. Ab. (Ion=2)\":\"5.252347e-14\"},{\"Level\":91,\"qgrid_unfiltered_index\":91,\"Frac. Ab. (Ion=2)\":\"1.078099e-13\"},{\"Level\":92,\"qgrid_unfiltered_index\":92,\"Frac. Ab. (Ion=2)\":\"4.125807e-14\"},{\"Level\":93,\"qgrid_unfiltered_index\":93,\"Frac. Ab. (Ion=2)\":\"6.761554e-14\"},{\"Level\":94,\"qgrid_unfiltered_index\":94,\"Frac. Ab. (Ion=2)\":\"4.054066e-14\"},{\"Level\":95,\"qgrid_unfiltered_index\":95,\"Frac. Ab. (Ion=2)\":\"1.341306e-14\"},{\"Level\":96,\"qgrid_unfiltered_index\":96,\"Frac. Ab. (Ion=2)\":\"4.021485e-14\"},{\"Level\":97,\"qgrid_unfiltered_index\":97,\"Frac. Ab. (Ion=2)\":\"6.693786e-14\"},{\"Level\":98,\"qgrid_unfiltered_index\":98,\"Frac. Ab. (Ion=2)\":\"9.197875e-14\"},{\"Level\":99,\"qgrid_unfiltered_index\":99,\"Frac. Ab. (Ion=2)\":\"9.138826e-15\"}]}",
       "_df_range": [
        0,
        100
       ],
       "_editable_rows": {},
       "_index_col_name": "qgrid_unfiltered_index",
       "_interval_columns": [],
       "_model_module_version": "^1.1.3",
       "_multi_index": false,
       "_row_count": 169,
       "_row_styles": {},
       "_sort_ascending": true,
       "_sort_field": null,
       "_view_module_version": "^1.1.3",
       "_viewport_range": [
        0,
        100
       ],
       "grid_options": {
        "autoEdit": false,
        "boldIndex": true,
        "defaultColumnWidth": 150,
        "editable": false,
        "enableColumnReorder": false,
        "enableTextSelectionOnCells": true,
        "explicitInitialization": true,
        "filterable": false,
        "forceFitColumns": true,
        "fullWidthRows": true,
        "highlightSelectedCell": false,
        "highlightSelectedRow": true,
        "maxVisibleRows": 15,
        "minVisibleRows": 2,
        "rowHeight": 28,
        "sortable": false,
        "syncColumnCellResize": true
       },
       "id": "73cd6c24-272e-45f7-a3c0-0e91f13faab6",
       "layout": "IPY_MODEL_4db53e5008b34abb9d0277be508b7446",
       "precision": 5,
       "show_toolbar": false
      }
     },
     "db40741114fc43dcaf5f35e55035be1a": {
      "model_module": "qgrid",
      "model_module_version": "^1.1.3",
      "model_name": "QgridModel",
      "state": {
       "_columns": {
        "Element": {
         "cssClass": "string",
         "defaultSortAsc": true,
         "editable": true,
         "field": "Element",
         "id": "Element",
         "minWidth": null,
         "name": "Element",
         "position": 2,
         "resizable": true,
         "sortable": true,
         "toolTip": "",
         "type": "string",
         "width": 30
        },
        "Frac. Ab. (Shell 8)": {
         "cssClass": "string",
         "defaultSortAsc": true,
         "editable": true,
         "field": "Frac. Ab. (Shell 8)",
         "id": "Frac. Ab. (Shell 8)",
         "minWidth": null,
         "name": "Frac. Ab. (Shell 8)",
         "position": 3,
         "resizable": true,
         "sortable": true,
         "toolTip": "",
         "type": "string",
         "width": 55
        },
        "Z": {
         "cssClass": "integer first-idx-col idx-col first-idx-col idx-col",
         "defaultSortAsc": true,
         "editable": true,
         "field": "Z",
         "first_index": true,
         "id": "Z",
         "index_display_text": "Z",
         "is_index": true,
         "level": 0,
         "minWidth": null,
         "name": "Z",
         "position": 0,
         "resizable": true,
         "sortable": true,
         "toolTip": "",
         "type": "integer",
         "width": 15
        },
        "qgrid_unfiltered_index": {
         "cssClass": "integer",
         "defaultSortAsc": true,
         "editable": true,
         "field": "qgrid_unfiltered_index",
         "id": "qgrid_unfiltered_index",
         "maxWidth": null,
         "minWidth": null,
         "name": "qgrid_unfiltered_index",
         "position": 1,
         "resizable": true,
         "sortable": true,
         "toolTip": "",
         "type": "integer",
         "width": null
        }
       },
       "_df_json": "{\"schema\": {\"fields\":[{\"name\":\"Z\",\"type\":\"integer\"},{\"name\":\"qgrid_unfiltered_index\",\"type\":\"integer\"},{\"name\":\"Element\",\"type\":\"string\"},{\"name\":\"Frac. Ab. (Shell 8)\",\"type\":\"string\"}],\"primaryKey\":[\"Z\"],\"pandas_version\":\"0.20.0\"}, \"data\": [{\"Z\":8,\"qgrid_unfiltered_index\":0,\"Element\":\"O\",\"Frac. Ab. (Shell 8)\":\"1.900000e-01\"},{\"Z\":12,\"qgrid_unfiltered_index\":1,\"Element\":\"Mg\",\"Frac. Ab. (Shell 8)\":\"3.000000e-02\"},{\"Z\":14,\"qgrid_unfiltered_index\":2,\"Element\":\"Si\",\"Frac. Ab. (Shell 8)\":\"5.200000e-01\"},{\"Z\":16,\"qgrid_unfiltered_index\":3,\"Element\":\"S\",\"Frac. Ab. (Shell 8)\":\"1.900000e-01\"},{\"Z\":18,\"qgrid_unfiltered_index\":4,\"Element\":\"Ar\",\"Frac. Ab. (Shell 8)\":\"4.000000e-02\"},{\"Z\":20,\"qgrid_unfiltered_index\":5,\"Element\":\"Ca\",\"Frac. Ab. (Shell 8)\":\"3.000000e-02\"}]}",
       "_df_range": [
        0,
        100
       ],
       "_editable_rows": {},
       "_index_col_name": "qgrid_unfiltered_index",
       "_interval_columns": [],
       "_model_module_version": "^1.1.3",
       "_multi_index": false,
       "_row_count": 6,
       "_row_styles": {},
       "_sort_ascending": true,
       "_sort_field": null,
       "_view_module_version": "^1.1.3",
       "_viewport_range": [
        0,
        100
       ],
       "grid_options": {
        "autoEdit": false,
        "boldIndex": true,
        "defaultColumnWidth": 150,
        "editable": false,
        "enableColumnReorder": false,
        "enableTextSelectionOnCells": true,
        "explicitInitialization": true,
        "filterable": false,
        "forceFitColumns": true,
        "fullWidthRows": true,
        "highlightSelectedCell": false,
        "highlightSelectedRow": true,
        "maxVisibleRows": 15,
        "minVisibleRows": 2,
        "rowHeight": 28,
        "sortable": false,
        "syncColumnCellResize": true
       },
       "id": "9048b0d6-74c3-49f3-829c-d69cb884ba53",
       "layout": "IPY_MODEL_d3f5c877acc34c078d811fcf0ed47585",
       "precision": 5,
       "show_toolbar": false
      }
     },
     "dbb8e46da6914f50b44a70c0973d077d": {
      "model_module": "qgrid",
      "model_module_version": "^1.1.3",
      "model_name": "QgridModel",
      "state": {
       "_columns": {
        "Frac. Ab. (Z=8)": {
         "cssClass": "string",
         "defaultSortAsc": true,
         "editable": true,
         "field": "Frac. Ab. (Z=8)",
         "id": "Frac. Ab. (Z=8)",
         "minWidth": null,
         "name": "Frac. Ab. (Z=8)",
         "position": 3,
         "resizable": true,
         "sortable": true,
         "toolTip": "",
         "type": "string",
         "width": 50
        },
        "Ion": {
         "cssClass": "integer first-idx-col idx-col first-idx-col idx-col first-idx-col idx-col",
         "defaultSortAsc": true,
         "editable": true,
         "field": "Ion",
         "first_index": true,
         "id": "Ion",
         "index_display_text": "Ion",
         "is_index": true,
         "level": 0,
         "minWidth": null,
         "name": "Ion",
         "position": 0,
         "resizable": true,
         "sortable": true,
         "toolTip": "",
         "type": "integer",
         "width": 20
        },
        "Species": {
         "cssClass": "string",
         "defaultSortAsc": true,
         "editable": true,
         "field": "Species",
         "id": "Species",
         "minWidth": null,
         "name": "Species",
         "position": 2,
         "resizable": true,
         "sortable": true,
         "toolTip": "",
         "type": "string",
         "width": 30
        },
        "qgrid_unfiltered_index": {
         "cssClass": "integer",
         "defaultSortAsc": true,
         "editable": true,
         "field": "qgrid_unfiltered_index",
         "id": "qgrid_unfiltered_index",
         "maxWidth": null,
         "minWidth": null,
         "name": "qgrid_unfiltered_index",
         "position": 1,
         "resizable": true,
         "sortable": true,
         "toolTip": "",
         "type": "integer",
         "width": null
        }
       },
       "_df_json": "{\"schema\": {\"fields\":[{\"name\":\"Ion\",\"type\":\"integer\"},{\"name\":\"qgrid_unfiltered_index\",\"type\":\"integer\"},{\"name\":\"Species\",\"type\":\"string\"},{\"name\":\"Frac. Ab. (Z=8)\",\"type\":\"string\"}],\"primaryKey\":[\"Ion\"],\"pandas_version\":\"0.20.0\"}, \"data\": [{\"Ion\":0,\"qgrid_unfiltered_index\":0,\"Species\":\"O I\",\"Frac. Ab. (Z=8)\":\"2.529369e-07\"},{\"Ion\":1,\"qgrid_unfiltered_index\":1,\"Species\":\"O II\",\"Frac. Ab. (Z=8)\":\"9.958112e-01\"},{\"Ion\":2,\"qgrid_unfiltered_index\":2,\"Species\":\"O III\",\"Frac. Ab. (Z=8)\":\"4.188517e-03\"},{\"Ion\":3,\"qgrid_unfiltered_index\":3,\"Species\":\"O IV\",\"Frac. Ab. (Z=8)\":\"7.043053e-15\"},{\"Ion\":4,\"qgrid_unfiltered_index\":4,\"Species\":\"O V\",\"Frac. Ab. (Z=8)\":\"0.000000e+00\"},{\"Ion\":5,\"qgrid_unfiltered_index\":5,\"Species\":\"O VI\",\"Frac. Ab. (Z=8)\":\"0.000000e+00\"},{\"Ion\":6,\"qgrid_unfiltered_index\":6,\"Species\":\"O VII\",\"Frac. Ab. (Z=8)\":\"0.000000e+00\"},{\"Ion\":7,\"qgrid_unfiltered_index\":7,\"Species\":\"O VIII\",\"Frac. Ab. (Z=8)\":\"0.000000e+00\"},{\"Ion\":8,\"qgrid_unfiltered_index\":8,\"Species\":\"O IX\",\"Frac. Ab. (Z=8)\":\"0.000000e+00\"}]}",
       "_df_range": [
        0,
        100
       ],
       "_editable_rows": {},
       "_index_col_name": "qgrid_unfiltered_index",
       "_interval_columns": [],
       "_model_module_version": "^1.1.3",
       "_multi_index": false,
       "_row_count": 9,
       "_row_styles": {},
       "_sort_ascending": true,
       "_sort_field": null,
       "_view_module_version": "^1.1.3",
       "_viewport_range": [
        0,
        100
       ],
       "grid_options": {
        "autoEdit": false,
        "boldIndex": true,
        "defaultColumnWidth": 150,
        "editable": false,
        "enableColumnReorder": false,
        "enableTextSelectionOnCells": true,
        "explicitInitialization": true,
        "filterable": false,
        "forceFitColumns": true,
        "fullWidthRows": true,
        "highlightSelectedCell": false,
        "highlightSelectedRow": true,
        "maxVisibleRows": 15,
        "minVisibleRows": 2,
        "rowHeight": 28,
        "sortable": false,
        "syncColumnCellResize": true
       },
       "id": "ffb82a1d-a308-4ad5-b559-8456d3d04080",
       "layout": "IPY_MODEL_594441bc49844214a6086954ccdc005e",
       "precision": 5,
       "show_toolbar": false
      }
     },
     "dbf71db27a824d13802210a5a6dd66f9": {
      "model_module": "qgrid",
      "model_module_version": "^1.1.3",
      "model_name": "QgridModel",
      "state": {
       "_columns": {
        "Rad. Temp.": {
         "cssClass": "string",
         "defaultSortAsc": true,
         "editable": true,
         "field": "Rad. Temp.",
         "id": "Rad. Temp.",
         "minWidth": null,
         "name": "Rad. Temp.",
         "position": 2,
         "resizable": true,
         "sortable": true,
         "toolTip": "",
         "type": "string",
         "width": 35
        },
        "Shell No.": {
         "cssClass": "integer first-idx-col idx-col first-idx-col idx-col first-idx-col idx-col first-idx-col idx-col",
         "defaultSortAsc": true,
         "editable": true,
         "field": "Shell No.",
         "first_index": true,
         "id": "Shell No.",
         "index_display_text": "Shell No.",
         "is_index": true,
         "level": 0,
         "minWidth": null,
         "name": "Shell No.",
         "position": 0,
         "resizable": true,
         "sortable": true,
         "toolTip": "",
         "type": "integer",
         "width": 30
        },
        "W": {
         "cssClass": "string",
         "defaultSortAsc": true,
         "editable": true,
         "field": "W",
         "id": "W",
         "minWidth": null,
         "name": "W",
         "position": 3,
         "resizable": true,
         "sortable": true,
         "toolTip": "",
         "type": "string",
         "width": 35
        },
        "qgrid_unfiltered_index": {
         "cssClass": "integer",
         "defaultSortAsc": true,
         "editable": true,
         "field": "qgrid_unfiltered_index",
         "id": "qgrid_unfiltered_index",
         "maxWidth": null,
         "minWidth": null,
         "name": "qgrid_unfiltered_index",
         "position": 1,
         "resizable": true,
         "sortable": true,
         "toolTip": "",
         "type": "integer",
         "width": null
        }
       },
       "_df_json": "{\"schema\": {\"fields\":[{\"name\":\"Shell No.\",\"type\":\"integer\"},{\"name\":\"qgrid_unfiltered_index\",\"type\":\"integer\"},{\"name\":\"Rad. Temp.\",\"type\":\"string\"},{\"name\":\"W\",\"type\":\"string\"}],\"primaryKey\":[\"Shell No.\"],\"pandas_version\":\"0.20.0\"}, \"data\": [{\"Shell No.\":1,\"qgrid_unfiltered_index\":0,\"Rad. Temp.\":\"1.086251e+04\",\"W\":\"4.444947e-01\"},{\"Shell No.\":2,\"qgrid_unfiltered_index\":1,\"Rad. Temp.\":\"1.103536e+04\",\"W\":\"3.308350e-01\"},{\"Shell No.\":3,\"qgrid_unfiltered_index\":2,\"Rad. Temp.\":\"1.119691e+04\",\"W\":\"2.604883e-01\"},{\"Shell No.\":4,\"qgrid_unfiltered_index\":3,\"Rad. Temp.\":\"1.125229e+04\",\"W\":\"2.174908e-01\"},{\"Shell No.\":5,\"qgrid_unfiltered_index\":4,\"Rad. Temp.\":\"1.121542e+04\",\"W\":\"1.879279e-01\"},{\"Shell No.\":6,\"qgrid_unfiltered_index\":5,\"Rad. Temp.\":\"1.119446e+04\",\"W\":\"1.628420e-01\"},{\"Shell No.\":7,\"qgrid_unfiltered_index\":6,\"Rad. Temp.\":\"1.124311e+04\",\"W\":\"1.419034e-01\"},{\"Shell No.\":8,\"qgrid_unfiltered_index\":7,\"Rad. Temp.\":\"1.124690e+04\",\"W\":\"1.264369e-01\"},{\"Shell No.\":9,\"qgrid_unfiltered_index\":8,\"Rad. Temp.\":\"1.116176e+04\",\"W\":\"1.172286e-01\"},{\"Shell No.\":10,\"qgrid_unfiltered_index\":9,\"Rad. Temp.\":\"1.112850e+04\",\"W\":\"1.073689e-01\"},{\"Shell No.\":11,\"qgrid_unfiltered_index\":10,\"Rad. Temp.\":\"1.106562e+04\",\"W\":\"9.937228e-02\"},{\"Shell No.\":12,\"qgrid_unfiltered_index\":11,\"Rad. Temp.\":\"1.093918e+04\",\"W\":\"9.480017e-02\"},{\"Shell No.\":13,\"qgrid_unfiltered_index\":12,\"Rad. Temp.\":\"1.088287e+04\",\"W\":\"8.920397e-02\"},{\"Shell No.\":14,\"qgrid_unfiltered_index\":13,\"Rad. Temp.\":\"1.077571e+04\",\"W\":\"8.504642e-02\"},{\"Shell No.\":15,\"qgrid_unfiltered_index\":14,\"Rad. Temp.\":\"1.065337e+04\",\"W\":\"8.179275e-02\"},{\"Shell No.\":16,\"qgrid_unfiltered_index\":15,\"Rad. Temp.\":\"1.059985e+04\",\"W\":\"7.768958e-02\"},{\"Shell No.\":17,\"qgrid_unfiltered_index\":16,\"Rad. Temp.\":\"1.050428e+04\",\"W\":\"7.459787e-02\"},{\"Shell No.\":18,\"qgrid_unfiltered_index\":17,\"Rad. Temp.\":\"1.050167e+04\",\"W\":\"6.987617e-02\"},{\"Shell No.\":19,\"qgrid_unfiltered_index\":18,\"Rad. Temp.\":\"1.037101e+04\",\"W\":\"6.830342e-02\"},{\"Shell No.\":20,\"qgrid_unfiltered_index\":19,\"Rad. Temp.\":\"1.023320e+04\",\"W\":\"6.706797e-02\"}]}",
       "_df_range": [
        0,
        100
       ],
       "_editable_rows": {},
       "_index_col_name": "qgrid_unfiltered_index",
       "_interval_columns": [],
       "_model_module_version": "^1.1.3",
       "_multi_index": false,
       "_row_count": 20,
       "_row_styles": {},
       "_sort_ascending": true,
       "_sort_field": null,
       "_view_module_version": "^1.1.3",
       "_viewport_range": [
        0,
        16
       ],
       "grid_options": {
        "autoEdit": false,
        "boldIndex": true,
        "defaultColumnWidth": 150,
        "editable": false,
        "enableColumnReorder": false,
        "enableTextSelectionOnCells": true,
        "explicitInitialization": true,
        "filterable": false,
        "forceFitColumns": true,
        "fullWidthRows": true,
        "highlightSelectedCell": false,
        "highlightSelectedRow": true,
        "maxVisibleRows": 15,
        "minVisibleRows": 2,
        "rowHeight": 28,
        "sortable": false,
        "syncColumnCellResize": true
       },
       "id": "2d84a99c-a77e-4b65-adf6-aa4c45cd7c10",
       "layout": "IPY_MODEL_17133a96b4804976b497b099de5fb787",
       "precision": 5,
       "show_toolbar": false
      }
     },
     "e15b8f20e6954ee59d6dcffa5f834880": {
      "model_module": "@jupyter-widgets/base",
      "model_module_version": "1.2.0",
      "model_name": "LayoutModel",
      "state": {
       "width": "18%"
      }
     },
     "e3ea23ebd9b64b248d9db4ee749ad302": {
      "model_module": "@jupyter-widgets/base",
      "model_module_version": "1.2.0",
      "model_name": "LayoutModel",
      "state": {
       "width": "24%"
      }
     },
     "e5743a4cb5ee4013b5b2da1448d1da73": {
      "model_module": "@jupyter-widgets/controls",
      "model_module_version": "1.5.0",
      "model_name": "BoxModel",
      "state": {
       "children": [
        "IPY_MODEL_b70b0e0ec8a44480b32717efd5e38337",
        "IPY_MODEL_f6e44683b350481b9a53be89732ec90a",
        "IPY_MODEL_017ca4807e0e4bb8aadf2027ac301636",
        "IPY_MODEL_5738ef0c7b954c00ae457744a809865a"
       ],
       "layout": "IPY_MODEL_b2a6cc44c9bc44f1b8c0a6765b929e31"
      }
     },
     "e83df4ec404e415a8627ece82fb84014": {
      "model_module": "qgrid",
      "model_module_version": "^1.1.3",
      "model_name": "QgridModel",
      "state": {
       "_columns": {
        "Element": {
         "cssClass": "string",
         "defaultSortAsc": true,
         "editable": true,
         "field": "Element",
         "id": "Element",
         "minWidth": null,
         "name": "Element",
         "position": 2,
         "resizable": true,
         "sortable": true,
         "toolTip": "",
         "type": "string",
         "width": 30
        },
        "Frac. Ab. (Shell 13)": {
         "cssClass": "string",
         "defaultSortAsc": true,
         "editable": true,
         "field": "Frac. Ab. (Shell 13)",
         "id": "Frac. Ab. (Shell 13)",
         "minWidth": null,
         "name": "Frac. Ab. (Shell 13)",
         "position": 3,
         "resizable": true,
         "sortable": true,
         "toolTip": "",
         "type": "string",
         "width": 55
        },
        "Z": {
         "cssClass": "integer first-idx-col idx-col",
         "defaultSortAsc": true,
         "editable": true,
         "field": "Z",
         "first_index": true,
         "id": "Z",
         "index_display_text": "Z",
         "is_index": true,
         "level": 0,
         "minWidth": null,
         "name": "Z",
         "position": 0,
         "resizable": true,
         "sortable": true,
         "toolTip": "",
         "type": "integer",
         "width": 15
        },
        "qgrid_unfiltered_index": {
         "cssClass": "integer",
         "defaultSortAsc": true,
         "editable": true,
         "field": "qgrid_unfiltered_index",
         "id": "qgrid_unfiltered_index",
         "maxWidth": null,
         "minWidth": null,
         "name": "qgrid_unfiltered_index",
         "position": 1,
         "resizable": true,
         "sortable": true,
         "toolTip": "",
         "type": "integer",
         "width": null
        }
       },
       "_df_json": "{\"schema\": {\"fields\":[{\"name\":\"Z\",\"type\":\"integer\"},{\"name\":\"qgrid_unfiltered_index\",\"type\":\"integer\"},{\"name\":\"Element\",\"type\":\"string\"},{\"name\":\"Frac. Ab. (Shell 13)\",\"type\":\"string\"}],\"primaryKey\":[\"Z\"],\"pandas_version\":\"0.20.0\"}, \"data\": [{\"Z\":8,\"qgrid_unfiltered_index\":0,\"Element\":\"O\",\"Frac. Ab. (Shell 13)\":\"1.900000e-01\"},{\"Z\":12,\"qgrid_unfiltered_index\":1,\"Element\":\"Mg\",\"Frac. Ab. (Shell 13)\":\"3.000000e-02\"},{\"Z\":14,\"qgrid_unfiltered_index\":2,\"Element\":\"Si\",\"Frac. Ab. (Shell 13)\":\"5.200000e-01\"},{\"Z\":16,\"qgrid_unfiltered_index\":3,\"Element\":\"S\",\"Frac. Ab. (Shell 13)\":\"1.900000e-01\"},{\"Z\":18,\"qgrid_unfiltered_index\":4,\"Element\":\"Ar\",\"Frac. Ab. (Shell 13)\":\"4.000000e-02\"},{\"Z\":20,\"qgrid_unfiltered_index\":5,\"Element\":\"Ca\",\"Frac. Ab. (Shell 13)\":\"3.000000e-02\"}]}",
       "_df_range": [
        0,
        100
       ],
       "_editable_rows": {},
       "_index_col_name": "qgrid_unfiltered_index",
       "_interval_columns": [],
       "_model_module_version": "^1.1.3",
       "_multi_index": false,
       "_row_count": 6,
       "_row_styles": {},
       "_sort_ascending": true,
       "_sort_field": null,
       "_view_module_version": "^1.1.3",
       "_viewport_range": [
        0,
        100
       ],
       "grid_options": {
        "autoEdit": false,
        "boldIndex": true,
        "defaultColumnWidth": 150,
        "editable": false,
        "enableColumnReorder": false,
        "enableTextSelectionOnCells": true,
        "explicitInitialization": true,
        "filterable": false,
        "forceFitColumns": true,
        "fullWidthRows": true,
        "highlightSelectedCell": false,
        "highlightSelectedRow": true,
        "maxVisibleRows": 15,
        "minVisibleRows": 2,
        "rowHeight": 28,
        "sortable": false,
        "syncColumnCellResize": true
       },
       "id": "1bf80e51-3df5-499c-b0fe-591c016c3e1f",
       "layout": "IPY_MODEL_b64c8ab94e594afe828d702cebb9f188",
       "precision": 5,
       "show_toolbar": false
      }
     },
     "e92dd4b0f7154da6810e90b0636deffb": {
      "model_module": "@jupyter-widgets/controls",
      "model_module_version": "1.5.0",
      "model_name": "VBoxModel",
      "state": {
       "children": [
        "IPY_MODEL_f96c8fa4f2914ae6b7da58f08b75bf17",
        "IPY_MODEL_bb532b02b80044ce9f34fcb614c1a06a"
       ],
       "layout": "IPY_MODEL_9d2b36ce722e4896b8520acd6ef2cc20"
      }
     },
     "e975c0256a69493f8272fc48d02a9a96": {
      "model_module": "@jupyter-widgets/base",
      "model_module_version": "1.2.0",
      "model_name": "LayoutModel",
      "state": {}
     },
     "eb5e80b9c98c46abbb16b3132f048997": {
      "model_module": "qgrid",
      "model_module_version": "^1.1.3",
      "model_name": "QgridModel",
      "state": {
       "_columns": {
        "Rad. Temp.": {
         "cssClass": "string",
         "defaultSortAsc": true,
         "editable": true,
         "field": "Rad. Temp.",
         "id": "Rad. Temp.",
         "minWidth": null,
         "name": "Rad. Temp.",
         "position": 2,
         "resizable": true,
         "sortable": true,
         "toolTip": "",
         "type": "string",
         "width": 35
        },
        "Shell No.": {
         "cssClass": "integer first-idx-col idx-col",
         "defaultSortAsc": true,
         "editable": true,
         "field": "Shell No.",
         "first_index": true,
         "id": "Shell No.",
         "index_display_text": "Shell No.",
         "is_index": true,
         "level": 0,
         "minWidth": null,
         "name": "Shell No.",
         "position": 0,
         "resizable": true,
         "sortable": true,
         "toolTip": "",
         "type": "integer",
         "width": 30
        },
        "W": {
         "cssClass": "string",
         "defaultSortAsc": true,
         "editable": true,
         "field": "W",
         "id": "W",
         "minWidth": null,
         "name": "W",
         "position": 3,
         "resizable": true,
         "sortable": true,
         "toolTip": "",
         "type": "string",
         "width": 35
        },
        "qgrid_unfiltered_index": {
         "cssClass": "integer",
         "defaultSortAsc": true,
         "editable": true,
         "field": "qgrid_unfiltered_index",
         "id": "qgrid_unfiltered_index",
         "maxWidth": null,
         "minWidth": null,
         "name": "qgrid_unfiltered_index",
         "position": 1,
         "resizable": true,
         "sortable": true,
         "toolTip": "",
         "type": "integer",
         "width": null
        }
       },
       "_df_json": "{\"schema\": {\"fields\":[{\"name\":\"Shell No.\",\"type\":\"integer\"},{\"name\":\"qgrid_unfiltered_index\",\"type\":\"integer\"},{\"name\":\"Rad. Temp.\",\"type\":\"string\"},{\"name\":\"W\",\"type\":\"string\"}],\"primaryKey\":[\"Shell No.\"],\"pandas_version\":\"0.20.0\"}, \"data\": [{\"Shell No.\":1,\"qgrid_unfiltered_index\":0,\"Rad. Temp.\":\"1.086251e+04\",\"W\":\"4.444947e-01\"},{\"Shell No.\":2,\"qgrid_unfiltered_index\":1,\"Rad. Temp.\":\"1.103536e+04\",\"W\":\"3.308350e-01\"},{\"Shell No.\":3,\"qgrid_unfiltered_index\":2,\"Rad. Temp.\":\"1.119691e+04\",\"W\":\"2.604883e-01\"},{\"Shell No.\":4,\"qgrid_unfiltered_index\":3,\"Rad. Temp.\":\"1.125229e+04\",\"W\":\"2.174908e-01\"},{\"Shell No.\":5,\"qgrid_unfiltered_index\":4,\"Rad. Temp.\":\"1.121542e+04\",\"W\":\"1.879279e-01\"},{\"Shell No.\":6,\"qgrid_unfiltered_index\":5,\"Rad. Temp.\":\"1.119446e+04\",\"W\":\"1.628420e-01\"},{\"Shell No.\":7,\"qgrid_unfiltered_index\":6,\"Rad. Temp.\":\"1.124311e+04\",\"W\":\"1.419034e-01\"},{\"Shell No.\":8,\"qgrid_unfiltered_index\":7,\"Rad. Temp.\":\"1.124690e+04\",\"W\":\"1.264369e-01\"},{\"Shell No.\":9,\"qgrid_unfiltered_index\":8,\"Rad. Temp.\":\"1.116176e+04\",\"W\":\"1.172286e-01\"},{\"Shell No.\":10,\"qgrid_unfiltered_index\":9,\"Rad. Temp.\":\"1.112850e+04\",\"W\":\"1.073689e-01\"},{\"Shell No.\":11,\"qgrid_unfiltered_index\":10,\"Rad. Temp.\":\"1.106562e+04\",\"W\":\"9.937228e-02\"},{\"Shell No.\":12,\"qgrid_unfiltered_index\":11,\"Rad. Temp.\":\"1.093918e+04\",\"W\":\"9.480017e-02\"},{\"Shell No.\":13,\"qgrid_unfiltered_index\":12,\"Rad. Temp.\":\"1.088287e+04\",\"W\":\"8.920397e-02\"},{\"Shell No.\":14,\"qgrid_unfiltered_index\":13,\"Rad. Temp.\":\"1.077571e+04\",\"W\":\"8.504642e-02\"},{\"Shell No.\":15,\"qgrid_unfiltered_index\":14,\"Rad. Temp.\":\"1.065337e+04\",\"W\":\"8.179275e-02\"},{\"Shell No.\":16,\"qgrid_unfiltered_index\":15,\"Rad. Temp.\":\"1.059985e+04\",\"W\":\"7.768958e-02\"},{\"Shell No.\":17,\"qgrid_unfiltered_index\":16,\"Rad. Temp.\":\"1.050428e+04\",\"W\":\"7.459787e-02\"},{\"Shell No.\":18,\"qgrid_unfiltered_index\":17,\"Rad. Temp.\":\"1.050167e+04\",\"W\":\"6.987617e-02\"},{\"Shell No.\":19,\"qgrid_unfiltered_index\":18,\"Rad. Temp.\":\"1.037101e+04\",\"W\":\"6.830342e-02\"},{\"Shell No.\":20,\"qgrid_unfiltered_index\":19,\"Rad. Temp.\":\"1.023320e+04\",\"W\":\"6.706797e-02\"}]}",
       "_df_range": [
        0,
        100
       ],
       "_editable_rows": {},
       "_index_col_name": "qgrid_unfiltered_index",
       "_interval_columns": [],
       "_model_module_version": "^1.1.3",
       "_multi_index": false,
       "_row_count": 20,
       "_row_styles": {},
       "_sort_ascending": true,
       "_sort_field": null,
       "_view_module_version": "^1.1.3",
       "_viewport_range": [
        0,
        100
       ],
       "grid_options": {
        "autoEdit": false,
        "boldIndex": true,
        "defaultColumnWidth": 150,
        "editable": false,
        "enableColumnReorder": false,
        "enableTextSelectionOnCells": true,
        "explicitInitialization": true,
        "filterable": false,
        "forceFitColumns": true,
        "fullWidthRows": true,
        "highlightSelectedCell": false,
        "highlightSelectedRow": true,
        "maxVisibleRows": 15,
        "minVisibleRows": 2,
        "rowHeight": 28,
        "sortable": false,
        "syncColumnCellResize": true
       },
       "id": "ccd8b3d9-f3da-41a8-9fec-7f89d5d1e894",
       "layout": "IPY_MODEL_c9a2b26fa9704c32a9b6952bd94d65ea",
       "precision": 5,
       "show_toolbar": false
      }
     },
     "ede917a8d9c448bab050d13fc4adcee6": {
      "model_module": "@jupyter-widgets/controls",
      "model_module_version": "1.5.0",
      "model_name": "BoxModel",
      "state": {
       "children": [
        "IPY_MODEL_eb5e80b9c98c46abbb16b3132f048997",
        "IPY_MODEL_247053b8dc5c4fd0a96875ad05285aea",
        "IPY_MODEL_bb287649ea284deea59a1a39143e36c5",
        "IPY_MODEL_5394cfa275bd40a69700257029f8c368"
       ],
       "layout": "IPY_MODEL_611d3857cae543ab881b586711f55509"
      }
     },
     "f0ea5bb5ef5a4741b245767ced96bb39": {
      "model_module": "@jupyter-widgets/base",
      "model_module_version": "1.2.0",
      "model_name": "LayoutModel",
      "state": {}
     },
     "f2490641bc43466bacc2c6823439f819": {
      "model_module": "@jupyter-widgets/base",
      "model_module_version": "1.2.0",
      "model_name": "LayoutModel",
      "state": {}
     },
     "f262851912f640c6b81326868285cd2b": {
      "model_module": "@jupyter-widgets/base",
      "model_module_version": "1.2.0",
      "model_name": "LayoutModel",
      "state": {
       "align_items": "flex-start",
       "display": "flex",
       "justify_content": "space-between"
      }
     },
     "f27b9f6f1fe946ee917dae71943940f2": {
      "model_module": "qgrid",
      "model_module_version": "^1.1.3",
      "model_name": "QgridModel",
      "state": {
       "_columns": {
        "Rad. Temp.": {
         "cssClass": "string",
         "defaultSortAsc": true,
         "editable": true,
         "field": "Rad. Temp.",
         "id": "Rad. Temp.",
         "minWidth": null,
         "name": "Rad. Temp.",
         "position": 2,
         "resizable": true,
         "sortable": true,
         "toolTip": "",
         "type": "string",
         "width": 35
        },
        "Shell No.": {
         "cssClass": "integer first-idx-col idx-col",
         "defaultSortAsc": true,
         "editable": true,
         "field": "Shell No.",
         "first_index": true,
         "id": "Shell No.",
         "index_display_text": "Shell No.",
         "is_index": true,
         "level": 0,
         "minWidth": null,
         "name": "Shell No.",
         "position": 0,
         "resizable": true,
         "sortable": true,
         "toolTip": "",
         "type": "integer",
         "width": 30
        },
        "W": {
         "cssClass": "string",
         "defaultSortAsc": true,
         "editable": true,
         "field": "W",
         "id": "W",
         "minWidth": null,
         "name": "W",
         "position": 3,
         "resizable": true,
         "sortable": true,
         "toolTip": "",
         "type": "string",
         "width": 35
        },
        "qgrid_unfiltered_index": {
         "cssClass": "integer",
         "defaultSortAsc": true,
         "editable": true,
         "field": "qgrid_unfiltered_index",
         "id": "qgrid_unfiltered_index",
         "maxWidth": null,
         "minWidth": null,
         "name": "qgrid_unfiltered_index",
         "position": 1,
         "resizable": true,
         "sortable": true,
         "toolTip": "",
         "type": "integer",
         "width": null
        }
       },
       "_df_json": "{\"schema\": {\"fields\":[{\"name\":\"Shell No.\",\"type\":\"integer\"},{\"name\":\"qgrid_unfiltered_index\",\"type\":\"integer\"},{\"name\":\"Rad. Temp.\",\"type\":\"string\"},{\"name\":\"W\",\"type\":\"string\"}],\"primaryKey\":[\"Shell No.\"],\"pandas_version\":\"0.20.0\"}, \"data\": [{\"Shell No.\":1,\"qgrid_unfiltered_index\":0,\"Rad. Temp.\":\"1.086251e+04\",\"W\":\"4.444947e-01\"},{\"Shell No.\":2,\"qgrid_unfiltered_index\":1,\"Rad. Temp.\":\"1.103536e+04\",\"W\":\"3.308350e-01\"},{\"Shell No.\":3,\"qgrid_unfiltered_index\":2,\"Rad. Temp.\":\"1.119691e+04\",\"W\":\"2.604883e-01\"},{\"Shell No.\":4,\"qgrid_unfiltered_index\":3,\"Rad. Temp.\":\"1.125229e+04\",\"W\":\"2.174908e-01\"},{\"Shell No.\":5,\"qgrid_unfiltered_index\":4,\"Rad. Temp.\":\"1.121542e+04\",\"W\":\"1.879279e-01\"},{\"Shell No.\":6,\"qgrid_unfiltered_index\":5,\"Rad. Temp.\":\"1.119446e+04\",\"W\":\"1.628420e-01\"},{\"Shell No.\":7,\"qgrid_unfiltered_index\":6,\"Rad. Temp.\":\"1.124311e+04\",\"W\":\"1.419034e-01\"},{\"Shell No.\":8,\"qgrid_unfiltered_index\":7,\"Rad. Temp.\":\"1.124690e+04\",\"W\":\"1.264369e-01\"},{\"Shell No.\":9,\"qgrid_unfiltered_index\":8,\"Rad. Temp.\":\"1.116176e+04\",\"W\":\"1.172286e-01\"},{\"Shell No.\":10,\"qgrid_unfiltered_index\":9,\"Rad. Temp.\":\"1.112850e+04\",\"W\":\"1.073689e-01\"},{\"Shell No.\":11,\"qgrid_unfiltered_index\":10,\"Rad. Temp.\":\"1.106562e+04\",\"W\":\"9.937228e-02\"},{\"Shell No.\":12,\"qgrid_unfiltered_index\":11,\"Rad. Temp.\":\"1.093918e+04\",\"W\":\"9.480017e-02\"},{\"Shell No.\":13,\"qgrid_unfiltered_index\":12,\"Rad. Temp.\":\"1.088287e+04\",\"W\":\"8.920397e-02\"},{\"Shell No.\":14,\"qgrid_unfiltered_index\":13,\"Rad. Temp.\":\"1.077571e+04\",\"W\":\"8.504642e-02\"},{\"Shell No.\":15,\"qgrid_unfiltered_index\":14,\"Rad. Temp.\":\"1.065337e+04\",\"W\":\"8.179275e-02\"},{\"Shell No.\":16,\"qgrid_unfiltered_index\":15,\"Rad. Temp.\":\"1.059985e+04\",\"W\":\"7.768958e-02\"},{\"Shell No.\":17,\"qgrid_unfiltered_index\":16,\"Rad. Temp.\":\"1.050428e+04\",\"W\":\"7.459787e-02\"},{\"Shell No.\":18,\"qgrid_unfiltered_index\":17,\"Rad. Temp.\":\"1.050167e+04\",\"W\":\"6.987617e-02\"},{\"Shell No.\":19,\"qgrid_unfiltered_index\":18,\"Rad. Temp.\":\"1.037101e+04\",\"W\":\"6.830342e-02\"},{\"Shell No.\":20,\"qgrid_unfiltered_index\":19,\"Rad. Temp.\":\"1.023320e+04\",\"W\":\"6.706797e-02\"}]}",
       "_df_range": [
        0,
        100
       ],
       "_editable_rows": {},
       "_index_col_name": "qgrid_unfiltered_index",
       "_interval_columns": [],
       "_model_module_version": "^1.1.3",
       "_multi_index": false,
       "_row_count": 20,
       "_row_styles": {},
       "_sort_ascending": true,
       "_sort_field": null,
       "_view_module_version": "^1.1.3",
       "_viewport_range": [
        0,
        16
       ],
       "grid_options": {
        "autoEdit": false,
        "boldIndex": true,
        "defaultColumnWidth": 150,
        "editable": false,
        "enableColumnReorder": false,
        "enableTextSelectionOnCells": true,
        "explicitInitialization": true,
        "filterable": false,
        "forceFitColumns": true,
        "fullWidthRows": true,
        "highlightSelectedCell": false,
        "highlightSelectedRow": true,
        "maxVisibleRows": 15,
        "minVisibleRows": 2,
        "rowHeight": 28,
        "sortable": false,
        "syncColumnCellResize": true
       },
       "id": "3cd8ceac-9171-402d-8fb6-0b3fc4c8578c",
       "layout": "IPY_MODEL_7ba746aa47034e8bb6f536f9ca74ff7c",
       "precision": 5,
       "show_toolbar": false
      }
     },
     "f2a2534ecdd34d2fbd42e9725caa4120": {
      "model_module": "@jupyter-widgets/base",
      "model_module_version": "1.2.0",
      "model_name": "LayoutModel",
      "state": {}
     },
     "f4e75a3c378244d6b5c0df65627a995e": {
      "model_module": "@jupyter-widgets/base",
      "model_module_version": "1.2.0",
      "model_name": "LayoutModel",
      "state": {}
     },
     "f4fe11de8d3a428182028b81f84fec12": {
      "model_module": "@jupyter-widgets/controls",
      "model_module_version": "1.5.0",
      "model_name": "BoxModel",
      "state": {
       "children": [
        "IPY_MODEL_dbf71db27a824d13802210a5a6dd66f9",
        "IPY_MODEL_d5093df10049420e8634c2d98a89599e",
        "IPY_MODEL_0e7f25d58434435f9cca40d9e78eac36",
        "IPY_MODEL_219b8df0a2474550a1e63b309d0e8597"
       ],
       "layout": "IPY_MODEL_5b19b6b7023f43629baaf68a9d76c715"
      }
     },
     "f6e44683b350481b9a53be89732ec90a": {
      "model_module": "qgrid",
      "model_module_version": "^1.1.3",
      "model_name": "QgridModel",
      "state": {
       "_columns": {
        "Element": {
         "cssClass": "string",
         "defaultSortAsc": true,
         "editable": true,
         "field": "Element",
         "id": "Element",
         "minWidth": null,
         "name": "Element",
         "position": 2,
         "resizable": true,
         "sortable": true,
         "toolTip": "",
         "type": "string",
         "width": 30
        },
        "Frac. Ab. (Shell 3)": {
         "cssClass": "string",
         "defaultSortAsc": true,
         "editable": true,
         "field": "Frac. Ab. (Shell 3)",
         "id": "Frac. Ab. (Shell 3)",
         "minWidth": null,
         "name": "Frac. Ab. (Shell 3)",
         "position": 3,
         "resizable": true,
         "sortable": true,
         "toolTip": "",
         "type": "string",
         "width": 55
        },
        "Z": {
         "cssClass": "integer first-idx-col idx-col",
         "defaultSortAsc": true,
         "editable": true,
         "field": "Z",
         "first_index": true,
         "id": "Z",
         "index_display_text": "Z",
         "is_index": true,
         "level": 0,
         "minWidth": null,
         "name": "Z",
         "position": 0,
         "resizable": true,
         "sortable": true,
         "toolTip": "",
         "type": "integer",
         "width": 15
        },
        "qgrid_unfiltered_index": {
         "cssClass": "integer",
         "defaultSortAsc": true,
         "editable": true,
         "field": "qgrid_unfiltered_index",
         "id": "qgrid_unfiltered_index",
         "maxWidth": null,
         "minWidth": null,
         "name": "qgrid_unfiltered_index",
         "position": 1,
         "resizable": true,
         "sortable": true,
         "toolTip": "",
         "type": "integer",
         "width": null
        }
       },
       "_df_json": "{\"schema\": {\"fields\":[{\"name\":\"Z\",\"type\":\"integer\"},{\"name\":\"qgrid_unfiltered_index\",\"type\":\"integer\"},{\"name\":\"Element\",\"type\":\"string\"},{\"name\":\"Frac. Ab. (Shell 3)\",\"type\":\"string\"}],\"primaryKey\":[\"Z\"],\"pandas_version\":\"0.20.0\"}, \"data\": [{\"Z\":8,\"qgrid_unfiltered_index\":0,\"Element\":\"O\",\"Frac. Ab. (Shell 3)\":\"1.900000e-01\"},{\"Z\":12,\"qgrid_unfiltered_index\":1,\"Element\":\"Mg\",\"Frac. Ab. (Shell 3)\":\"3.000000e-02\"},{\"Z\":14,\"qgrid_unfiltered_index\":2,\"Element\":\"Si\",\"Frac. Ab. (Shell 3)\":\"5.200000e-01\"},{\"Z\":16,\"qgrid_unfiltered_index\":3,\"Element\":\"S\",\"Frac. Ab. (Shell 3)\":\"1.900000e-01\"},{\"Z\":18,\"qgrid_unfiltered_index\":4,\"Element\":\"Ar\",\"Frac. Ab. (Shell 3)\":\"4.000000e-02\"},{\"Z\":20,\"qgrid_unfiltered_index\":5,\"Element\":\"Ca\",\"Frac. Ab. (Shell 3)\":\"3.000000e-02\"}]}",
       "_df_range": [
        0,
        100
       ],
       "_editable_rows": {},
       "_index_col_name": "qgrid_unfiltered_index",
       "_interval_columns": [],
       "_model_module_version": "^1.1.3",
       "_multi_index": false,
       "_row_count": 6,
       "_row_styles": {},
       "_sort_ascending": true,
       "_sort_field": null,
       "_view_module_version": "^1.1.3",
       "_viewport_range": [
        0,
        100
       ],
       "grid_options": {
        "autoEdit": false,
        "boldIndex": true,
        "defaultColumnWidth": 150,
        "editable": false,
        "enableColumnReorder": false,
        "enableTextSelectionOnCells": true,
        "explicitInitialization": true,
        "filterable": false,
        "forceFitColumns": true,
        "fullWidthRows": true,
        "highlightSelectedCell": false,
        "highlightSelectedRow": true,
        "maxVisibleRows": 15,
        "minVisibleRows": 2,
        "rowHeight": 28,
        "sortable": false,
        "syncColumnCellResize": true
       },
       "id": "90200f5c-18d0-4b44-99d7-66cb92ff2538",
       "layout": "IPY_MODEL_c4f49ffd1e994a03b765bb8e815c93fe",
       "precision": 5,
       "show_toolbar": false
      }
     },
     "f789d67eba5d483fbef8accb1802e28d": {
      "model_module": "@jupyter-widgets/base",
      "model_module_version": "1.2.0",
      "model_name": "LayoutModel",
      "state": {
       "width": "24%"
      }
     },
     "f96c8fa4f2914ae6b7da58f08b75bf17": {
      "model_module": "@jupyter-widgets/controls",
      "model_module_version": "1.5.0",
      "model_name": "HTMLModel",
      "state": {
       "layout": "IPY_MODEL_f2a2534ecdd34d2fbd42e9725caa4120",
       "style": "IPY_MODEL_948b8b96a09443199577ebf2b3329368",
       "value": "<b>Frac. Ab.</b> denotes <i>Fractional Abundances</i> (i.e all values sum to 1)<br><b>W</b> denotes <i>Dilution Factor</i> and <b>Rad. Temp.</b> is <i>Radiative Temperature (in K)</i>"
      }
     },
     "f97985392c5047648cf7cf621309d881": {
      "model_module": "@jupyter-widgets/controls",
      "model_module_version": "1.5.0",
      "model_name": "HTMLModel",
      "state": {
       "layout": "IPY_MODEL_cdec7197a1104be096b22399e9d3ee94",
       "style": "IPY_MODEL_1a8cceae4e9a49319e4a06f4bcda5008",
       "value": "<b>Frac. Ab.</b> denotes <i>Fractional Abundances</i> (i.e all values sum to 1)<br><b>W</b> denotes <i>Dilution Factor</i> and <b>Rad. Temp.</b> is <i>Radiative Temperature (in K)</i>"
      }
     },
     "fbb77999180b49ff82063be5eb917411": {
      "model_module": "@jupyter-widgets/base",
      "model_module_version": "1.2.0",
      "model_name": "LayoutModel",
      "state": {}
     },
     "fcf442cd25294d8196e7016d2480b3cd": {
      "model_module": "@jupyter-widgets/controls",
      "model_module_version": "1.5.0",
      "model_name": "BoxModel",
      "state": {
       "children": [
        "IPY_MODEL_f27b9f6f1fe946ee917dae71943940f2",
        "IPY_MODEL_bcc42b1efbb84a379822780d1942f399",
        "IPY_MODEL_2e985b015ef24c0190718906910524bb",
        "IPY_MODEL_32067803a8524d099ab0dcbac1656166"
       ],
       "layout": "IPY_MODEL_5b19b6b7023f43629baaf68a9d76c715"
      }
     },
     "ff408d11c7e3422b8db258c986fd0ea5": {
      "model_module": "@jupyter-widgets/base",
      "model_module_version": "1.2.0",
      "model_name": "LayoutModel",
      "state": {
       "width": "24%"
      }
     },
     "ff6845f748b74e87985fa7b313ea8c3b": {
      "model_module": "qgrid",
      "model_module_version": "^1.1.3",
      "model_name": "QgridModel",
      "state": {
       "_columns": {
        "Frac. Ab. (Ion=0)": {
         "cssClass": "string",
         "defaultSortAsc": true,
         "editable": true,
         "field": "Frac. Ab. (Ion=0)",
         "id": "Frac. Ab. (Ion=0)",
         "minWidth": null,
         "name": "Frac. Ab. (Ion=0)",
         "position": 2,
         "resizable": true,
         "sortable": true,
         "toolTip": "",
         "type": "string",
         "width": 70
        },
        "Level": {
         "cssClass": "integer first-idx-col idx-col",
         "defaultSortAsc": true,
         "editable": true,
         "field": "Level",
         "first_index": true,
         "id": "Level",
         "index_display_text": "Level",
         "is_index": true,
         "level": 0,
         "minWidth": null,
         "name": "Level",
         "position": 0,
         "resizable": true,
         "sortable": true,
         "toolTip": "",
         "type": "integer",
         "width": 30
        },
        "qgrid_unfiltered_index": {
         "cssClass": "integer",
         "defaultSortAsc": true,
         "editable": true,
         "field": "qgrid_unfiltered_index",
         "id": "qgrid_unfiltered_index",
         "maxWidth": null,
         "minWidth": null,
         "name": "qgrid_unfiltered_index",
         "position": 1,
         "resizable": true,
         "sortable": true,
         "toolTip": "",
         "type": "integer",
         "width": null
        }
       },
       "_df_json": "{\"schema\": {\"fields\":[{\"name\":\"Level\",\"type\":\"integer\"},{\"name\":\"qgrid_unfiltered_index\",\"type\":\"integer\"},{\"name\":\"Frac. Ab. (Ion=0)\",\"type\":\"string\"}],\"primaryKey\":[\"Level\"],\"pandas_version\":\"0.20.0\"}, \"data\": [{\"Level\":0,\"qgrid_unfiltered_index\":0,\"Frac. Ab. (Ion=0)\":\"5.245451e-01\"},{\"Level\":1,\"qgrid_unfiltered_index\":1,\"Frac. Ab. (Ion=0)\":\"3.081982e-01\"},{\"Level\":2,\"qgrid_unfiltered_index\":2,\"Frac. Ab. (Ion=0)\":\"1.018020e-01\"},{\"Level\":3,\"qgrid_unfiltered_index\":3,\"Frac. Ab. (Ion=0)\":\"6.412135e-02\"},{\"Level\":4,\"qgrid_unfiltered_index\":4,\"Frac. Ab. (Ion=0)\":\"1.193807e-03\"},{\"Level\":5,\"qgrid_unfiltered_index\":5,\"Frac. Ab. (Ion=0)\":\"2.994701e-05\"},{\"Level\":6,\"qgrid_unfiltered_index\":6,\"Frac. Ab. (Ion=0)\":\"1.203353e-05\"},{\"Level\":7,\"qgrid_unfiltered_index\":7,\"Frac. Ab. (Ion=0)\":\"3.272569e-06\"},{\"Level\":8,\"qgrid_unfiltered_index\":8,\"Frac. Ab. (Ion=0)\":\"5.452822e-06\"},{\"Level\":9,\"qgrid_unfiltered_index\":9,\"Frac. Ab. (Ion=0)\":\"7.630235e-06\"},{\"Level\":10,\"qgrid_unfiltered_index\":10,\"Frac. Ab. (Ion=0)\":\"2.509362e-06\"},{\"Level\":11,\"qgrid_unfiltered_index\":11,\"Frac. Ab. (Ion=0)\":\"4.181961e-06\"},{\"Level\":12,\"qgrid_unfiltered_index\":12,\"Frac. Ab. (Ion=0)\":\"8.363748e-07\"},{\"Level\":13,\"qgrid_unfiltered_index\":13,\"Frac. Ab. (Ion=0)\":\"1.688869e-06\"},{\"Level\":14,\"qgrid_unfiltered_index\":14,\"Frac. Ab. (Ion=0)\":\"9.177002e-07\"},{\"Level\":15,\"qgrid_unfiltered_index\":15,\"Frac. Ab. (Ion=0)\":\"2.349891e-06\"},{\"Level\":16,\"qgrid_unfiltered_index\":16,\"Frac. Ab. (Ion=0)\":\"1.827672e-06\"},{\"Level\":17,\"qgrid_unfiltered_index\":17,\"Frac. Ab. (Ion=0)\":\"1.305459e-06\"},{\"Level\":18,\"qgrid_unfiltered_index\":18,\"Frac. Ab. (Ion=0)\":\"7.832646e-07\"},{\"Level\":19,\"qgrid_unfiltered_index\":19,\"Frac. Ab. (Ion=0)\":\"2.610865e-07\"},{\"Level\":20,\"qgrid_unfiltered_index\":20,\"Frac. Ab. (Ion=0)\":\"7.762995e-07\"},{\"Level\":21,\"qgrid_unfiltered_index\":21,\"Frac. Ab. (Ion=0)\":\"1.293821e-06\"},{\"Level\":22,\"qgrid_unfiltered_index\":22,\"Frac. Ab. (Ion=0)\":\"1.811327e-06\"},{\"Level\":23,\"qgrid_unfiltered_index\":23,\"Frac. Ab. (Ion=0)\":\"6.276639e-07\"},{\"Level\":24,\"qgrid_unfiltered_index\":24,\"Frac. Ab. (Ion=0)\":\"1.046013e-06\"},{\"Level\":25,\"qgrid_unfiltered_index\":25,\"Frac. Ab. (Ion=0)\":\"1.464187e-06\"},{\"Level\":26,\"qgrid_unfiltered_index\":26,\"Frac. Ab. (Ion=0)\":\"5.806349e-07\"},{\"Level\":27,\"qgrid_unfiltered_index\":27,\"Frac. Ab. (Ion=0)\":\"9.677145e-07\"},{\"Level\":28,\"qgrid_unfiltered_index\":28,\"Frac. Ab. (Ion=0)\":\"1.935362e-07\"},{\"Level\":29,\"qgrid_unfiltered_index\":29,\"Frac. Ab. (Ion=0)\":\"1.117416e-06\"},{\"Level\":30,\"qgrid_unfiltered_index\":30,\"Frac. Ab. (Ion=0)\":\"7.968744e-07\"},{\"Level\":31,\"qgrid_unfiltered_index\":31,\"Frac. Ab. (Ion=0)\":\"4.776248e-07\"},{\"Level\":32,\"qgrid_unfiltered_index\":32,\"Frac. Ab. (Ion=0)\":\"7.008731e-07\"},{\"Level\":33,\"qgrid_unfiltered_index\":33,\"Frac. Ab. (Ion=0)\":\"4.043934e-07\"},{\"Level\":34,\"qgrid_unfiltered_index\":34,\"Frac. Ab. (Ion=0)\":\"6.520337e-07\"},{\"Level\":35,\"qgrid_unfiltered_index\":35,\"Frac. Ab. (Ion=0)\":\"1.142451e-06\"},{\"Level\":36,\"qgrid_unfiltered_index\":36,\"Frac. Ab. (Ion=0)\":\"8.885682e-07\"},{\"Level\":37,\"qgrid_unfiltered_index\":37,\"Frac. Ab. (Ion=0)\":\"6.346866e-07\"},{\"Level\":38,\"qgrid_unfiltered_index\":38,\"Frac. Ab. (Ion=0)\":\"3.808095e-07\"},{\"Level\":39,\"qgrid_unfiltered_index\":39,\"Frac. Ab. (Ion=0)\":\"1.269361e-07\"},{\"Level\":40,\"qgrid_unfiltered_index\":40,\"Frac. Ab. (Ion=0)\":\"8.835420e-07\"},{\"Level\":41,\"qgrid_unfiltered_index\":41,\"Frac. Ab. (Ion=0)\":\"6.310956e-07\"},{\"Level\":42,\"qgrid_unfiltered_index\":42,\"Frac. Ab. (Ion=0)\":\"3.786551e-07\"},{\"Level\":43,\"qgrid_unfiltered_index\":43,\"Frac. Ab. (Ion=0)\":\"3.756697e-07\"},{\"Level\":44,\"qgrid_unfiltered_index\":44,\"Frac. Ab. (Ion=0)\":\"6.261162e-07\"},{\"Level\":45,\"qgrid_unfiltered_index\":45,\"Frac. Ab. (Ion=0)\":\"8.765626e-07\"},{\"Level\":46,\"qgrid_unfiltered_index\":46,\"Frac. Ab. (Ion=0)\":\"1.127009e-06\"},{\"Level\":47,\"qgrid_unfiltered_index\":47,\"Frac. Ab. (Ion=0)\":\"1.377456e-06\"},{\"Level\":48,\"qgrid_unfiltered_index\":48,\"Frac. Ab. (Ion=0)\":\"6.261084e-07\"},{\"Level\":49,\"qgrid_unfiltered_index\":49,\"Frac. Ab. (Ion=0)\":\"8.765517e-07\"},{\"Level\":50,\"qgrid_unfiltered_index\":50,\"Frac. Ab. (Ion=0)\":\"1.126995e-06\"},{\"Level\":51,\"qgrid_unfiltered_index\":51,\"Frac. Ab. (Ion=0)\":\"3.443372e-07\"},{\"Level\":52,\"qgrid_unfiltered_index\":52,\"Frac. Ab. (Ion=0)\":\"3.443367e-07\"},{\"Level\":53,\"qgrid_unfiltered_index\":53,\"Frac. Ab. (Ion=0)\":\"5.738682e-07\"},{\"Level\":54,\"qgrid_unfiltered_index\":54,\"Frac. Ab. (Ion=0)\":\"5.738673e-07\"},{\"Level\":55,\"qgrid_unfiltered_index\":55,\"Frac. Ab. (Ion=0)\":\"8.033623e-07\"},{\"Level\":56,\"qgrid_unfiltered_index\":56,\"Frac. Ab. (Ion=0)\":\"8.033610e-07\"},{\"Level\":57,\"qgrid_unfiltered_index\":57,\"Frac. Ab. (Ion=0)\":\"5.556286e-07\"},{\"Level\":58,\"qgrid_unfiltered_index\":58,\"Frac. Ab. (Ion=0)\":\"3.333745e-07\"},{\"Level\":59,\"qgrid_unfiltered_index\":59,\"Frac. Ab. (Ion=0)\":\"1.111215e-07\"},{\"Level\":60,\"qgrid_unfiltered_index\":60,\"Frac. Ab. (Ion=0)\":\"4.771668e-07\"},{\"Level\":61,\"qgrid_unfiltered_index\":61,\"Frac. Ab. (Ion=0)\":\"2.808195e-07\"},{\"Level\":62,\"qgrid_unfiltered_index\":62,\"Frac. Ab. (Ion=0)\":\"8.182505e-07\"},{\"Level\":63,\"qgrid_unfiltered_index\":63,\"Frac. Ab. (Ion=0)\":\"6.364151e-07\"},{\"Level\":64,\"qgrid_unfiltered_index\":64,\"Frac. Ab. (Ion=0)\":\"4.545803e-07\"},{\"Level\":65,\"qgrid_unfiltered_index\":65,\"Frac. Ab. (Ion=0)\":\"2.727472e-07\"},{\"Level\":66,\"qgrid_unfiltered_index\":66,\"Frac. Ab. (Ion=0)\":\"9.091558e-08\"},{\"Level\":67,\"qgrid_unfiltered_index\":67,\"Frac. Ab. (Ion=0)\":\"2.718970e-07\"},{\"Level\":68,\"qgrid_unfiltered_index\":68,\"Frac. Ab. (Ion=0)\":\"4.531616e-07\"},{\"Level\":69,\"qgrid_unfiltered_index\":69,\"Frac. Ab. (Ion=0)\":\"6.344262e-07\"},{\"Level\":70,\"qgrid_unfiltered_index\":70,\"Frac. Ab. (Ion=0)\":\"2.707241e-07\"},{\"Level\":71,\"qgrid_unfiltered_index\":71,\"Frac. Ab. (Ion=0)\":\"4.512069e-07\"},{\"Level\":72,\"qgrid_unfiltered_index\":72,\"Frac. Ab. (Ion=0)\":\"6.316896e-07\"},{\"Level\":73,\"qgrid_unfiltered_index\":73,\"Frac. Ab. (Ion=0)\":\"8.121724e-07\"},{\"Level\":74,\"qgrid_unfiltered_index\":74,\"Frac. Ab. (Ion=0)\":\"9.926551e-07\"},{\"Level\":75,\"qgrid_unfiltered_index\":75,\"Frac. Ab. (Ion=0)\":\"4.512021e-07\"},{\"Level\":76,\"qgrid_unfiltered_index\":76,\"Frac. Ab. (Ion=0)\":\"6.316830e-07\"},{\"Level\":77,\"qgrid_unfiltered_index\":77,\"Frac. Ab. (Ion=0)\":\"8.121639e-07\"},{\"Level\":78,\"qgrid_unfiltered_index\":78,\"Frac. Ab. (Ion=0)\":\"2.585702e-07\"},{\"Level\":79,\"qgrid_unfiltered_index\":79,\"Frac. Ab. (Ion=0)\":\"4.309410e-07\"},{\"Level\":80,\"qgrid_unfiltered_index\":80,\"Frac. Ab. (Ion=0)\":\"6.032965e-07\"},{\"Level\":81,\"qgrid_unfiltered_index\":81,\"Frac. Ab. (Ion=0)\":\"8.479052e-08\"},{\"Level\":82,\"qgrid_unfiltered_index\":82,\"Frac. Ab. (Ion=0)\":\"2.543716e-07\"},{\"Level\":83,\"qgrid_unfiltered_index\":83,\"Frac. Ab. (Ion=0)\":\"4.239526e-07\"},{\"Level\":84,\"qgrid_unfiltered_index\":84,\"Frac. Ab. (Ion=0)\":\"3.898398e-07\"},{\"Level\":85,\"qgrid_unfiltered_index\":85,\"Frac. Ab. (Ion=0)\":\"2.313594e-07\"},{\"Level\":86,\"qgrid_unfiltered_index\":86,\"Frac. Ab. (Ion=0)\":\"6.828155e-07\"},{\"Level\":87,\"qgrid_unfiltered_index\":87,\"Frac. Ab. (Ion=0)\":\"5.310780e-07\"},{\"Level\":88,\"qgrid_unfiltered_index\":88,\"Frac. Ab. (Ion=0)\":\"3.793406e-07\"},{\"Level\":89,\"qgrid_unfiltered_index\":89,\"Frac. Ab. (Ion=0)\":\"2.276040e-07\"},{\"Level\":90,\"qgrid_unfiltered_index\":90,\"Frac. Ab. (Ion=0)\":\"7.586792e-08\"},{\"Level\":91,\"qgrid_unfiltered_index\":91,\"Frac. Ab. (Ion=0)\":\"2.271728e-07\"},{\"Level\":92,\"qgrid_unfiltered_index\":92,\"Frac. Ab. (Ion=0)\":\"3.786213e-07\"},{\"Level\":93,\"qgrid_unfiltered_index\":93,\"Frac. Ab. (Ion=0)\":\"5.300698e-07\"},{\"Level\":94,\"qgrid_unfiltered_index\":94,\"Frac. Ab. (Ion=0)\":\"2.265911e-07\"},{\"Level\":95,\"qgrid_unfiltered_index\":95,\"Frac. Ab. (Ion=0)\":\"3.776518e-07\"},{\"Level\":96,\"qgrid_unfiltered_index\":96,\"Frac. Ab. (Ion=0)\":\"5.287125e-07\"},{\"Level\":97,\"qgrid_unfiltered_index\":97,\"Frac. Ab. (Ion=0)\":\"6.797733e-07\"},{\"Level\":98,\"qgrid_unfiltered_index\":98,\"Frac. Ab. (Ion=0)\":\"8.308340e-07\"},{\"Level\":99,\"qgrid_unfiltered_index\":99,\"Frac. Ab. (Ion=0)\":\"3.776498e-07\"}]}",
       "_df_range": [
        0,
        100
       ],
       "_editable_rows": {},
       "_index_col_name": "qgrid_unfiltered_index",
       "_interval_columns": [],
       "_model_module_version": "^1.1.3",
       "_multi_index": false,
       "_row_count": 150,
       "_row_styles": {},
       "_sort_ascending": true,
       "_sort_field": null,
       "_view_module_version": "^1.1.3",
       "_viewport_range": [
        0,
        100
       ],
       "grid_options": {
        "autoEdit": false,
        "boldIndex": true,
        "defaultColumnWidth": 150,
        "editable": false,
        "enableColumnReorder": false,
        "enableTextSelectionOnCells": true,
        "explicitInitialization": true,
        "filterable": false,
        "forceFitColumns": true,
        "fullWidthRows": true,
        "highlightSelectedCell": false,
        "highlightSelectedRow": true,
        "maxVisibleRows": 15,
        "minVisibleRows": 2,
        "rowHeight": 28,
        "sortable": false,
        "syncColumnCellResize": true
       },
       "id": "d11b0ed1-8fdf-417d-8629-30863ee07ca4",
       "layout": "IPY_MODEL_27c158ee3113418592daa88b1c8eff17",
       "precision": 5,
       "show_toolbar": false
      }
     }
    },
    "version_major": 2,
    "version_minor": 0
   }
  }
 },
 "nbformat": 4,
 "nbformat_minor": 4
}